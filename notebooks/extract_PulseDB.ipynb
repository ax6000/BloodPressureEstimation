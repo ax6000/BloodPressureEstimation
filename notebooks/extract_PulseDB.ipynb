{
 "cells": [
  {
   "cell_type": "markdown",
   "metadata": {},
   "source": [
    "[abp,ppg] , (-1, 2, 1250)"
   ]
  },
  {
   "cell_type": "code",
   "execution_count": 1,
   "metadata": {},
   "outputs": [],
   "source": [
    "import h5py\n",
    "import os\n",
    "from mat73 import loadmat \n",
    "import numpy as np\n",
    "import matplotlib.pyplot as plt"
   ]
  },
  {
   "cell_type": "code",
   "execution_count": 14,
   "metadata": {},
   "outputs": [],
   "source": [
    "#You need to install the package mat73 because PulseDB uses MAT file version 7.3 to store large volume data\n",
    "\n",
    "def Build_Dataset(Path,FieldName='Subset'):\n",
    "        Data=loadmat(Path)\n",
    "        # Access 10-s segments of ECG, PPG and ABP signals\n",
    "        Signals=Data[FieldName]['Subject']\n",
    "        print(Signals.shape)\n",
    "        # Access SBP labels of each 10-s segment\n",
    "        # SBPLabels=Data[FieldName]['SBP']\n",
    "        # # Access Age of the subject corresponding to each of the 10-s segment\n",
    "        # Age=Data[FieldName]['Age']\n",
    "        # # Access Gender of the subject corresponding to each of the 10-s segment\n",
    "        # Gender=np.array(Data[FieldName]['Gender']).squeeze()\n",
    "        # # Convert Gender to numerical 0-1 labels\n",
    "        # Gender=(Gender=='M').astype(float)\n",
    "        # # Access Height and Weight of the subject corresponding to each of the 10-s segment\n",
    "        # # If the subject is from the MIMIC-III matched subset, height and weight will be NaN \n",
    "        # # since they were only recorded in VitalDB\n",
    "        # Height=Data[FieldName]['Height']\n",
    "        # Weight=Data[FieldName]['Weight']\n",
    "        # # Concatenate the demographic information as one matrix\n",
    "        # Demographics=np.stack((Age,Gender,Height,Weight),axis=1)\n",
    "        return Signals #,SBPLabels,Demographics\n"
   ]
  },
  {
   "cell_type": "code",
   "execution_count": null,
   "metadata": {},
   "outputs": [],
   "source": [
    "Build_Dataset('..\\\\data\\\\raw\\\\PulseDB\\\\Train_Subset.mat')"
   ]
  },
  {
   "cell_type": "code",
   "execution_count": 2,
   "metadata": {},
   "outputs": [],
   "source": [
    "idx = [0,300000,600000,902160]"
   ]
  },
  {
   "cell_type": "code",
   "execution_count": 3,
   "metadata": {},
   "outputs": [],
   "source": [
    "\n",
    "import h5py\n",
    "import os\n",
    "save_dir = r\"../data/processed/BP_npy/PulseDB\"\n",
    "with h5py.File('..\\\\data\\\\raw\\\\PulseDB\\\\Train_Subset.mat', 'r') as f:\n",
    "    for i in range(2,3):\n",
    "        data = f['Subset'][\"Signals\"][:,:,idx[i]:idx[i+1]]\n",
    "        data = np.array(data).transpose(2,1,0)[:,[2,1]] \n",
    "        np.save(os.path.join(save_dir,f\"train_{i}.npy\"),data)\n",
    "# Signals = Build_Dataset('..\\\\data\\\\raw\\\\PulseDB\\\\Train_Subset.mat')[:,[2,1]]\n",
    "\n"
   ]
  },
  {
   "cell_type": "code",
   "execution_count": null,
   "metadata": {},
   "outputs": [],
   "source": [
    "import os \n",
    "save_dir = r\"../data/processed/BP_npy/PulseDB\"\n",
    "os.makedirs(save_dir,exist_ok=True)\n"
   ]
  },
  {
   "cell_type": "code",
   "execution_count": null,
   "metadata": {},
   "outputs": [],
   "source": [
    "Signals = Build_Dataset('..\\\\data\\\\raw\\\\PulseDB\\\\CalFree_Test_Subset.mat')[:,[2,1]]\n",
    "np.save(os.path.join(save_dir,\"test.npy\"),Signals)"
   ]
  },
  {
   "cell_type": "markdown",
   "metadata": {},
   "source": [
    "# val split"
   ]
  },
  {
   "cell_type": "markdown",
   "metadata": {},
   "source": [
    "## Subject  みる\n"
   ]
  },
  {
   "cell_type": "code",
   "execution_count": 25,
   "metadata": {},
   "outputs": [
    {
     "name": "stdout",
     "output_type": "stream",
     "text": [
      "<KeysViewHDF5 ['ABP', 'Age', 'BMI', 'DBP', 'ECG', 'Gender', 'Height', 'PPG', 'SBP', 'Signals', 'Subject', 'Weight']>\n",
      "(902160,) (902160,) (1, 902160)\n",
      "<class 'h5py._hl.group.Group'>\n"
     ]
    }
   ],
   "source": [
    "with h5py.File('..\\\\data\\\\raw\\\\PulseDB\\\\Train_Subset.mat', 'r') as f:\n",
    "    # data = f['Subset'][\"Signals\"][:,:,48868]\n",
    "    print(f['Subset'].keys())\n",
    "    sbp = np.array(f['Subset'][\"SBP\"][0])\n",
    "    dbp = np.array(f['Subset'][\"DBP\"][0])\n",
    "    subject = np.array(f[\"Subset\"][\"Subject\"])\n",
    "    print(sbp.shape,dbp.shape,subject.shape)\n",
    "    print(type(f['Subset']))"
   ]
  },
  {
   "cell_type": "code",
   "execution_count": null,
   "metadata": {},
   "outputs": [],
   "source": [
    "with h5py.File('..\\\\data\\\\raw\\\\PulseDB\\\\Train_Subset.mat', 'r') as f:\n",
    "    f.visit(print_name)"
   ]
  },
  {
   "cell_type": "code",
   "execution_count": 9,
   "metadata": {},
   "outputs": [
    {
     "name": "stdout",
     "output_type": "stream",
     "text": [
      "[[112]\n",
      " [ 48]\n",
      " [ 48]\n",
      " [ 48]\n",
      " [ 48]\n",
      " [ 48]\n",
      " [ 49]\n",
      " [ 95]\n",
      " [ 49]]\n",
      "p000001_1\n"
     ]
    }
   ],
   "source": [
    "fullnames = []\n",
    "patient_ids = []\n",
    "entry_index = []\n",
    "with h5py.File('..\\\\data\\\\raw\\\\PulseDB\\\\Train_Subset.mat', 'r') as f:\n",
    "    def print_name(name):\n",
    "        print(name)\n",
    "    f2  = np.array(f['Subset/Subject'][:]) \n",
    "    a = f[f2[0][0]]\n",
    "    print(a[:])\n",
    "    result = ''.join(chr(i[0]) for i in a[:])\n",
    "    print(result)\n",
    "    # print(str1)\n",
    "    # print(f2.shape)"
   ]
  },
  {
   "cell_type": "code",
   "execution_count": 15,
   "metadata": {},
   "outputs": [
    {
     "name": "stderr",
     "output_type": "stream",
     "text": [
      "100%|██████████| 902160/902160 [00:56<00:00, 15981.25it/s]\n"
     ]
    },
    {
     "name": "stdout",
     "output_type": "stream",
     "text": [
      "[[1 1]\n",
      " [1 1]\n",
      " [1 1]\n",
      " [1 1]\n",
      " [1 1]\n",
      " [1 1]\n",
      " [1 1]\n",
      " [1 1]\n",
      " [1 1]\n",
      " [1 1]]\n"
     ]
    }
   ],
   "source": [
    "import h5py\n",
    "import numpy as np\n",
    "from tqdm import tqdm\n",
    "with h5py.File('..\\\\data\\\\raw\\\\PulseDB\\\\Train_Subset.mat', 'r') as f:\n",
    "    # Object reference を含むデータを取得\n",
    "    object_refs = np.array(f['Subset/Subject'][:])  # (1, 900000) のような shape を持つ\n",
    "\n",
    "    patient_data = []  # patient_id, record_number を格納するリスト\n",
    "\n",
    "    # すべてのオブジェクト参照を処理\n",
    "    for ref in tqdm(object_refs.flatten()):  # 1次元にする\n",
    "        # if ref in f:  # 参照が有効か確認\n",
    "        obj = f[ref]  # HDF5 データセットを取得\n",
    "        ascii_array = obj[:]  # 全データを取得（例: [[112], [48], [48], ...]）\n",
    "\n",
    "        # ASCII コードを文字列に変換\n",
    "        string_value = ''.join(map(chr, ascii_array.flatten()))\n",
    "\n",
    "        # アンダースコアで分割し、整数に変換\n",
    "        patient_id_str, record_number_str = string_value.split('_')\n",
    "        patient_id = int(patient_id_str[1:])  # 'p000001' → 1 に変換\n",
    "        record_number = int(record_number_str)  # '1' → 1 に変換\n",
    "\n",
    "        # 結果をリストに追加\n",
    "        patient_data.append((patient_id, record_number))\n",
    "\n",
    "# 結果を NumPy 配列に変換\n",
    "patient_data_array = np.array(patient_data)\n",
    "\n",
    "# 確認のため最初の数個を表示\n",
    "print(patient_data_array[:10])  # [(1, 1), (2, 1), ...]\n"
   ]
  },
  {
   "cell_type": "code",
   "execution_count": null,
   "metadata": {},
   "outputs": [],
   "source": []
  },
  {
   "cell_type": "code",
   "execution_count": 41,
   "metadata": {},
   "outputs": [
    {
     "data": {
      "text/plain": [
       "array([99982,     0])"
      ]
     },
     "execution_count": 41,
     "metadata": {},
     "output_type": "execute_result"
    }
   ],
   "source": [
    "patient_data_array[::100][-1]"
   ]
  },
  {
   "cell_type": "code",
   "execution_count": 15,
   "metadata": {},
   "outputs": [
    {
     "data": {
      "text/plain": [
       "array([[ 1,  1],\n",
       "       [ 1,  1],\n",
       "       [ 1,  1],\n",
       "       [ 1,  1],\n",
       "       [ 3,  1],\n",
       "       [ 3,  1],\n",
       "       [ 3,  1],\n",
       "       [ 3,  1],\n",
       "       [ 5,  1],\n",
       "       [ 5,  1],\n",
       "       [ 5,  1],\n",
       "       [12,  1],\n",
       "       [12,  1],\n",
       "       [12,  1],\n",
       "       [12,  1],\n",
       "       [13,  1],\n",
       "       [13,  1],\n",
       "       [13,  1],\n",
       "       [16,  1],\n",
       "       [16,  1]])"
      ]
     },
     "execution_count": 15,
     "metadata": {},
     "output_type": "execute_result"
    }
   ],
   "source": [
    "patient_data_array[::100][:20]"
   ]
  },
  {
   "cell_type": "code",
   "execution_count": 18,
   "metadata": {},
   "outputs": [
    {
     "data": {
      "text/plain": [
       "436680"
      ]
     },
     "execution_count": 18,
     "metadata": {},
     "output_type": "execute_result"
    }
   ],
   "source": [
    "len(np.where(patient_data_array[:,1]==0)[0])\n"
   ]
  },
  {
   "cell_type": "code",
   "execution_count": 26,
   "metadata": {},
   "outputs": [
    {
     "data": {
      "text/plain": [
       "2494"
      ]
     },
     "execution_count": 26,
     "metadata": {},
     "output_type": "execute_result"
    }
   ],
   "source": [
    "# num of patients (on paper:2506)\n",
    "len(np.unique(patient_data_array[:,0]))\n"
   ]
  },
  {
   "cell_type": "code",
   "execution_count": 23,
   "metadata": {},
   "outputs": [
    {
     "data": {
      "text/plain": [
       "array([[188,   0],\n",
       "       [188,   0],\n",
       "       [188,   0],\n",
       "       [188,   0],\n",
       "       [543,   0],\n",
       "       [543,   0],\n",
       "       [543,   0],\n",
       "       [543,   0],\n",
       "       [618,   0],\n",
       "       [618,   0],\n",
       "       [618,   0],\n",
       "       [652,   0],\n",
       "       [652,   0],\n",
       "       [652,   0],\n",
       "       [652,   0],\n",
       "       [735,   0],\n",
       "       [735,   0],\n",
       "       [735,   0],\n",
       "       [773,   0],\n",
       "       [773,   0]])"
      ]
     },
     "execution_count": 23,
     "metadata": {},
     "output_type": "execute_result"
    }
   ],
   "source": [
    "patient_data_array[np.where(patient_data_array[:,1]==0)][::100][:20]"
   ]
  },
  {
   "cell_type": "code",
   "execution_count": 16,
   "metadata": {},
   "outputs": [
    {
     "name": "stdout",
     "output_type": "stream",
     "text": [
      "両方存在する n: []\n"
     ]
    }
   ],
   "source": [
    "\n",
    "unique_n, indices = np.unique(patient_data_array[:, 0], return_inverse=True)\n",
    "flags = np.zeros(len(unique_n), dtype=int)\n",
    "\n",
    "# 0 or 1 をフラグ化\n",
    "flags[indices] |= 1 << patient_data_array[:, 1]\n",
    "\n",
    "# [n,0] と [n,1] の両方がある n を取得\n",
    "both_exist_n = unique_n[flags == 3]  # 3 (0b11) なら両方存在\n",
    "\n",
    "print(\"両方存在する n:\", both_exist_n)\n"
   ]
  },
  {
   "cell_type": "code",
   "execution_count": 28,
   "metadata": {},
   "outputs": [
    {
     "data": {
      "text/plain": [
       "(902160,)"
      ]
     },
     "execution_count": 28,
     "metadata": {},
     "output_type": "execute_result"
    }
   ],
   "source": [
    "patient_data_array[:,0].shape\n"
   ]
  },
  {
   "cell_type": "code",
   "execution_count": 35,
   "metadata": {},
   "outputs": [],
   "source": [
    "from sklearn.model_selection import GroupKFold\n",
    "indices = patient_data_array[:, 0].astype(int)  # index部分を取得\n",
    "\n",
    "# 1. index単位でfoldを分けるため、ユニークなindexを取得\n",
    "unique_indices = np.unique(indices)\n",
    "skf = GroupKFold(n_splits=5)\n",
    "\n",
    "# index ごとのデータ数を考慮して分割\n",
    "train_indexes = []\n",
    "val_indexes = []\n",
    "for fold, (train_index, val_idx) in enumerate(skf.split(indices, groups=indices)):\n",
    "    train_indexes.append(train_index)\n",
    "    val_indexes.append(val_idx)\n"
   ]
  },
  {
   "cell_type": "markdown",
   "metadata": {},
   "source": []
  },
  {
   "cell_type": "code",
   "execution_count": 36,
   "metadata": {},
   "outputs": [
    {
     "name": "stdout",
     "output_type": "stream",
     "text": [
      "(721440,)\n",
      "(180720,)\n",
      "(721800,)\n",
      "(180360,)\n",
      "(721800,)\n",
      "(180360,)\n",
      "(721800,)\n",
      "(180360,)\n",
      "(721800,)\n",
      "(180360,)\n"
     ]
    }
   ],
   "source": [
    "for i in range(5):\n",
    "    print(train_indexes[i].shape)\n",
    "    print(val_indexes[i].shape)\n"
   ]
  },
  {
   "cell_type": "code",
   "execution_count": 38,
   "metadata": {},
   "outputs": [],
   "source": [
    "indexes = [train_indexes,val_indexes]\n"
   ]
  },
  {
   "cell_type": "code",
   "execution_count": 40,
   "metadata": {},
   "outputs": [],
   "source": [
    "import pickle\n",
    "\n",
    "save_path = r\"../data/processed/BP_npy/PulseDB/cv_5fold.pkl\"\n",
    "with open(save_path, \"wb\") as f:\n",
    "    pickle.dump(indexes, f)"
   ]
  },
  {
   "cell_type": "code",
   "execution_count": null,
   "metadata": {},
   "outputs": [],
   "source": []
  },
  {
   "cell_type": "code",
   "execution_count": 17,
   "metadata": {},
   "outputs": [
    {
     "ename": "NameError",
     "evalue": "name 'Signals' is not defined",
     "output_type": "error",
     "traceback": [
      "\u001b[1;31m---------------------------------------------------------------------------\u001b[0m",
      "\u001b[1;31mNameError\u001b[0m                                 Traceback (most recent call last)",
      "Cell \u001b[1;32mIn[17], line 1\u001b[0m\n\u001b[1;32m----> 1\u001b[0m \u001b[43mSignals\u001b[49m\u001b[38;5;241m.\u001b[39mshape\n",
      "\u001b[1;31mNameError\u001b[0m: name 'Signals' is not defined"
     ]
    }
   ],
   "source": [
    "Signals.shape"
   ]
  },
  {
   "cell_type": "markdown",
   "metadata": {},
   "source": [
    "## 2labels"
   ]
  },
  {
   "cell_type": "code",
   "execution_count": 18,
   "metadata": {},
   "outputs": [
    {
     "name": "stdout",
     "output_type": "stream",
     "text": [
      "<KeysViewHDF5 ['ABP', 'Age', 'BMI', 'DBP', 'ECG', 'Gender', 'Height', 'PPG', 'SBP', 'Signals', 'Subject', 'Weight']>\n",
      "(902160,) (902160,) (1, 902160)\n",
      "<class 'h5py._hl.group.Group'>\n"
     ]
    }
   ],
   "source": [
    "with h5py.File('..\\\\data\\\\raw\\\\PulseDB\\\\Train_Subset.mat', 'r') as f:\n",
    "    # data = f['Subset'][\"Signals\"][:,:,48868]\n",
    "    print(f['Subset'].keys())\n",
    "    sbp = np.array(f['Subset'][\"SBP\"][0])\n",
    "    dbp = np.array(f['Subset'][\"DBP\"][0])\n",
    "    subject = np.array(f[\"Subset\"][\"Subject\"])\n",
    "    print(sbp.shape,dbp.shape,subject.shape)\n",
    "    print(type(f['Subset']))"
   ]
  },
  {
   "cell_type": "code",
   "execution_count": 17,
   "metadata": {},
   "outputs": [
    {
     "data": {
      "text/plain": [
       "312440"
      ]
     },
     "execution_count": 17,
     "metadata": {},
     "output_type": "execute_result"
    }
   ],
   "source": [
    "mask = np.where((sbp>140) | (sbp < 100))[0]\n",
    "len(mask)\n"
   ]
  },
  {
   "cell_type": "code",
   "execution_count": 19,
   "metadata": {},
   "outputs": [
    {
     "name": "stderr",
     "output_type": "stream",
     "text": [
      "100%|██████████| 312440/312440 [00:16<00:00, 19163.08it/s]\n"
     ]
    },
    {
     "name": "stdout",
     "output_type": "stream",
     "text": [
      "[[1 1]\n",
      " [1 1]\n",
      " [1 1]\n",
      " [1 1]\n",
      " [1 1]\n",
      " [1 1]\n",
      " [1 1]\n",
      " [1 1]\n",
      " [1 1]\n",
      " [1 1]]\n"
     ]
    }
   ],
   "source": [
    "import h5py\n",
    "import numpy as np\n",
    "from tqdm import tqdm\n",
    "with h5py.File('..\\\\data\\\\raw\\\\PulseDB\\\\Train_Subset.mat', 'r') as f:\n",
    "    # Object reference を含むデータを取得\n",
    "    object_refs = np.array(f['Subset/Subject'][:])  # (1, 900000) のような shape を持つ\n",
    "    object_refs = object_refs[0][mask]\n",
    "    patient_data = []  # patient_id, record_number を格納するリスト\n",
    "\n",
    "    # すべてのオブジェクト参照を処理\n",
    "    for ref in tqdm(object_refs):  # 1次元にする\n",
    "        # if ref in f:  # 参照が有効か確認\n",
    "        obj = f[ref]  # HDF5 データセットを取得\n",
    "        ascii_array = obj[:]  # 全データを取得（例: [[112], [48], [48], ...]）\n",
    "\n",
    "        # ASCII コードを文字列に変換\n",
    "        string_value = ''.join(map(chr, ascii_array.flatten()))\n",
    "\n",
    "        # アンダースコアで分割し、整数に変換\n",
    "        patient_id_str, record_number_str = string_value.split('_')\n",
    "        patient_id = int(patient_id_str[1:])  # 'p000001' → 1 に変換\n",
    "        record_number = int(record_number_str)  # '1' → 1 に変換\n",
    "\n",
    "        # 結果をリストに追加\n",
    "        patient_data.append((patient_id, record_number))\n",
    "\n",
    "# 結果を NumPy 配列に変換\n",
    "patient_data_array = np.array(patient_data)\n",
    "\n",
    "# 確認のため最初の数個を表示\n",
    "print(patient_data_array[:10])  # [(1, 1), (2, 1), ...]"
   ]
  },
  {
   "cell_type": "code",
   "execution_count": 20,
   "metadata": {},
   "outputs": [
    {
     "name": "stdout",
     "output_type": "stream",
     "text": [
      "両方存在する n: []\n"
     ]
    }
   ],
   "source": [
    "\n",
    "unique_n, indices = np.unique(patient_data_array[:, 0], return_inverse=True)\n",
    "flags = np.zeros(len(unique_n), dtype=int)\n",
    "\n",
    "# 0 or 1 をフラグ化\n",
    "flags[indices] |= 1 << patient_data_array[:, 1]\n",
    "\n",
    "# [n,0] と [n,1] の両方がある n を取得\n",
    "both_exist_n = unique_n[flags == 3]  # 3 (0b11) なら両方存在\n",
    "\n",
    "print(\"両方存在する n:\", both_exist_n)"
   ]
  },
  {
   "cell_type": "code",
   "execution_count": 21,
   "metadata": {},
   "outputs": [],
   "source": [
    "from sklearn.model_selection import GroupKFold\n",
    "indices = patient_data_array[:, 0].astype(int)  # index部分を取得\n",
    "\n",
    "# 1. index単位でfoldを分けるため、ユニークなindexを取得\n",
    "unique_indices = np.unique(indices)\n",
    "skf = GroupKFold(n_splits=5)\n",
    "\n",
    "# index ごとのデータ数を考慮して分割\n",
    "train_indexes = []\n",
    "val_indexes = []\n",
    "for fold, (train_index, val_idx) in enumerate(skf.split(indices, groups=indices)):\n",
    "    train_indexes.append(train_index)\n",
    "    val_indexes.append(val_idx)"
   ]
  },
  {
   "cell_type": "code",
   "execution_count": 22,
   "metadata": {},
   "outputs": [
    {
     "name": "stdout",
     "output_type": "stream",
     "text": [
      "(249952,)\n",
      "(62488,)\n",
      "(249952,)\n",
      "(62488,)\n",
      "(249952,)\n",
      "(62488,)\n",
      "(249952,)\n",
      "(62488,)\n",
      "(249952,)\n",
      "(62488,)\n"
     ]
    }
   ],
   "source": [
    "for i in range(5):\n",
    "    print(train_indexes[i].shape)\n",
    "    print(val_indexes[i].shape)"
   ]
  },
  {
   "cell_type": "code",
   "execution_count": 29,
   "metadata": {},
   "outputs": [
    {
     "data": {
      "text/plain": [
       "(array([     0,      1,      2, ..., 312240, 312241, 312242]),\n",
       " array([44, 45, 46, 47, 48, 49, 50, 51, 52, 53]),\n",
       " array([     0,      1,      2, ..., 312427, 312428, 312429]),\n",
       " array([983, 984, 985, 986, 987, 988, 989, 990, 991, 992]))"
      ]
     },
     "execution_count": 29,
     "metadata": {},
     "output_type": "execute_result"
    }
   ],
   "source": [
    "train_indexes[0][:-10],val_indexes[0][:10],train_indexes[1][:-10],val_indexes[1][:10]"
   ]
  },
  {
   "cell_type": "code",
   "execution_count": 23,
   "metadata": {},
   "outputs": [],
   "source": [
    "indexes = [train_indexes,val_indexes]\n"
   ]
  },
  {
   "cell_type": "code",
   "execution_count": 24,
   "metadata": {},
   "outputs": [],
   "source": [
    "import pickle\n",
    "\n",
    "save_path = r\"../data/processed/BP_npy/PulseDB/cv_5fold_2labels.pkl\"\n",
    "with open(save_path, \"wb\") as f:\n",
    "    pickle.dump(indexes, f)"
   ]
  },
  {
   "cell_type": "markdown",
   "metadata": {},
   "source": [
    "## 4class"
   ]
  },
  {
   "cell_type": "code",
   "execution_count": 21,
   "metadata": {},
   "outputs": [
    {
     "name": "stderr",
     "output_type": "stream",
     "text": [
      "100%|██████████| 902160/902160 [00:45<00:00, 19953.82it/s]\n"
     ]
    },
    {
     "name": "stdout",
     "output_type": "stream",
     "text": [
      "[[1 1]\n",
      " [1 1]\n",
      " [1 1]\n",
      " [1 1]\n",
      " [1 1]\n",
      " [1 1]\n",
      " [1 1]\n",
      " [1 1]\n",
      " [1 1]\n",
      " [1 1]]\n"
     ]
    }
   ],
   "source": [
    "import h5py\n",
    "import numpy as np\n",
    "from tqdm import tqdm\n",
    "with h5py.File('..\\\\data\\\\raw\\\\PulseDB\\\\Train_Subset.mat', 'r') as f:\n",
    "    # Object reference を含むデータを取得\n",
    "    object_refs = np.array(f['Subset/Subject'][:])[0]  # (1, 900000) のような shape を持つ\n",
    "    # object_refs = object_refs[0][mask]\n",
    "    patient_data = []  # patient_id, record_number を格納するリスト\n",
    "\n",
    "    # すべてのオブジェクト参照を処理\n",
    "    for ref in tqdm(object_refs):  # 1次元にする\n",
    "        # if ref in f:  # 参照が有効か確認\n",
    "        obj = f[ref]  # HDF5 データセットを取得\n",
    "        ascii_array = obj[:]  # 全データを取得（例: [[112], [48], [48], ...]）\n",
    "\n",
    "        # ASCII コードを文字列に変換\n",
    "        string_value = ''.join(map(chr, ascii_array.flatten()))\n",
    "\n",
    "        # アンダースコアで分割し、整数に変換\n",
    "        patient_id_str, record_number_str = string_value.split('_')\n",
    "        patient_id = int(patient_id_str[1:])  # 'p000001' → 1 に変換\n",
    "        record_number = int(record_number_str)  # '1' → 1 に変換\n",
    "\n",
    "        # 結果をリストに追加\n",
    "        patient_data.append((patient_id, record_number))\n",
    "\n",
    "# 結果を NumPy 配列に変換\n",
    "patient_data_array = np.array(patient_data)\n",
    "\n",
    "# 確認のため最初の数個を表示\n",
    "print(patient_data_array[:10])  # [(1, 1), (2, 1), ...]"
   ]
  },
  {
   "cell_type": "code",
   "execution_count": 23,
   "metadata": {},
   "outputs": [],
   "source": [
    "from sklearn.model_selection import StratifiedGroupKFold\n",
    "indices = patient_data_array[:, 0].astype(int)  # index部分を取得\n",
    "\n",
    "# 1. index単位でfoldを分けるため、ユニークなindexを取得\n",
    "unique_indices = np.unique(indices)\n",
    "skf = StratifiedGroupKFold(n_splits=5,shuffle=False)\n",
    "labels = np.load(r\"../data/processed/BP_npy/PulseDB/train_sbp_4labels.npy\")  # ここでラベルを読み込む\n",
    "# index ごとのデータ数を考慮して分割\n",
    "train_indexes = []\n",
    "val_indexes = []\n",
    "for fold, (train_index, val_idx) in enumerate(skf.split(indices,labels, groups=indices)):\n",
    "    train_indexes.append(train_index)\n",
    "    val_indexes.append(val_idx)"
   ]
  },
  {
   "cell_type": "code",
   "execution_count": 24,
   "metadata": {},
   "outputs": [
    {
     "name": "stdout",
     "output_type": "stream",
     "text": [
      "(721440,)\n",
      "(180720,)\n",
      "(array([0, 1, 2, 3]), array([137448, 268709, 202811, 112472], dtype=int64))\n",
      "(array([0, 1, 2, 3]), array([34334, 67441, 50757, 28188], dtype=int64))\n",
      "(721800,)\n",
      "(180360,)\n",
      "(array([0, 1, 2, 3]), array([137346, 269069, 202888, 112497], dtype=int64))\n",
      "(array([0, 1, 2, 3]), array([34436, 67081, 50680, 28163], dtype=int64))\n",
      "(721800,)\n",
      "(180360,)\n",
      "(array([0, 1, 2, 3]), array([137438, 268960, 202854, 112548], dtype=int64))\n",
      "(array([0, 1, 2, 3]), array([34344, 67190, 50714, 28112], dtype=int64))\n",
      "(721800,)\n",
      "(180360,)\n",
      "(array([0, 1, 2, 3]), array([137461, 268906, 202822, 112611], dtype=int64))\n",
      "(array([0, 1, 2, 3]), array([34321, 67244, 50746, 28049], dtype=int64))\n",
      "(721800,)\n",
      "(180360,)\n",
      "(array([0, 1, 2, 3]), array([137435, 268956, 202897, 112512], dtype=int64))\n",
      "(array([0, 1, 2, 3]), array([34347, 67194, 50671, 28148], dtype=int64))\n"
     ]
    }
   ],
   "source": [
    "for i in range(5):\n",
    "    print(train_indexes[i].shape)\n",
    "    print(val_indexes[i].shape)\n",
    "    labels_train = labels[train_indexes[i]]\n",
    "    labels_val = labels[val_indexes[i]]\n",
    "    print(np.unique(labels_train, return_counts=True))\n",
    "    print(np.unique(labels_val, return_counts=True))    "
   ]
  },
  {
   "cell_type": "code",
   "execution_count": 25,
   "metadata": {},
   "outputs": [],
   "source": [
    "import pickle\n",
    "indexes = [train_indexes,val_indexes]\n",
    "save_path = r\"../data/processed/BP_npy/PulseDB/cv_5fold_4labels.pkl\"\n",
    "with open(save_path, \"wb\") as f:\n",
    "    pickle.dump(indexes, f)"
   ]
  },
  {
   "cell_type": "markdown",
   "metadata": {},
   "source": [
    "# 血圧正規化\n"
   ]
  },
  {
   "cell_type": "code",
   "execution_count": 4,
   "metadata": {},
   "outputs": [
    {
     "data": {
      "text/plain": [
       "(902160, 2, 1250)"
      ]
     },
     "execution_count": 4,
     "metadata": {},
     "output_type": "execute_result"
    }
   ],
   "source": [
    "t0 = np.load(save_dir+\"\\\\train_0.npy\")\n",
    "t1 = np.load(save_dir+\"\\\\train_1.npy\")\n",
    "t2 = np.load(save_dir+\"\\\\train_2.npy\")\n",
    "t = np.concatenate([t0,t1,t2])\n",
    "t.shape"
   ]
  },
  {
   "cell_type": "code",
   "execution_count": 14,
   "metadata": {},
   "outputs": [
    {
     "data": {
      "text/plain": [
       "(array([48868,     0], dtype=int64), array([303919,      0], dtype=int64))"
      ]
     },
     "execution_count": 14,
     "metadata": {},
     "output_type": "execute_result"
    }
   ],
   "source": [
    "t.max(axis=2).argmax(axis=0),t.min(axis=2).argmin(axis=0)"
   ]
  },
  {
   "cell_type": "code",
   "execution_count": 36,
   "metadata": {},
   "outputs": [
    {
     "data": {
      "text/plain": [
       "[<matplotlib.lines.Line2D at 0x22938d78b80>]"
      ]
     },
     "execution_count": 36,
     "metadata": {},
     "output_type": "execute_result"
    },
    {
     "data": {
      "image/png": "[encoded data removed]",
      "text/plain": [
       "<Figure size 640x480 with 4 Axes>"
      ]
     },
     "metadata": {},
     "output_type": "display_data"
    }
   ],
   "source": [
    "plt.subplot(221)\n",
    "plt.title(\"ABP\")\n",
    "plt.plot(t[48868,0])\n",
    "plt.subplot(222)\n",
    "plt.title(\"PPG\")\n",
    "plt.plot(t[48868,1])\n",
    "plt.subplot(223)\n",
    "plt.plot(t[303919,0])\n",
    "plt.subplot(224)\n",
    "plt.plot(t[303919,1])"
   ]
  },
  {
   "cell_type": "code",
   "execution_count": 31,
   "metadata": {},
   "outputs": [],
   "source": [
    "from scipy.stats import pearsonr"
   ]
  },
  {
   "cell_type": "code",
   "execution_count": 32,
   "metadata": {},
   "outputs": [
    {
     "data": {
      "text/plain": [
       "PearsonRResult(statistic=-0.3734432061240773, pvalue=1.192889049258426e-42)"
      ]
     },
     "execution_count": 32,
     "metadata": {},
     "output_type": "execute_result"
    }
   ],
   "source": [
    "pearsonr(t[48868,0], t[48868,1])"
   ]
  },
  {
   "cell_type": "code",
   "execution_count": 33,
   "metadata": {},
   "outputs": [
    {
     "data": {
      "text/plain": [
       "PearsonRResult(statistic=0.6035208932246228, pvalue=6.737285984559877e-125)"
      ]
     },
     "execution_count": 33,
     "metadata": {},
     "output_type": "execute_result"
    }
   ],
   "source": [
    "pearsonr(t[303919,0], t[303919,1])"
   ]
  },
  {
   "cell_type": "code",
   "execution_count": 5,
   "metadata": {},
   "outputs": [
    {
     "ename": "AttributeError",
     "evalue": "'MinMaxScaler' object has no attribute 'min_'",
     "output_type": "error",
     "traceback": [
      "\u001b[1;31m---------------------------------------------------------------------------\u001b[0m",
      "\u001b[1;31mAttributeError\u001b[0m                            Traceback (most recent call last)",
      "Cell \u001b[1;32mIn[5], line 5\u001b[0m\n\u001b[0;32m      3\u001b[0m scaler_abp \u001b[38;5;241m=\u001b[39m MinMaxScaler()\n\u001b[0;32m      4\u001b[0m params \u001b[38;5;241m=\u001b[39m np\u001b[38;5;241m.\u001b[39mzeros((\u001b[38;5;241m2\u001b[39m,\u001b[38;5;241m2\u001b[39m))\n\u001b[1;32m----> 5\u001b[0m params[\u001b[38;5;241m0\u001b[39m,\u001b[38;5;241m0\u001b[39m] \u001b[38;5;241m=\u001b[39m \u001b[43mscaler_abp\u001b[49m\u001b[38;5;241;43m.\u001b[39;49m\u001b[43mmin_\u001b[49m[\u001b[38;5;241m0\u001b[39m]\n\u001b[0;32m      6\u001b[0m params[\u001b[38;5;241m0\u001b[39m,\u001b[38;5;241m1\u001b[39m] \u001b[38;5;241m=\u001b[39m scaler_abp\u001b[38;5;241m.\u001b[39mscale_[\u001b[38;5;241m0\u001b[39m]\n\u001b[0;32m      7\u001b[0m params[\u001b[38;5;241m1\u001b[39m,\u001b[38;5;241m0\u001b[39m] \u001b[38;5;241m=\u001b[39m scaler_ppg\u001b[38;5;241m.\u001b[39mmin_[\u001b[38;5;241m0\u001b[39m]\n",
      "\u001b[1;31mAttributeError\u001b[0m: 'MinMaxScaler' object has no attribute 'min_'"
     ]
    }
   ],
   "source": [
    "from sklearn.preprocessing import MinMaxScaler\n",
    "scaler_ppg = MinMaxScaler()\n",
    "scaler_abp = MinMaxScaler()\n",
    "params = np.zeros((2,2))\n",
    "params[0,0] = scaler_abp.min_[0]\n",
    "params[0,1] = scaler_abp.scale_[0]\n",
    "params[1,0] = scaler_ppg.min_[0]\n",
    "params[1,1] = scaler_ppg.scale_[0]"
   ]
  },
  {
   "cell_type": "markdown",
   "metadata": {},
   "source": [
    "# 4 class"
   ]
  },
  {
   "cell_type": "code",
   "execution_count": 9,
   "metadata": {},
   "outputs": [
    {
     "data": {
      "text/plain": [
       "((38110, 2, 1250), array([315.77010745,   1.        ]))"
      ]
     },
     "execution_count": 9,
     "metadata": {},
     "output_type": "execute_result"
    }
   ],
   "source": [
    "a = np.load(r\"../data/processed/BP_npy/PulseDB/test_2.npy\")\n",
    "a.shape,a.max(axis=2).max(axis=0)"
   ]
  },
  {
   "cell_type": "code",
   "execution_count": null,
   "metadata": {},
   "outputs": [
    {
     "data": {
      "text/plain": [
       "array([374.40332499,   1.        ])"
      ]
     },
     "execution_count": 7,
     "metadata": {},
     "output_type": "execute_result"
    }
   ],
   "source": [
    "a = np.load(r\"../data/processed/BP_npy/PulseDB/test.npy\")\n",
    "a.shape\n",
    "a.max(axis=2).max(axis=0), a.min(axis=2).min(axis=0)\n"
   ]
  },
  {
   "cell_type": "code",
   "execution_count": 26,
   "metadata": {},
   "outputs": [],
   "source": [
    "a = np.load(r\"../data/processed/BP_npy/PulseDB/test_raw.npy\")\n",
    "np.save(r\"../data/processed/BP_npy/PulseDB/test_4.npy\",a[:,1].reshape(-1,1,1250))\n"
   ]
  },
  {
   "cell_type": "code",
   "execution_count": 27,
   "metadata": {},
   "outputs": [],
   "source": [
    "a = np.load(r\"../data/processed/BP_npy/PulseDB/train_raw.npy\")\n",
    "np.save(r\"../data/processed/BP_npy/PulseDB/train_4.npy\",a[:,1].reshape(-1,1,1250))"
   ]
  },
  {
   "cell_type": "code",
   "execution_count": null,
   "metadata": {},
   "outputs": [
    {
     "name": "stdout",
     "output_type": "stream",
     "text": [
      "(902160,)\n",
      "(111600,)\n"
     ]
    }
   ],
   "source": [
    "\n",
    "# ラベリング関数の定義\n",
    "def label_blood_pressure(bp):\n",
    "    if bp < 100:\n",
    "        return 0    # 正常血圧\n",
    "    elif 100 <= bp < 120:\n",
    "        return 1    # 正常血圧\n",
    "    elif 120 <= bp < 140:\n",
    "        return 2    # 正常高値血圧\n",
    "    else:\n",
    "        return 3    # 高血圧\n",
    "\n",
    "# ベクトル化した関数を作成\n",
    "vectorized_label = np.vectorize(label_blood_pressure)\n",
    "\n",
    "# データ全体にラベリングを適用\n",
    "bp_data = np.load('../data/processed/BP_npy/PulseDB/train_sbp.npy')\n",
    "print(bp_data.shape)\n",
    "bp_labels = vectorized_label(bp_data)\n",
    "np.save('../data/processed/BP_npy/PulseDB/train_sbp_4labels.npy', bp_labels)\n",
    "bp_data = np.load('../data/processed/BP_npy/PulseDB/test_sbp.npy')\n",
    "print(bp_data.shape)\n",
    "bp_labels = vectorized_label(bp_data)\n",
    "np.save('../data/processed/BP_npy/PulseDB/test_sbp_4labels.npy', bp_labels)"
   ]
  },
  {
   "cell_type": "code",
   "execution_count": 2,
   "metadata": {},
   "outputs": [
    {
     "data": {
      "text/plain": [
       "sklearn.model_selection._split.StratifiedGroupKFold"
      ]
     },
     "execution_count": 2,
     "metadata": {},
     "output_type": "execute_result"
    }
   ],
   "source": [
    "import numpy as np\n",
    "from sklearn.model_selection import StratifiedGroupKFold\n",
    "StratifiedGroupKFold"
   ]
  },
  {
   "cell_type": "markdown",
   "metadata": {},
   "source": [
    "# to csv\n"
   ]
  },
  {
   "cell_type": "code",
   "execution_count": 2,
   "metadata": {},
   "outputs": [],
   "source": [
    "import numpy as np"
   ]
  },
  {
   "cell_type": "code",
   "execution_count": 4,
   "metadata": {},
   "outputs": [],
   "source": [
    "a = np.load(r\"../data/processed/BP_npy/PulseDB/test.npy\")\n",
    "ext = a[:1000,1].reshape(1000,1250)\n",
    "np.savetxt(r\"../data/processed/csv/PulseDB/output.csv\", ext, delimiter=\",\", fmt=\"%f\")"
   ]
  },
  {
   "cell_type": "markdown",
   "metadata": {},
   "source": [
    "resample to 1000Hz"
   ]
  },
  {
   "cell_type": "code",
   "execution_count": 3,
   "metadata": {},
   "outputs": [],
   "source": [
    "a = np.load(r\"../data/processed/BP_npy/PulseDB/test.npy\")\n",
    "ext = a[:1000,1].reshape(1000,1250)\n",
    "np.savetxt(r\"../data/processed/csv/PulseDB/output.csv\", ext, delimiter=\",\", fmt=\"%f\")"
   ]
  },
  {
   "cell_type": "code",
   "execution_count": 4,
   "metadata": {},
   "outputs": [],
   "source": [
    "from scipy.signal import resample\n",
    "fs_in = 125         # 元のサンプリングレート\n",
    "fs_out = 1000       # 新しいサンプリングレート\n",
    "duration = 1000 / fs_in  # 秒数（8秒）\n",
    "n_out = int(duration * fs_out)  # アップサンプリング後の点数 = 8000\n",
    "signal_1000hz = resample(ext, n_out)"
   ]
  },
  {
   "cell_type": "code",
   "execution_count": 5,
   "metadata": {},
   "outputs": [],
   "source": [
    "np.savetxt(r\"../data/processed/csv/PulseDB/output_1000Hz.csv\", ext, delimiter=\",\", fmt=\"%f\")"
   ]
  },
  {
   "cell_type": "code",
   "execution_count": 8,
   "metadata": {},
   "outputs": [
    {
     "data": {
      "text/plain": [
       "(111600, 2, 1250)"
      ]
     },
     "execution_count": 8,
     "metadata": {},
     "output_type": "execute_result"
    }
   ],
   "source": [
    "import os\n",
    "import numpy as np\n",
    "a = np.load(r\"../data/processed/BP_npy/PulseDB/test_raw.npy\")\n",
    "a.shape"
   ]
  },
  {
   "cell_type": "code",
   "execution_count": 9,
   "metadata": {},
   "outputs": [
    {
     "data": {
      "text/plain": [
       "array([68.23103804,  0.29327659])"
      ]
     },
     "execution_count": 9,
     "metadata": {},
     "output_type": "execute_result"
    }
   ],
   "source": [
    "a[0,:,0]"
   ]
  },
  {
   "cell_type": "markdown",
   "metadata": {},
   "source": [
    "# extract subject number"
   ]
  },
  {
   "cell_type": "code",
   "execution_count": 3,
   "metadata": {},
   "outputs": [
    {
     "name": "stderr",
     "output_type": "stream",
     "text": [
      "100%|██████████| 111600/111600 [00:05<00:00, 19762.92it/s]\n"
     ]
    }
   ],
   "source": [
    "from tqdm import tqdm\n",
    "with h5py.File('..\\\\data\\\\raw\\\\PulseDB\\\\CalFree_Test_Subset.mat', 'r') as f:\n",
    "    # Object reference を含むデータを取得\n",
    "    object_refs = np.array(f['Subset/Subject'][:])  # (1, 900000) のような shape を持つ\n",
    "\n",
    "    patient_data = []  # patient_id, record_number を格納するリスト\n",
    "\n",
    "    # すべてのオブジェクト参照を処理\n",
    "    for ref in tqdm(object_refs.flatten()):  # 1次元にする\n",
    "        # if ref in f:  # 参照が有効か確認\n",
    "        obj = f[ref]  # HDF5 データセットを取得\n",
    "        ascii_array = obj[:]  # 全データを取得（例: [[112], [48], [48], ...]）\n",
    "\n",
    "        # ASCII コードを文字列に変換\n",
    "        string_value = ''.join(map(chr, ascii_array.flatten()))\n",
    "\n",
    "        # アンダースコアで分割し、整数に変換\n",
    "        patient_id_str, record_number_str = string_value.split('_')\n",
    "        patient_id = int(patient_id_str[1:])  # 'p000001' → 1 に変換\n",
    "        record_number = int(record_number_str)  # '1' → 1 に変換\n",
    "\n",
    "        # 結果をリストに追加\n",
    "        patient_data.append((patient_id, record_number))\n",
    "\n",
    "# 結果を NumPy 配列に変換\n",
    "patient_data_array = np.array(patient_data)\n"
   ]
  },
  {
   "cell_type": "code",
   "execution_count": 4,
   "metadata": {},
   "outputs": [
    {
     "data": {
      "text/plain": [
       "(111600, 2)"
      ]
     },
     "execution_count": 4,
     "metadata": {},
     "output_type": "execute_result"
    }
   ],
   "source": [
    "patient_data_array.shape"
   ]
  },
  {
   "cell_type": "code",
   "execution_count": 6,
   "metadata": {},
   "outputs": [],
   "source": [
    "patient_data_array = patient_data_array[:,0]"
   ]
  },
  {
   "cell_type": "code",
   "execution_count": 7,
   "metadata": {},
   "outputs": [],
   "source": [
    "np.save(r\"../data/processed/BP_npy/PulseDB/test_subjects.npy\", patient_data_array)"
   ]
  },
  {
   "cell_type": "code",
   "execution_count": 8,
   "metadata": {},
   "outputs": [
    {
     "data": {
      "text/plain": [
       "(111600,)"
      ]
     },
     "execution_count": 8,
     "metadata": {},
     "output_type": "execute_result"
    }
   ],
   "source": [
    "sbp = np.load(r\"../data/processed/BP_npy/PulseDB/test_sbp.npy\")\n",
    "sbp.shape"
   ]
  },
  {
   "cell_type": "code",
   "execution_count": 14,
   "metadata": {},
   "outputs": [
    {
     "name": "stdout",
     "output_type": "stream",
     "text": [
      "[     1      5      6 ... 111596 111597 111599]\n",
      "(38110,)\n"
     ]
    }
   ],
   "source": [
    "mask = np.where((sbp>140) | (sbp < 100)| (sbp ==120))[0]\n",
    "print(mask)\n",
    "patients_masked = patient_data_array[mask]\n",
    "print(patients_masked.shape)\n",
    "np.save(r\"../data/processed/BP_npy/PulseDB/test_subjects_2.npy\", patients_masked)"
   ]
  }
 ],
 "metadata": {
  "kernelspec": {
   "display_name": ".venv",
   "language": "python",
   "name": "python3"
  },
  "language_info": {
   "codemirror_mode": {
    "name": "ipython",
    "version": 3
   },
   "file_extension": ".py",
   "mimetype": "text/x-python",
   "name": "python",
   "nbconvert_exporter": "python",
   "pygments_lexer": "ipython3",
   "version": "3.10.11"
  }
 },
 "nbformat": 4,
 "nbformat_minor": 2
}
