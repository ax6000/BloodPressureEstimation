{
 "cells": [
  {
   "cell_type": "code",
   "execution_count": 13,
   "metadata": {},
   "outputs": [],
   "source": [
    "import numpy as np\n",
    "import glob\n",
    "import os\n",
    "import logging\n",
    "from tqdm import tqdm\n",
    "from PIL import Image"
   ]
  },
  {
   "cell_type": "code",
   "execution_count": 4,
   "metadata": {},
   "outputs": [],
   "source": [
    "DATA_DIR = r\"D:\\minowa\\BloodPressureEstimation\\data\\processed\\npy\\1030\\p00\"\n",
    "OUTPUT_DIR = r\"D:\\minowa\\BloodPressureEstimation\\data\\processed\\img\\1030\""
   ]
  },
  {
   "cell_type": "markdown",
   "metadata": {},
   "source": [
    "```\n",
    "def saveDataSets(train_data, train_data_noisy, test_data, test_data_noisy):\n",
    "    for i,j in enumerate(train_data):\n",
    "        rescaled = ((255.0 / (j.max() - j.min())) * (j - j.min())).astype(np.uint8)\n",
    "        #rescaled = np.array(j).astype(np.uint8)\n",
    "        im = Image.fromarray(rescaled)\n",
    "        im.save('noise2ppg_v2/trainB/%s.png' %str(i))\n",
    "        \n",
    "    for i,j in enumerate(train_data_noisy):\n",
    "        rescaled = ((155.0 / (j.max() - j.min())) * (j - j.min())+50.0).astype(np.uint8)\n",
    "        #rescaled = np.array(j).astype(np.uint8)\n",
    "        im = Image.fromarray(rescaled)\n",
    "        im.save('noise2ppg_v2/trainA/%s.png' %str(i))\n",
    "\n",
    "    for i,j in enumerate(test_data):\n",
    "        rescaled = ((255.0 / (j.max() - j.min())) * (j - j.min())).astype(np.uint8)\n",
    "        #rescaled = np.array(j).astype(np.uint8)\n",
    "        im = Image.fromarray(rescaled)\n",
    "        im.save('noise2ppg_v2/testB/%s.png' %str(i))\n",
    "\n",
    "    for i,j in enumerate(test_data_noisy):\n",
    "        rescaled = ((155.0 / (j.max() - j.min())) * (j - j.min())+50.0).astype(np.uint8)\n",
    "        #rescaled = np.array(j).astype(np.uint8)\n",
    "        im = Image.fromarray(rescaled)\n",
    "        im.save('noise2ppg_v2/testA/%s.png' %str(i))\n",
    "\n",
    "```"
   ]
  },
  {
   "cell_type": "code",
   "execution_count": 5,
   "metadata": {},
   "outputs": [],
   "source": [
    "def create_signal_images(target,count,out_path_abp,out_path_ppg):\n",
    "    px = 256\n",
    "    def ppg_img(sig,out_path_ppg,count):\n",
    "        rescaled = (255.0*sig).astype(np.uint8)\n",
    "        #rescaled = np.array(j).astype(np.uint8)\n",
    "        im = Image.fromarray(rescaled)\n",
    "        im.save(out_path_ppg.format(count))\n",
    "        return \n",
    "    def abp_img(sig,out_path_abp,count):\n",
    "        abp_max = 255\n",
    "        abp_min = 0\n",
    "        rescaled = (255.0/(abp_max-abp_min))*(sig-abp_min).astype(np.uint8)\n",
    "        im = Image.fromarray(rescaled)\n",
    "        im.save(out_path_abp.format(count))\n",
    "        return\n",
    "    for i in range(0,len(target)-px,px):\n",
    "        s = target[i:i+px,:]\n",
    "        abp_img(s[:,0],out_path_abp,count)\n",
    "        ppg_img(s[:,1],out_path_ppg,count)\n",
    "        count+=1\n",
    "    return count"
   ]
  },
  {
   "cell_type": "code",
   "execution_count": 16,
   "metadata": {},
   "outputs": [
    {
     "name": "stdout",
     "output_type": "stream",
     "text": [
      "121\n"
     ]
    },
    {
     "name": "stderr",
     "output_type": "stream",
     "text": [
      "  0%|          | 0/121 [00:00<?, ?it/s]\n"
     ]
    },
    {
     "ename": "OSError",
     "evalue": "cannot write mode F as PNG",
     "output_type": "error",
     "traceback": [
      "\u001b[1;31m---------------------------------------------------------------------------\u001b[0m",
      "\u001b[1;31mKeyError\u001b[0m                                  Traceback (most recent call last)",
      "File \u001b[1;32md:\\minowa\\BloodPressureEstimation\\.venv\\lib\\site-packages\\PIL\\PngImagePlugin.py:1278\u001b[0m, in \u001b[0;36m_save\u001b[1;34m(im, fp, filename, chunk, save_all)\u001b[0m\n\u001b[0;32m   1277\u001b[0m \u001b[39mtry\u001b[39;00m:\n\u001b[1;32m-> 1278\u001b[0m     rawmode, mode \u001b[39m=\u001b[39m _OUTMODES[mode]\n\u001b[0;32m   1279\u001b[0m \u001b[39mexcept\u001b[39;00m \u001b[39mKeyError\u001b[39;00m \u001b[39mas\u001b[39;00m e:\n",
      "\u001b[1;31mKeyError\u001b[0m: 'F'",
      "\nThe above exception was the direct cause of the following exception:\n",
      "\u001b[1;31mOSError\u001b[0m                                   Traceback (most recent call last)",
      "\u001b[1;32md:\\minowa\\BloodPressureEstimation\\notebooks\\create_image_data.ipynb Cell 5\u001b[0m line \u001b[0;36m1\n\u001b[0;32m     <a href='vscode-notebook-cell:/d%3A/minowa/BloodPressureEstimation/notebooks/create_image_data.ipynb#W2sZmlsZQ%3D%3D?line=15'>16</a>\u001b[0m \u001b[39mfor\u001b[39;00m n \u001b[39min\u001b[39;00m \u001b[39mrange\u001b[39m(\u001b[39mlen\u001b[39m(nan_locs)\u001b[39m-\u001b[39m\u001b[39m1\u001b[39m):\n\u001b[0;32m     <a href='vscode-notebook-cell:/d%3A/minowa/BloodPressureEstimation/notebooks/create_image_data.ipynb#W2sZmlsZQ%3D%3D?line=16'>17</a>\u001b[0m     target \u001b[39m=\u001b[39m sig[nan_locs[n]\u001b[39m+\u001b[39m\u001b[39m1\u001b[39m:nan_locs[n\u001b[39m+\u001b[39m\u001b[39m1\u001b[39m]]\n\u001b[1;32m---> <a href='vscode-notebook-cell:/d%3A/minowa/BloodPressureEstimation/notebooks/create_image_data.ipynb#W2sZmlsZQ%3D%3D?line=17'>18</a>\u001b[0m     count \u001b[39m=\u001b[39m create_signal_images(target,count,out_path_abp,out_path_ppg)\n",
      "\u001b[1;32md:\\minowa\\BloodPressureEstimation\\notebooks\\create_image_data.ipynb Cell 5\u001b[0m line \u001b[0;36m1\n\u001b[0;32m     <a href='vscode-notebook-cell:/d%3A/minowa/BloodPressureEstimation/notebooks/create_image_data.ipynb#W2sZmlsZQ%3D%3D?line=15'>16</a>\u001b[0m \u001b[39mfor\u001b[39;00m i \u001b[39min\u001b[39;00m \u001b[39mrange\u001b[39m(\u001b[39m0\u001b[39m,\u001b[39mlen\u001b[39m(target)\u001b[39m-\u001b[39mpx,px):\n\u001b[0;32m     <a href='vscode-notebook-cell:/d%3A/minowa/BloodPressureEstimation/notebooks/create_image_data.ipynb#W2sZmlsZQ%3D%3D?line=16'>17</a>\u001b[0m     s \u001b[39m=\u001b[39m target[i:i\u001b[39m+\u001b[39mpx,:]\n\u001b[1;32m---> <a href='vscode-notebook-cell:/d%3A/minowa/BloodPressureEstimation/notebooks/create_image_data.ipynb#W2sZmlsZQ%3D%3D?line=17'>18</a>\u001b[0m     abp_img(s[:,\u001b[39m0\u001b[39;49m],out_path_abp,count)\n\u001b[0;32m     <a href='vscode-notebook-cell:/d%3A/minowa/BloodPressureEstimation/notebooks/create_image_data.ipynb#W2sZmlsZQ%3D%3D?line=18'>19</a>\u001b[0m     ppg_img(s[:,\u001b[39m1\u001b[39m],out_path_ppg,count)\n\u001b[0;32m     <a href='vscode-notebook-cell:/d%3A/minowa/BloodPressureEstimation/notebooks/create_image_data.ipynb#W2sZmlsZQ%3D%3D?line=19'>20</a>\u001b[0m     count\u001b[39m+\u001b[39m\u001b[39m=\u001b[39m\u001b[39m1\u001b[39m\n",
      "\u001b[1;32md:\\minowa\\BloodPressureEstimation\\notebooks\\create_image_data.ipynb Cell 5\u001b[0m line \u001b[0;36m1\n\u001b[0;32m     <a href='vscode-notebook-cell:/d%3A/minowa/BloodPressureEstimation/notebooks/create_image_data.ipynb#W2sZmlsZQ%3D%3D?line=11'>12</a>\u001b[0m rescaled \u001b[39m=\u001b[39m (\u001b[39m255.0\u001b[39m\u001b[39m/\u001b[39m(abp_max\u001b[39m-\u001b[39mabp_min))\u001b[39m*\u001b[39m(sig\u001b[39m-\u001b[39mabp_min)\u001b[39m.\u001b[39mastype(np\u001b[39m.\u001b[39muint8)\n\u001b[0;32m     <a href='vscode-notebook-cell:/d%3A/minowa/BloodPressureEstimation/notebooks/create_image_data.ipynb#W2sZmlsZQ%3D%3D?line=12'>13</a>\u001b[0m im \u001b[39m=\u001b[39m Image\u001b[39m.\u001b[39mfromarray(rescaled)\n\u001b[1;32m---> <a href='vscode-notebook-cell:/d%3A/minowa/BloodPressureEstimation/notebooks/create_image_data.ipynb#W2sZmlsZQ%3D%3D?line=13'>14</a>\u001b[0m im\u001b[39m.\u001b[39;49msave(out_path_abp\u001b[39m.\u001b[39;49mformat(count))\n\u001b[0;32m     <a href='vscode-notebook-cell:/d%3A/minowa/BloodPressureEstimation/notebooks/create_image_data.ipynb#W2sZmlsZQ%3D%3D?line=14'>15</a>\u001b[0m \u001b[39mreturn\u001b[39;00m\n",
      "File \u001b[1;32md:\\minowa\\BloodPressureEstimation\\.venv\\lib\\site-packages\\PIL\\Image.py:2353\u001b[0m, in \u001b[0;36mImage.save\u001b[1;34m(self, fp, format, **params)\u001b[0m\n\u001b[0;32m   2350\u001b[0m         fp \u001b[39m=\u001b[39m builtins\u001b[39m.\u001b[39mopen(filename, \u001b[39m\"\u001b[39m\u001b[39mw+b\u001b[39m\u001b[39m\"\u001b[39m)\n\u001b[0;32m   2352\u001b[0m \u001b[39mtry\u001b[39;00m:\n\u001b[1;32m-> 2353\u001b[0m     save_handler(\u001b[39mself\u001b[39;49m, fp, filename)\n\u001b[0;32m   2354\u001b[0m \u001b[39mexcept\u001b[39;00m \u001b[39mException\u001b[39;00m:\n\u001b[0;32m   2355\u001b[0m     \u001b[39mif\u001b[39;00m open_fp:\n",
      "File \u001b[1;32md:\\minowa\\BloodPressureEstimation\\.venv\\lib\\site-packages\\PIL\\PngImagePlugin.py:1280\u001b[0m, in \u001b[0;36m_save\u001b[1;34m(im, fp, filename, chunk, save_all)\u001b[0m\n\u001b[0;32m   1278\u001b[0m     rawmode, mode \u001b[39m=\u001b[39m _OUTMODES[mode]\n\u001b[0;32m   1279\u001b[0m \u001b[39mexcept\u001b[39;00m \u001b[39mKeyError\u001b[39;00m \u001b[39mas\u001b[39;00m e:\n\u001b[1;32m-> 1280\u001b[0m     \u001b[39mraise\u001b[39;00m \u001b[39mOSError\u001b[39;00m(\u001b[39mf\u001b[39m\u001b[39m\"\u001b[39m\u001b[39mcannot write mode \u001b[39m\u001b[39m{\u001b[39;00mmode\u001b[39m}\u001b[39;00m\u001b[39m as PNG\u001b[39m\u001b[39m\"\u001b[39m) \u001b[39mfrom\u001b[39;00m \u001b[39me\u001b[39;00m\n\u001b[0;32m   1282\u001b[0m \u001b[39m#\u001b[39;00m\n\u001b[0;32m   1283\u001b[0m \u001b[39m# write minimal PNG file\u001b[39;00m\n\u001b[0;32m   1285\u001b[0m fp\u001b[39m.\u001b[39mwrite(_MAGIC)\n",
      "\u001b[1;31mOSError\u001b[0m: cannot write mode F as PNG"
     ]
    }
   ],
   "source": [
    "dirs = glob.glob(\"p*\",root_dir=DATA_DIR)\n",
    "print(len(dirs))\n",
    "cnt = 0\n",
    "for i in tqdm(range(len(dirs))):\n",
    "    files = glob.glob(dirs[i]+\"\\*\",root_dir=DATA_DIR)\n",
    "    # n_files = len(files)\n",
    "    os.makedirs(f\"{DATA_DIR}\\\\abp\\p00\\{dirs[i]}\",exist_ok=True)\n",
    "    os.makedirs(f\"{DATA_DIR}\\\\ppg\\p00\\{dirs[i]}\",exist_ok=True)\n",
    "    for file in files:\n",
    "        # p000652\\3488442_0030.npy\n",
    "        out_path_abp = f\"{DATA_DIR}\\\\abp\\p00\\{dirs[i]}\"+\"_{:05d}.png\"\n",
    "        out_path_ppg = f\"{DATA_DIR}\\\\ppg\\p00\\{dirs[i]}\"+\"_{:05d}.png\"\n",
    "        sig = np.load(os.path.join(DATA_DIR,file))\n",
    "        nan_locs = np.where(np.isnan(sig))[0]\n",
    "        count = 0\n",
    "        for n in range(len(nan_locs)-1):\n",
    "            target = sig[nan_locs[n]+1:nan_locs[n+1]]\n",
    "            count = create_signal_images(target,count,out_path_abp,out_path_ppg)\n",
    "        "
   ]
  }
 ],
 "metadata": {
  "kernelspec": {
   "display_name": ".venv",
   "language": "python",
   "name": "python3"
  },
  "language_info": {
   "codemirror_mode": {
    "name": "ipython",
    "version": 3
   },
   "file_extension": ".py",
   "mimetype": "text/x-python",
   "name": "python",
   "nbconvert_exporter": "python",
   "pygments_lexer": "ipython3",
   "version": "3.10.11"
  }
 },
 "nbformat": 4,
 "nbformat_minor": 2
}
