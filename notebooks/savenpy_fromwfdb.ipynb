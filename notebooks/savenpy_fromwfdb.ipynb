{
 "cells": [
  {
   "cell_type": "code",
   "execution_count": 2,
   "metadata": {},
   "outputs": [],
   "source": [
    "import wfdb\n",
    "import numpy as np\n",
    "import matplotlib.pyplot as plt\n",
    "import glob\n",
    "import os\n",
    "from tqdm import tqdm"
   ]
  },
  {
   "cell_type": "code",
   "execution_count": 3,
   "metadata": {},
   "outputs": [],
   "source": [
    "def savenpy(dir,data):\n",
    "    if not os.path.isdir(dir):\n",
    "        os.makedirs(dir,exist_ok=True)\n",
    "    np.save(dir,data)\n"
   ]
  },
  {
   "cell_type": "code",
   "execution_count": 7,
   "metadata": {},
   "outputs": [],
   "source": [
    "DATA_ROOT =  r\"Z:google-wdb\\matched\\matched\"\n",
    "DATA_DIR = r\"..\\data\""
   ]
  },
  {
   "cell_type": "code",
   "execution_count": 1,
   "metadata": {},
   "outputs": [
    {
     "ename": "NameError",
     "evalue": "name 'os' is not defined",
     "output_type": "error",
     "traceback": [
      "\u001b[0;31m---------------------------------------------------------------------------\u001b[0m",
      "\u001b[0;31mNameError\u001b[0m                                 Traceback (most recent call last)",
      "\u001b[1;32m/home/bsa/minowa/BloodPressureEstimation/notebooks/savenpy_fromwfdb.ipynb Cell 4\u001b[0m line \u001b[0;36m2\n\u001b[1;32m      <a href='vscode-notebook-cell://wsl%2Bubuntu-22.04/home/bsa/minowa/BloodPressureEstimation/notebooks/savenpy_fromwfdb.ipynb#W2sdnNjb2RlLXJlbW90ZQ%3D%3D?line=0'>1</a>\u001b[0m \u001b[39mfor\u001b[39;00m i \u001b[39min\u001b[39;00m \u001b[39mrange\u001b[39m(\u001b[39m1\u001b[39m):\n\u001b[0;32m----> <a href='vscode-notebook-cell://wsl%2Bubuntu-22.04/home/bsa/minowa/BloodPressureEstimation/notebooks/savenpy_fromwfdb.ipynb#W2sdnNjb2RlLXJlbW90ZQ%3D%3D?line=1'>2</a>\u001b[0m     \u001b[39mwith\u001b[39;00m \u001b[39mopen\u001b[39m(os\u001b[39m.\u001b[39mpath\u001b[39m.\u001b[39mjoin(DATA_DIR,\u001b[39m'\u001b[39m\u001b[39mraw\u001b[39m\u001b[39m'\u001b[39m,\u001b[39mf\u001b[39m\u001b[39m\"\u001b[39m\u001b[39mhas_PPG_ABP_0\u001b[39m\u001b[39m{\u001b[39;00mi\u001b[39m}\u001b[39;00m\u001b[39m.txt\u001b[39m\u001b[39m\"\u001b[39m),mode\u001b[39m=\u001b[39m\u001b[39m'\u001b[39m\u001b[39mr\u001b[39m\u001b[39m'\u001b[39m) \u001b[39mas\u001b[39;00m f:\n\u001b[1;32m      <a href='vscode-notebook-cell://wsl%2Bubuntu-22.04/home/bsa/minowa/BloodPressureEstimation/notebooks/savenpy_fromwfdb.ipynb#W2sdnNjb2RlLXJlbW90ZQ%3D%3D?line=2'>3</a>\u001b[0m         lines \u001b[39m=\u001b[39m f\u001b[39m.\u001b[39mread()\u001b[39m.\u001b[39msplitlines()\n\u001b[1;32m      <a href='vscode-notebook-cell://wsl%2Bubuntu-22.04/home/bsa/minowa/BloodPressureEstimation/notebooks/savenpy_fromwfdb.ipynb#W2sdnNjb2RlLXJlbW90ZQ%3D%3D?line=3'>4</a>\u001b[0m         \u001b[39mfor\u001b[39;00m i \u001b[39min\u001b[39;00m tqdm(\u001b[39mrange\u001b[39m(\u001b[39mlen\u001b[39m(lines))):\n",
      "\u001b[0;31mNameError\u001b[0m: name 'os' is not defined"
     ]
    }
   ],
   "source": [
    "for i in range(1):\n",
    "    with open(os.path.join(DATA_DIR,'raw',f\"has_PPG_ABP_0{i}.txt\"),mode='r') as f:\n",
    "        lines = f.read().splitlines()\n",
    "        for i in tqdm(range(len(lines))):\n",
    "            file_dir = lines[i]\n",
    "            path = os.path.splitext(os.path.join(DATA_ROOT,file_dir))\n",
    "            record = wfdb.rdrecord(path,channel_names=['ABP','PLETH'])\n",
    "            savenpy(os.path.join(DATA_DIR,f\"raw\\ppgabp\\p0{i}\",file_dir),record.p_signal)"
   ]
  },
  {
   "cell_type": "markdown",
   "metadata": {},
   "source": [
    "短いファイルをマーク"
   ]
  },
  {
   "cell_type": "code",
   "execution_count": 5,
   "metadata": {},
   "outputs": [],
   "source": [
    "threshold = 10 * 60 * 125\n",
    "os.makedirs(\"../data/raw/ppgabp_long_index\",exist_ok=True)"
   ]
  },
  {
   "cell_type": "code",
   "execution_count": 10,
   "metadata": {},
   "outputs": [
    {
     "name": "stderr",
     "output_type": "stream",
     "text": [
      "100%|██████████| 5145/5145 [03:30<00:00, 24.47it/s]\n"
     ]
    }
   ],
   "source": [
    "for i in range(1):\n",
    "    with open(f\"../data/raw/ppgabp_index/has_PPG_ABP_0{i}.txt\",mode='r') as f, open(f\"../data/raw/ppgabp_long_index/p0{i}.txt\",mode='w') as fl,open(f\"../data/raw/ppgabp_short_index/p0{i}.txt\",mode='w') as fs:\n",
    "        lines = f.read().splitlines()\n",
    "        for j in tqdm(range(len(lines))):\n",
    "            hea_path = lines[j]\n",
    "            with open(os.path.join(DATA_ROOT,f\"p0{i}\",hea_path)) as h:\n",
    "                top = h.readline()\n",
    "                length = int(top.split(sep=' ')[3])\n",
    "                if length <= threshold:\n",
    "                    fs.write(hea_path+'\\n') \n",
    "                else:\n",
    "                    fl.write(hea_path+'\\n') \n",
    "            "
   ]
  },
  {
   "cell_type": "markdown",
   "metadata": {},
   "source": [
    "すでに作った.npyから長いのを削除"
   ]
  },
  {
   "cell_type": "code",
   "execution_count": 13,
   "metadata": {},
   "outputs": [
    {
     "name": "stderr",
     "output_type": "stream",
     "text": [
      "100%|██████████| 3098/3098 [00:00<00:00, 91127.45it/s]\n"
     ]
    }
   ],
   "source": [
    "for i in range(1):\n",
    "    with open(f\"../data/raw/ppgabp_short_index/p0{i}.txt\",mode='r') as f:\n",
    "        lines = f.read().splitlines()\n",
    "        for j in tqdm(range(len(lines))):\n",
    "            path = os.path.splitext(lines[j])[0]\n",
    "            try:\n",
    "                os.remove(os.path.join(DATA_DIR,f\"raw\\ppgabp\\p0{i}\",path+\".npy\"))\n",
    "            except FileNotFoundError:\n",
    "                pass"
   ]
  }
 ],
 "metadata": {
  "kernelspec": {
   "display_name": ".venv",
   "language": "python",
   "name": "python3"
  },
  "language_info": {
   "codemirror_mode": {
    "name": "ipython",
    "version": 3
   },
   "file_extension": ".py",
   "mimetype": "text/x-python",
   "name": "python",
   "nbconvert_exporter": "python",
   "pygments_lexer": "ipython3",
   "version": "3.10.11"
  }
 },
 "nbformat": 4,
 "nbformat_minor": 2
}
