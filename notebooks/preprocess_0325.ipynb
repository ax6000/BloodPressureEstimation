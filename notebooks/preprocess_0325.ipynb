{
 "cells": [
  {
   "cell_type": "code",
   "execution_count": 2,
   "metadata": {},
   "outputs": [],
   "source": [
    "import heartpy as hp\n",
    "import numpy as np\n",
    "import matplotlib.pyplot as plt\n",
    "from scipy import signal,stats\n",
    "import logging\n",
    "from tqdm import tqdm,trange\n",
    "import os\n",
    "import glob\n",
    "from sklearn.preprocessing import MinMaxScaler, scale, robust_scale,RobustScaler\n",
    "import scipy\n",
    "import pandas as pd"
   ]
  },
  {
   "cell_type": "code",
   "execution_count": 2,
   "metadata": {},
   "outputs": [],
   "source": [
    "def plot_hist(test,p=(0.5,99.5),lines=True):\n",
    "    plt.figure()\n",
    "    median = np.median(test)\n",
    "    avg = np.average(test)\n",
    "    std = np.std(test)\n",
    "    p0 = np.percentile(test, p[0])\n",
    "    p1 = np.percentile(test, p[1])\n",
    "    plt.hist(test,bins=100)\n",
    "    if lines:\n",
    "        plt.axvline(median,c='orange')\n",
    "        plt.axvline(avg,c='red')\n",
    "        plt.axvline(p0,c='black')\n",
    "        plt.axvline(p1,c='black')\n",
    "    plt.title(f\"median:{median:.3f}, average:{avg:.3f}, std:{std:.3f},\\n min:{np.nanmin(test):.3f}, max:{np.nanmax(test):.3f},\\n{p[0]:2.1f}%: {p0:.3f}, {p[1]:2.1f}%:{p1:.3f}\")"
   ]
  },
  {
   "cell_type": "code",
   "execution_count": 3,
   "metadata": {},
   "outputs": [],
   "source": [
    "def detect_flat(sig,window,t_flat):\n",
    "    sig = sig.T\n",
    "    len_data = sig.shape[1]\n",
    "    flat_locs_abp = np.ones((len_data - window+1,), dtype=int)\n",
    "    flat_locs_ppg = np.ones((len_data - window+1,), dtype=int)\n",
    "    # print(flat_locs_abp.shape)\n",
    "    # Get the locations where i == i+1 == i+2 ... == i+window\n",
    "    # efficient-ish sliding window\n",
    "    # print(data[1, :len_data - window].shape,data[1, 0:len_data - window + 0].shape)\n",
    "    for i in range(1, window):\n",
    "        # print(data[1, :len_data - window+1].shape, data[1, i:len_data - window + i+1].shape)\n",
    "        tmp_abp = (sig[0, :len_data - window+1] == sig[0, i:len_data - window + i+1])\n",
    "        tmp_ppg = (sig[1, :len_data - window+1] == sig[1, i:len_data - window + i+1])\n",
    "        flat_locs_abp = (flat_locs_abp & tmp_abp)\n",
    "        flat_locs_ppg = (flat_locs_ppg & tmp_ppg)\n",
    "        # print(tmp_abp.shape,tmp_ppg.shape)\n",
    "        # Extend to be the same size as data\n",
    "    flat_locs_ppg = np.concatenate((flat_locs_ppg, np.zeros((window - 1,), dtype=bool)))\n",
    "    flat_locs_abp = np.concatenate((flat_locs_abp, np.zeros((window - 1,), dtype=bool)))\n",
    "    # print(flat_locs_abp.shape,flat_locs_ppg.shape)\n",
    "    flat_locs_ppg2 = flat_locs_ppg.copy()\n",
    "    flat_locs_abp2 = flat_locs_abp.copy()\n",
    "    # print(flat_locs_abp2.shape,flat_locs_ppg2.shape)\n",
    "        \n",
    "    # Mark the ends of the window\n",
    "    for i in range(1, window):\n",
    "        flat_locs_abp[i:] = flat_locs_abp[i:] | flat_locs_abp2[:len_data-i]\n",
    "        flat_locs_ppg[i:] = flat_locs_ppg[i:] | flat_locs_ppg2[:len_data-i]\n",
    "        \n",
    "    # Percentages\n",
    "    per_abp = np.sum(flat_locs_abp) / len_data\n",
    "    per_ppg = np.sum(flat_locs_ppg) / len_data\n",
    "    if per_abp > t_flat or per_ppg > t_flat:\n",
    "        logging.info(f\"invalid because of flat lines: {per_ppg}, {per_abp},{np.sum(flat_locs_abp)},{np.sum(flat_locs_ppg)},{np.nanmax(flat_locs_abp)},{np.nanmax(flat_locs_ppg)}\")\n",
    "        return True,None,None\n",
    "    else:\n",
    "        return False,flat_locs_ppg,flat_locs_abp\n",
    "    \n",
    "def fill_rejected_valleys(sig,v):\n",
    "    diff_v= np.diff(v)\n",
    "    # [0,1,1,0,0,1,1,0,0]\n",
    "    # [ 1,  0, -1,  0,  1,  0, -1,  0]\n",
    "    old = 0\n",
    "    old_i = -1\n",
    "    for i,b in enumerate(diff_v):\n",
    "        if b:\n",
    "            if old_i < 0 and b > 0:\n",
    "                sig[:v[i+1],:]=np.nan\n",
    "            elif b > 0:\n",
    "                sig[v[i]:v[old_i+1],:]=np.nan\n",
    "            old = b\n",
    "            old_i = i\n",
    "    if old < 0:\n",
    "        sig[:v[old_i+1],:]=np.nan\n",
    "\n",
    "def hampel(vals_orig, k=11, t0=3):\n",
    "    '''\n",
    "    vals: pandas series of values from which to remove outliers\n",
    "    k: size of window (including the sample; 7 is equal to 3 on either side of value)\n",
    "    '''\n",
    "    \n",
    "    #Make copy so original not edited\n",
    "    vals = vals_orig.copy()[(k-1)//2:-(k-1)//2]\n",
    "    # print(vals.shape)\n",
    "    #Hampel Filter\n",
    "    L = 1.4826\n",
    "    rolling_window = lambda x: np.lib.stride_tricks.sliding_window_view(x,k)\n",
    "    rolling_median = np.median(rolling_window(vals_orig),axis=1)\n",
    "    MAD = lambda x: np.median(np.abs(x - np.median(x)))\n",
    "    rolling_MAD = MAD(rolling_window(vals_orig))\n",
    "    threshold = t0 * L * rolling_MAD\n",
    "    difference = np.abs(vals - rolling_median)\n",
    "    \n",
    "    '''\n",
    "    Perhaps a condition should be added here in the case that the threshold value\n",
    "    is 0.0; maybe do not mark as outlier. MAD may be 0.0 without the original values\n",
    "    being equal. See differences between MAD vs SDV.\n",
    "    '''\n",
    "    \n",
    "    outlier_idx = difference > threshold\n",
    "    vals[outlier_idx] = rolling_median[outlier_idx] \n",
    "    return vals,outlier_idx\n",
    "def hampel_peaks(sig,peaks,k=11):\n",
    "    a = sig[peaks]\n",
    "    if len(peaks) < k:\n",
    "        # print(f\"### peaks:{len(valid_peak_locs)}, k:{k}, len:{len(sig)}\")\n",
    "        return None\n",
    "    # a.shape,len(wd['peaklist']),valid_peak_locs\n",
    "    \n",
    "    _,i = hampel(a,k=k)\n",
    "    offset = (k//2)\n",
    "    loc = peaks[np.where(i)[0]+offset]\n",
    "    return loc"
   ]
  },
  {
   "cell_type": "code",
   "execution_count": 4,
   "metadata": {},
   "outputs": [],
   "source": [
    "def butterworth(sig,N=4,btype='bandpass',Wn=[0.5,8],fs=125):\n",
    "    sos = signal.butter(N,Wn,btype,fs=fs,output='sos')\n",
    "    return signal.sosfiltfilt(sos,sig)\n",
    "\n",
    "def chebyshev2(x,order=4,rs=40,Wn=[0.5,15]):\n",
    "    fs = 125\n",
    "    filter = signal.cheby2(N=order, Wn=Wn,rs=rs,btype='bandpass',output='sos',fs=fs)\n",
    "    return signal.sosfiltfilt(filter,x)"
   ]
  },
  {
   "cell_type": "markdown",
   "metadata": {},
   "source": [
    "### flat"
   ]
  },
  {
   "cell_type": "code",
   "execution_count": 5,
   "metadata": {},
   "outputs": [],
   "source": [
    "def flat(sig,\n",
    "         plot=False,\n",
    "         filter=True,\n",
    "         xfrom=0,\n",
    "         xlen=100000,\n",
    "         align_signal=False):\n",
    "    if sig is None:\n",
    "        print(\"sig is none\")\n",
    "        return None,None\n",
    "    w_flat = 15    # flat lines window\n",
    "    w_peaks = 3    # flat peaks window\n",
    "    w_fix = 15     # flat join window\n",
    "    w_corr = 500\n",
    "    t_nan = 125 * 120\n",
    "    # thresholds\n",
    "    t_peaks = 0.05 # percentage of tolerated flat peaks\n",
    "    t_flat = 0.1  # percentage of tolerated flat lines\n",
    "    t_corr = 0.8\n",
    "\n",
    "    if plot:\n",
    "        sig_processed = sig.copy()\n",
    "    # 0 nanでorをとる\n",
    "    nan_mask = np.isnan(sig[:,0]) | np.isnan(sig[:,1])\n",
    "    s = np.sum(~nan_mask)\n",
    "    if  s < t_nan:\n",
    "        # logging.info(f\"invalid because of short valid signal: {s}\")\n",
    "        # print(f\"invalid because of short valid signal: {s}\")\n",
    "        return None,None\n",
    "    sig = sig[~nan_mask]\n",
    "    # ppg normalize\n",
    "    if (sig[:,1]>1).any():\n",
    "        sig[:,1] /= 4 \n",
    "    # ppg filter\n",
    "    if filter: \n",
    "        sig[:,1] = chebyshev2(sig[:,1])\n",
    "    \n",
    "    # 1, 2 detect flat wave\n",
    "    is_invalid,flat_locs_ppg,flat_locs_abp=detect_flat(sig,w_flat,t_flat)\n",
    "    if is_invalid:\n",
    "        print(\"invalid 1\")\n",
    "        return None,None\n",
    "    # 3 find peaks, calcurate flat peaks rate\n",
    "    wd, _ = hp.process(sig[:,1],sample_rate=125.0)\n",
    "    peaks_ppg  = np.array(wd['peaklist'])[wd['binary_peaklist']==1]\n",
    "    wd, _ = hp.process(-sig[:,1],sample_rate=125.0)\n",
    "    valleys_ppg  = np.array(wd['peaklist'])[wd['binary_peaklist']==1]\n",
    "\n",
    "    outlier_peaks = hampel_peaks(sig[:,1],peaks_ppg)\n",
    "    outlier_valleys = hampel_peaks(sig[:,1],valleys_ppg)\n",
    "    # 0b autocorr align\n",
    "    ret = valleys_ppg\n",
    "    if align_signal:\n",
    "        for i in range(0,len(sig)-w_corr,w_corr):\n",
    "            i_end = i+w_corr\n",
    "            t = sig[i:i+w_corr] - sig[i:i+w_corr].mean(axis=0)\n",
    "            correlation = np.correlate(t[:,1], t[:,0], mode='full')\n",
    "            correlation = correlation / (np.linalg.norm(t[:,0], ord=2) *  np.linalg.norm(t[:,1], ord=2))\n",
    "            # print(t.shape,correlation.shape,t.size)\n",
    "            correlation = correlation[t.shape[0]:t.shape[0]+125]\n",
    "            # lags = signal.correlation_lags(t[:,0].size, t[:,1].size, mode=\"full\")[t[:,0].size:t[:,0].size+200]\n",
    "            lag = np.argmax(correlation)\n",
    "            # print(lag)\n",
    "            if outlier_peaks is not None:\n",
    "                sig[:,1][outlier_peaks[np.where((i<=outlier_peaks) &(outlier_peaks<i+w_corr))]-i] = np.nan\n",
    "            if outlier_valleys is not None:\n",
    "                sig[:,1][outlier_valleys[np.where((i<=outlier_valleys) &(outlier_valleys<i+w_corr))]-i] = np.nan\n",
    "            if lag == 0:\n",
    "                    pass\n",
    "            else:\n",
    "                # t[:-abs(lag),1] = t[abs(lag):,1]\n",
    "                sig[i:i_end-abs(lag),1] = sig[i+abs(lag):i_end,1]\n",
    "                sig[i_end-abs(lag):i_end] = np.nan\n",
    "            # sig[i:i+w_corr] = t\n",
    "            sig[i_end-1] = np.nan\n",
    "            outlier_valleys[np.where((i<=outlier_valleys) &(outlier_valleys<i_end))] -= lag\n",
    "            ret[np.where((i<=ret) &(ret<i_end))] -= lag\n",
    "            \n",
    "    else:\n",
    "        if outlier_peaks is not None:\n",
    "            sig[:,1][outlier_peaks] = np.nan\n",
    "        if outlier_valleys is not None:\n",
    "            sig[:,1][outlier_valleys] = np.nan\n",
    "    ret = ret[ret>=0]\n",
    "\n",
    "    return sig,ret"
   ]
  },
  {
   "cell_type": "code",
   "execution_count": 6,
   "metadata": {},
   "outputs": [],
   "source": [
    "def window(sig,start_locs,px = 512):\n",
    "    i = 0\n",
    "    processed = []\n",
    "    for j in start_locs:\n",
    "        if j < i:\n",
    "            print(\"passed\",j)\n",
    "            continue\n",
    "        i = j\n",
    "        if i + px > sig.shape[0]:\n",
    "            print(\"end reached\",j)\n",
    "            break\n",
    "        w = sig[j:j+px]\n",
    "        if np.isnan(w).any(axis=1).any():\n",
    "            print(\"nan\",j)\n",
    "            continue\n",
    "        else:\n",
    "            i += px\n",
    "            Ssqi = stats.skew(w[:,1])\n",
    "            if Ssqi > 0:\n",
    "                print(\"accepted\",j)\n",
    "                processed.append(w)\n",
    "            else:\n",
    "                print(\"skew\",j)\n",
    "    print(processed[0].shape,len(processed))\n",
    "    ret = np.stack(processed)\n",
    "    print(ret.shape)\n",
    "    return ret"
   ]
  },
  {
   "cell_type": "markdown",
   "metadata": {},
   "source": [
    "# executor"
   ]
  },
  {
   "cell_type": "code",
   "execution_count": 8,
   "metadata": {},
   "outputs": [],
   "source": [
    "def create_npy_executor_big(dir1):\n",
    "    px = 256\n",
    "    dtype=np.float64\n",
    "    DATA_DIR = r\"..\\data\\raw\\BPDataset\\p00\"\n",
    "    files = glob.glob(dir1+\"\\*\",root_dir=DATA_DIR)\n",
    "    scaler_ppg = MinMaxScaler()\n",
    "    s = []\n",
    "    print(\"files:\",len(files))\n",
    "    count = 0\n",
    "    for k in trange(len(files)):\n",
    "        sig = np.load(os.path.join(DATA_DIR,files[k]))\n",
    "        sig = sig.transpose()\n",
    "        # print(sig.shape)\n",
    "        sig,start_locs= flat(sig,align_signal=True)\n",
    "        if start_locs is None:\n",
    "            count+=1\n",
    "            continue\n",
    "        i = 0\n",
    "        \n",
    "        processed = []\n",
    "        for j in start_locs:\n",
    "            if j < i:\n",
    "                continue\n",
    "            i = j\n",
    "            if i + px > sig.shape[0]:\n",
    "                break\n",
    "            w = sig[j:j+px]\n",
    "            if np.isnan(w).any(axis=1).any():\n",
    "                continue\n",
    "            else:\n",
    "                i += px\n",
    "                # skewness\n",
    "                Ssqi = stats.skew(w[:,1])\n",
    "                if Ssqi > 0:\n",
    "                    processed.append(w)\n",
    "        if not len(processed):\n",
    "            count+=1\n",
    "            continue\n",
    "        processed = np.stack(processed).transpose(0,2,1)\n",
    "        s.append(processed)\n",
    "    print(\"invalid records:\",count, \"valid records:\",1000-count)\n",
    "    return s"
   ]
  },
  {
   "cell_type": "code",
   "execution_count": 9,
   "metadata": {},
   "outputs": [],
   "source": [
    "def ppg_remove_outliers(sig,ppg_t= None,verbose=True):\n",
    "    min_sig = np.nanmin(sig[:,1],axis=1)\n",
    "    max_sig= np.nanmax(sig[:,1],axis=1)\n",
    "    if verbose:\n",
    "        print(sig.shape,end='->')\n",
    "    if ppg_t is None:\n",
    "        ppg_t = (np.percentile(min_sig, 1),np.percentile(min_sig, 99),np.percentile(max_sig, 1),np.percentile(max_sig, 99))\n",
    "    mask = np.where(~((min_sig <= ppg_t[0]) | (min_sig >= ppg_t[1]) | (max_sig <= ppg_t[2]) | (max_sig >= ppg_t[3])))[0]\n",
    "    sig = sig[mask]\n",
    "    if verbose:\n",
    "        print(sig.shape)\n",
    "    return sig,ppg_t\n",
    "\n",
    "def abp_remove_outliers(sigs):\n",
    "    old_sigs_shape = sigs.shape\n",
    "    dbp = np.nanmin(sigs[:,0],axis=1)\n",
    "    sbp = np.nanmax(sigs[:,0],axis=1)\n",
    "    dbp_final = np.where(dbp>105)[0]\n",
    "    sbp_final = np.where((sbp < 85) | (sbp >180))[0]\n",
    "    mask1 = np.where(((sbp>148) & (sbp<148.1)) | ((sbp>185.0) & (sbp<185.21)) |  ((sbp>173) & (sbp<173.1)) | ((sbp>119.0) & (sbp<119.1)))[0]\n",
    "\n",
    "    mask_flat =  np.full(len(sbp), True)\n",
    "    mask_flat[mask1] = False\n",
    "    mask_dbp = np.full(len(sbp), True)\n",
    "    mask_dbp[dbp_final] = False\n",
    "\n",
    "    mask_sbp = np.full(len(sbp), True)\n",
    "    mask_sbp[sbp_final] = False\n",
    "    mask_abp = mask_dbp & mask_sbp & mask_flat\n",
    "    sigs = sigs[mask_abp]\n",
    "    return sigs"
   ]
  },
  {
   "cell_type": "markdown",
   "metadata": {},
   "source": [
    "# func\n"
   ]
  },
  {
   "cell_type": "markdown",
   "metadata": {},
   "source": [
    "- 正規化 trainのパラメータをval, testで使う\n",
    "    - 保存するパラメータもtrainのみ、1種類のみ\n",
    "    - 0408: PPGの正規化パラメータも保存\n",
    "- lag [:,1]を動かす"
   ]
  },
  {
   "cell_type": "code",
   "execution_count": 10,
   "metadata": {},
   "outputs": [
    {
     "name": "stderr",
     "output_type": "stream",
     "text": [
      "  0%|          | 0/12 [00:00<?, ?it/s]"
     ]
    },
    {
     "name": "stdout",
     "output_type": "stream",
     "text": [
      "files: 1000\n"
     ]
    },
    {
     "name": "stderr",
     "output_type": "stream",
     "text": [
      "f:\\minowa\\BloodPressureEstimation\\.venv\\lib\\site-packages\\scipy\\interpolate\\_fitpack2.py:313: UserWarning: \n",
      "The maximal number of iterations maxit (set to 20 by the program)\n",
      "allowed for finding a smoothing spline with fp=s has been reached: s\n",
      "too small.\n",
      "There is an approximation returned but the corresponding weighted sum\n",
      "of squared residuals does not satisfy the condition abs(fp-s)/s < tol.\n",
      "  warnings.warn(message)\n",
      "f:\\minowa\\BloodPressureEstimation\\.venv\\lib\\site-packages\\scipy\\interpolate\\_fitpack2.py:313: UserWarning: \n",
      "A theoretically impossible result was found during the iteration\n",
      "process for finding a smoothing spline with fp = s: s too small.\n",
      "There is an approximation returned but the corresponding weighted sum\n",
      "of squared residuals does not satisfy the condition abs(fp-s)/s < tol.\n",
      "  warnings.warn(message)\n",
      "100%|██████████| 1000/1000 [02:25<00:00,  6.86it/s]\n",
      "  8%|▊         | 1/12 [02:25<26:43, 145.75s/it]"
     ]
    },
    {
     "name": "stdout",
     "output_type": "stream",
     "text": [
      "invalid records: 374 valid records: 626\n",
      "files: 1000\n"
     ]
    },
    {
     "name": "stderr",
     "output_type": "stream",
     "text": []
    },
    {
     "name": "stdout",
     "output_type": "stream",
     "text": [
      "invalid 1\n"
     ]
    },
    {
     "name": "stderr",
     "output_type": "stream",
     "text": [
      "100%|██████████| 1000/1000 [02:21<00:00,  7.07it/s]\n",
      " 17%|█▋        | 2/12 [04:47<23:52, 143.24s/it]"
     ]
    },
    {
     "name": "stdout",
     "output_type": "stream",
     "text": [
      "invalid records: 446 valid records: 554\n",
      "files: 1000\n"
     ]
    },
    {
     "name": "stderr",
     "output_type": "stream",
     "text": [
      "100%|██████████| 1000/1000 [02:01<00:00,  8.21it/s]\n",
      " 25%|██▌       | 3/12 [06:49<20:00, 133.44s/it]"
     ]
    },
    {
     "name": "stdout",
     "output_type": "stream",
     "text": [
      "invalid records: 523 valid records: 477\n",
      "files: 1000\n"
     ]
    },
    {
     "name": "stderr",
     "output_type": "stream",
     "text": [
      "100%|██████████| 1000/1000 [02:46<00:00,  5.99it/s]\n",
      " 33%|███▎      | 4/12 [09:35<19:33, 146.67s/it]"
     ]
    },
    {
     "name": "stdout",
     "output_type": "stream",
     "text": [
      "invalid records: 397 valid records: 603\n",
      "files: 1000\n"
     ]
    },
    {
     "name": "stderr",
     "output_type": "stream",
     "text": []
    },
    {
     "name": "stdout",
     "output_type": "stream",
     "text": [
      "invalid 1\n",
      "invalid 1\n"
     ]
    },
    {
     "name": "stderr",
     "output_type": "stream",
     "text": []
    },
    {
     "name": "stdout",
     "output_type": "stream",
     "text": [
      "invalid 1\n"
     ]
    },
    {
     "name": "stderr",
     "output_type": "stream",
     "text": [
      "100%|██████████| 1000/1000 [02:58<00:00,  5.59it/s]\n",
      " 42%|████▏     | 5/12 [12:34<18:27, 158.25s/it]"
     ]
    },
    {
     "name": "stdout",
     "output_type": "stream",
     "text": [
      "invalid records: 319 valid records: 681\n",
      "files: 1000\n"
     ]
    },
    {
     "name": "stderr",
     "output_type": "stream",
     "text": []
    },
    {
     "name": "stdout",
     "output_type": "stream",
     "text": [
      "invalid 1\n"
     ]
    },
    {
     "name": "stderr",
     "output_type": "stream",
     "text": [
      "100%|██████████| 1000/1000 [02:59<00:00,  5.57it/s]\n",
      " 50%|█████     | 6/12 [15:34<16:32, 165.46s/it]"
     ]
    },
    {
     "name": "stdout",
     "output_type": "stream",
     "text": [
      "invalid records: 399 valid records: 601\n",
      "files: 1000\n"
     ]
    },
    {
     "name": "stderr",
     "output_type": "stream",
     "text": [
      "100%|██████████| 1000/1000 [01:07<00:00, 14.84it/s]\n",
      " 58%|█████▊    | 7/12 [16:41<11:06, 133.40s/it]"
     ]
    },
    {
     "name": "stdout",
     "output_type": "stream",
     "text": [
      "invalid records: 678 valid records: 322\n",
      "files: 1000\n"
     ]
    },
    {
     "name": "stderr",
     "output_type": "stream",
     "text": [
      "100%|██████████| 1000/1000 [01:54<00:00,  8.70it/s]\n",
      " 67%|██████▋   | 8/12 [18:36<08:30, 127.51s/it]"
     ]
    },
    {
     "name": "stdout",
     "output_type": "stream",
     "text": [
      "invalid records: 533 valid records: 467\n",
      "files: 1000\n"
     ]
    },
    {
     "name": "stderr",
     "output_type": "stream",
     "text": []
    },
    {
     "name": "stdout",
     "output_type": "stream",
     "text": [
      "invalid 1\n"
     ]
    },
    {
     "name": "stderr",
     "output_type": "stream",
     "text": [
      "100%|██████████| 1000/1000 [02:48<00:00,  5.94it/s]\n",
      " 75%|███████▌  | 9/12 [21:24<07:00, 140.26s/it]"
     ]
    },
    {
     "name": "stdout",
     "output_type": "stream",
     "text": [
      "invalid records: 352 valid records: 648\n",
      "files: 1000\n"
     ]
    },
    {
     "name": "stderr",
     "output_type": "stream",
     "text": []
    },
    {
     "name": "stdout",
     "output_type": "stream",
     "text": [
      "invalid 1\n"
     ]
    },
    {
     "name": "stderr",
     "output_type": "stream",
     "text": []
    },
    {
     "name": "stdout",
     "output_type": "stream",
     "text": [
      "invalid 1\n"
     ]
    },
    {
     "name": "stderr",
     "output_type": "stream",
     "text": [
      "100%|██████████| 1000/1000 [02:28<00:00,  6.72it/s]\n",
      " 83%|████████▎ | 10/12 [23:53<04:45, 142.94s/it]"
     ]
    },
    {
     "name": "stdout",
     "output_type": "stream",
     "text": [
      "invalid records: 411 valid records: 589\n",
      "files: 1000\n"
     ]
    },
    {
     "name": "stderr",
     "output_type": "stream",
     "text": []
    },
    {
     "name": "stdout",
     "output_type": "stream",
     "text": [
      "invalid 1\n"
     ]
    },
    {
     "name": "stderr",
     "output_type": "stream",
     "text": [
      "100%|██████████| 1000/1000 [02:39<00:00,  6.26it/s]\n",
      " 92%|█████████▏| 11/12 [26:33<02:28, 148.11s/it]"
     ]
    },
    {
     "name": "stdout",
     "output_type": "stream",
     "text": [
      "invalid records: 411 valid records: 589\n",
      "files: 1000\n"
     ]
    },
    {
     "name": "stderr",
     "output_type": "stream",
     "text": [
      "100%|██████████| 1000/1000 [02:01<00:00,  8.21it/s]\n",
      "100%|██████████| 12/12 [28:35<00:00, 142.95s/it]"
     ]
    },
    {
     "name": "stdout",
     "output_type": "stream",
     "text": [
      "invalid records: 483 valid records: 517\n"
     ]
    },
    {
     "name": "stderr",
     "output_type": "stream",
     "text": [
      "\n"
     ]
    }
   ],
   "source": [
    "DATA_DIR = r\"..\\data\\raw\\BPDataset\\p00\"\n",
    "OUTPUT_DIR = r\"..\\data\\processed\\BP_npy\\0325_256_2\"\n",
    "os.makedirs(f\"{OUTPUT_DIR}\\\\p00\",exist_ok=True)\n",
    "dirs = glob.glob(\"p*\",root_dir=DATA_DIR)\n",
    "s2 = []\n",
    "for i in tqdm(range(len(dirs))):\n",
    "    s = create_npy_executor_big(dirs[i])\n",
    "    s2.append(s)\n",
    "# array 12\n",
    "# array 1000\n",
    "# (-1, 2, 256)\n",
    "\n",
    "\n"
   ]
  },
  {
   "cell_type": "code",
   "execution_count": 11,
   "metadata": {},
   "outputs": [],
   "source": [
    "def concat(arr):\n",
    "    ret = []\n",
    "    print(len(arr))\n",
    "    for i in range(len(arr)):\n",
    "        ret.append(np.concatenate(arr[i]))\n",
    "    return np.concatenate(ret) # (-1, 2, 256)\n"
   ]
  },
  {
   "cell_type": "code",
   "execution_count": 12,
   "metadata": {},
   "outputs": [
    {
     "name": "stdout",
     "output_type": "stream",
     "text": [
      "9\n",
      "1\n",
      "2\n",
      "(435488, 2, 256) (53070, 2, 256) (98086, 2, 256)\n",
      "max: 0.27637688052120196 min: -0.20706488570940978\n",
      "(412316, 2, 256)->(397729, 2, 256)\n",
      "(397729, 2, 256) (47518, 2, 256) (89603, 2, 256)\n",
      "abp max: 179.99052424377118 179.99052424377118 179.99052424377118\n",
      "abp min: 50.0 50.0 50.01623903864891\n",
      "ppg max: 0.36642419808752014 0.36642369117790546 0.36626962981789407\n",
      "ppg min: -0.25805383955025674 -0.25798778837823405 -0.2580477809158419\n",
      "(1,) (1,)\n",
      "[-0.38464342] [0.00769287]\n"
     ]
    }
   ],
   "source": [
    "px =256\n",
    "train = concat(s2[:9])\n",
    "val = concat(s2[9:10])\n",
    "test = concat(s2[10:])\n",
    "print(train.shape,val.shape,test.shape)\n",
    "min_sig = np.nanmin(train[:,1],axis=1) # (-1, 2, 256)\n",
    "max_sig = np.nanmax(train[:,1],axis=1)\n",
    "print(\"max:\",max_sig[0],\"min:\",min_sig[1])\n",
    "threshold_ppg = (np.percentile(min_sig, 1),np.percentile(min_sig, 99),np.percentile(max_sig, 1),np.percentile(max_sig, 99))\n",
    "train,_ = ppg_remove_outliers(abp_remove_outliers(train),threshold_ppg,verbose=True)\n",
    "val,_ = ppg_remove_outliers(abp_remove_outliers(val),threshold_ppg,verbose=False)\n",
    "test,_ = ppg_remove_outliers(abp_remove_outliers(test),threshold_ppg,verbose=False)\n",
    "print(train.shape,val.shape,test.shape)\n",
    "print(\"abp max:\",train[:,0].max(),val[:,0].max(),test[:,0].max())\n",
    "print(\"abp min:\",train[:,0].min(),val[:,0].min(),test[:,0].min())\n",
    "print(\"ppg max:\",train[:,1].max(),val[:,1].max(),test[:,1].max())\n",
    "print(\"ppg min:\",train[:,1].min(),val[:,1].min(),test[:,1].min())\n",
    "scaler_ppg = MinMaxScaler()\n",
    "scaler_abp = MinMaxScaler()\n",
    "scaler_params = []\n",
    "train[:,0] = scaler_abp.fit_transform(train[:,0].reshape(-1,1)).reshape(-1,px)\n",
    "val[:,0] = scaler_abp.transform(val[:,0].reshape(-1,1)).reshape(-1,px)\n",
    "test[:,0] = scaler_abp.transform(test[:,0].reshape(-1,1)).reshape(-1,px)\n",
    "train[:,1] = scaler_ppg.fit_transform(train[:,1].reshape(-1,1)).reshape(-1,px)\n",
    "val[:,1] = scaler_ppg.transform(val[:,1].reshape(-1,1)).reshape(-1,px)\n",
    "test[:,1] = scaler_ppg.transform(test[:,1].reshape(-1,1)).reshape(-1,px)\n",
    "params = np.zeros((2,2))\n",
    "params[0,0] = scaler_abp.min_[0]\n",
    "params[0,1] = scaler_abp.scale_[0]\n",
    "params[1,0] = scaler_ppg.min_[0]\n",
    "params[1,1] = scaler_ppg.scale_[0]\n",
    "print(scaler_abp.min_.shape, scaler_abp.scale_.shape)\n",
    "print(scaler_abp.min_, scaler_abp.scale_)"
   ]
  },
  {
   "cell_type": "code",
   "execution_count": 14,
   "metadata": {},
   "outputs": [],
   "source": [
    "OUTPUT_DIR = r\"..\\data\\processed\\BP_npy\\0325_256_3\"\n",
    "os.makedirs(f\"{OUTPUT_DIR}\\\\p00\",exist_ok=True)"
   ]
  },
  {
   "cell_type": "code",
   "execution_count": 15,
   "metadata": {},
   "outputs": [],
   "source": [
    "if os.path.isfile(OUTPUT_DIR+\"\\\\p00\\\\train.npy\"):\n",
    "    print(\"files already exist.\")\n",
    "else:\n",
    "    np.save(OUTPUT_DIR+\"\\\\p00\\\\train.npy\",train.transpose(0,2,1))\n",
    "    np.save(OUTPUT_DIR+\"\\\\p00\\\\validate.npy\",val.transpose(0,2,1))\n",
    "    np.save(OUTPUT_DIR+\"\\\\p00\\\\test.npy\",test.transpose(0,2,1))\n",
    "    np.save(OUTPUT_DIR+\"\\\\p00\\\\scale_train.npy\",params)"
   ]
  },
  {
   "cell_type": "code",
   "execution_count": null,
   "metadata": {},
   "outputs": [
    {
     "data": {
      "text/plain": [
       "'..\\\\data\\\\processed\\\\BP_npy\\\\0316_256_3'"
      ]
     },
     "execution_count": 14,
     "metadata": {},
     "output_type": "execute_result"
    }
   ],
   "source": [
    "OUTPUT_DIR"
   ]
  },
  {
   "cell_type": "code",
   "execution_count": null,
   "metadata": {},
   "outputs": [
    {
     "name": "stdout",
     "output_type": "stream",
     "text": [
      "(53230, 2, 256)\n",
      "(44724, 2, 256)\n",
      "(34688, 2, 256)\n",
      "(50743, 2, 256)\n",
      "(53701, 2, 256)\n",
      "(53750, 2, 256)\n",
      "(22594, 2, 256)\n",
      "(38155, 2, 256)\n",
      "(51407, 2, 256)\n",
      "(47965, 2, 256)\n",
      "(50946, 2, 256)\n",
      "(39484, 2, 256)\n",
      "402992 47965 90430\n"
     ]
    }
   ],
   "source": [
    "train = np.concatenate(s2[:9])\n",
    "val = s2[9]\n",
    "test = np.concatenate(s2[10:12])\n",
    "train_p = np.concatenate(scaler_params[:9])\n",
    "val_p = scaler_params[9]\n",
    "test_p = np.concatenate(scaler_params[10:12])\n",
    "\n",
    "for i in s2:\n",
    "    print(i.shape)\n",
    "print(len(train),len(val),len(test))\n",
    "# train[:,0] = scaler_abp.fit_transform(train[:,0].reshape(-1,1)).reshape(-1,px)\n",
    "# val[:,0] = scaler_abp.transform(val[:,0].reshape(-1,1)).reshape(-1,px)\n",
    "# test[:,0] = scaler_abp.transform(test[:,0].reshape(-1,1)).reshape(-1,px)\n",
    "np.save(OUTPUT_DIR+\"\\\\p00\\\\train.npy\",train.transpose(0,2,1))\n",
    "np.save(OUTPUT_DIR+\"\\\\p00\\\\validate.npy\",val.transpose(0,2,1))\n",
    "np.save(OUTPUT_DIR+\"\\\\p00\\\\test.npy\",test.transpose(0,2,1))\n",
    "np.save(OUTPUT_DIR+\"\\\\p00\\\\scale_train.npy\",train_p)\n",
    "np.save(OUTPUT_DIR+\"\\\\p00\\\\scale_validate.npy\",val_p)\n",
    "np.save(OUTPUT_DIR+\"\\\\p00\\\\scale_test.npy\",test_p)\n",
    "# import pickle\n",
    "# with open(OUTPUT_DIR+\"//scaler_abp.p\",mode=\"wb\") as f:\n",
    "    # pickle.dump(scaler_abp,f)"
   ]
  },
  {
   "cell_type": "markdown",
   "metadata": {},
   "source": [
    "402681 47867 90255"
   ]
  },
  {
   "cell_type": "markdown",
   "metadata": {},
   "source": [
    "# 相関係数 < 0.8 を削除 "
   ]
  },
  {
   "cell_type": "code",
   "execution_count": 16,
   "metadata": {},
   "outputs": [],
   "source": [
    "import pandas as pd\n",
    "def remove_lowcorr(sig):\n",
    "    a = []\n",
    "    for i in tqdm(range(len(sig))):\n",
    "        s1 = pd.Series(sig[i][:,0])\n",
    "        s2 = pd.Series(sig[i][:,1])\n",
    "        r = s1.corr(s2)\n",
    "        a.append(r)\n",
    "    high = np.where(np.array(a) > 0.8)[0]\n",
    "    print(len(high))\n",
    "    return sig[high],high"
   ]
  },
  {
   "cell_type": "code",
   "execution_count": 17,
   "metadata": {},
   "outputs": [
    {
     "name": "stdout",
     "output_type": "stream",
     "text": [
      "train\n"
     ]
    },
    {
     "name": "stderr",
     "output_type": "stream",
     "text": [
      "100%|██████████| 397729/397729 [00:35<00:00, 11213.29it/s]\n"
     ]
    },
    {
     "name": "stdout",
     "output_type": "stream",
     "text": [
      "381088\n",
      "train (397729, 256, 2) (381088, 256, 2)\n",
      "validate\n"
     ]
    },
    {
     "name": "stderr",
     "output_type": "stream",
     "text": [
      "100%|██████████| 47518/47518 [00:04<00:00, 11283.49it/s]\n"
     ]
    },
    {
     "name": "stdout",
     "output_type": "stream",
     "text": [
      "44866\n",
      "validate (47518, 256, 2) (44866, 256, 2)\n",
      "test\n"
     ]
    },
    {
     "name": "stderr",
     "output_type": "stream",
     "text": [
      "100%|██████████| 89603/89603 [00:07<00:00, 11267.39it/s]\n"
     ]
    },
    {
     "name": "stdout",
     "output_type": "stream",
     "text": [
      "86304\n",
      "test (89603, 256, 2) (86304, 256, 2)\n"
     ]
    }
   ],
   "source": [
    "DATA_DIR = r\"..\\data\\processed\\BP_npy\\0325_256_3\\p00\"\n",
    "SAVE_DIR = r\"..\\data\\processed\\BP_npy\\0325_256_3_corr\\p00\"\n",
    "os.makedirs(SAVE_DIR,exist_ok=True)\n",
    "phase = [\"train\",\"validate\",\"test\"]\n",
    "for i in phase:\n",
    "    print(i)\n",
    "    train = np.load(DATA_DIR+f\"\\\\{i}.npy\")\n",
    "    s = train.shape\n",
    "    train_removed,high = remove_lowcorr(train)\n",
    "    print(i,s, train_removed.shape)\n",
    "    np.save(SAVE_DIR+f\"\\\\{i}.npy\",train_removed)\n",
    "    if i == 'train':\n",
    "        # scaler =MinMaxScaler()\n",
    "        scale = np.load(DATA_DIR+f\"\\\\scale_{i}.npy\")\n",
    "        # # tmp[:,0] = scaler_abp.min_\n",
    "        # # tmp[:,1] = scaler_abp.scale_\n",
    "        # scaler.min_ = scale[0]\n",
    "        # scaler.scale_ = scale[1]\n",
    "        # scaler.inverse_transform(train)\n",
    "        # train = train[high]\n",
    "        # train = scaler.fit_transform(train)\n",
    "        np.save(SAVE_DIR+f\"\\\\scale_{i}.npy\",scale)"
   ]
  },
  {
   "cell_type": "markdown",
   "metadata": {},
   "source": [
    "# test\n"
   ]
  },
  {
   "cell_type": "code",
   "execution_count": null,
   "metadata": {},
   "outputs": [],
   "source": [
    "def npcorr(t):\n",
    "    return np.correlate(t[:,0], t[:,1]) / (np.linalg.norm(t[:,0], ord=2) *  np.linalg.norm(t[:,1], ord=2))"
   ]
  },
  {
   "cell_type": "code",
   "execution_count": null,
   "metadata": {},
   "outputs": [
    {
     "name": "stderr",
     "output_type": "stream",
     "text": [
      "100%|██████████| 44866/44866 [00:03<00:00, 11457.64it/s]\n"
     ]
    }
   ],
   "source": [
    "# DIR = DATA_DIR\n",
    "DIR = r\"..\\data\\processed\\BP_npy\\0325_256_corr\\p00\"\n",
    "sig = np.load(os.path.join(DIR+'\\\\validate.npy'))\n",
    "# sig = sig - sig.mean(axis=1,keepdims=True)\n",
    "a = []\n",
    "for i in tqdm(range(len(sig))):\n",
    "    s1 = pd.Series(sig[i][:,0])\n",
    "    s2 = pd.Series(sig[i][:,1])\n",
    "    r = s1.corr(s2)\n",
    "    a.append(r)"
   ]
  },
  {
   "cell_type": "code",
   "execution_count": null,
   "metadata": {},
   "outputs": [
    {
     "name": "stdout",
     "output_type": "stream",
     "text": [
      "0.9530280935841919\n"
     ]
    },
    {
     "data": {
      "text/plain": [
       "[<matplotlib.lines.Line2D at 0x1afa9517c10>]"
      ]
     },
     "execution_count": 5,
     "metadata": {},
     "output_type": "execute_result"
    },
    {
     "data": {
      "image/png": "[encoded data removed]",
      "text/plain": [
       "<Figure size 640x480 with 1 Axes>"
      ]
     },
     "metadata": {},
     "output_type": "display_data"
    }
   ],
   "source": [
    "\n",
    "print(np.array(a).mean())\n",
    "plt.plot(a)"
   ]
  },
  {
   "cell_type": "code",
   "execution_count": null,
   "metadata": {},
   "outputs": [
    {
     "name": "stdout",
     "output_type": "stream",
     "text": [
      "0.9280310920764051 [0.96973053] 254\n"
     ]
    },
    {
     "data": {
      "text/plain": [
       "(13643, (256, 2))"
      ]
     },
     "execution_count": 39,
     "metadata": {},
     "output_type": "execute_result"
    },
    {
     "data": {
      "image/png": "[encoded data removed]",
      "text/plain": [
       "<Figure size 800x300 with 2 Axes>"
      ]
     },
     "metadata": {},
     "output_type": "display_data"
    }
   ],
   "source": [
    "i = np.random.randint(len(sig))\n",
    "t = sig[i]\n",
    "# correlation = signal.correlate(t[:,0], t[:,1], mode='full')[t[:,0].size:t[:,0].size+200]\n",
    "# lags = signal.correlation_lags(t[:,0].size, t[:,1].size, mode=\"full\")[t[:,0].size:t[:,0].size+200]\n",
    "# lag = lags[np.argmax(correlation)]\n",
    "# t = t - t.mean(axis=1,keepdims=True)\n",
    "# print(t[:,0].mean(),t[:,1].mean())\n",
    "correlation = np.correlate(t[:,0], t[:,1], mode='full')\n",
    "correlation = correlation / (np.linalg.norm(t[:,0], ord=2) *  np.linalg.norm(t[:,1], ord=2))\n",
    "correlation = correlation\n",
    "lag = np.argmax(correlation)\n",
    "print(a[i],npcorr(t),lag)\n",
    "plt.figure(figsize=(8,3))\n",
    "plt.subplot(121)\n",
    "plt.scatter(t[:,0],t[:,1],label='abp')\n",
    "plt.subplot(122)\n",
    "plt.plot(t[:,0],label='abp')\n",
    "plt.plot(t[:,1],label='ppg')\n",
    "plt.legend()\n",
    "i,t.shape"
   ]
  },
  {
   "cell_type": "code",
   "execution_count": null,
   "metadata": {},
   "outputs": [
    {
     "data": {
      "text/plain": [
       "(44866, 256, 2)"
      ]
     },
     "execution_count": 35,
     "metadata": {},
     "output_type": "execute_result"
    }
   ],
   "source": [
    "sig.shape"
   ]
  },
  {
   "cell_type": "code",
   "execution_count": null,
   "metadata": {},
   "outputs": [
    {
     "data": {
      "text/plain": [
       "((44866, 51, 2), (44866, 50, 2))"
      ]
     },
     "execution_count": 82,
     "metadata": {},
     "output_type": "execute_result"
    }
   ],
   "source": [
    "diff = np.diff(sig[:,:52,:],axis=1)\n",
    "diff2 = np.diff(diff,axis=1)\n",
    "diff.shape,diff2.shape"
   ]
  },
  {
   "cell_type": "code",
   "execution_count": null,
   "metadata": {},
   "outputs": [
    {
     "data": {
      "text/plain": [
       "(36626, (50, 2))"
      ]
     },
     "execution_count": 120,
     "metadata": {},
     "output_type": "execute_result"
    },
    {
     "data": {
      "image/png": "[encoded data removed]",
      "text/plain": [
       "<Figure size 1200x300 with 3 Axes>"
      ]
     },
     "metadata": {},
     "output_type": "display_data"
    }
   ],
   "source": [
    "i = np.random.randint(len(sig))\n",
    "t1 = sig[i,:50]\n",
    "t2 = diff[i]\n",
    "plt.figure(figsize=(12,3))\n",
    "plt.subplot(131)\n",
    "plt.plot(t1[:,0],label='abp')\n",
    "plt.plot(t1[:,1],label='ppg')\n",
    "plt.subplot(132)\n",
    "plt.plot(t2[:-1,0],label='abp')\n",
    "plt.plot(t2[:-1,1],label='ppg')\n",
    "plt.subplot(133)\n",
    "plt.plot(diff2[i,:,0],label='abp')\n",
    "plt.plot(diff2[i,:,1],label='ppg')\n",
    "plt.legend()\n",
    "i,t.shape"
   ]
  },
  {
   "cell_type": "code",
   "execution_count": null,
   "metadata": {},
   "outputs": [
    {
     "data": {
      "text/plain": [
       "(44866, 2)"
      ]
     },
     "execution_count": 121,
     "metadata": {},
     "output_type": "execute_result"
    }
   ],
   "source": [
    "b = np.any(diff[:,:10,:]<0,axis=1)\n",
    "b.shape"
   ]
  },
  {
   "cell_type": "code",
   "execution_count": null,
   "metadata": {},
   "outputs": [
    {
     "data": {
      "text/plain": [
       "38778"
      ]
     },
     "execution_count": 122,
     "metadata": {},
     "output_type": "execute_result"
    }
   ],
   "source": [
    "len(np.where(np.any(np.any(diff[:,:10,:]<0,axis=1),axis=1))[0])"
   ]
  },
  {
   "cell_type": "code",
   "execution_count": null,
   "metadata": {},
   "outputs": [
    {
     "data": {
      "text/plain": [
       "((6088, 256, 2), 6088)"
      ]
     },
     "execution_count": 124,
     "metadata": {},
     "output_type": "execute_result"
    }
   ],
   "source": [
    "diff = np.diff(sig[:,:11,:],axis=1)\n",
    "wrong = np.where(np.any(np.any(diff<0,axis=1),axis=1))[0]\n",
    "mask = np.full(sig.shape[0],True)\n",
    "mask[wrong] = False\n",
    "sig2 = sig[mask]\n",
    "sig2.shape,sig.shape[0]-len(wrong)"
   ]
  },
  {
   "cell_type": "code",
   "execution_count": null,
   "metadata": {},
   "outputs": [
    {
     "data": {
      "text/plain": [
       "[<matplotlib.lines.Line2D at 0x1afaf684ca0>]"
      ]
     },
     "execution_count": 144,
     "metadata": {},
     "output_type": "execute_result"
    },
    {
     "data": {
      "image/png": "[encoded data removed]",
      "text/plain": [
       "<Figure size 400x300 with 1 Axes>"
      ]
     },
     "metadata": {},
     "output_type": "display_data"
    }
   ],
   "source": [
    "i = np.random.randint(len(sig2))\n",
    "t1 = sig2[i]\n",
    "\n",
    "plt.figure(figsize=(4,3))\n",
    "plt.plot(t1[:,0],label='abp')\n",
    "plt.plot(t1[:,1],label='ppg')"
   ]
  },
  {
   "cell_type": "markdown",
   "metadata": {},
   "source": [
    "# 先頭が多い波形を除外（np.any(np.diff(sig[:10])<0)）\n",
    "PPGのunscaleができてない"
   ]
  },
  {
   "cell_type": "code",
   "execution_count": 22,
   "metadata": {},
   "outputs": [],
   "source": [
    "def load(data_root):\n",
    "    train = np.load(os.path.join(data_root,\"train.npy\"))\n",
    "    val = np.load(os.path.join(data_root,\"validate.npy\"))\n",
    "    test = np.load(os.path.join(data_root,\"test.npy\"))\n",
    "    scale = np.load(os.path.join(data_root,\"scale_train.npy\"))\n",
    "    return train,val,test,scale\n",
    "def inverse_transform(data,scaler_abp,scaler_ppg):\n",
    "    ret = np.zeros_like(data)\n",
    "    length = data.shape[1]\n",
    "    ret[:,:,0] = scaler_abp.inverse_transform(data[:,:,0].reshape(-1,1)).reshape(-1,length)\n",
    "    ret[:,:,1] = scaler_ppg.inverse_transform(data[:,:,1].reshape(-1,1)).reshape(-1,length)\n",
    "    return ret\n",
    "def unscale(train,val,test,scales,px=256):\n",
    "    scaler_ppg = MinMaxScaler()\n",
    "    scaler_abp = MinMaxScaler()\n",
    "    scaler_abp.min_ = scales[0,0]\n",
    "    scaler_abp.scale_ = scales[0,1]\n",
    "    scaler_ppg.min_ = scales[1,0]\n",
    "    scaler_ppg.scale_ = scales[1,1]\n",
    "    train_ = inverse_transform(train,scaler_abp,scaler_ppg)\n",
    "    val_ = inverse_transform(val,scaler_abp,scaler_ppg)\n",
    "    test_ = inverse_transform(test,scaler_abp,scaler_ppg)\n",
    "    return train_, val_, test_,scales\n",
    "\n",
    "def scale(train,val,test,px=256):\n",
    "    scaler_ppg = MinMaxScaler()\n",
    "    scaler_abp = MinMaxScaler()\n",
    "    scaler_params = []\n",
    "    train[:,:,0] = scaler_abp.fit_transform(train[:,:,0].reshape(-1,1)).reshape(-1,px)\n",
    "    val[:,:,0] = scaler_abp.transform(val[:,:,0].reshape(-1,1)).reshape(-1,px)\n",
    "    test[:,:,0] = scaler_abp.transform(test[:,:,0].reshape(-1,1)).reshape(-1,px)\n",
    "    train[:,:,1] = scaler_ppg.fit_transform(train[:,:,1].reshape(-1,1)).reshape(-1,px)\n",
    "    val[:,:,1] = scaler_ppg.transform(val[:,:,1].reshape(-1,1)).reshape(-1,px)\n",
    "    test[:,:,1] = scaler_ppg.transform(test[:,:,1].reshape(-1,1)).reshape(-1,px)\n",
    "    params = np.zeros((2,2))\n",
    "    params[0,0] = scaler_abp.min_[0]\n",
    "    params[0,1] = scaler_abp.scale_[0]\n",
    "    params[1,0] = scaler_ppg.min_[0]\n",
    "    params[1,1] = scaler_ppg.scale_[0]\n",
    "    return train,val,test,params\n",
    "\n",
    "def clean(sig):\n",
    "    diff = np.diff(sig[:,:11,:],axis=1)\n",
    "    wrong = np.where(np.any(np.any(diff<0,axis=1),axis=1))[0]\n",
    "    mask = np.full(sig.shape[0],True)\n",
    "    mask[wrong] = False\n",
    "    sig2 = sig[mask]\n",
    "    print(sig.shape,sig2.shape)\n",
    "    return sig2\n",
    "def save(dir,train,val,test,scales):\n",
    "    if os.path.isfile(dir+\"\\\\train.npy\"):\n",
    "        print(\"files already exist.\")\n",
    "    else:       \n",
    "        np.save(dir+\"\\\\train.npy\",train)\n",
    "        np.save(dir+\"\\\\validate.npy\",val)\n",
    "        np.save(dir+\"\\\\test.npy\",test)\n",
    "        np.save(dir+\"\\\\scale_train.npy\",scales)"
   ]
  },
  {
   "cell_type": "markdown",
   "metadata": {},
   "source": [
    "### aa"
   ]
  },
  {
   "cell_type": "code",
   "execution_count": 23,
   "metadata": {},
   "outputs": [
    {
     "name": "stdout",
     "output_type": "stream",
     "text": [
      "(381088, 256, 2) (109545, 256, 2)\n",
      "(44866, 256, 2) (6088, 256, 2)\n",
      "(86304, 256, 2) (13969, 256, 2)\n",
      "(109545, 256, 2) (6088, 256, 2) (13969, 256, 2)\n"
     ]
    }
   ],
   "source": [
    "DIR = r\"..\\data\\processed\\BP_npy\\0325_256_corr\\p00\"\n",
    "SAVE_DIR = r\"..\\data\\processed\\BP_npy\\0325_256_3_corr_clean\\p00\"\n",
    "os.makedirs(SAVE_DIR,exist_ok=True)\n",
    "train,val,test,scales = unscale(*load(DIR))\n",
    "train = clean(train)\n",
    "val = clean(val)\n",
    "test = clean(test)\n",
    "print(train.shape,val.shape,test.shape)\n",
    "train,val,test,scale2 = scale(train,val,test)\n",
    "save(SAVE_DIR,train,val,test,scale2)\n",
    "\n"
   ]
  },
  {
   "cell_type": "markdown",
   "metadata": {},
   "source": [
    "garbage"
   ]
  },
  {
   "cell_type": "code",
   "execution_count": null,
   "metadata": {},
   "outputs": [],
   "source": [
    "np.save(OUTPUT_DIR+\"\\\\p00\\\\scale_train.npy\",train_p)\n",
    "np.save(OUTPUT_DIR+\"\\\\p00\\\\scale_validate.npy\",val_p)\n",
    "np.save(OUTPUT_DIR+\"\\\\p00\\\\scale_test.npy\",test_p)"
   ]
  },
  {
   "cell_type": "code",
   "execution_count": null,
   "metadata": {},
   "outputs": [],
   "source": [
    "def rand_plot(sig,index=None):\n",
    "    plt.figure()\n",
    "    if index is None:\n",
    "        i = np.random.randint(len(sig))\n",
    "        target = sig[i]\n",
    "    else:\n",
    "        i = index[np.random.randint(len(index))]\n",
    "        target = sig[i]\n",
    "    print(\"#\",i,target.shape)\n",
    "    plt.plot(target)"
   ]
  },
  {
   "cell_type": "markdown",
   "metadata": {},
   "source": [
    "### test"
   ]
  },
  {
   "cell_type": "code",
   "execution_count": null,
   "metadata": {},
   "outputs": [
    {
     "data": {
      "text/plain": [
       "(61000, 2)"
      ]
     },
     "execution_count": 3,
     "metadata": {},
     "output_type": "execute_result"
    }
   ],
   "source": [
    "DATA_ROOT = r\"../data/raw/BPDataset/p00\"\n",
    "test = np.load(os.path.join(DATA_ROOT,\"p00000\"+\"0\",\"0000000_\"+\"0001\"+\".npy\")).T\n",
    "test.shape"
   ]
  },
  {
   "cell_type": "code",
   "execution_count": 1,
   "metadata": {},
   "outputs": [
    {
     "ename": "NameError",
     "evalue": "name 'np' is not defined",
     "output_type": "error",
     "traceback": [
      "\u001b[1;31m---------------------------------------------------------------------------\u001b[0m",
      "\u001b[1;31mNameError\u001b[0m                                 Traceback (most recent call last)",
      "Cell \u001b[1;32mIn[1], line 2\u001b[0m\n\u001b[0;32m      1\u001b[0m DATA_DIR \u001b[38;5;241m=\u001b[39m \u001b[38;5;124mr\u001b[39m\u001b[38;5;124m\"\u001b[39m\u001b[38;5;124m..\u001b[39m\u001b[38;5;124m\\\u001b[39m\u001b[38;5;124mdata\u001b[39m\u001b[38;5;124m\\\u001b[39m\u001b[38;5;124mprocessed\u001b[39m\u001b[38;5;124m\\\u001b[39m\u001b[38;5;124mBP_npy\u001b[39m\u001b[38;5;124m\\\u001b[39m\u001b[38;5;124m0325_256_3_corr\u001b[39m\u001b[38;5;124m\\\u001b[39m\u001b[38;5;124mp00\u001b[39m\u001b[38;5;124m\\\u001b[39m\u001b[38;5;124mvalidate.npy\u001b[39m\u001b[38;5;124m\"\u001b[39m\n\u001b[1;32m----> 2\u001b[0m test \u001b[38;5;241m=\u001b[39m \u001b[43mnp\u001b[49m\u001b[38;5;241m.\u001b[39mload(DATA_DIR)\n",
      "\u001b[1;31mNameError\u001b[0m: name 'np' is not defined"
     ]
    }
   ],
   "source": [
    "DATA_DIR = r\"..\\data\\processed\\BP_npy\\0325_256_3_corr\\p00\\validate.npy\"\n",
    "test = np.load(DATA_DIR)\n"
   ]
  },
  {
   "cell_type": "code",
   "execution_count": 32,
   "metadata": {},
   "outputs": [
    {
     "data": {
      "text/plain": [
       "(256, 2)"
      ]
     },
     "execution_count": 32,
     "metadata": {},
     "output_type": "execute_result"
    },
    {
     "data": {
      "image/png": "[encoded data removed]",
      "text/plain": [
       "<Figure size 640x480 with 1 Axes>"
      ]
     },
     "metadata": {},
     "output_type": "display_data"
    }
   ],
   "source": [
    "i = np.random.randint(len(test))\n",
    "t = test[i]\n",
    "plt.figure()\n",
    "plt.plot(t[:,0],label='abp')\n",
    "plt.plot(t[:,1],label='ppg')\n",
    "plt.legend()\n",
    "t.shape"
   ]
  },
  {
   "cell_type": "code",
   "execution_count": null,
   "metadata": {},
   "outputs": [],
   "source": []
  },
  {
   "cell_type": "code",
   "execution_count": null,
   "metadata": {},
   "outputs": [
    {
     "ename": "NameError",
     "evalue": "name 'rand_plot' is not defined",
     "output_type": "error",
     "traceback": [
      "\u001b[1;31m---------------------------------------------------------------------------\u001b[0m",
      "\u001b[1;31mNameError\u001b[0m                                 Traceback (most recent call last)",
      "Cell \u001b[1;32mIn[5], line 1\u001b[0m\n\u001b[1;32m----> 1\u001b[0m \u001b[43mrand_plot\u001b[49m(test[:,:,\u001b[38;5;241m1\u001b[39m])\n",
      "\u001b[1;31mNameError\u001b[0m: name 'rand_plot' is not defined"
     ]
    }
   ],
   "source": [
    "rand_plot(test[:,:,1])"
   ]
  },
  {
   "cell_type": "code",
   "execution_count": null,
   "metadata": {},
   "outputs": [
    {
     "ename": "IndexError",
     "evalue": "index 248495 is out of bounds for axis 0 with size 248495",
     "output_type": "error",
     "traceback": [
      "\u001b[1;31m---------------------------------------------------------------------------\u001b[0m",
      "\u001b[1;31mIndexError\u001b[0m                                Traceback (most recent call last)",
      "Cell \u001b[1;32mIn[27], line 2\u001b[0m\n\u001b[0;32m      1\u001b[0m a \u001b[38;5;241m=\u001b[39m np\u001b[38;5;241m.\u001b[39mwhere(min_sig \u001b[38;5;241m<\u001b[39m\u001b[38;5;241m=\u001b[39m \u001b[38;5;241m0.001\u001b[39m)\n\u001b[1;32m----> 2\u001b[0m aq \u001b[38;5;241m=\u001b[39m \u001b[43mtest\u001b[49m\u001b[43m[\u001b[49m\u001b[43ma\u001b[49m\u001b[43m]\u001b[49m\n\u001b[0;32m      3\u001b[0m \u001b[38;5;28mprint\u001b[39m(aq\u001b[38;5;241m.\u001b[39mshape)\n\u001b[0;32m      4\u001b[0m rand_plot(aq[:,\u001b[38;5;241m1\u001b[39m])\n",
      "\u001b[1;31mIndexError\u001b[0m: index 248495 is out of bounds for axis 0 with size 248495"
     ]
    }
   ],
   "source": [
    "a = np.where(min_sig <= 0.001)\n",
    "aq = test[a]\n",
    "print(aq.shape)\n",
    "rand_plot(aq[:,1])"
   ]
  },
  {
   "cell_type": "code",
   "execution_count": null,
   "metadata": {},
   "outputs": [
    {
     "data": {
      "image/png": "[encoded data removed]",
      "text/plain": [
       "<Figure size 640x480 with 1 Axes>"
      ]
     },
     "metadata": {},
     "output_type": "display_data"
    },
    {
     "data": {
      "image/png": "[encoded data removed]",
      "text/plain": [
       "<Figure size 640x480 with 1 Axes>"
      ]
     },
     "metadata": {},
     "output_type": "display_data"
    },
    {
     "data": {
      "image/png": "[encoded data removed]",
      "text/plain": [
       "<Figure size 640x480 with 1 Axes>"
      ]
     },
     "metadata": {},
     "output_type": "display_data"
    }
   ],
   "source": [
    "min_sig = np.nanmin(test[:,:,1],axis=1)\n",
    "max_sig= np.nanmax(test[:,:,1],axis=1)\n",
    "plot_hist(test[:,:,1].flatten(),(1,99))\n",
    "plot_hist(min_sig,(1,99))\n",
    "plot_hist(max_sig,(1,99))"
   ]
  },
  {
   "cell_type": "code",
   "execution_count": null,
   "metadata": {},
   "outputs": [
    {
     "name": "stdout",
     "output_type": "stream",
     "text": [
      "aaa 0\n",
      "0\n",
      "aaa aaa 0\n",
      "aaa aaa aaa [   54   119   184   249   312   377   442   507   570   634   698   761\n",
      "   824   887   950  1014  1077  1139  1202  1266  1329  1392  1455  1519\n",
      "  1583  1646  1709  1773  1836  1900  1962  2026  2073  2129  2191  2255\n",
      "  2319  2382  2445  2508  2572  2636  2701  2764  2828  2892  2957  3020\n",
      "  3084  3149  3214  3278  3341  3406  3471  3537  3584  3640  3705  3768\n",
      "  3833  3897  3961  4024  4088  4153  4216  4281  4346  4409  4473  4538\n",
      "  4603  4666  4730  4794  4858  4923  4986  5051  5115  5179  5241  5301\n",
      "  5364  5428  5491  5554  5618  5681  5745  5808  5872  5936  5999  6063\n",
      "  6126  6190  6253  6316  6379  6443  6507  6570  6633  6697  6761  6825\n",
      "  6887  6926  6962  7005  7046  7111  7173  7237  7300  7364  7428  7491\n",
      "  7555  7619  7684  7748  7812  7877  7942  8008  8072  8138  8204  8269\n",
      "  8334  8399  8465  8530  8595  8660  8726  8792  8856  8921  8987  9052\n",
      "  9117  9182  9248  9313  9378  9443  9507  9571  9634  9698  9760  9824\n",
      "  9888  9952 10016 10081 10146 10210 10275 10340 10405 10469 10533 10598\n",
      " 10663 10727 10791 10856 10921 10986 11050 11114 11179 11243 11308 11373\n",
      " 11438 11503 11568 11634 11700 11765 11830 11897 11963 12029 12093 12159\n",
      " 12224 12287 12354 12419 12484 12548 12613 12677 12741 12805 12869 12933\n",
      " 12994 13034 13077 13138 13200 13261 13322 13381 13443 13504 13564 13625\n",
      " 13687 13750 13812 13874 13938 14002 14064 14127 14190 14253 14316 14378\n",
      " 14441 14505 14567 14626 14688 14750 14812 14876 14938 15002 15065 15129\n",
      " 15192 15256 15320 15384 15447 15527 15571 15639 15701 15764 15829 15893\n",
      " 15957 16000 16053 16120 16183 16248 16314 16379 16442 16506 16571 16635\n",
      " 16699 16762 16826 16891 16955 17019 17083 17147 17211 17275 17339 17403\n",
      " 17468 17533 17596 17661 17725 17790 17853 17918 17982 18047 18110 18174\n",
      " 18238 18303 18366 18431 18496 18560 18624 18688 18753 18818 18883 18946\n",
      " 19010 19075 19139 19203 19268 19333 19398 19463 19528 19593 19658 19724\n",
      " 19788 19853 19920 19977 20015 20081 20145 20208 20271 20335 20399 20463\n",
      " 20526 20590 20654 20718 20781 20844 20908 20972 21035 21097 21161 21225\n",
      " 21289 21351 21414 21478 21542 21603 21667 21732 21796 21859 21923 21990\n",
      " 22041 22103 22166 22229 22292 22355 22417 22481 22544 22607 22669 22732\n",
      " 22796 22860 22921 22986 23050 23113 23175 23239 23302 23364 23427 23489\n",
      " 23551 23613 23674 23736 23797 23859 23921 23982 24044 24107 24169 24230\n",
      " 24292 24354 24417 24478 24540 24603 24665 24728 24791 24854 24917 24981\n",
      " 25043 25107 25170 25233 25296 25357 25421 25483 25545 25607 25669 25732\n",
      " 25794 25855 25918 25981 26044 26105 26167 26231 26293 26356 26418 26481\n",
      " 26544 26607 26669 26732 26795 26859 26920 26983 27046 27109 27172 27234\n",
      " 27297 27360 27436 27485 27548 27609 27672 27735 27797 27858 27922 28005\n",
      " 28058 28120 28183 28246 28308 28370 28433 28496 28559 28620 28683 28746\n",
      " 28809 28871 28933 28996 29058 29121 29183 29247 29311 29374 29437 29502\n",
      " 29566 29630 29692 29756 29819 29881 29943 30005 30067 30129 30190 30251\n",
      " 30313 30374 30436 30496 30558 30600 30657 30719 30780 30843 30905 30967\n",
      " 31029 31092 31155 31218 31279 31341 31404 31467 31529 31590 31653 31715\n",
      " 31777 31838 31901 31964 32026 32088 32151 32211 32273 32335 32398 32461\n",
      " 32524 32586 32648 32711 32773 32836 32875 32933 32995 33057 33118 33180\n",
      " 33242 33303 33364 33425 33487 33550 33612 33674 33736 33799 33861 33923\n",
      " 33985 34049 34111 34173 34235 34298 34360 34422 34484 34547 34609 34671\n",
      " 34732 34794 34856 34917 34978 35038 35098 35159 35221 35282 35342 35405\n",
      " 35467 35529 35591 35653 35716 35779 35840 35903 35966 36028 36089 36151\n",
      " 36213 36275 36335 36397 36458 36520 36581 36642 36704 36767 36829 36890\n",
      " 36953 37016 37079 37141 37205 37269 37333 37395 37459 37523 37587 37649\n",
      " 37713 37778 37841 37904 37967 38031 38094 38157 38219 38283 38346 38409\n",
      " 38471 38534 38596 38659 38721 38783 38846 38909 38971 39033 39096 39159\n",
      " 39222 39283 39345 39408 39471 39533 39594 39656 39719 39781 39842 39904\n",
      " 39966 40029 40091 40153 40216 40279 40341 40403 40466 40529 40592 40653\n",
      " 40716 40779 40842 40904 40965 41029 41091 41154 41216 41279 41341 41403\n",
      " 41465 41528 41591 41654 41716 41779 41843 41905 41965 42029 42092 42155\n",
      " 42217 42280 42343 42405 42467 42529 42592 42654 42716 42777 42839 42901\n",
      " 42963 43024 43087 43149 43212 43274 43336 43399 43462 43524 43586 43649\n",
      " 43712 43774 43835 43898 43961 44023 44084 44146 44209 44272 44334 44396\n",
      " 44459 44521 44583 44644 44703 44766 44828 44890 44952 45015 45077 45138\n",
      " 45201 45263 45325 45386 45449 45511 45574 45636 45699 45763 45826 45887\n",
      " 45950 46009 46074 46136 46199 46259 46322 46384 46447 46509 46570 46633\n",
      " 46696 46759 46820 46883 46946 47009 47071 47135 47198 47261 47324 47387\n",
      " 47451 47515 47577 47639 47703 47766 47828 47889 47952 48015 48077 48138\n",
      " 48201 48263 48326 48388 48450 48513 48575 48638 48699 48761 48823 48886\n",
      " 48948 49009 49072 49135 49197 49259 49321 49384 49447 49508 49570 49632\n",
      " 49695 49757 49818 49881 49944 50006 50067 50129 50192 50254 50316 50378\n",
      " 50441 50503 50564 50626 50688 50750 50812 50873 50936 50998 51060 51121\n",
      " 51183 51246 51307 51369 51430 51492 51553 51614 51675 51736 51797 51859\n",
      " 51920 51981 52042 52104 52165 52227 52288 52349 52412 52474 52536 52598\n",
      " 52661 52724 52788 52851 52914 52976 53040 53103 53166 53228 53292 53354\n",
      " 53417 53479 53540 53603 53665 53727 53788 53851 53913 53974 54034 54096\n",
      " 54160 54222 54284 54349 54411 54476 54537 54603 54668 54732 54775 54835\n",
      " 54897 54962 55025 55089 55151 55214 55278 55341 55402 55465 55527 55590\n",
      " 55652 55714 55777 55840 55901 55963 56026 56089 56151 56212 56275 56338\n",
      " 56400 56462 56526 56589 56652 56713 56777 56840 56901 56962 57025 57088\n",
      " 57150 57212 57274 57336 57399 57461 57522 57585 57648 57710 57772 57835\n",
      " 57898 57961 58024 58086 58149 58213 58275 58338 58400 58463 58526 58589\n",
      " 58651 58715 58778 58841 58903 58966 59029 59092 59153 59215 59278 59340\n",
      " 59402 59464 59527 59589 59651 59712 59774 59836 59897 59959 60020 60082\n",
      " 60144 60205 60267 60329 60392 60454 60516 60579 60643 60707 60769 60833\n",
      " 60896 60960] {} 0\n"
     ]
    }
   ],
   "source": [
    "siga,start = flat(test,align_signal=True)"
   ]
  },
  {
   "cell_type": "code",
   "execution_count": null,
   "metadata": {},
   "outputs": [
    {
     "data": {
      "text/plain": [
       "61000"
      ]
     },
     "execution_count": 101,
     "metadata": {},
     "output_type": "execute_result"
    }
   ],
   "source": [
    "siga.shape[0]"
   ]
  },
  {
   "cell_type": "code",
   "execution_count": null,
   "metadata": {},
   "outputs": [
    {
     "data": {
      "text/plain": [
       "168"
      ]
     },
     "execution_count": 102,
     "metadata": {},
     "output_type": "execute_result"
    }
   ],
   "source": [
    "np.count_nonzero(np.isnan(siga))"
   ]
  },
  {
   "cell_type": "code",
   "execution_count": null,
   "metadata": {},
   "outputs": [
    {
     "name": "stdout",
     "output_type": "stream",
     "text": [
      "accepted 8\n",
      "passed 73\n",
      "passed 138\n",
      "passed 203\n",
      "passed 267\n",
      "passed 332\n",
      "passed 396\n",
      "passed 461\n",
      "accepted 524\n",
      "passed 588\n",
      "passed 652\n",
      "passed 716\n",
      "passed 779\n",
      "passed 841\n",
      "passed 904\n",
      "passed 968\n",
      "passed 1031\n",
      "accepted 1094\n",
      "passed 1156\n",
      "passed 1220\n",
      "passed 1284\n",
      "passed 1346\n",
      "passed 1409\n",
      "passed 1473\n",
      "passed 1537\n",
      "passed 1600\n",
      "nan 1663\n",
      "nan 1727\n",
      "nan 1791\n",
      "nan 1854\n",
      "nan 1917\n",
      "nan 1980\n",
      "nan 2032\n",
      "accepted 2083\n",
      "passed 2145\n",
      "passed 2209\n",
      "passed 2273\n",
      "passed 2337\n",
      "passed 2400\n",
      "passed 2463\n",
      "passed 2526\n",
      "passed 2590\n",
      "accepted 2655\n",
      "passed 2718\n",
      "passed 2782\n",
      "passed 2846\n",
      "passed 2911\n",
      "passed 2975\n",
      "passed 3038\n",
      "passed 3103\n",
      "nan 3167\n",
      "nan 3233\n",
      "nan 3296\n",
      "nan 3360\n",
      "nan 3425\n",
      "nan 3491\n",
      "nan 3543\n",
      "accepted 3594\n",
      "passed 3659\n",
      "passed 3723\n",
      "passed 3787\n",
      "passed 3851\n",
      "passed 3915\n",
      "passed 3979\n",
      "passed 4042\n",
      "accepted 4107\n",
      "passed 4170\n",
      "passed 4235\n",
      "passed 4300\n",
      "passed 4363\n",
      "passed 4427\n",
      "passed 4492\n",
      "passed 4557\n",
      "accepted 4621\n",
      "passed 4684\n",
      "passed 4748\n",
      "passed 4813\n",
      "passed 4878\n",
      "passed 4940\n",
      "passed 5005\n",
      "passed 5069\n",
      "accepted 5133\n",
      "passed 5196\n",
      "passed 5256\n",
      "passed 5318\n",
      "passed 5381\n",
      "passed 5445\n",
      "passed 5508\n",
      "passed 5571\n",
      "passed 5635\n",
      "accepted 5699\n",
      "passed 5762\n",
      "passed 5826\n",
      "passed 5890\n",
      "passed 5954\n",
      "passed 6017\n",
      "passed 6080\n",
      "passed 6143\n",
      "passed 6207\n",
      "accepted 6271\n",
      "passed 6334\n",
      "passed 6397\n",
      "passed 6461\n",
      "passed 6525\n",
      "passed 6588\n",
      "passed 6651\n",
      "passed 6715\n",
      "passed 6778\n",
      "nan 6843\n",
      "nan 6905\n",
      "nan 6950\n",
      "nan 7001\n",
      "accepted 7065\n",
      "passed 7128\n",
      "passed 7191\n",
      "passed 7254\n",
      "passed 7318\n",
      "passed 7382\n",
      "passed 7445\n",
      "passed 7509\n",
      "passed 7573\n",
      "accepted 7637\n",
      "passed 7702\n",
      "passed 7766\n",
      "passed 7831\n",
      "passed 7896\n",
      "passed 7962\n",
      "passed 8026\n",
      "passed 8092\n",
      "accepted 8158\n",
      "passed 8223\n",
      "passed 8288\n",
      "passed 8354\n",
      "passed 8419\n",
      "passed 8484\n",
      "passed 8549\n",
      "passed 8615\n",
      "accepted 8680\n",
      "passed 8746\n",
      "passed 8810\n",
      "passed 8875\n",
      "passed 8941\n",
      "passed 9006\n",
      "passed 9072\n",
      "passed 9136\n",
      "nan 9202\n",
      "nan 9267\n",
      "nan 9332\n",
      "nan 9398\n",
      "accepted 9461\n",
      "passed 9525\n",
      "passed 9589\n",
      "passed 9652\n",
      "passed 9715\n",
      "passed 9779\n",
      "passed 9842\n",
      "passed 9907\n",
      "passed 9970\n",
      "accepted 10035\n",
      "passed 10100\n",
      "passed 10165\n",
      "passed 10229\n",
      "passed 10294\n",
      "passed 10359\n",
      "passed 10424\n",
      "passed 10488\n",
      "accepted 10552\n",
      "passed 10617\n",
      "passed 10682\n",
      "passed 10746\n",
      "passed 10810\n",
      "passed 10875\n",
      "passed 10940\n",
      "passed 11004\n",
      "accepted 11068\n",
      "passed 11133\n",
      "passed 11198\n",
      "passed 11262\n",
      "passed 11327\n",
      "passed 11392\n",
      "passed 11458\n",
      "passed 11522\n",
      "nan 11588\n",
      "nan 11653\n",
      "nan 11720\n",
      "nan 11785\n",
      "nan 11850\n",
      "nan 11917\n",
      "nan 11983\n",
      "nan 12048\n",
      "nan 12113\n",
      "nan 12179\n",
      "nan 12228\n",
      "nan 12308\n",
      "accepted 12373\n",
      "passed 12438\n",
      "passed 12502\n",
      "passed 12567\n",
      "passed 12632\n",
      "passed 12696\n",
      "passed 12759\n",
      "passed 12823\n",
      "nan 12888\n",
      "nan 12951\n",
      "nan 13032\n",
      "accepted 13093\n",
      "passed 13154\n",
      "passed 13215\n",
      "passed 13277\n",
      "passed 13336\n",
      "passed 13397\n",
      "passed 13458\n",
      "passed 13519\n",
      "passed 13580\n",
      "accepted 13642\n",
      "passed 13705\n",
      "passed 13767\n",
      "passed 13829\n",
      "passed 13892\n",
      "passed 13956\n",
      "passed 14020\n",
      "passed 14081\n",
      "passed 14144\n",
      "nan 14208\n",
      "nan 14270\n",
      "nan 14318\n",
      "nan 14395\n",
      "nan 14459\n",
      "nan 14521\n",
      "nan 14558\n",
      "nan 14643\n",
      "nan 14705\n",
      "nan 14767\n",
      "nan 14829\n",
      "nan 14894\n",
      "nan 14932\n",
      "nan 15018\n",
      "nan 15083\n",
      "nan 15145\n",
      "nan 15210\n",
      "nan 15274\n",
      "nan 15338\n",
      "nan 15400\n",
      "nan 15466\n",
      "nan 15512\n",
      "nan 15565\n",
      "nan 15654\n",
      "nan 15718\n",
      "nan 15782\n",
      "nan 15847\n",
      "nan 15909\n",
      "nan 15963\n",
      "accepted 16008\n",
      "passed 16074\n",
      "passed 16137\n",
      "passed 16202\n",
      "passed 16267\n",
      "passed 16332\n",
      "passed 16397\n",
      "passed 16460\n",
      "accepted 16524\n",
      "passed 16588\n",
      "passed 16653\n",
      "passed 16716\n",
      "passed 16780\n",
      "passed 16845\n",
      "passed 16909\n",
      "passed 16973\n",
      "accepted 17036\n",
      "passed 17100\n",
      "passed 17165\n",
      "passed 17229\n",
      "passed 17293\n",
      "passed 17357\n",
      "passed 17422\n",
      "passed 17487\n",
      "accepted 17550\n",
      "passed 17615\n",
      "passed 17679\n",
      "passed 17744\n",
      "passed 17807\n",
      "passed 17871\n",
      "passed 17936\n",
      "passed 18001\n",
      "accepted 18064\n",
      "passed 18128\n",
      "passed 18192\n",
      "passed 18257\n",
      "passed 18320\n",
      "passed 18385\n",
      "passed 18450\n",
      "passed 18514\n",
      "accepted 18579\n",
      "passed 18642\n",
      "passed 18707\n",
      "passed 18771\n",
      "passed 18837\n",
      "passed 18900\n",
      "passed 18964\n",
      "passed 19029\n",
      "accepted 19094\n",
      "passed 19157\n",
      "passed 19222\n",
      "passed 19287\n",
      "passed 19352\n",
      "passed 19417\n",
      "passed 19481\n",
      "passed 19547\n",
      "nan 19613\n",
      "nan 19677\n",
      "nan 19741\n",
      "nan 19808\n",
      "nan 19848\n",
      "nan 19926\n",
      "nan 19975\n",
      "nan 20034\n",
      "accepted 20098\n",
      "passed 20162\n",
      "passed 20225\n",
      "passed 20290\n",
      "passed 20353\n",
      "passed 20418\n",
      "passed 20480\n",
      "passed 20544\n",
      "passed 20608\n",
      "accepted 20672\n",
      "passed 20735\n",
      "passed 20798\n",
      "passed 20862\n",
      "passed 20926\n",
      "passed 20989\n",
      "passed 21052\n",
      "passed 21115\n",
      "passed 21179\n",
      "accepted 21243\n",
      "passed 21305\n",
      "passed 21368\n",
      "passed 21431\n",
      "passed 21496\n",
      "passed 21557\n",
      "passed 21621\n",
      "passed 21685\n",
      "passed 21750\n",
      "accepted 21813\n",
      "passed 21877\n",
      "passed 21942\n",
      "passed 21995\n",
      "passed 22058\n",
      "passed 22120\n",
      "passed 22183\n",
      "passed 22246\n",
      "passed 22310\n",
      "accepted 22372\n",
      "passed 22435\n",
      "passed 22498\n",
      "passed 22561\n",
      "passed 22623\n",
      "passed 22686\n",
      "passed 22750\n",
      "passed 22813\n",
      "passed 22876\n",
      "accepted 22940\n",
      "passed 23004\n",
      "passed 23067\n",
      "passed 23130\n",
      "passed 23193\n",
      "passed 23257\n",
      "passed 23319\n",
      "passed 23381\n",
      "passed 23443\n",
      "accepted 23506\n",
      "passed 23568\n",
      "passed 23628\n",
      "passed 23690\n",
      "passed 23752\n",
      "passed 23814\n",
      "passed 23875\n",
      "passed 23936\n",
      "passed 23998\n",
      "accepted 24060\n",
      "passed 24123\n",
      "passed 24184\n",
      "passed 24246\n",
      "passed 24308\n",
      "passed 24370\n",
      "passed 24432\n",
      "passed 24494\n",
      "passed 24556\n",
      "accepted 24619\n",
      "passed 24682\n",
      "passed 24745\n",
      "passed 24808\n",
      "passed 24871\n",
      "passed 24935\n",
      "passed 24998\n",
      "passed 25061\n",
      "passed 25125\n",
      "accepted 25188\n",
      "passed 25251\n",
      "passed 25312\n",
      "passed 25375\n",
      "passed 25437\n",
      "passed 25500\n",
      "passed 25561\n",
      "passed 25623\n",
      "passed 25686\n",
      "accepted 25748\n",
      "passed 25810\n",
      "passed 25872\n",
      "passed 25935\n",
      "passed 25998\n",
      "passed 26060\n",
      "passed 26122\n",
      "passed 26185\n",
      "passed 26247\n",
      "accepted 26310\n",
      "passed 26372\n",
      "passed 26435\n",
      "passed 26498\n",
      "passed 26561\n",
      "passed 26623\n",
      "passed 26686\n",
      "passed 26749\n",
      "passed 26813\n",
      "nan 26875\n",
      "nan 26938\n",
      "nan 27000\n",
      "nan 27063\n",
      "nan 27126\n",
      "nan 27188\n",
      "nan 27251\n",
      "nan 27313\n",
      "nan 27377\n",
      "nan 27441\n",
      "nan 27501\n",
      "nan 27566\n",
      "nan 27626\n",
      "nan 27689\n",
      "nan 27750\n",
      "nan 27813\n",
      "accepted 27865\n",
      "passed 27940\n",
      "passed 28014\n",
      "passed 28074\n",
      "passed 28137\n",
      "passed 28200\n",
      "passed 28263\n",
      "passed 28325\n",
      "accepted 28387\n",
      "passed 28450\n",
      "passed 28513\n",
      "passed 28575\n",
      "passed 28637\n",
      "passed 28700\n",
      "passed 28762\n",
      "passed 28825\n",
      "passed 28887\n",
      "nan 28950\n",
      "nan 29012\n",
      "nan 29075\n",
      "nan 29137\n",
      "nan 29201\n",
      "nan 29265\n",
      "accepted 29328\n",
      "passed 29392\n",
      "passed 29456\n",
      "passed 29520\n",
      "passed 29584\n",
      "passed 29647\n",
      "passed 29710\n",
      "passed 29773\n",
      "passed 29836\n",
      "accepted 29897\n",
      "passed 29959\n",
      "passed 30021\n",
      "passed 30083\n",
      "passed 30145\n",
      "passed 30205\n",
      "passed 30267\n",
      "passed 30328\n",
      "passed 30390\n",
      "accepted 30451\n",
      "passed 30512\n",
      "passed 30559\n",
      "passed 30612\n",
      "passed 30673\n",
      "passed 30735\n",
      "passed 30797\n",
      "passed 30860\n",
      "passed 30922\n",
      "accepted 30984\n",
      "passed 31046\n",
      "passed 31109\n",
      "passed 31172\n",
      "passed 31234\n",
      "passed 31296\n",
      "passed 31358\n",
      "passed 31421\n",
      "passed 31483\n",
      "accepted 31545\n",
      "passed 31607\n",
      "passed 31669\n",
      "passed 31732\n",
      "passed 31793\n",
      "passed 31855\n",
      "passed 31918\n",
      "passed 31980\n",
      "passed 32042\n",
      "accepted 32105\n",
      "passed 32166\n",
      "passed 32227\n",
      "passed 32290\n",
      "passed 32352\n",
      "passed 32415\n",
      "passed 32478\n",
      "passed 32540\n",
      "passed 32602\n",
      "nan 32665\n",
      "nan 32727\n",
      "nan 32788\n",
      "nan 32834\n",
      "nan 32888\n",
      "nan 32950\n",
      "nan 33012\n",
      "nan 33076\n",
      "accepted 33134\n",
      "passed 33195\n",
      "passed 33256\n",
      "passed 33319\n",
      "passed 33379\n",
      "passed 33441\n",
      "passed 33504\n",
      "passed 33566\n",
      "passed 33628\n",
      "accepted 33690\n",
      "passed 33752\n",
      "passed 33815\n",
      "passed 33877\n",
      "passed 33940\n",
      "passed 34002\n",
      "passed 34065\n",
      "passed 34128\n",
      "passed 34189\n",
      "accepted 34251\n",
      "passed 34314\n",
      "passed 34376\n",
      "passed 34438\n",
      "passed 34500\n",
      "passed 34563\n",
      "passed 34625\n",
      "passed 34686\n",
      "passed 34748\n",
      "accepted 34810\n",
      "passed 34872\n",
      "passed 34933\n",
      "passed 34993\n",
      "passed 35053\n",
      "passed 35113\n",
      "passed 35174\n",
      "passed 35236\n",
      "passed 35297\n",
      "accepted 35359\n",
      "passed 35421\n",
      "passed 35484\n",
      "passed 35545\n",
      "passed 35608\n",
      "passed 35670\n",
      "passed 35733\n",
      "passed 35795\n",
      "passed 35858\n",
      "accepted 35920\n",
      "passed 35983\n",
      "passed 36044\n",
      "passed 36106\n",
      "passed 36168\n",
      "passed 36230\n",
      "passed 36290\n",
      "passed 36351\n",
      "passed 36412\n",
      "accepted 36474\n",
      "passed 36535\n",
      "passed 36596\n",
      "passed 36658\n",
      "passed 36720\n",
      "passed 36783\n",
      "passed 36844\n",
      "passed 36907\n",
      "passed 36969\n",
      "accepted 37033\n",
      "passed 37095\n",
      "passed 37158\n",
      "passed 37223\n",
      "passed 37287\n",
      "passed 37350\n",
      "passed 37413\n",
      "passed 37477\n",
      "passed 37541\n",
      "accepted 37604\n",
      "passed 37667\n",
      "passed 37731\n",
      "passed 37795\n",
      "passed 37858\n",
      "passed 37921\n",
      "passed 37984\n",
      "passed 38048\n",
      "passed 38112\n",
      "accepted 38174\n",
      "passed 38237\n",
      "passed 38300\n",
      "passed 38364\n",
      "passed 38426\n",
      "passed 38487\n",
      "passed 38550\n",
      "passed 38613\n",
      "passed 38675\n",
      "accepted 38737\n",
      "passed 38800\n",
      "passed 38863\n",
      "passed 38926\n",
      "passed 38987\n",
      "passed 39050\n",
      "passed 39113\n",
      "passed 39176\n",
      "passed 39238\n",
      "accepted 39300\n",
      "passed 39362\n",
      "passed 39425\n",
      "passed 39487\n",
      "passed 39548\n",
      "passed 39610\n",
      "passed 39673\n",
      "passed 39735\n",
      "passed 39797\n",
      "accepted 39858\n",
      "passed 39921\n",
      "passed 39983\n",
      "passed 40046\n",
      "passed 40108\n",
      "passed 40170\n",
      "passed 40233\n",
      "passed 40295\n",
      "passed 40357\n",
      "accepted 40420\n",
      "passed 40483\n",
      "passed 40546\n",
      "passed 40608\n",
      "passed 40670\n",
      "passed 40733\n",
      "passed 40796\n",
      "passed 40858\n",
      "passed 40920\n",
      "accepted 40982\n",
      "passed 41045\n",
      "passed 41108\n",
      "passed 41170\n",
      "passed 41232\n",
      "passed 41295\n",
      "passed 41358\n",
      "passed 41420\n",
      "passed 41483\n",
      "nan 41545\n",
      "nan 41609\n",
      "nan 41670\n",
      "nan 41733\n",
      "nan 41795\n",
      "nan 41860\n",
      "nan 41901\n",
      "nan 41983\n",
      "nan 42029\n",
      "nan 42109\n",
      "nan 42171\n",
      "nan 42233\n",
      "accepted 42296\n",
      "passed 42359\n",
      "passed 42421\n",
      "passed 42483\n",
      "passed 42545\n",
      "passed 42607\n",
      "passed 42670\n",
      "passed 42731\n",
      "passed 42793\n",
      "accepted 42855\n",
      "passed 42917\n",
      "passed 42979\n",
      "passed 43041\n",
      "passed 43103\n",
      "passed 43166\n",
      "passed 43228\n",
      "passed 43290\n",
      "passed 43353\n",
      "accepted 43416\n",
      "passed 43479\n",
      "passed 43540\n",
      "passed 43603\n",
      "passed 43665\n",
      "passed 43728\n",
      "passed 43790\n",
      "passed 43852\n",
      "passed 43915\n",
      "accepted 43977\n",
      "passed 44038\n",
      "passed 44101\n",
      "passed 44163\n",
      "passed 44226\n",
      "passed 44288\n",
      "passed 44350\n",
      "passed 44413\n",
      "passed 44475\n",
      "accepted 44537\n",
      "passed 44598\n",
      "passed 44657\n",
      "passed 44720\n",
      "passed 44783\n",
      "passed 44844\n",
      "passed 44906\n",
      "passed 44969\n",
      "passed 45031\n",
      "accepted 45093\n",
      "passed 45155\n",
      "passed 45217\n",
      "passed 45279\n",
      "passed 45341\n",
      "passed 45403\n",
      "passed 45466\n",
      "passed 45529\n",
      "passed 45591\n",
      "nan 45654\n",
      "nan 45717\n",
      "nan 45780\n",
      "nan 45842\n",
      "nan 45904\n",
      "nan 45964\n",
      "nan 46027\n",
      "nan 46090\n",
      "nan 46153\n",
      "nan 46213\n",
      "nan 46276\n",
      "accepted 46339\n",
      "passed 46401\n",
      "passed 46463\n",
      "passed 46524\n",
      "passed 46587\n",
      "passed 46649\n",
      "passed 46713\n",
      "passed 46774\n",
      "passed 46837\n",
      "accepted 46900\n",
      "passed 46964\n",
      "passed 47026\n",
      "passed 47089\n",
      "passed 47152\n",
      "passed 47216\n",
      "passed 47278\n",
      "passed 47342\n",
      "passed 47405\n",
      "accepted 47469\n",
      "passed 47531\n",
      "passed 47594\n",
      "passed 47657\n",
      "passed 47719\n",
      "passed 47782\n",
      "passed 47844\n",
      "passed 47906\n",
      "passed 47969\n",
      "accepted 48031\n",
      "passed 48092\n",
      "passed 48155\n",
      "passed 48217\n",
      "passed 48280\n",
      "passed 48342\n",
      "passed 48404\n",
      "passed 48466\n",
      "passed 48529\n",
      "accepted 48592\n",
      "passed 48653\n",
      "passed 48715\n",
      "passed 48777\n",
      "passed 48840\n",
      "passed 48902\n",
      "passed 48964\n",
      "passed 49026\n",
      "passed 49089\n",
      "accepted 49152\n",
      "passed 49213\n",
      "passed 49275\n",
      "passed 49338\n",
      "passed 49401\n",
      "passed 49463\n",
      "passed 49525\n",
      "passed 49586\n",
      "passed 49649\n",
      "accepted 49712\n",
      "passed 49773\n",
      "passed 49836\n",
      "passed 49898\n",
      "passed 49961\n",
      "passed 50022\n",
      "passed 50084\n",
      "passed 50146\n",
      "passed 50209\n",
      "accepted 50271\n",
      "passed 50333\n",
      "passed 50395\n",
      "passed 50457\n",
      "passed 50519\n",
      "passed 50580\n",
      "passed 50642\n",
      "passed 50704\n",
      "passed 50766\n",
      "accepted 50827\n",
      "passed 50890\n",
      "passed 50952\n",
      "passed 51014\n",
      "passed 51075\n",
      "passed 51137\n",
      "passed 51200\n",
      "passed 51261\n",
      "passed 51324\n",
      "accepted 51384\n",
      "passed 51446\n",
      "passed 51508\n",
      "passed 51568\n",
      "passed 51629\n",
      "passed 51691\n",
      "passed 51751\n",
      "passed 51813\n",
      "passed 51874\n",
      "accepted 51935\n",
      "passed 51996\n",
      "passed 52057\n",
      "passed 52119\n",
      "passed 52181\n",
      "passed 52243\n",
      "passed 52304\n",
      "passed 52366\n",
      "passed 52428\n",
      "accepted 52491\n",
      "passed 52553\n",
      "passed 52615\n",
      "passed 52678\n",
      "passed 52742\n",
      "passed 52806\n",
      "passed 52868\n",
      "passed 52931\n",
      "passed 52994\n",
      "accepted 53057\n",
      "passed 53121\n",
      "passed 53183\n",
      "passed 53245\n",
      "passed 53308\n",
      "passed 53371\n",
      "passed 53433\n",
      "passed 53495\n",
      "passed 53557\n",
      "accepted 53619\n",
      "passed 53682\n",
      "passed 53743\n",
      "passed 53805\n",
      "passed 53867\n",
      "passed 53928\n",
      "passed 53989\n",
      "passed 54050\n",
      "passed 54113\n",
      "nan 54176\n",
      "nan 54238\n",
      "nan 54301\n",
      "nan 54363\n",
      "nan 54430\n",
      "nan 54492\n",
      "nan 54558\n",
      "nan 54622\n",
      "nan 54686\n",
      "nan 54733\n",
      "accepted 54789\n",
      "passed 54853\n",
      "passed 54917\n",
      "passed 54980\n",
      "passed 55043\n",
      "passed 55105\n",
      "passed 55168\n",
      "passed 55232\n",
      "passed 55295\n",
      "accepted 55357\n",
      "passed 55419\n",
      "passed 55482\n",
      "passed 55545\n",
      "passed 55606\n",
      "passed 55668\n",
      "passed 55731\n",
      "passed 55794\n",
      "passed 55856\n",
      "accepted 55918\n",
      "passed 55980\n",
      "passed 56043\n",
      "passed 56106\n",
      "passed 56167\n",
      "passed 56230\n",
      "passed 56292\n",
      "passed 56355\n",
      "passed 56417\n",
      "accepted 56480\n",
      "passed 56543\n",
      "passed 56606\n",
      "passed 56668\n",
      "passed 56731\n",
      "passed 56794\n",
      "passed 56857\n",
      "passed 56917\n",
      "passed 56979\n",
      "accepted 57042\n",
      "passed 57104\n",
      "passed 57167\n",
      "passed 57228\n",
      "passed 57290\n",
      "passed 57353\n",
      "passed 57416\n",
      "passed 57477\n",
      "passed 57539\n",
      "accepted 57601\n",
      "passed 57664\n",
      "passed 57727\n",
      "passed 57789\n",
      "passed 57852\n",
      "passed 57915\n",
      "passed 57978\n",
      "passed 58041\n",
      "passed 58103\n",
      "accepted 58166\n",
      "passed 58229\n",
      "passed 58292\n",
      "passed 58354\n",
      "passed 58417\n",
      "passed 58480\n",
      "passed 58544\n",
      "passed 58606\n",
      "passed 58669\n",
      "accepted 58732\n",
      "passed 58796\n",
      "passed 58858\n",
      "passed 58920\n",
      "passed 58983\n",
      "passed 59046\n",
      "passed 59108\n",
      "passed 59170\n",
      "passed 59232\n",
      "accepted 59295\n",
      "passed 59357\n",
      "passed 59419\n",
      "passed 59481\n",
      "passed 59544\n",
      "passed 59606\n",
      "passed 59667\n",
      "passed 59728\n",
      "passed 59790\n",
      "accepted 59851\n",
      "passed 59913\n",
      "passed 59974\n",
      "passed 60035\n",
      "passed 60098\n",
      "passed 60160\n",
      "passed 60221\n",
      "passed 60283\n",
      "passed 60346\n",
      "accepted 60409\n",
      "passed 60470\n",
      "passed 60533\n",
      "passed 60597\n",
      "passed 60661\n",
      "passed 60724\n",
      "passed 60787\n",
      "passed 60851\n",
      "passed 60914\n",
      "end reached 60954\n",
      "(512, 2) 95\n",
      "(95, 512, 2)\n"
     ]
    }
   ],
   "source": [
    "s_test = window(siga,start)"
   ]
  },
  {
   "cell_type": "code",
   "execution_count": null,
   "metadata": {},
   "outputs": [
    {
     "data": {
      "text/plain": [
       "[<matplotlib.lines.Line2D at 0x1b9940d2e30>]"
      ]
     },
     "execution_count": 104,
     "metadata": {},
     "output_type": "execute_result"
    },
    {
     "data": {
      "image/png": "[encoded data removed]",
      "text/plain": [
       "<Figure size 640x480 with 1 Axes>"
      ]
     },
     "metadata": {},
     "output_type": "display_data"
    }
   ],
   "source": [
    "plt.plot(s_test[0,:,0])"
   ]
  },
  {
   "cell_type": "code",
   "execution_count": null,
   "metadata": {},
   "outputs": [],
   "source": []
  }
 ],
 "metadata": {
  "kernelspec": {
   "display_name": ".venv",
   "language": "python",
   "name": "python3"
  },
  "language_info": {
   "codemirror_mode": {
    "name": "ipython",
    "version": 3
   },
   "file_extension": ".py",
   "mimetype": "text/x-python",
   "name": "python",
   "nbconvert_exporter": "python",
   "pygments_lexer": "ipython3",
   "version": "3.10.11"
  }
 },
 "nbformat": 4,
 "nbformat_minor": 2
}
