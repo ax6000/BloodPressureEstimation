{
 "cells": [
  {
   "cell_type": "code",
   "execution_count": 5,
   "metadata": {},
   "outputs": [],
   "source": [
    "import numpy as np\n",
    "import glob\n",
    "import os\n",
    "import logging\n",
    "from tqdm import tqdm\n",
    "from PIL import Image\n",
    "import matplotlib.pyplot as plt"
   ]
  },
  {
   "cell_type": "code",
   "execution_count": 26,
   "metadata": {},
   "outputs": [],
   "source": [
    "DATA_DIR = r\"F:\\minowa\\BloodPressureEstimation\\data\\processed\\npy\\1030\\p00\"\n",
    "OUTPUT_DIR = r\"F:\\minowa\\BloodPressureEstimation\\data\\processed\\img\\1030\""
   ]
  },
  {
   "cell_type": "code",
   "execution_count": 3,
   "metadata": {},
   "outputs": [],
   "source": [
    "def create_signal_images(target,count,out_path_abp,out_path_ppg):\n",
    "    px = 256\n",
    "    def ppg_img(sig,out_path_ppg,count):\n",
    "        im_arr = np.zeros((px,px),dtype=np.uint8)\n",
    "        rescaled = (255.0*sig).astype(np.uint8)\n",
    "        #rescaled = np.array(j).astype(np.uint8)\n",
    "        im_arr[:,:] = rescaled[:,None]\n",
    "        im = Image.fromarray(im_arr.T)\n",
    "        im.save(out_path_ppg.format(count))\n",
    "        return \n",
    "    def abp_img(sig,out_path_abp,count):\n",
    "        im_arr = np.zeros((px,px),dtype=np.uint8)\n",
    "        abp_max = 255\n",
    "        abp_min = 0\n",
    "        rescaled = (255.0/(abp_max-abp_min)*(sig-abp_min)).astype(np.uint8)\n",
    "        im_arr[:,:] = rescaled[:,None]\n",
    "        im = Image.fromarray(im_arr.T)\n",
    "        im.save(out_path_abp.format(count))\n",
    "        return\n",
    "    for i in range(0,len(target)-px,px):\n",
    "        s = target[i:i+px,:]\n",
    "        abp_img(s[:,0],out_path_abp,count)\n",
    "        ppg_img(s[:,1],out_path_ppg,count)\n",
    "        count+=1\n",
    "    return count"
   ]
  },
  {
   "cell_type": "code",
   "execution_count": 4,
   "metadata": {},
   "outputs": [],
   "source": [
    "def create_image_executor(dir1):\n",
    "    DATA_DIR = r\"F:\\minowa\\BloodPressureEstimation\\data\\processed\\npy\\1030\\p00\"\n",
    "    OUTPUT_DIR = r\"F:\\minowa\\BloodPressureEstimation\\data\\processed\\img\\1030\"\n",
    "    os.makedirs(f\"{OUTPUT_DIR}\\\\abp\\p00\\{dir1}\",exist_ok=True)\n",
    "    os.makedirs(f\"{OUTPUT_DIR}\\\\ppg\\p00\\{dir1}\",exist_ok=True)\n",
    "    files = glob.glob(dir1+\"\\*\",root_dir=DATA_DIR)\n",
    "    out_path_abp = f\"{OUTPUT_DIR}\\\\abp\\p00\\{dir1}\\\\\"+\"{:07d}.png\"\n",
    "    out_path_ppg = f\"{OUTPUT_DIR}\\\\ppg\\p00\\{dir1}\\\\\"+\"{:07d}.png\"\n",
    "    for file in files:\n",
    "        sig = np.load(os.path.join(DATA_DIR,file))\n",
    "        nan_locs = np.where(np.isnan(sig))[0]\n",
    "        count = 0\n",
    "        for n in range(len(nan_locs)-1):\n",
    "            target = sig[nan_locs[n]+1:nan_locs[n+1]]\n",
    "            count = create_signal_images(target,count,out_path_abp,out_path_ppg)"
   ]
  },
  {
   "cell_type": "code",
   "execution_count": 58,
   "metadata": {},
   "outputs": [],
   "source": [
    "def create_npy_executor(dir1):\n",
    "    px = 256\n",
    "    max= 200\n",
    "    DATA_DIR = r\"F:\\minowa\\BloodPressureEstimation\\data\\processed\\npy\\1030\\p00\"\n",
    "    OUTPUT_DIR = r\"F:\\minowa\\BloodPressureEstimation\\data\\processed\\sig_npy\\1107_norm\"\n",
    "    os.makedirs(f\"{OUTPUT_DIR}\\\\p00\\{dir1}\",exist_ok=True)\n",
    "    files = glob.glob(dir1+\"\\*\",root_dir=DATA_DIR)\n",
    "    out_path = f\"{OUTPUT_DIR}\\\\p00\\{dir1}\\\\{dir1}_\"+\"{:06d}.npy\"\n",
    "    count = 0\n",
    "    for file in files:\n",
    "        sig = np.load(os.path.join(DATA_DIR,file))\n",
    "        sig[:,0] = sig[:,0]/max\n",
    "        nan_locs = np.where(np.isnan(sig))[0]\n",
    "        for n in range(len(nan_locs)-1):\n",
    "            target = sig[nan_locs[n]+1:nan_locs[n+1]]\n",
    "            for i in range(0,len(target)-px,px):\n",
    "                s = target[i:i+px,:]\n",
    "                np.save(out_path.format(count),s.astype(np.float16))\n",
    "                count+=1"
   ]
  },
  {
   "cell_type": "code",
   "execution_count": 59,
   "metadata": {},
   "outputs": [
    {
     "name": "stderr",
     "output_type": "stream",
     "text": [
      "  2%|▏         | 2/121 [01:12<1:11:49, 36.21s/it]\n"
     ]
    },
    {
     "ename": "KeyboardInterrupt",
     "evalue": "",
     "output_type": "error",
     "traceback": [
      "\u001b[1;31m---------------------------------------------------------------------------\u001b[0m",
      "\u001b[1;31mKeyboardInterrupt\u001b[0m                         Traceback (most recent call last)",
      "\u001b[1;32md:\\minowa\\BloodPressureEstimation\\notebooks\\create_image_data.ipynb Cell 6\u001b[0m line \u001b[0;36m1\n\u001b[0;32m      <a href='vscode-notebook-cell:/d%3A/minowa/BloodPressureEstimation/notebooks/create_image_data.ipynb#W5sZmlsZQ%3D%3D?line=8'>9</a>\u001b[0m     patients_num \u001b[39m=\u001b[39m \u001b[39mint\u001b[39m(dirs[i][\u001b[39m1\u001b[39m:])\n\u001b[0;32m     <a href='vscode-notebook-cell:/d%3A/minowa/BloodPressureEstimation/notebooks/create_image_data.ipynb#W5sZmlsZQ%3D%3D?line=9'>10</a>\u001b[0m     \u001b[39m# print(patients_num)\u001b[39;00m\n\u001b[0;32m     <a href='vscode-notebook-cell:/d%3A/minowa/BloodPressureEstimation/notebooks/create_image_data.ipynb#W5sZmlsZQ%3D%3D?line=10'>11</a>\u001b[0m     \u001b[39m# if patients_num < 4680:\u001b[39;00m\n\u001b[0;32m     <a href='vscode-notebook-cell:/d%3A/minowa/BloodPressureEstimation/notebooks/create_image_data.ipynb#W5sZmlsZQ%3D%3D?line=11'>12</a>\u001b[0m     \u001b[39m#     continue\u001b[39;00m\n\u001b[0;32m     <a href='vscode-notebook-cell:/d%3A/minowa/BloodPressureEstimation/notebooks/create_image_data.ipynb#W5sZmlsZQ%3D%3D?line=12'>13</a>\u001b[0m     \u001b[39m# create_image_executor(dirs[i])\u001b[39;00m\n\u001b[1;32m---> <a href='vscode-notebook-cell:/d%3A/minowa/BloodPressureEstimation/notebooks/create_image_data.ipynb#W5sZmlsZQ%3D%3D?line=13'>14</a>\u001b[0m     create_npy_executor(dirs[i])\n\u001b[0;32m     <a href='vscode-notebook-cell:/d%3A/minowa/BloodPressureEstimation/notebooks/create_image_data.ipynb#W5sZmlsZQ%3D%3D?line=14'>15</a>\u001b[0m         \u001b[39m# futures.append(executor.submit(create_image_executor,dirs[i]))\u001b[39;00m\n\u001b[0;32m     <a href='vscode-notebook-cell:/d%3A/minowa/BloodPressureEstimation/notebooks/create_image_data.ipynb#W5sZmlsZQ%3D%3D?line=15'>16</a>\u001b[0m     \u001b[39m# concurrent.futures.wait(futures,timeout=None,return_when=concurrent.futures.ALL_COMPLETED)\u001b[39;00m\n\u001b[0;32m     <a href='vscode-notebook-cell:/d%3A/minowa/BloodPressureEstimation/notebooks/create_image_data.ipynb#W5sZmlsZQ%3D%3D?line=16'>17</a>\u001b[0m     \u001b[39m# executor.shutdown()\u001b[39;00m\n\u001b[0;32m     <a href='vscode-notebook-cell:/d%3A/minowa/BloodPressureEstimation/notebooks/create_image_data.ipynb#W5sZmlsZQ%3D%3D?line=17'>18</a>\u001b[0m \u001b[39mprint\u001b[39m(\u001b[39m\"\u001b[39m\u001b[39mdone\u001b[39m\u001b[39m\"\u001b[39m)\n",
      "\u001b[1;32md:\\minowa\\BloodPressureEstimation\\notebooks\\create_image_data.ipynb Cell 6\u001b[0m line \u001b[0;36m1\n\u001b[0;32m     <a href='vscode-notebook-cell:/d%3A/minowa/BloodPressureEstimation/notebooks/create_image_data.ipynb#W5sZmlsZQ%3D%3D?line=15'>16</a>\u001b[0m \u001b[39mfor\u001b[39;00m i \u001b[39min\u001b[39;00m \u001b[39mrange\u001b[39m(\u001b[39m0\u001b[39m,\u001b[39mlen\u001b[39m(target)\u001b[39m-\u001b[39mpx,px):\n\u001b[0;32m     <a href='vscode-notebook-cell:/d%3A/minowa/BloodPressureEstimation/notebooks/create_image_data.ipynb#W5sZmlsZQ%3D%3D?line=16'>17</a>\u001b[0m     s \u001b[39m=\u001b[39m target[i:i\u001b[39m+\u001b[39mpx,:]\n\u001b[1;32m---> <a href='vscode-notebook-cell:/d%3A/minowa/BloodPressureEstimation/notebooks/create_image_data.ipynb#W5sZmlsZQ%3D%3D?line=17'>18</a>\u001b[0m     np\u001b[39m.\u001b[39;49msave(out_path\u001b[39m.\u001b[39;49mformat(count),s\u001b[39m.\u001b[39;49mastype(np\u001b[39m.\u001b[39;49mfloat16))\n\u001b[0;32m     <a href='vscode-notebook-cell:/d%3A/minowa/BloodPressureEstimation/notebooks/create_image_data.ipynb#W5sZmlsZQ%3D%3D?line=18'>19</a>\u001b[0m     count\u001b[39m+\u001b[39m\u001b[39m=\u001b[39m\u001b[39m1\u001b[39m\n",
      "File \u001b[1;32m<__array_function__ internals>:200\u001b[0m, in \u001b[0;36msave\u001b[1;34m(*args, **kwargs)\u001b[0m\n",
      "File \u001b[1;32md:\\minowa\\BloodPressureEstimation\\.venv\\lib\\site-packages\\numpy\\lib\\npyio.py:522\u001b[0m, in \u001b[0;36msave\u001b[1;34m(file, arr, allow_pickle, fix_imports)\u001b[0m\n\u001b[0;32m    520\u001b[0m \u001b[39mwith\u001b[39;00m file_ctx \u001b[39mas\u001b[39;00m fid:\n\u001b[0;32m    521\u001b[0m     arr \u001b[39m=\u001b[39m np\u001b[39m.\u001b[39masanyarray(arr)\n\u001b[1;32m--> 522\u001b[0m     \u001b[39mformat\u001b[39;49m\u001b[39m.\u001b[39;49mwrite_array(fid, arr, allow_pickle\u001b[39m=\u001b[39;49mallow_pickle,\n\u001b[0;32m    523\u001b[0m                        pickle_kwargs\u001b[39m=\u001b[39;49m\u001b[39mdict\u001b[39;49m(fix_imports\u001b[39m=\u001b[39;49mfix_imports))\n",
      "File \u001b[1;32md:\\minowa\\BloodPressureEstimation\\.venv\\lib\\site-packages\\numpy\\lib\\format.py:722\u001b[0m, in \u001b[0;36mwrite_array\u001b[1;34m(fp, array, version, allow_pickle, pickle_kwargs)\u001b[0m\n\u001b[0;32m    720\u001b[0m \u001b[39melse\u001b[39;00m:\n\u001b[0;32m    721\u001b[0m     \u001b[39mif\u001b[39;00m isfileobj(fp):\n\u001b[1;32m--> 722\u001b[0m         array\u001b[39m.\u001b[39;49mtofile(fp)\n\u001b[0;32m    723\u001b[0m     \u001b[39melse\u001b[39;00m:\n\u001b[0;32m    724\u001b[0m         \u001b[39mfor\u001b[39;00m chunk \u001b[39min\u001b[39;00m numpy\u001b[39m.\u001b[39mnditer(\n\u001b[0;32m    725\u001b[0m                 array, flags\u001b[39m=\u001b[39m[\u001b[39m'\u001b[39m\u001b[39mexternal_loop\u001b[39m\u001b[39m'\u001b[39m, \u001b[39m'\u001b[39m\u001b[39mbuffered\u001b[39m\u001b[39m'\u001b[39m, \u001b[39m'\u001b[39m\u001b[39mzerosize_ok\u001b[39m\u001b[39m'\u001b[39m],\n\u001b[0;32m    726\u001b[0m                 buffersize\u001b[39m=\u001b[39mbuffersize, order\u001b[39m=\u001b[39m\u001b[39m'\u001b[39m\u001b[39mC\u001b[39m\u001b[39m'\u001b[39m):\n",
      "\u001b[1;31mKeyboardInterrupt\u001b[0m: "
     ]
    }
   ],
   "source": [
    "import concurrent.futures\n",
    "import time\n",
    "from multiprocessing import Pool\n",
    "dirs = glob.glob(\"p*\",root_dir=DATA_DIR)\n",
    "# futures =[]\n",
    "# with concurrent.futures.ProcessPoolExecutor(max_workers=8) as executor:\n",
    "# p = Pool(8) # プロセス数を4に設定\n",
    "for i in tqdm(range(len(dirs))):\n",
    "    patients_num = int(dirs[i][1:])\n",
    "    # print(patients_num)\n",
    "    # if patients_num < 4680:\n",
    "    #     continue\n",
    "    # create_image_executor(dirs[i])\n",
    "    create_npy_executor(dirs[i])\n",
    "        # futures.append(executor.submit(create_image_executor,dirs[i]))\n",
    "    # concurrent.futures.wait(futures,timeout=None,return_when=concurrent.futures.ALL_COMPLETED)\n",
    "    # executor.shutdown()\n",
    "print(\"done\")\n",
    "    "
   ]
  },
  {
   "cell_type": "markdown",
   "metadata": {},
   "source": [
    "# filename修正\n",
    "p000000_000000.png"
   ]
  },
  {
   "cell_type": "code",
   "execution_count": 12,
   "metadata": {},
   "outputs": [
    {
     "name": "stderr",
     "output_type": "stream",
     "text": [
      "100%|██████████| 121/121 [06:22<00:00,  3.16s/it]\n"
     ]
    }
   ],
   "source": [
    "# OUTPUT_DIR = r\"F:\\minowa\\BloodPressureEstimation\\data\\processed\\img\\1030\\abp\\p00\"\n",
    "OUTPUT_DIR = r\"F:\\minowa\\BloodPressureEstimation\\data\\processed\\sig_npy\\1101_norm\\p00\"\n",
    "dirs = glob.glob(\"p*\",root_dir=OUTPUT_DIR)\n",
    "for i in tqdm(range(len(dirs))):\n",
    "    patients = dirs[i]\n",
    "    files = glob.glob(patients+\"\\*\",root_dir=OUTPUT_DIR)\n",
    "    for f in files:\n",
    "        #p123456/1234567.png\n",
    "        n = f[-10:-4]\n",
    "        # newname = f\"{patients}_{n}.png\"\n",
    "        newname = f\"{n}.npy\"\n",
    "        os.rename(os.path.join(OUTPUT_DIR,f),os.path.join(OUTPUT_DIR,patients,newname)) \n",
    "        "
   ]
  },
  {
   "cell_type": "markdown",
   "metadata": {},
   "source": [
    "7:3に分割　patients単位"
   ]
  },
  {
   "cell_type": "code",
   "execution_count": 33,
   "metadata": {},
   "outputs": [
    {
     "name": "stderr",
     "output_type": "stream",
     "text": [
      "100%|██████████| 117/117 [00:08<00:00, 13.47it/s]\n"
     ]
    },
    {
     "data": {
      "text/plain": [
       "<matplotlib.collections.PathCollection at 0x27dbfbd9060>"
      ]
     },
     "execution_count": 33,
     "metadata": {},
     "output_type": "execute_result"
    },
    {
     "data": {
      "image/png": "[encoded data removed]",
      "text/plain": [
       "<Figure size 640x480 with 1 Axes>"
      ]
     },
     "metadata": {},
     "output_type": "display_data"
    }
   ],
   "source": [
    "OUTPUT_DIR = r\"F:\\minowa\\BloodPressureEstimation\\data\\processed\\sig_npy\\1120\\p00\"\n",
    "dirs = glob.glob(\"p*.npy\",root_dir=OUTPUT_DIR)\n",
    "nums = []\n",
    "for i in tqdm(range(len(dirs))):\n",
    "    npy = np.load(os.path.join(OUTPUT_DIR,dirs[i]))\n",
    "    nums.append(npy.shape[0])\n",
    "plt.scatter(np.arange(0,len(nums)),nums)"
   ]
  },
  {
   "cell_type": "code",
   "execution_count": 34,
   "metadata": {},
   "outputs": [
    {
     "data": {
      "text/plain": [
       "dtype('float32')"
      ]
     },
     "execution_count": 34,
     "metadata": {},
     "output_type": "execute_result"
    }
   ],
   "source": [
    "npy.dtype"
   ]
  },
  {
   "cell_type": "code",
   "execution_count": 35,
   "metadata": {},
   "outputs": [
    {
     "name": "stdout",
     "output_type": "stream",
     "text": [
      "sum 10733171\n"
     ]
    }
   ],
   "source": [
    "sum = np.sum(nums)\n",
    "print(\"sum\",sum)\n",
    "train_ratio = int(0.7 * sum)\n",
    "count = 0\n",
    "p_test = []\n",
    "p_train = []\n",
    "i = 0\n",
    "while train_ratio > count:\n",
    "    p_train.append(dirs[i])\n",
    "    count += nums[i]\n",
    "    i+= 1\n",
    "    \n",
    "for j in range(i,len(dirs)):\n",
    "    p_test.append(dirs[j])\n",
    "\n",
    "p_train = \"\\n\".join(p_train)\n",
    "p_test = \"\\n\".join(p_test)\n",
    "\n",
    "with open(\"../data/processed/list/train_p00_v4.txt\", mode=\"w\") as tr, open(\"../data/processed/list/test_p00_v4.txt\", mode=\"w\") as t:\n",
    "    tr.writelines(p_train)\n",
    "    t.writelines(p_test)\n",
    "\n",
    "\n"
   ]
  },
  {
   "cell_type": "markdown",
   "metadata": {},
   "source": [
    "flistを作成(参考：Palette\\preprocess\\mirflickr25k_preprocess.py)"
   ]
  },
  {
   "cell_type": "code",
   "execution_count": 32,
   "metadata": {},
   "outputs": [
    {
     "name": "stderr",
     "output_type": "stream",
     "text": [
      "100%|██████████| 82/82 [00:00<00:00, 27374.48it/s]\n"
     ]
    }
   ],
   "source": [
    "DIR= \"img/1030\"\n",
    "# DIR= \"sig_npy/1101_norm\"\n",
    "with open(\"../data/processed/list/train_p00.txt\", mode=\"r\") as tr, open(f\"../data/processed/{DIR}/train.flist\",mode='w') as f:\n",
    "    l = tr.readlines()\n",
    "    for i in tqdm(range(len(l))):\n",
    "        dir = l[i]\n",
    "        # print(dir[:-1])\n",
    "        files=glob.glob(f\"{dir[:-1]}/*.png\",root_dir=f\"../data/processed/{DIR}/abp/p00\")\n",
    "        # files=glob.glob(f\"{dir[:-1]}/*.npy\",root_dir=f\"../data/processed/{DIR}/p00\")\n",
    "        # print(len(files))\n",
    "        for file in files:\n",
    "            print(file[:-4],file=f)\n"
   ]
  },
  {
   "cell_type": "code",
   "execution_count": 22,
   "metadata": {},
   "outputs": [
    {
     "name": "stderr",
     "output_type": "stream",
     "text": [
      "100%|██████████| 39/39 [00:01<00:00, 20.82it/s]\n"
     ]
    }
   ],
   "source": [
    "# DIR= \"sig_npy/1101_norm\"\n",
    "DIR= \"img/1030\"\n",
    "with open(\"../data/processed/list/test_p00.txt\", mode=\"r\") as tr, open(f\"../data/processed/{DIR}/test.flist\",mode='w') as f:\n",
    "    l = tr.readlines()\n",
    "    for i in tqdm(range(len(l))):\n",
    "        dir = l[i]\n",
    "        # print(dir[:-1])\n",
    "        # files=glob.glob(f\"{dir[:-1]}/*.npy\",root_dir=f\"../data/processed/{DIR}/p00\")\n",
    "        files=glob.glob(f\"{dir[:-1]}/*.png\",root_dir=f\"../data/processed/{DIR}/abp/p00\")\n",
    "        # print(len(files))\n",
    "        for file in files:\n",
    "            print(file[:-4],file=f)"
   ]
  },
  {
   "cell_type": "markdown",
   "metadata": {},
   "source": [
    "連結"
   ]
  },
  {
   "cell_type": "code",
   "execution_count": 63,
   "metadata": {},
   "outputs": [],
   "source": [
    "def create_npy_executor_big(dir1):\n",
    "    px = 256\n",
    "    max= 200\n",
    "    avg = 80\n",
    "    dtype=np.float16\n",
    "    DATA_DIR = r\"F:\\minowa\\BloodPressureEstimation\\data\\raw\\BPDataset_norm\\p00\"\n",
    "    OUTPUT_DIR = r\"F:\\minowa\\BloodPressureEstimation\\data\\processed\\BP_npy\\1121\"\n",
    "    os.makedirs(f\"{OUTPUT_DIR}\\\\p00\",exist_ok=True)\n",
    "    files = glob.glob(dir1+\"\\*\",root_dir=DATA_DIR)\n",
    "    out_path = f\"{OUTPUT_DIR}\\\\p00\\\\{dir1}.npy\"\n",
    "    s = []\n",
    "    count = 0\n",
    "    for file in files:\n",
    "        sig = np.load(os.path.join(DATA_DIR,file))\n",
    "        # print(sig.shape)\n",
    "        sig[:,0] = (sig[:,0])/max\n",
    "        nan_locs = np.where(np.isnan(sig[:,0]))[0]\n",
    "        # print(len(nan_locs))\n",
    "        if not len(nan_locs):\n",
    "            # print(\"no nan\")\n",
    "            target = sig\n",
    "            for i in range(0,len(target)-px,px):\n",
    "                s.append(target[i:i+px,:].astype(dtype))\n",
    "        else:\n",
    "            for n in range(len(nan_locs)-1):\n",
    "                target = sig[nan_locs[n]+1:nan_locs[n+1]]\n",
    "                for i in range(0,len(target)-px,px):\n",
    "                    s.append(target[i:i+px,:].astype(dtype))\n",
    "                    # count+=1\n",
    "        # print(count)\n",
    "    if len(s):\n",
    "        s = np.stack(s,dtype=dtype)\n",
    "        print(s.shape)\n",
    "        np.save(out_path,s)\n",
    "    else:\n",
    "        print(\"##### NO SIGNAL:\", dir1)\n",
    "        "
   ]
  },
  {
   "cell_type": "code",
   "execution_count": 64,
   "metadata": {},
   "outputs": [
    {
     "name": "stderr",
     "output_type": "stream",
     "text": [
      "  0%|          | 0/12 [00:00<?, ?it/s]"
     ]
    },
    {
     "name": "stdout",
     "output_type": "stream",
     "text": [
      "124694\n",
      "(124694, 256, 2)\n"
     ]
    },
    {
     "name": "stderr",
     "output_type": "stream",
     "text": [
      "  8%|▊         | 1/12 [00:04<00:53,  4.83s/it]"
     ]
    },
    {
     "name": "stdout",
     "output_type": "stream",
     "text": [
      "108995\n",
      "(108995, 256, 2)\n"
     ]
    },
    {
     "name": "stderr",
     "output_type": "stream",
     "text": [
      " 17%|█▋        | 2/12 [00:10<00:54,  5.40s/it]"
     ]
    },
    {
     "name": "stdout",
     "output_type": "stream",
     "text": [
      "87956\n",
      "(87956, 256, 2)\n"
     ]
    },
    {
     "name": "stderr",
     "output_type": "stream",
     "text": [
      " 25%|██▌       | 3/12 [00:15<00:47,  5.24s/it]"
     ]
    },
    {
     "name": "stdout",
     "output_type": "stream",
     "text": [
      "119290\n",
      "(119290, 256, 2)\n"
     ]
    },
    {
     "name": "stderr",
     "output_type": "stream",
     "text": [
      " 33%|███▎      | 4/12 [00:21<00:42,  5.35s/it]"
     ]
    },
    {
     "name": "stdout",
     "output_type": "stream",
     "text": [
      "127278\n",
      "(127278, 256, 2)\n"
     ]
    },
    {
     "name": "stderr",
     "output_type": "stream",
     "text": [
      " 42%|████▏     | 5/12 [00:27<00:40,  5.73s/it]"
     ]
    },
    {
     "name": "stdout",
     "output_type": "stream",
     "text": [
      "124252\n",
      "(124252, 256, 2)\n"
     ]
    },
    {
     "name": "stderr",
     "output_type": "stream",
     "text": [
      " 50%|█████     | 6/12 [00:34<00:36,  6.01s/it]"
     ]
    },
    {
     "name": "stdout",
     "output_type": "stream",
     "text": [
      "59898\n",
      "(59898, 256, 2)\n"
     ]
    },
    {
     "name": "stderr",
     "output_type": "stream",
     "text": [
      " 58%|█████▊    | 7/12 [00:40<00:30,  6.01s/it]"
     ]
    },
    {
     "name": "stdout",
     "output_type": "stream",
     "text": [
      "94344\n",
      "(94344, 256, 2)\n"
     ]
    },
    {
     "name": "stderr",
     "output_type": "stream",
     "text": [
      " 67%|██████▋   | 8/12 [00:46<00:24,  6.05s/it]"
     ]
    },
    {
     "name": "stdout",
     "output_type": "stream",
     "text": [
      "121720\n",
      "(121720, 256, 2)\n"
     ]
    },
    {
     "name": "stderr",
     "output_type": "stream",
     "text": [
      " 75%|███████▌  | 9/12 [00:52<00:18,  6.03s/it]"
     ]
    },
    {
     "name": "stdout",
     "output_type": "stream",
     "text": [
      "115353\n",
      "(115353, 256, 2)\n"
     ]
    },
    {
     "name": "stderr",
     "output_type": "stream",
     "text": [
      " 83%|████████▎ | 10/12 [00:58<00:12,  6.07s/it]"
     ]
    },
    {
     "name": "stdout",
     "output_type": "stream",
     "text": [
      "117123\n",
      "(117123, 256, 2)\n"
     ]
    },
    {
     "name": "stderr",
     "output_type": "stream",
     "text": [
      " 92%|█████████▏| 11/12 [01:04<00:06,  6.01s/it]"
     ]
    },
    {
     "name": "stdout",
     "output_type": "stream",
     "text": [
      "95922\n",
      "(95922, 256, 2)\n"
     ]
    },
    {
     "name": "stderr",
     "output_type": "stream",
     "text": [
      "100%|██████████| 12/12 [01:10<00:00,  5.86s/it]"
     ]
    },
    {
     "name": "stdout",
     "output_type": "stream",
     "text": [
      "done\n"
     ]
    },
    {
     "name": "stderr",
     "output_type": "stream",
     "text": [
      "\n"
     ]
    }
   ],
   "source": [
    "import concurrent.futures\n",
    "import time\n",
    "from multiprocessing import Pool\n",
    "import glob\n",
    "DATA_DIR = r\"F:\\minowa\\BloodPressureEstimation\\data\\raw\\BPDataset_norm\\p00\"\n",
    "dirs = glob.glob(\"p*\",root_dir=DATA_DIR)\n",
    "# futures =[]\n",
    "# with concurrent.futures.ProcessPoolExecutor(max_workers=8) as executor:\n",
    "# p = Pool(8) # プロセス数を4に設定\n",
    "for i in tqdm(range(len(dirs))):\n",
    "    # patients_num = int(dirs[i][1:])\n",
    "    # print(patients_num)\n",
    "    # if patients_num < 4680:\n",
    "    #     continue\n",
    "    # create_image_executor(dirs[i])\n",
    "    create_npy_executor_big(dirs[i])\n",
    "        # futures.append(executor.submit(create_image_executor,dirs[i]))\n",
    "    # concurrent.futures.wait(futures,timeout=None,return_when=concurrent.futures.ALL_COMPLETED)\n",
    "    # executor.shutdown()\n",
    "print(\"done\")"
   ]
  },
  {
   "cell_type": "markdown",
   "metadata": {},
   "source": [
    "nan確認"
   ]
  },
  {
   "cell_type": "code",
   "execution_count": 12,
   "metadata": {},
   "outputs": [
    {
     "name": "stdout",
     "output_type": "stream",
     "text": [
      "121\n",
      "0 .\\p000160.npy\n",
      "0 .\\p000188.npy\n",
      "0 .\\p000333.npy\n",
      "0 .\\p000543.npy\n",
      "0 .\\p000618.npy\n",
      "0 .\\p000652.npy\n",
      "0 .\\p000735.npy\n",
      "0 .\\p000773.npy\n",
      "0 .\\p000801.npy\n",
      "0 .\\p000878.npy\n",
      "0 .\\p001004.npy\n",
      "0 .\\p001038.npy\n",
      "0 .\\p001049.npy\n",
      "0 .\\p001158.npy\n",
      "0 .\\p001190.npy\n",
      "0 .\\p001331.npy\n",
      "0 .\\p001501.npy\n",
      "0 .\\p001606.npy\n",
      "0 .\\p001791.npy\n",
      "0 .\\p001840.npy\n",
      "0 .\\p001855.npy\n",
      "0 .\\p001949.npy\n",
      "0 .\\p001978.npy\n",
      "0 .\\p002045.npy\n",
      "0 .\\p002063.npy\n",
      "0 .\\p002104.npy\n",
      "0 .\\p002343.npy\n",
      "0 .\\p002369.npy\n",
      "0 .\\p002458.npy\n",
      "0 .\\p002513.npy\n",
      "0 .\\p002577.npy\n",
      "0 .\\p002586.npy\n",
      "0 .\\p002636.npy\n",
      "0 .\\p002639.npy\n",
      "0 .\\p002858.npy\n",
      "0 .\\p002906.npy\n",
      "0 .\\p003039.npy\n",
      "0 .\\p003386.npy\n",
      "0 .\\p003617.npy\n",
      "0 .\\p003695.npy\n",
      "0 .\\p003744.npy\n",
      "0 .\\p003866.npy\n",
      "0 .\\p003949.npy\n",
      "0 .\\p004053.npy\n",
      "0 .\\p004113.npy\n",
      "0 .\\p004313.npy\n",
      "0 .\\p004324.npy\n",
      "0 .\\p004331.npy\n",
      "0 .\\p004405.npy\n",
      "0 .\\p004588.npy\n",
      "0 .\\p004679.npy\n",
      "0 .\\p004802.npy\n",
      "0 .\\p004804.npy\n",
      "0 .\\p004833.npy\n",
      "0 .\\p004837.npy\n",
      "0 .\\p004900.npy\n",
      "0 .\\p004904.npy\n",
      "0 .\\p004906.npy\n",
      "0 .\\p004958.npy\n",
      "0 .\\p004966.npy\n",
      "0 .\\p005071.npy\n",
      "0 .\\p005193.npy\n",
      "0 .\\p005345.npy\n",
      "0 .\\p005382.npy\n",
      "0 .\\p005453.npy\n",
      "0 .\\p005885.npy\n",
      "0 .\\p005913.npy\n",
      "0 .\\p005937.npy\n",
      "0 .\\p006052.npy\n",
      "0 .\\p006116.npy\n",
      "0 .\\p006158.npy\n",
      "0 .\\p006381.npy\n",
      "0 .\\p006533.npy\n",
      "0 .\\p006539.npy\n",
      "0 .\\p006583.npy\n",
      "0 .\\p006621.npy\n",
      "0 .\\p006692.npy\n",
      "0 .\\p006702.npy\n",
      "0 .\\p006728.npy\n",
      "0 .\\p006875.npy\n",
      "0 .\\p006917.npy\n",
      "0 .\\p007184.npy\n",
      "0 .\\p007251.npy\n",
      "0 .\\p007415.npy\n",
      "0 .\\p007445.npy\n",
      "0 .\\p007472.npy\n",
      "0 .\\p007517.npy\n",
      "0 .\\p007529.npy\n",
      "0 .\\p007533.npy\n",
      "0 .\\p007614.npy\n",
      "0 .\\p007629.npy\n",
      "0 .\\p007644.npy\n",
      "0 .\\p007654.npy\n",
      "0 .\\p007695.npy\n",
      "0 .\\p007825.npy\n",
      "0 .\\p007966.npy\n",
      "0 .\\p008061.npy\n",
      "0 .\\p008109.npy\n",
      "0 .\\p008141.npy\n",
      "0 .\\p008142.npy\n",
      "0 .\\p008167.npy\n",
      "0 .\\p008228.npy\n",
      "0 .\\p008275.npy\n",
      "0 .\\p008281.npy\n",
      "0 .\\p008318.npy\n",
      "0 .\\p008396.npy\n",
      "0 .\\p008698.npy\n",
      "0 .\\p008723.npy\n",
      "0 .\\p008735.npy\n",
      "0 .\\p008748.npy\n",
      "0 .\\p008780.npy\n",
      "0 .\\p008795.npy\n",
      "0 .\\p008799.npy\n",
      "0 .\\p008848.npy\n",
      "0 .\\p008915.npy\n",
      "0 .\\p009124.npy\n",
      "0 .\\p009258.npy\n",
      "0 .\\p009473.npy\n",
      "0 .\\p009889.npy\n",
      "0 .\\p009965.npy\n",
      "0 .\\p009993.npy\n"
     ]
    }
   ],
   "source": [
    "OUTPUT_DIR = r\"F:\\minowa\\BloodPressureEstimation\\data\\processed\\sig_npy\\1107_concat\\p00\"\n",
    "files = glob.glob(\".\\*\",root_dir=OUTPUT_DIR)\n",
    "print(len(files))\n",
    "for file in files:\n",
    "    a = np.load(OUTPUT_DIR+\"\\\\\"+file)\n",
    "    print(np.sum((np.isnan(a))),file)"
   ]
  },
  {
   "cell_type": "markdown",
   "metadata": {},
   "source": [
    "血圧の正規化"
   ]
  },
  {
   "cell_type": "code",
   "execution_count": null,
   "metadata": {},
   "outputs": [],
   "source": [
    "def npy_fix_1120(dir1):\n",
    "    DATA_DIR = r\"F:\\minowa\\BloodPressureEstimation\\data\\processed\\sig_npy\\1107_concat\\p00\"\n",
    "    OUTPUT_DIR = r\"F:\\minowa\\BloodPressureEstimation\\data\\processed\\sig_npy\\1120\"\n",
    "    # os.makedirs(f\"{OUTPUT_DIR}\\\\p00\\{dir1}\",exist_ok=True)\n",
    "    files = glob.glob(dir1+\"\\*\",root_dir=DATA_DIR)\n",
    "    out_path = f\"{OUTPUT_DIR}\\\\p00\\{dir1}.npy\"\n",
    "    s = []\n",
    "    count = 0\n",
    "    for file in files:\n",
    "        sig = np.load(os.path.join(DATA_DIR,file))\n",
    "        sig[:,0] = sig[:,0]- 0.5\n",
    "        np.save(out_path,sig)\n",
    "    else:\n",
    "        print(\"##### NO SIGNAL:\", dir1)"
   ]
  },
  {
   "cell_type": "markdown",
   "metadata": {},
   "source": [
    "平均値確認"
   ]
  },
  {
   "cell_type": "code",
   "execution_count": 73,
   "metadata": {},
   "outputs": [
    {
     "name": "stderr",
     "output_type": "stream",
     "text": [
      "100%|██████████| 121/121 [00:06<00:00, 18.26it/s]"
     ]
    },
    {
     "name": "stdout",
     "output_type": "stream",
     "text": [
      "sum: 1087896944.2445848, mean: 0.39593121533751857\n"
     ]
    },
    {
     "name": "stderr",
     "output_type": "stream",
     "text": [
      "\n"
     ]
    }
   ],
   "source": [
    "DATA_DIR = r\"F:\\minowa\\BloodPressureEstimation\\data\\processed\\sig_npy\\1107_concat\\p00\"\n",
    "files = glob.glob(\"*.npy\",root_dir=DATA_DIR)\n",
    "count = 0\n",
    "sum_ = 0\n",
    "for i in tqdm(range(len(files))):\n",
    "    sig = np.load(os.path.join(DATA_DIR,files[i]))\n",
    "    # print(sig.shape)\n",
    "    if sig.shape[0] == 0:\n",
    "        continue\n",
    "    count += sig.shape[0]*sig.shape[1]\n",
    "    sum_ += np.sum(sig[:,:,0],dtype=np.float64)\n",
    "    \n",
    "    # print(np.count_nonzero(np.isnan(sig[:,:,0])),np.sum(sig[:,:,0],dtype=np.float64))\n",
    "mean = sum_/count\n",
    "print(f\"sum: {sum_}, mean: {mean}\")"
   ]
  },
  {
   "cell_type": "markdown",
   "metadata": {},
   "source": [
    "分散"
   ]
  },
  {
   "cell_type": "code",
   "execution_count": 76,
   "metadata": {},
   "outputs": [
    {
     "name": "stderr",
     "output_type": "stream",
     "text": [
      "100%|██████████| 121/121 [00:24<00:00,  4.90it/s]"
     ]
    },
    {
     "name": "stdout",
     "output_type": "stream",
     "text": [
      "sum: 50001803.95393777, var: 0.018197748521389383, std: 0.13489903083932583\n"
     ]
    },
    {
     "name": "stderr",
     "output_type": "stream",
     "text": [
      "\n"
     ]
    }
   ],
   "source": [
    "count_v = 0\n",
    "sum_v = 0\n",
    "for i in tqdm(range(len(files))):\n",
    "    sig = np.load(os.path.join(DATA_DIR,files[i]))\n",
    "    # print(sig.shape)\n",
    "    if sig.shape[0] == 0:\n",
    "        continue\n",
    "    count_v += sig.shape[0]*sig.shape[1]\n",
    "    sum_v += np.sum((sig[:,:,0]-mean)**2,dtype=np.float64)\n",
    "var = sum_v/count_v\n",
    "std_ppg = np.sqrt(var)\n",
    "print(f\"sum: {sum_v}, var: {var}, std: {std}\")"
   ]
  },
  {
   "cell_type": "code",
   "execution_count": 78,
   "metadata": {},
   "outputs": [
    {
     "data": {
      "text/plain": [
       "(0.21641792239719568, 0.3407132997188129)"
      ]
     },
     "execution_count": 78,
     "metadata": {},
     "output_type": "execute_result"
    }
   ],
   "source": [
    "0.10694360087091538 /0.494153162946643,0.13489903083932583/0.39593121533751857\n"
   ]
  },
  {
   "cell_type": "code",
   "execution_count": null,
   "metadata": {},
   "outputs": [],
   "source": []
  },
  {
   "cell_type": "markdown",
   "metadata": {},
   "source": [
    "ppg\n",
    "- mean: 0.494153162946643\n",
    "- std: 0.10694360087091538  \n",
    "\n",
    "abp\n",
    "- mean: 0.39593121533751857\n",
    "- std: 0.13489903083932583\n",
    "\n"
   ]
  },
  {
   "cell_type": "markdown",
   "metadata": {},
   "source": [
    "dtype確認"
   ]
  },
  {
   "cell_type": "code",
   "execution_count": 25,
   "metadata": {},
   "outputs": [
    {
     "name": "stdout",
     "output_type": "stream",
     "text": [
      "float64 (1321391, 2) [[115.77582515   0.5022476 ]\n",
      " [114.40685424   0.50146437]\n",
      " [113.82015243   0.50076913]\n",
      " [114.99355606   0.50019788]\n",
      " [117.34036332   0.49977193]\n",
      " [119.88273786   0.49949597]\n",
      " [121.83841059   0.49935813]\n",
      " [123.01181422   0.49935813]\n",
      " [123.40294876   0.49938282]\n",
      " [123.20738149   0.49946932]]\n"
     ]
    }
   ],
   "source": [
    "x = np.load(r\"D:\\minowa\\BloodPressureEstimation\\data\\processed\\npy\\1030\\p00\\p000160\\3531764_0003.npy\")\n",
    "print(x.dtype,x.shape,x[100:110,:])"
   ]
  },
  {
   "cell_type": "code",
   "execution_count": 44,
   "metadata": {},
   "outputs": [
    {
     "name": "stdout",
     "output_type": "stream",
     "text": [
      "0.04869699478149414\n",
      "0.02124548401417455\n"
     ]
    }
   ],
   "source": [
    "x = np.load(r\"F:\\minowa\\BloodPressureEstimation\\data\\processed\\sig_npy\\1120\\p00\\p008281.npy\")\n",
    "print(np.max(np.abs((x[100:110,:]-x[100:110,:].astype(np.float16)).astype(np.float64)*200)))\n",
    "print(np.mean(np.abs(((x[100:1000,:]-(x[100:1000,:]+0.4).astype(np.float16)).astype(np.float64)+0.4)*200)))\n",
    "# print(x.dtype,x.shape,x[100:110,:],x[100:110,:].astype(np.float16))\n"
   ]
  }
 ],
 "metadata": {
  "kernelspec": {
   "display_name": ".venv",
   "language": "python",
   "name": "python3"
  },
  "language_info": {
   "codemirror_mode": {
    "name": "ipython",
    "version": 3
   },
   "file_extension": ".py",
   "mimetype": "text/x-python",
   "name": "python",
   "nbconvert_exporter": "python",
   "pygments_lexer": "ipython3",
   "version": "3.10.11"
  }
 },
 "nbformat": 4,
 "nbformat_minor": 2
}
