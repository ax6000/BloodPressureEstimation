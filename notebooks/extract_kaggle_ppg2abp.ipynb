{
 "cells": [
  {
   "cell_type": "code",
   "execution_count": 1,
   "metadata": {},
   "outputs": [],
   "source": [
    "# importing libraries\n",
    "import numpy as np # For numerical computation\n",
    "import pandas as pd # Data manipulation\n",
    "import seaborn as sns # plotting\n",
    "import scipy.io # reading matlab files in python\n",
    "from scipy import signal #signal processing\n",
    "from scipy.fftpack import fft, dct #signal processing\n",
    "from tqdm import tqdm\n",
    "from sklearn.linear_model import LinearRegression #linear regression model\n",
    "from sklearn.ensemble import RandomForestRegressor\n",
    "from sklearn.model_selection import KFold, train_test_split # cross validation split\n",
    "from sklearn.metrics import mean_squared_error\n",
    "import warnings\n",
    "warnings.filterwarnings('ignore')\n",
    "\n",
    "from matplotlib import pyplot as plt # For plotting graphs(Visualization)\n",
    "\n",
    "import os # system-wide functions"
   ]
  },
  {
   "cell_type": "code",
   "execution_count": 2,
   "metadata": {},
   "outputs": [
    {
     "name": "stdout",
     "output_type": "stream",
     "text": [
      "sample_file Data type: <class 'dict'>\n",
      "sample_file keys:\n",
      "dict_keys(['__header__', '__version__', '__globals__', 'p'])\n"
     ]
    }
   ],
   "source": [
    "sample_file = scipy.io.loadmat(f'../data/raw/BloodPressureDataset/part_{1}.mat')\n",
    "print(f'sample_file Data type: {type(sample_file)}')\n",
    "print(f'sample_file keys:\\n{sample_file.keys()}')"
   ]
  },
  {
   "cell_type": "code",
   "execution_count": 3,
   "metadata": {},
   "outputs": [
    {
     "name": "stdout",
     "output_type": "stream",
     "text": [
      "test_sample Data type: <class 'numpy.ndarray'>\n",
      "test_sample shape/dimensions: (1, 1000)\n"
     ]
    }
   ],
   "source": [
    "# Loading a sample .mat file to understand the data dimensions\n",
    "test_sample = sample_file['p']\n",
    "print(f'test_sample Data type: {type(test_sample)}')\n",
    "print(f'test_sample shape/dimensions: {test_sample.shape}')"
   ]
  },
  {
   "cell_type": "code",
   "execution_count": 4,
   "metadata": {},
   "outputs": [
    {
     "name": "stdout",
     "output_type": "stream",
     "text": [
      "(1000,)\n",
      "(3, 61000)\n",
      "1.7595307917888563\n",
      "<class 'numpy.float64'>\n"
     ]
    }
   ],
   "source": [
    "print(test_sample[0].shape)\n",
    "print(test_sample[0][0].shape)\n",
    "print(test_sample[0][0][0][0])\n",
    "print(type(test_sample[0][0][0][0]))\n",
    "# for i in range(1000):\n",
    "    # print(test_sample[0][i].shape[1])"
   ]
  },
  {
   "cell_type": "code",
   "execution_count": 9,
   "metadata": {},
   "outputs": [
    {
     "name": "stdout",
     "output_type": "stream",
     "text": [
      "(2, 61000)\n",
      "(61000, 2) [67.06295517  1.75953079]\n"
     ]
    }
   ],
   "source": [
    "\n",
    "target = test_sample[0][0][:2,:]\n",
    "print(target.shape)\n",
    "target = target.transpose(1,0)\n",
    "print(target.shape)"
   ]
  },
  {
   "cell_type": "markdown",
   "metadata": {},
   "source": []
  },
  {
   "cell_type": "code",
   "execution_count": 11,
   "metadata": {},
   "outputs": [],
   "source": [
    "def minmax_norm(sig):\n",
    "    return (sig-np.nanmin(sig))/(np.nanmax(sig)-np.nanmin(sig))"
   ]
  },
  {
   "cell_type": "code",
   "execution_count": 16,
   "metadata": {},
   "outputs": [
    {
     "name": "stderr",
     "output_type": "stream",
     "text": [
      "100%|██████████| 1000/1000 [00:00<00:00, 1515.15it/s]\n",
      "100%|██████████| 1000/1000 [00:00<00:00, 1769.91it/s]\n",
      "100%|██████████| 1000/1000 [00:00<00:00, 1748.25it/s]\n",
      "100%|██████████| 1000/1000 [00:00<00:00, 1466.28it/s]\n",
      "100%|██████████| 1000/1000 [00:00<00:00, 1718.22it/s]\n",
      "100%|██████████| 1000/1000 [00:00<00:00, 1618.25it/s]\n",
      "100%|██████████| 1000/1000 [00:00<00:00, 2680.96it/s]\n",
      "100%|██████████| 1000/1000 [00:00<00:00, 1818.09it/s]\n",
      "100%|██████████| 1000/1000 [00:00<00:00, 1730.09it/s]\n",
      "100%|██████████| 1000/1000 [00:00<00:00, 1626.00it/s]\n",
      "100%|██████████| 1000/1000 [00:00<00:00, 1776.20it/s]\n",
      "100%|██████████| 1000/1000 [00:00<00:00, 2105.26it/s]\n"
     ]
    }
   ],
   "source": [
    "sample_size = 38000 # 125 * 60* 5\n",
    "signal_windowed = []\n",
    "signal_windowed_train = []\n",
    "signal_windowed_test = []\n",
    "for i in range(12):\n",
    "    data = scipy.io.loadmat(f'../data/raw/BloodPressureDataset/part_{i+1}.mat')['p']\n",
    "    os.makedirs(f\"../data/raw/BPDataset_norm/p00/p0000{i:02d}\",exist_ok=True)\n",
    "    for j in tqdm(range(1000)):\n",
    "        # windowing\n",
    "        number = str(i*1000+j)\n",
    "        target = data[0][j][:2,:]\n",
    "        # (2, n) -> (n, 2)\n",
    "        target = target.transpose(1,0)\n",
    "        # [ppg,abp] ->[abp,ppg] \n",
    "        target = target[:,[1,0]]\n",
    "        target[:,1] = minmax_norm(target[:,1])\n",
    "        np.save(f\"../data/raw/BPDataset_norm/p00/p0000{i:02d}/0000000_{j:04d}.npy\",target)\n",
    "        "
   ]
  }
 ],
 "metadata": {
  "kernelspec": {
   "display_name": ".venv",
   "language": "python",
   "name": "python3"
  },
  "language_info": {
   "codemirror_mode": {
    "name": "ipython",
    "version": 3
   },
   "file_extension": ".py",
   "mimetype": "text/x-python",
   "name": "python",
   "nbconvert_exporter": "python",
   "pygments_lexer": "ipython3",
   "version": "3.10.11"
  }
 },
 "nbformat": 4,
 "nbformat_minor": 2
}
