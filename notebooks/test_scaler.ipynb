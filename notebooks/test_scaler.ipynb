{
 "cells": [
  {
   "cell_type": "code",
   "execution_count": 11,
   "metadata": {},
   "outputs": [],
   "source": [
    "import argparse\n",
    "import glob\n",
    "import numpy as np\n",
    "import os \n",
    "from tqdm import tqdm\n",
    "import matplotlib.pyplot as plt\n",
    "from tabulate import tabulate\n",
    "import json\n",
    "from sklearn.preprocessing import MinMaxScaler\n",
    "from sklearn.metrics import mean_absolute_error\n",
    "def calc_min_max(x):\n",
    "    # x = (x.astype(np.float32)/127.5-1)\n",
    "    return np.nanmin(x,axis=1),np.nanmax(x,axis=1)"
   ]
  },
  {
   "cell_type": "code",
   "execution_count": 24,
   "metadata": {},
   "outputs": [],
   "source": [
    "src = r\"..\\repos\\Palette\\experiments\\train_BPv8_complete_6\"\n",
    "epoch = 53 \n",
    "epoch = str(epoch)"
   ]
  },
  {
   "cell_type": "code",
   "execution_count": 37,
   "metadata": {},
   "outputs": [
    {
     "data": {
      "text/plain": [
       "((44866, 256, 2), dtype('float64'))"
      ]
     },
     "execution_count": 37,
     "metadata": {},
     "output_type": "execute_result"
    }
   ],
   "source": [
    "scales.dtype\n",
    "val = np.load(os.path.join(r\"..\\repos\\Palette\",scale_dir,\"validate.npy\"))\n",
    "val.shape,val.dtype"
   ]
  },
  {
   "cell_type": "code",
   "execution_count": 29,
   "metadata": {},
   "outputs": [
    {
     "name": "stdout",
     "output_type": "stream",
     "text": [
      "..\\..\\data\\processed\\BP_npy\\0325_256_corr\\p00\n"
     ]
    },
    {
     "name": "stderr",
     "output_type": "stream",
     "text": [
      "  0%|          | 0/173 [00:00<?, ?it/s]"
     ]
    },
    {
     "name": "stderr",
     "output_type": "stream",
     "text": [
      "100%|██████████| 173/173 [00:00<00:00, 1820.99it/s]"
     ]
    },
    {
     "name": "stdout",
     "output_type": "stream",
     "text": [
      "(500, 256)\n"
     ]
    },
    {
     "name": "stderr",
     "output_type": "stream",
     "text": [
      "\n"
     ]
    },
    {
     "name": "stdout",
     "output_type": "stream",
     "text": [
      "(1, 2) (86272, 256) (86272, 256) [[-0.38464342  0.00769287]]\n"
     ]
    }
   ],
   "source": [
    "with open(os.path.join(src,\"config.json\"), \"r\") as file:\n",
    "    json_data = json.load(file)\n",
    "\n",
    "scale_dir = json_data[\"datasets\"][\"train\"][\"which_dataset\"][\"args\"][\"data_root\"]\n",
    "print(scale_dir)\n",
    "\n",
    "# load scale file\n",
    "scales = np.load(os.path.join(r\"..\\repos\\Palette\",scale_dir,\"scale_train.npy\"))\n",
    "\n",
    "result_dir = os.path.join(src,\"results\",\"test\",epoch)\n",
    "gt = []\n",
    "cond= []\n",
    "out = []\n",
    "gt_files = glob.glob(f\"{result_dir}\\GT_*.npy\")\n",
    "cond_files = glob.glob(f\"{result_dir}\\Process_*.npy\")\n",
    "out_files = glob.glob(f\"{result_dir}\\OUT_*.npy\")\n",
    "for j in tqdm(range(len(gt_files))):\n",
    "    gt.append(np.load(os.path.join(gt_files[j])))\n",
    "    cond.append(np.load(os.path.join(cond_files[j])))\n",
    "    out.append(np.load(os.path.join(out_files[j])))\n",
    "print(gt[-1].shape)\n",
    "out1 = np.concatenate(out,axis=0)\n",
    "gt1 = np.concatenate(gt,axis=0)\n",
    "cond1 = np.concatenate(cond,axis=0)\n",
    "out1 = out1.astype(np.float32)\n",
    "gt1 = gt1.astype(np.float32)\n",
    "cond1 = cond1.astype(np.float32)\n",
    "scales = scales[:out1.shape[0]]\n",
    "print(scales.shape,gt1.shape,out1.shape,scales)\n",
    "# 正規化を元に戻す\n",
    "gt1[:] -= scales[:,0][:, None]\n",
    "gt1[:] /= scales[:,1][:, None]\n",
    "out1[:] -= scales[:,0][:, None]\n",
    "out1[:] /= scales[:,1][:, None]"
   ]
  },
  {
   "cell_type": "code",
   "execution_count": 30,
   "metadata": {},
   "outputs": [
    {
     "name": "stdout",
     "output_type": "stream",
     "text": [
      "(86272, 256) (86272, 256)\n"
     ]
    }
   ],
   "source": [
    "out2 = np.concatenate(out,axis=0)\n",
    "gt2 = np.concatenate(gt,axis=0)\n",
    "out2 =out2.astype(np.float32)\n",
    "gt2 = gt2.astype(np.float32)\n",
    "\n",
    "print(out2.shape,gt2.shape)\n",
    "scaler = MinMaxScaler()\n",
    "scaler.min_ = scales[0,0]\n",
    "scaler.scale_ = scales[0,1]\n",
    "out2 = scaler.inverse_transform(out2.reshape(1, -1) ).reshape(-1,256)\n",
    "gt2 = scaler.inverse_transform(gt2.reshape(1, -1) ).reshape(-1,256)"
   ]
  },
  {
   "cell_type": "code",
   "execution_count": 31,
   "metadata": {},
   "outputs": [
    {
     "data": {
      "text/plain": [
       "(dtype('float32'), dtype('float16'), dtype('float16'))"
      ]
     },
     "execution_count": 31,
     "metadata": {},
     "output_type": "execute_result"
    }
   ],
   "source": [
    "out2.dtype,out[0].dtype,gt[0].dtype"
   ]
  },
  {
   "cell_type": "code",
   "execution_count": 32,
   "metadata": {},
   "outputs": [
    {
     "data": {
      "text/plain": [
       "9.0270834e-07"
      ]
     },
     "execution_count": 32,
     "metadata": {},
     "output_type": "execute_result"
    }
   ],
   "source": [
    "mean_absolute_error(out1.flatten(),out2.flatten())"
   ]
  },
  {
   "cell_type": "code",
   "execution_count": 35,
   "metadata": {},
   "outputs": [
    {
     "name": "stdout",
     "output_type": "stream",
     "text": [
      "0\n",
      "Signal       Mean      Std\n",
      "--------  -------  -------\n",
      "cond_ppg   0.4231   0.0132\n",
      "gt        90.2553  12.7645\n",
      "out       94.3540  13.1323\n",
      "0\n",
      "error shape: (2, 86272)\n",
      "n_samples: 86272\n",
      "(2,) (2,) (2,) (2,)\n",
      "\n",
      "        test data samples:\n",
      "        # samples : 86272\n",
      "        \n",
      "        Eval Stats:   SBP    DBP\n",
      "        MAE:         9.707 20.687\n",
      "        RMSE:       12.692 25.669\n",
      "        Mean Error: -2.636 -7.879\n",
      "        STD:        12.415 24.430\n",
      "        \n",
      "        BHS standards range:\n",
      "        Error   <5mmHg <10mmHg <15mmHg\n",
      "        gradeA     60%     85%     95%\n",
      "        gradeB     50%     75%     90%\n",
      "        gradeC     40%     65%     85%\n",
      "        SBP      35.1%   61.8%   78.3%\n",
      "        DBP      15.2%   29.6%   43.2%\n",
      "        \n",
      "        \n",
      "        \n"
     ]
    }
   ],
   "source": [
    "gt_mean = np.mean(gt1.flatten())\n",
    "out_mean = np.mean(out1.flatten())\n",
    "cond_mean = np.mean(cond1.flatten())\n",
    "gt_std = np.std(gt1.mean(axis=1),dtype=np.float64)\n",
    "out_std = np.std(out1.mean(axis=1),dtype=np.float64)\n",
    "cond_std = np.std(cond1.mean(axis=1),dtype=np.float64)\n",
    "print(np.count_nonzero(np.isnan(out1)))\n",
    "\n",
    "headers = [\"Signal\", \"Mean\",\"Std\"]\n",
    "table=[]\n",
    "table.append([\"cond_ppg\",cond_mean,cond_std])\n",
    "# table.append([\"data_ppg\", 0.494153162946643,0.10694360087091538])\n",
    "# table.append([\"data_abp\",0.39593121533751857,0.13489903083932583])\n",
    "table.append([\"gt\",gt_mean,gt_std])\n",
    "table.append([\"out\",out_mean,out_std])\n",
    "print(tabulate(table,headers, floatfmt=\".4f\"))\n",
    "# 血圧の最大値(SBP)最小値(DBP)を計算\n",
    "gt_min,gt_max = calc_min_max(gt1)\n",
    "out_min,out_max = calc_min_max(out1)\n",
    "# 誤差\n",
    "errors = np.zeros((2,*out_min.shape))\n",
    "errors[0,:]=gt_min-out_min\n",
    "errors[1,:]=gt_max-out_max\n",
    "errors = errors[:,~np.isnan(errors).any(axis=0)]\n",
    "print(np.count_nonzero(np.isnan(errors)))\n",
    "print(\"error shape:\",errors.shape)\n",
    "n_samples = errors.shape[1]\n",
    "print(\"n_samples:\",n_samples)\n",
    "me = np.mean(errors,axis=1)\n",
    "mae = np.mean(np.abs(errors),axis=1)\n",
    "rmse = np.sqrt(np.mean(errors**2,axis=1))\n",
    "std = np.std(errors,axis=1)\n",
    "print(me.shape,mae.shape,rmse.shape,std.shape)\n",
    "error_5 = np.count_nonzero(np.abs(errors)<=5,axis=1)/n_samples*100\n",
    "error_15 = np.count_nonzero(np.abs(errors)<=15,axis=1)/n_samples*100\n",
    "error_10 = np.count_nonzero(np.abs(errors)<=10,axis=1)/n_samples*100\n",
    "print(\"\"\"\n",
    "        test data samples:\n",
    "        # samples : {}\n",
    "        \n",
    "        Eval Stats:   SBP    DBP\n",
    "        MAE:        {:6.3f} {:6.3f}\n",
    "        RMSE:       {:6.3f} {:6.3f}\n",
    "        Mean Error: {:6.3f} {:6.3f}\n",
    "        STD:        {:6.3f} {:6.3f}\n",
    "        \n",
    "        BHS standards range:\n",
    "        Error   <5mmHg <10mmHg <15mmHg\n",
    "        gradeA     60%     85%     95%\n",
    "        gradeB     50%     75%     90%\n",
    "        gradeC     40%     65%     85%\n",
    "        SBP     {:5.1f}%  {:5.1f}%  {:5.1f}%\n",
    "        DBP     {:5.1f}%  {:5.1f}%  {:5.1f}%\n",
    "        \n",
    "        \n",
    "        \"\"\".format(\n",
    "        n_samples,\n",
    "        *mae,\n",
    "        *rmse,\n",
    "        *me,\n",
    "        *std,\n",
    "        error_5[0], error_10[0], error_15[0],\n",
    "        error_5[1], error_10[1], error_15[1],\n",
    "        ))"
   ]
  },
  {
   "cell_type": "code",
   "execution_count": 38,
   "metadata": {},
   "outputs": [
    {
     "name": "stdout",
     "output_type": "stream",
     "text": [
      "(44866, 256, 2) (86304, 256, 2)\n"
     ]
    }
   ],
   "source": [
    "data_root = r\"../data/processed/BP_npy/0325_256_corr/p00\"\n",
    "val = np.load(os.path.join(data_root,\"validate.npy\"))\n",
    "test = np.load(os.path.join(data_root,\"test.npy\"))\n",
    "scale = np.load(os.path.join(data_root,\"scale_train.npy\"))\n",
    "print(val.shape,test.shape)\n",
    "scaler = MinMaxScaler()\n",
    "scaler.min_ = scales[0,0]\n",
    "scaler.scale_ = scales[0,1]\n",
    "val_ppg= scaler.inverse_transform(out2.reshape(1, -1) ).reshape(-1,256)\n",
    "gt2 = scaler.inverse_transform(gt2.reshape(1, -1) ).reshape(-1,256)\n"
   ]
  }
 ],
 "metadata": {
  "kernelspec": {
   "display_name": ".venv",
   "language": "python",
   "name": "python3"
  },
  "language_info": {
   "codemirror_mode": {
    "name": "ipython",
    "version": 3
   },
   "file_extension": ".py",
   "mimetype": "text/x-python",
   "name": "python",
   "nbconvert_exporter": "python",
   "pygments_lexer": "ipython3",
   "version": "3.10.11"
  }
 },
 "nbformat": 4,
 "nbformat_minor": 2
}
