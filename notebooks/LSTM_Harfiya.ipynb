{
 "cells": [
  {
   "cell_type": "code",
   "execution_count": 1,
   "metadata": {},
   "outputs": [],
   "source": [
    "import torch\n",
    "import torch.nn as nn\n",
    "import torch.optim as optim\n",
    "import torch.nn.functional as F\n",
    "from torch.utils.data import DataLoader, TensorDataset\n",
    "import numpy as np"
   ]
  },
  {
   "cell_type": "code",
   "execution_count": null,
   "metadata": {},
   "outputs": [],
   "source": [
    "class LSTM_Autoencoder(nn.Module):\n",
    "    def __init__(self, input_size, hidden_size, num_layers, dropout_rate):\n",
    "        super(LSTM_Autoencoder, self).__init__()\n",
    "        \n",
    "        # Encoder (LSTM)\n",
    "        self.encoder = nn.Sequential(nn.LSTM(input_size=input_size, hidden_size=hidden_size, num_layers=num_layers, batch_first=True),\n",
    "                                     nn.LSTM(input_size=input_size, hidden_size=hidden_size, num_layers=num_layers, batch_first=True))\n",
    "        \n",
    "        # Decoder (LSTM)\n",
    "        self.decoder = nn.Sequential(nn.LSTM(input_size=input_size, hidden_size=hidden_size, num_layers=num_layers, batch_first=True),\n",
    "                                     nn.LSTM(input_size=input_size, hidden_size=hidden_size, num_layers=num_layers, batch_first=True),\n",
    "                                     nn.Dropout(dropout_rate))\n",
    "        \n",
    "        # Output layer (to map the hidden state back to input size)\n",
    "        self.output_layer = nn.Linear(hidden_size, input_size)\n",
    "        \n",
    "    def forward(self, x):\n",
    "        # Encoding phase\n",
    "        _, (hn, _) = self.encoder(x)\n",
    "        \n",
    "        # Repeat hidden state for each time step (for decoding)\n",
    "        h_n = hn[-1].unsqueeze(1).repeat(1, x.size(1), 1)\n",
    "        \n",
    "        # Decoding phase\n",
    "        decoded, _ = self.decoder(h_n)\n",
    "        \n",
    "        # Output prediction\n",
    "        output = self.output_layer(decoded)\n",
    "        \n",
    "        return output\n"
   ]
  },
  {
   "cell_type": "code",
   "execution_count": null,
   "metadata": {},
   "outputs": [],
   "source": [
    "# ハイパーパラメータ\n",
    "input_size = 128  # 入力次元\n",
    "hidden_size = 128  # LSTMの隠れ層のユニット数\n",
    "num_layers = 2  # LSTMの層数\n",
    "dropout_rate = 0.2  # ドロップアウトの割合\n",
    "learning_rate = 0.0025  # 学習率\n",
    "epochs = 50  # 最大エポック数\n",
    "batch_size = 64  # バッチサイズ\n"
   ]
  },
  {
   "cell_type": "code",
   "execution_count": null,
   "metadata": {},
   "outputs": [],
   "source": [
    "# ダミーデータの作成\n",
    "def generate_synthetic_data(num_samples, seq_length, input_size):\n",
    "    data = np.random.rand(num_samples, seq_length, input_size).astype(np.float32)\n",
    "    return torch.tensor(data)\n",
    "\n",
    "# データの準備\n",
    "num_samples = 1000\n",
    "seq_length = 10  # シーケンスの長さ\n",
    "data = generate_synthetic_data(num_samples, seq_length, input_size)\n",
    "\n",
    "# データセットの作成\n",
    "dataset = TensorDataset(data, data)  # オートエンコーダでは、入力とターゲットが同じ\n",
    "data_loader = DataLoader(dataset, batch_size=batch_size, shuffle=True)\n"
   ]
  },
  {
   "cell_type": "code",
   "execution_count": null,
   "metadata": {},
   "outputs": [],
   "source": [
    "# モデルのインスタンス化\n",
    "model = LSTM_Autoencoder(input_size=input_size, hidden_size=hidden_size, num_layers=num_layers, dropout_rate=dropout_rate)\n",
    "\n",
    "# モデルのデバイスへの移動\n",
    "device = torch.device('cuda' if torch.cuda.is_available() else 'cpu')\n",
    "model.to(device)\n",
    "\n",
    "# 最適化手法の定義\n",
    "optimizer = optim.Adam(model.parameters(), lr=learning_rate)\n"
   ]
  },
  {
   "cell_type": "code",
   "execution_count": null,
   "metadata": {},
   "outputs": [],
   "source": [
    "# 損失関数の定義（MSE損失を使用）\n",
    "criterion = nn.MSELoss()\n",
    "\n",
    "# 学習ループ\n",
    "for epoch in range(epochs):\n",
    "    model.train()\n",
    "    running_loss = 0.0\n",
    "    \n",
    "    for batch_idx, (inputs, targets) in enumerate(data_loader):\n",
    "        inputs, targets = inputs.to(device), targets.to(device)\n",
    "        \n",
    "        # 順伝播\n",
    "        outputs = model(inputs)\n",
    "        \n",
    "        # 損失の計算\n",
    "        loss = criterion(outputs, targets)\n",
    "        \n",
    "        # 勾配の初期化と逆伝播\n",
    "        optimizer.zero_grad()\n",
    "        loss.backward()\n",
    "        \n",
    "        # パラメータの更新\n",
    "        optimizer.step()\n",
    "        \n",
    "        # バッチごとの損失を記録\n",
    "        running_loss += loss.item()\n",
    "        \n",
    "    # 1エポックごとに損失を表示\n",
    "    print(f\"Epoch [{epoch+1}/{epochs}], Loss: {running_loss / len(data_loader):.4f}\")\n"
   ]
  },
  {
   "cell_type": "code",
   "execution_count": null,
   "metadata": {},
   "outputs": [],
   "source": [
    "# 評価モードに切り替え\n",
    "model.eval()\n",
    "\n",
    "# 予測の実行\n",
    "with torch.no_grad():\n",
    "    test_data = generate_synthetic_data(100, seq_length, input_size)  # テストデータの生成\n",
    "    test_data = torch.tensor(test_data).to(device)\n",
    "    outputs = model(test_data)\n",
    "    \n",
    "    # 出力の表示（ここでは一部の出力を表示）\n",
    "    print(\"Predicted output:\", outputs[0].cpu().numpy())\n"
   ]
  }
 ],
 "metadata": {
  "kernelspec": {
   "display_name": ".venv",
   "language": "python",
   "name": "python3"
  },
  "language_info": {
   "codemirror_mode": {
    "name": "ipython",
    "version": 3
   },
   "file_extension": ".py",
   "mimetype": "text/x-python",
   "name": "python",
   "nbconvert_exporter": "python",
   "pygments_lexer": "ipython3",
   "version": "3.10.11"
  }
 },
 "nbformat": 4,
 "nbformat_minor": 2
}
