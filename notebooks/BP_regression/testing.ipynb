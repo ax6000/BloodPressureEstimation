{
 "cells": [
  {
   "cell_type": "code",
   "execution_count": 1,
   "metadata": {},
   "outputs": [],
   "source": [
    "import numpy as np\n",
    "import seaborn as sns"
   ]
  },
  {
   "cell_type": "code",
   "execution_count": 2,
   "metadata": {},
   "outputs": [],
   "source": [
    "bp_data = np.load('../../data/processed/BP_npy/PulseDB/test_sbp.npy')\n",
    "\n",
    "# ラベリング関数の定義\n",
    "def label_blood_pressure(bp):\n",
    "    if bp <= 100:\n",
    "        return 0    # 正常血圧\n",
    "    elif 100 < bp < 120:\n",
    "        return 1    # 正常血圧\n",
    "    elif 120 < bp < 140:\n",
    "        return 2    # 正常高値血圧\n",
    "    else:\n",
    "        return 3    # 高血圧\n",
    "\n",
    "# ベクトル化した関数を作成\n",
    "vectorized_label = np.vectorize(label_blood_pressure)\n",
    "\n",
    "# データ全体にラベリングを適用\n",
    "bp_labels = vectorized_label(bp_data)"
   ]
  },
  {
   "cell_type": "code",
   "execution_count": 10,
   "metadata": {},
   "outputs": [
    {
     "name": "stdout",
     "output_type": "stream",
     "text": [
      "ラベルの分布:\n",
      "ラベル 0: 20674件\n",
      "ラベル 1: 41043件\n",
      "ラベル 2: 32447件\n",
      "ラベル 3: 17436件\n"
     ]
    }
   ],
   "source": [
    "print(\"ラベルの分布:\")\n",
    "unique, counts = np.unique(bp_labels, return_counts=True)\n",
    "for label, count in zip(unique, counts):\n",
    "    print(f\"ラベル {label}: {count}件\")"
   ]
  },
  {
   "cell_type": "code",
   "execution_count": 2,
   "metadata": {},
   "outputs": [],
   "source": [
    "import os\n",
    "import numpy as np\n",
    "import matplotlib.pyplot as plt\n",
    "import torch\n",
    "import torch.nn as nn\n",
    "import torch.optim as optim\n",
    "from torch.utils.data import DataLoader, Dataset\n",
    "from tqdm import tqdm\n",
    "import wandb\n",
    "from sklearn.metrics import f1_score\n",
    "from resnet1d import ResNet1D"
   ]
  },
  {
   "cell_type": "code",
   "execution_count": 3,
   "metadata": {},
   "outputs": [],
   "source": [
    "from resnet1d import ResNet1D\n",
    "config = {\n",
    "    \"network\":{\n",
    "        \"in_channels\":1,\n",
    "        \"base_filters\":64,\n",
    "        \"kernel_size\":3,\n",
    "        \"stride\":1,\n",
    "        \"groups\":1,\n",
    "        \"n_block\":5,\n",
    "        \"n_classes\":4,\n",
    "    },\n",
    "    \"learning_rate\": 1e-3,\n",
    "    \"batch_size\": 32,\n",
    "    \"epochs\":100,\n",
    "    \"log_interval\":100,\n",
    "    \"input_shape\":[1,1250],\n",
    "    \"output_path\": \"..\\\\outputs\\\\resnet\\\\0304_4classes\",\n",
    "    \"patience\":10    \n",
    "          }\n",
    "model = ResNet1D(**config[\"network\"])"
   ]
  },
  {
   "cell_type": "code",
   "execution_count": 4,
   "metadata": {},
   "outputs": [
    {
     "ename": "NameError",
     "evalue": "name 'device' is not defined",
     "output_type": "error",
     "traceback": [
      "\u001b[1;31m---------------------------------------------------------------------------\u001b[0m",
      "\u001b[1;31mNameError\u001b[0m                                 Traceback (most recent call last)",
      "Cell \u001b[1;32mIn[4], line 2\u001b[0m\n\u001b[0;32m      1\u001b[0m model\u001b[38;5;241m.\u001b[39mload_state_dict(torch\u001b[38;5;241m.\u001b[39mload(\u001b[38;5;124m'\u001b[39m\u001b[38;5;124m..\u001b[39m\u001b[38;5;130;01m\\\\\u001b[39;00m\u001b[38;5;124moutputs\u001b[39m\u001b[38;5;130;01m\\\\\u001b[39;00m\u001b[38;5;124mresnet\u001b[39m\u001b[38;5;130;01m\\\\\u001b[39;00m\u001b[38;5;124m0304_4class\u001b[39m\u001b[38;5;130;01m\\\\\u001b[39;00m\u001b[38;5;124mbest.pth\u001b[39m\u001b[38;5;124m'\u001b[39m))\n\u001b[1;32m----> 2\u001b[0m model\u001b[38;5;241m.\u001b[39mto(\u001b[43mdevice\u001b[49m)\n\u001b[0;32m      3\u001b[0m model\u001b[38;5;241m.\u001b[39meval()\n",
      "\u001b[1;31mNameError\u001b[0m: name 'device' is not defined"
     ]
    }
   ],
   "source": [
    "model.load_state_dict(torch.load('..\\\\outputs\\\\resnet\\\\0304_4class\\\\best.pth'))\n",
    "model.to(device)\n",
    "model.eval()\n"
   ]
  },
  {
   "cell_type": "code",
   "execution_count": 20,
   "metadata": {},
   "outputs": [
    {
     "ename": "AttributeError",
     "evalue": "module 'torch' has no attribute '_utils'",
     "output_type": "error",
     "traceback": [
      "\u001b[1;31m---------------------------------------------------------------------------\u001b[0m",
      "\u001b[1;31mAttributeError\u001b[0m                            Traceback (most recent call last)",
      "Cell \u001b[1;32mIn[20], line 1\u001b[0m\n\u001b[1;32m----> 1\u001b[0m \u001b[43mtorch\u001b[49m\u001b[38;5;241;43m.\u001b[39;49m\u001b[43m_utils\u001b[49m\n",
      "File \u001b[1;32mf:\\minowa\\BloodPressureEstimation\\.venv\\lib\\site-packages\\torch\\__init__.py:1833\u001b[0m, in \u001b[0;36m__getattr__\u001b[1;34m(name)\u001b[0m\n\u001b[0;32m   1830\u001b[0m     \u001b[38;5;28;01mimport\u001b[39;00m \u001b[38;5;21;01mimportlib\u001b[39;00m\n\u001b[0;32m   1831\u001b[0m     \u001b[38;5;28;01mreturn\u001b[39;00m importlib\u001b[38;5;241m.\u001b[39mimport_module(\u001b[38;5;124mf\u001b[39m\u001b[38;5;124m\"\u001b[39m\u001b[38;5;124m.\u001b[39m\u001b[38;5;132;01m{\u001b[39;00mname\u001b[38;5;132;01m}\u001b[39;00m\u001b[38;5;124m\"\u001b[39m, \u001b[38;5;18m__name__\u001b[39m)\n\u001b[1;32m-> 1833\u001b[0m \u001b[38;5;28;01mraise\u001b[39;00m \u001b[38;5;167;01mAttributeError\u001b[39;00m(\u001b[38;5;124mf\u001b[39m\u001b[38;5;124m\"\u001b[39m\u001b[38;5;124mmodule \u001b[39m\u001b[38;5;124m'\u001b[39m\u001b[38;5;132;01m{\u001b[39;00m\u001b[38;5;18m__name__\u001b[39m\u001b[38;5;132;01m}\u001b[39;00m\u001b[38;5;124m'\u001b[39m\u001b[38;5;124m has no attribute \u001b[39m\u001b[38;5;124m'\u001b[39m\u001b[38;5;132;01m{\u001b[39;00mname\u001b[38;5;132;01m}\u001b[39;00m\u001b[38;5;124m'\u001b[39m\u001b[38;5;124m\"\u001b[39m)\n",
      "\u001b[1;31mAttributeError\u001b[0m: module 'torch' has no attribute '_utils'"
     ]
    }
   ],
   "source": [
    "torch._utils\n"
   ]
  },
  {
   "cell_type": "markdown",
   "metadata": {},
   "source": [
    "### dataset"
   ]
  },
  {
   "cell_type": "code",
   "execution_count": null,
   "metadata": {},
   "outputs": [],
   "source": [
    "from resnet1d import ResNet1D\n",
    "config = {\n",
    "    \"network\":{\n",
    "        \"in_channels\":1,\n",
    "        \"base_filters\":64,\n",
    "        \"kernel_size\":3,\n",
    "        \"stride\":1,\n",
    "        \"groups\":1,\n",
    "        \"n_block\":5,\n",
    "        \"n_classes\":2,\n",
    "    },\n",
    "    \"learning_rate\": 1e-3,\n",
    "    \"batch_size\": 32,\n",
    "    \"epochs\":100,\n",
    "    \"log_interval\":100,\n",
    "    \"input_shape\":[1,1250],\n",
    "    \"output_path\": \"..\\\\outputs\\\\resnet\\\\0408_2class_cv_res18\",\n",
    "    \"patience\":10    \n",
    "          }\n",
    "model = ResNet1D(**config[\"network\"])"
   ]
  },
  {
   "cell_type": "code",
   "execution_count": 26,
   "metadata": {},
   "outputs": [],
   "source": [
    "class BPDataset(Dataset):\n",
    "    def __init__(self, data_dir,train=True):\n",
    "        # Load data\n",
    "        if train:\n",
    "            self.x = np.load(f'{data_dir}/train.npy')[:, 1, :].reshape(-1,1,1250)  # Shape: (-1, 1250)\n",
    "            self.y = np.load(f'{data_dir}/train_sbp_2labels.npy')  # Shape: (-1,)\n",
    "            # self.x = np.load(f'{data_dir}/train_2.npy')[:, 1, :].reshape(-1,1,1250)  # Shape: (-1, 1250)\n",
    "            # self.y = np.load(f'{data_dir}/train_sbp_2labels.npy')  # Shape: (-1,)\n",
    "        else:\n",
    "            self.x = np.load(f'{data_dir}/test.npy')[:, 1, :].reshape(-1,1,1250)  # Shape: (-1, 1250)\n",
    "            self.y = np.load(f'{data_dir}/test_sbp_2labels.npy')  # Shape: (-1,)\n",
    "            # self.x = np.load(f'{data_dir}/test_2.npy')[:, 1, :].reshape(-1,1,1250)  # Shape: (-1, 1250)\n",
    "            # self.y = np.load(f'{data_dir}/test_sbp_2labels.npy')  # Shape: (-1,)\n",
    "        \n",
    "        # Convert to torch tensors\n",
    "        self.x = torch.FloatTensor(self.x)\n",
    "        self.y = torch.LongTensor(self.y)\n",
    "        print(self.x.shape,self.y.shape)\n",
    "    def __len__(self):\n",
    "        return len(self.y)\n",
    "    \n",
    "    def __getitem__(self, idx):\n",
    "        return self.x[idx], self.y[idx]\n"
   ]
  },
  {
   "cell_type": "code",
   "execution_count": 41,
   "metadata": {},
   "outputs": [
    {
     "name": "stdout",
     "output_type": "stream",
     "text": [
      "torch.Size([111600, 1, 1250]) torch.Size([111600])\n",
      "\n",
      "Test data:\n",
      "x shape: torch.Size([1, 1250]), x dtype: torch.float32\n",
      "y shape: torch.Size([]), y dtype: torch.int64\n",
      "Unique labels in test: tensor([0, 1, 2, 3])\n"
     ]
    }
   ],
   "source": [
    "# データセットとDataLoaderの作成\n",
    "data_dir = '../../data/processed/BP_npy/PulseDB'\n",
    "batch_size = 32\n",
    "\n",
    "# train_dataset = BPDataset(data_dir,train=True)\n",
    "# train_dataloader = DataLoader(train_dataset, batch_size=batch_size, shuffle=True)\n",
    "\n",
    "test_dataset = BPDataset(data_dir,train=False)\n",
    "test_dataloader = DataLoader(test_dataset, batch_size=batch_size, shuffle=False)\n",
    "\n",
    "# トレーニングデータの確認\n",
    "# x, y = train_dataset[0]\n",
    "# print(\"Training data:\")\n",
    "# print(f\"x shape: {x.shape}, x dtype: {x.dtype}\")\n",
    "# print(f\"y shape: {y.shape}, y dtype: {y.dtype}\")\n",
    "# print(f\"Unique labels in training: {torch.unique(train_dataset.y)}\")\n",
    "\n",
    "# テストデータの確認\n",
    "x, y = test_dataset[0]\n",
    "print(\"\\nTest data:\")\n",
    "print(f\"x shape: {x.shape}, x dtype: {x.dtype}\")\n",
    "print(f\"y shape: {y.shape}, y dtype: {y.dtype}\")\n",
    "print(f\"Unique labels in test: {torch.unique(test_dataset.y)}\")"
   ]
  },
  {
   "cell_type": "code",
   "execution_count": 7,
   "metadata": {},
   "outputs": [],
   "source": [
    "def calculate_metrics(y_true, y_pred,classes=2):\n",
    "        # 正解率\n",
    "        accuracy = np.mean(y_true == y_pred)\n",
    "        \n",
    "        # クラスごとの精度を計算\n",
    "        class_accuracies = []\n",
    "        for cls in range(classes):\n",
    "            mask = (y_true == cls)\n",
    "            if np.sum(mask) > 0:\n",
    "                class_acc = np.sum((y_true == y_pred) & mask) / np.sum(mask)\n",
    "                class_accuracies.append(class_acc)\n",
    "            else:\n",
    "                raise ValueError(f\"Class {cls} has no samples.\")\n",
    "        \n",
    "        # マクロ平均F1スコア\n",
    "        f1_macro = f1_score(y_true, y_pred, average='macro')\n",
    "        \n",
    "        return accuracy, class_accuracies, f1_macro"
   ]
  },
  {
   "cell_type": "code",
   "execution_count": null,
   "metadata": {},
   "outputs": [],
   "source": []
  },
  {
   "cell_type": "markdown",
   "metadata": {},
   "source": [
    "## test"
   ]
  },
  {
   "cell_type": "code",
   "execution_count": 42,
   "metadata": {},
   "outputs": [
    {
     "name": "stderr",
     "output_type": "stream",
     "text": [
      "                                                                              \r"
     ]
    }
   ],
   "source": [
    "all_y_true = []\n",
    "all_y_pred = []\n",
    "val_loader_tqdm = tqdm(test_dataloader, desc=f\"Epoch {1 + 1}/{100} - Validation\", leave=False)\n",
    "with torch.no_grad():\n",
    "    device = torch.device(\"cuda\" if torch.cuda.is_available() else \"cpu\")\n",
    "    \n",
    "    for batch_idx, (x,y) in enumerate(val_loader_tqdm):\n",
    "\n",
    "        x,y = x.to(device), y.to(device)\n",
    "        outputs = model(x)\n",
    "        # loss_mae = mae(outputs, gt)\n",
    "        # if batch_idx % config.log_interval == 0:\n",
    "        #     wandb.log({\"test_loss_step\": loss.item()})\n",
    "        # # if batch_idx  == 0:\n",
    "        # #     wandb.log({\"val/loss\": log_img(gt,outputs)})\n",
    "        # val_loss += loss.item()\n",
    "        # val_loss_mae += loss_mae.item()\n",
    "        _, predicted = torch.max(outputs.data, 1)\n",
    "        all_y_true.extend(y.cpu().numpy())\n",
    "        all_y_pred.extend(predicted.cpu().numpy())\n",
    "all_y_true = np.array(all_y_true)\n",
    "all_y_pred = np.array(all_y_pred)\n",
    "accuracy, class_accuracies, f1 = calculate_metrics(all_y_true, all_y_pred,classes=config[\"network\"][\"n_classes\"])\n"
   ]
  },
  {
   "cell_type": "code",
   "execution_count": 43,
   "metadata": {},
   "outputs": [
    {
     "data": {
      "text/plain": [
       "(0.39923835125448026, 0.4017165782090687)"
      ]
     },
     "execution_count": 43,
     "metadata": {},
     "output_type": "execute_result"
    }
   ],
   "source": [
    "accuracy,f1"
   ]
  },
  {
   "cell_type": "code",
   "execution_count": 44,
   "metadata": {},
   "outputs": [
    {
     "data": {
      "text/html": [
       "<div>\n",
       "<style scoped>\n",
       "    .dataframe tbody tr th:only-of-type {\n",
       "        vertical-align: middle;\n",
       "    }\n",
       "\n",
       "    .dataframe tbody tr th {\n",
       "        vertical-align: top;\n",
       "    }\n",
       "\n",
       "    .dataframe thead th {\n",
       "        text-align: right;\n",
       "    }\n",
       "</style>\n",
       "<table border=\"1\" class=\"dataframe\">\n",
       "  <thead>\n",
       "    <tr style=\"text-align: right;\">\n",
       "      <th></th>\n",
       "      <th>0</th>\n",
       "      <th>1</th>\n",
       "      <th>2</th>\n",
       "      <th>3</th>\n",
       "    </tr>\n",
       "  </thead>\n",
       "  <tbody>\n",
       "    <tr>\n",
       "      <th>0</th>\n",
       "      <td>0.5670</td>\n",
       "      <td>0.2666</td>\n",
       "      <td>0.1104</td>\n",
       "      <td>0.0560</td>\n",
       "    </tr>\n",
       "    <tr>\n",
       "      <th>1</th>\n",
       "      <td>0.3329</td>\n",
       "      <td>0.3401</td>\n",
       "      <td>0.2336</td>\n",
       "      <td>0.0934</td>\n",
       "    </tr>\n",
       "    <tr>\n",
       "      <th>2</th>\n",
       "      <td>0.1592</td>\n",
       "      <td>0.2853</td>\n",
       "      <td>0.3589</td>\n",
       "      <td>0.1966</td>\n",
       "    </tr>\n",
       "    <tr>\n",
       "      <th>3</th>\n",
       "      <td>0.0864</td>\n",
       "      <td>0.1514</td>\n",
       "      <td>0.3476</td>\n",
       "      <td>0.4145</td>\n",
       "    </tr>\n",
       "  </tbody>\n",
       "</table>\n",
       "</div>"
      ],
      "text/plain": [
       "        0       1       2       3\n",
       "0  0.5670  0.2666  0.1104  0.0560\n",
       "1  0.3329  0.3401  0.2336  0.0934\n",
       "2  0.1592  0.2853  0.3589  0.1966\n",
       "3  0.0864  0.1514  0.3476  0.4145"
      ]
     },
     "metadata": {},
     "output_type": "display_data"
    }
   ],
   "source": [
    "from sklearn.metrics import confusion_matrix\n",
    "import pandas as pd\n",
    "pd.options.display.precision = 4 # 表示桁数の設定\n",
    "\n",
    "conf_mat = confusion_matrix(all_y_true, all_y_pred, normalize='true')\n",
    "display(pd.DataFrame(conf_mat))"
   ]
  },
  {
   "cell_type": "code",
   "execution_count": 45,
   "metadata": {},
   "outputs": [
    {
     "data": {
      "image/png": "[encoded data removed]",
      "text/plain": [
       "<Figure size 600x500 with 2 Axes>"
      ]
     },
     "metadata": {},
     "output_type": "display_data"
    }
   ],
   "source": [
    "import matplotlib.pyplot as plt\n",
    "plt.rcParams['font.family'] = 'Arial' # フォントを指定\n",
    "import seaborn as sns\n",
    "\n",
    "plt.figure(figsize=(6, 5))\n",
    "sns.heatmap(conf_mat, cmap = 'Blues', annot=True)\n",
    "plt.show()"
   ]
  },
  {
   "cell_type": "markdown",
   "metadata": {},
   "source": [
    "## cv\n"
   ]
  },
  {
   "cell_type": "code",
   "execution_count": 9,
   "metadata": {},
   "outputs": [],
   "source": [
    "config = {\n",
    "    \"network\":{\n",
    "        \"in_channels\":1,\n",
    "        \"base_filters\":64,\n",
    "        \"kernel_size\":3,\n",
    "        \"stride\":1,\n",
    "        \"groups\":1,\n",
    "        \"n_block\":5,\n",
    "        \"n_classes\":2,\n",
    "    },\n",
    "    \"learning_rate\": 1e-4,\n",
    "    \"batch_size\": 16,\n",
    "    \"epochs\":100,\n",
    "    \"log_interval\":100,\n",
    "    \"input_shape\":[1,1250],\n",
    "    \"output_path\": \"..\\\\outputs\\\\resnet\\\\0415_2class_cv_res18mini\",\n",
    "    \"patience\":5    \n",
    "}"
   ]
  },
  {
   "cell_type": "code",
   "execution_count": 10,
   "metadata": {},
   "outputs": [],
   "source": [
    "from se_resnet1d import resnet34,se_resnet34,resnet18,resnet18mini\n",
    "model = resnet18mini(num_classes=config[\"network\"][\"n_classes\"], in_channels=config[\"network\"][\"in_channels\"])"
   ]
  },
  {
   "cell_type": "code",
   "execution_count": null,
   "metadata": {},
   "outputs": [],
   "source": []
  },
  {
   "cell_type": "code",
   "execution_count": 11,
   "metadata": {},
   "outputs": [
    {
     "name": "stdout",
     "output_type": "stream",
     "text": [
      "torch.Size([38110, 1, 1250]) torch.Size([38110])\n"
     ]
    },
    {
     "name": "stderr",
     "output_type": "stream",
     "text": [
      "                                                                     \r"
     ]
    },
    {
     "name": "stdout",
     "output_type": "stream",
     "text": [
      "Fold 1 - Accuracy: 0.8047, F1 Score: 0.8038\n"
     ]
    },
    {
     "name": "stderr",
     "output_type": "stream",
     "text": [
      "                                                                     \r"
     ]
    },
    {
     "name": "stdout",
     "output_type": "stream",
     "text": [
      "Fold 2 - Accuracy: 0.7993, F1 Score: 0.7986\n"
     ]
    },
    {
     "name": "stderr",
     "output_type": "stream",
     "text": [
      "                                                                     \r"
     ]
    },
    {
     "name": "stdout",
     "output_type": "stream",
     "text": [
      "Fold 3 - Accuracy: 0.8003, F1 Score: 0.7991\n"
     ]
    },
    {
     "name": "stderr",
     "output_type": "stream",
     "text": [
      "                                                                     \r"
     ]
    },
    {
     "name": "stdout",
     "output_type": "stream",
     "text": [
      "Fold 4 - Accuracy: 0.7971, F1 Score: 0.7967\n"
     ]
    },
    {
     "name": "stderr",
     "output_type": "stream",
     "text": [
      "                                                                     "
     ]
    },
    {
     "name": "stdout",
     "output_type": "stream",
     "text": [
      "Fold 5 - Accuracy: 0.8072, F1 Score: 0.8065\n",
      "0.8009534138368508\n"
     ]
    },
    {
     "name": "stderr",
     "output_type": "stream",
     "text": [
      "\r"
     ]
    }
   ],
   "source": [
    "from dataset import BPDataset\n",
    "import os\n",
    "import numpy as np\n",
    "import torch\n",
    "import torch.nn as nn\n",
    "import torch.optim as optim\n",
    "from torch.utils.data import DataLoader, Dataset\n",
    "from tqdm import tqdm\n",
    "import wandb\n",
    "from sklearn.metrics import f1_score, confusion_matrix\n",
    "import matplotlib.pyplot as plt\n",
    "import seaborn as sns\n",
    "data_dir = '../../data/processed/BP_npy/PulseDB'\n",
    "checkpoint_dir =config[\"output_path\"]\n",
    "batch_size = config[\"batch_size\"]\n",
    "test_dataset = BPDataset(data_dir,train=False)\n",
    "f1s = []\n",
    "for fold in range(5):\n",
    "    # データセットとDataLoaderの作成\n",
    "    test_dataloader = DataLoader(test_dataset, batch_size=batch_size, shuffle=False)\n",
    "    # load checkpoint\n",
    "    checkpoint_path = os.path.join(checkpoint_dir, f'best_fold{fold}.pth')\n",
    "    model.load_state_dict(torch.load(checkpoint_path))\n",
    "    with torch.no_grad():\n",
    "        device = torch.device(\"cuda\" if torch.cuda.is_available() else \"cpu\")\n",
    "        model.to(device)\n",
    "        model.eval()\n",
    "\n",
    "        all_y_true = []\n",
    "        all_y_pred = []\n",
    "        all_y_pred_proba = []\n",
    "        # 進捗バーの設定\n",
    "        val_loader_tqdm = tqdm(test_dataloader, desc=f\"Fold {fold+1}/{5} - Test\", leave=False)\n",
    "        for batch_idx, (x,y) in enumerate(val_loader_tqdm):\n",
    "            x,y = x.to(device), y.to(device)\n",
    "            outputs = model(x)\n",
    "            _, predicted = torch.max(outputs.data, 1)\n",
    "            all_y_pred_proba.extend(outputs.cpu().numpy())\n",
    "            # 予測確率を取得\n",
    "            all_y_true.extend(y.cpu().numpy())\n",
    "            all_y_pred.extend(predicted.cpu().numpy())\n",
    "        all_y_true = np.array(all_y_true)\n",
    "        all_y_pred = np.array(all_y_pred)\n",
    "        all_y_pred_proba = np.array(all_y_pred_proba)\n",
    "    # 予測結果の保存\n",
    "    np.save(f'{checkpoint_dir}\\\\predictions_fold{fold}.npy', all_y_pred)\n",
    "    # 正解ラベルの保存\n",
    "    np.save(f'{checkpoint_dir}\\\\true_labels_fold{fold}.npy', all_y_true)\n",
    "    # 予測確率の保存\n",
    "    np.save(f'{checkpoint_dir}\\\\predictions_proba_fold{fold}.npy', all_y_pred_proba)\n",
    "    # calculate metrics\n",
    "    accuracy, class_accuracies, f1 = calculate_metrics(all_y_true, all_y_pred,classes=config[\"network\"][\"n_classes\"])\n",
    "    print(f\"Fold {fold+1} - Accuracy: {accuracy:.4f}, F1 Score: {f1:.4f}\")\n",
    "    f1s.append(f1)\n",
    "    # plot confusion matrix\n",
    "    conf_mat = confusion_matrix(all_y_true, all_y_pred, normalize='true')\n",
    "    plt.figure(figsize=(6, 5))\n",
    "    sns.heatmap(conf_mat, cmap = 'Blues', annot=True)\n",
    "    plt.title(f'Fold {fold+1} - Confusion Matrix')\n",
    "    plt.savefig(f'{checkpoint_dir}\\\\confusion_matrix_fold{fold}.png')\n",
    "    plt.close()\n",
    "print(np.array(f1s).mean())"
   ]
  },
  {
   "cell_type": "markdown",
   "metadata": {},
   "source": [
    "### load test results"
   ]
  },
  {
   "cell_type": "code",
   "execution_count": 12,
   "metadata": {},
   "outputs": [],
   "source": [
    "def metrics_all_fold(checkpoint_dir, n_classes=2):\n",
    "    accuracy_list = []\n",
    "    f1_list = []\n",
    "    for fold in range(5):\n",
    "        # load predictions\n",
    "        all_y_pred = np.load(f'{checkpoint_dir}\\\\predictions_fold{fold}.npy')\n",
    "        all_y_true = np.load(f'{checkpoint_dir}\\\\true_labels_fold{fold}.npy')\n",
    "        accuracy, class_accuracies, f1 = calculate_metrics(all_y_true, all_y_pred, classes=n_classes)\n",
    "        accuracy_list.append(accuracy)\n",
    "        f1_list.append(f1)\n",
    "        print(f\"Fold {fold+1} - Accuracy: {accuracy:.4f}, F1 Score: {f1:.4f}\")\n",
    "    return accuracy_list, f1_list"
   ]
  },
  {
   "cell_type": "code",
   "execution_count": 13,
   "metadata": {},
   "outputs": [],
   "source": [
    "checkpoint_dir = config[\"output_path\"]\n",
    "n_classes = config[\"network\"][\"n_classes\"]"
   ]
  },
  {
   "cell_type": "code",
   "execution_count": 18,
   "metadata": {},
   "outputs": [
    {
     "name": "stdout",
     "output_type": "stream",
     "text": [
      "Metrics for 0331_2class_cv_res34\n",
      "Fold 1 - Accuracy: 0.8230, F1 Score: 0.8214\n",
      "Fold 2 - Accuracy: 0.8024, F1 Score: 0.8013\n",
      "Fold 3 - Accuracy: 0.7932, F1 Score: 0.7910\n",
      "Fold 4 - Accuracy: 0.8056, F1 Score: 0.8043\n",
      "Fold 5 - Accuracy: 0.7991, F1 Score: 0.7971\n"
     ]
    }
   ],
   "source": [
    "print(\"Metrics for\",os.path.basename(checkpoint_dir))\n",
    "accuracy_list, f1_list = metrics_all_fold(checkpoint_dir, n_classes=n_classes)"
   ]
  },
  {
   "cell_type": "code",
   "execution_count": null,
   "metadata": {},
   "outputs": [],
   "source": [
    "me"
   ]
  },
  {
   "cell_type": "code",
   "execution_count": 20,
   "metadata": {},
   "outputs": [],
   "source": [
    "fold = 0\n",
    "\n",
    "pred = np.load(f'{checkpoint_dir}\\\\predictions_fold{fold}.npy')\n",
    "pred_proba = np.load(f'{checkpoint_dir}\\\\predictions_proba_fold{fold}.npy')\n",
    "true_labels = np.load(f'{checkpoint_dir}\\\\true_labels_fold{fold}.npy')\n",
    "\n",
    "\n"
   ]
  },
  {
   "cell_type": "markdown",
   "metadata": {},
   "source": [
    "### check sSqi"
   ]
  },
  {
   "cell_type": "code",
   "execution_count": 25,
   "metadata": {},
   "outputs": [],
   "source": [
    "correct = np.where(pred == true_labels)[0]\n",
    "incorrect = np.where(pred != true_labels)[0]\n",
    "test_data = np.load(f'../../data/processed/BP_npy/PulseDB/test_2.npy')"
   ]
  },
  {
   "cell_type": "code",
   "execution_count": null,
   "metadata": {},
   "outputs": [
    {
     "data": {
      "text/plain": [
       "Text(0.5, 1.0, 'Skewness of Correct and Incorrect Predictions')"
      ]
     },
     "execution_count": 24,
     "metadata": {},
     "output_type": "execute_result"
    },
    {
     "data": {
      "image/png": "[encoded data removed]",
      "text/plain": [
       "<Figure size 1000x600 with 1 Axes>"
      ]
     },
     "metadata": {},
     "output_type": "display_data"
    }
   ],
   "source": [
    "from scipy import stats\n",
    "import matplotlib.pyplot as plt\n",
    "skew_correct = stats.skew(test_data[correct,1], axis=1)\n",
    "skew_incorrect = stats.skew(test_data[incorrect,1], axis=1)\n",
    "# boxplot\n",
    "plt.figure(figsize=(10, 6))\n",
    "plt.boxplot([skew_correct, skew_incorrect], labels=['Correct', 'Incorrect'])\n",
    "plt.title('Skewness of Correct and Incorrect Predictions')\n"
   ]
  },
  {
   "cell_type": "code",
   "execution_count": 37,
   "metadata": {},
   "outputs": [
    {
     "name": "stdout",
     "output_type": "stream",
     "text": [
      "0.3212311642498526 0.27149631551984976\n"
     ]
    }
   ],
   "source": [
    "print(np.std(skew_correct),np.std(skew_incorrect))"
   ]
  },
  {
   "cell_type": "code",
   "execution_count": 36,
   "metadata": {},
   "outputs": [
    {
     "name": "stdout",
     "output_type": "stream",
     "text": [
      "p値: 2.5041297039384584e-66\n"
     ]
    }
   ],
   "source": [
    "from scipy.stats import ttest_ind\n",
    "\n",
    "# aとbが独立した群で正規分布前提\n",
    "stat, p = ttest_ind(skew_correct, skew_incorrect, equal_var=False)  # Welchのt検定\n",
    "print(\"p値:\", p)"
   ]
  },
  {
   "cell_type": "code",
   "execution_count": 38,
   "metadata": {},
   "outputs": [
    {
     "name": "stdout",
     "output_type": "stream",
     "text": [
      "aのShapiro検定 p値: 0.0\n",
      "bのShapiro検定 p値: 9.768134825480321e-17\n",
      "aは正規分布とは言えない\n",
      "bは正規分布とは言えない\n"
     ]
    },
    {
     "name": "stderr",
     "output_type": "stream",
     "text": [
      "f:\\minowa\\BloodPressureEstimation\\.venv\\lib\\site-packages\\scipy\\stats\\_morestats.py:1882: UserWarning: p-value may not be accurate for N > 5000.\n",
      "  warnings.warn(\"p-value may not be accurate for N > 5000.\")\n"
     ]
    }
   ],
   "source": [
    "from scipy.stats import shapiro\n",
    "\n",
    "# aとbが1次元のデータ配列\n",
    "stat_a, p_a = shapiro(skew_correct)\n",
    "stat_b, p_b = shapiro(skew_incorrect)\n",
    "\n",
    "print(\"aのShapiro検定 p値:\", p_a)\n",
    "print(\"bのShapiro検定 p値:\", p_b)\n",
    "\n",
    "if p_a > 0.05:\n",
    "    print(\"aは正規分布とみなせる\")\n",
    "else:\n",
    "    print(\"aは正規分布とは言えない\")\n",
    "\n",
    "if p_b > 0.05:\n",
    "    print(\"bは正規分布とみなせる\")\n",
    "else:\n",
    "    print(\"bは正規分布とは言えない\")"
   ]
  },
  {
   "cell_type": "code",
   "execution_count": 30,
   "metadata": {},
   "outputs": [],
   "source": [
    "def calculate_correlation(data):\n",
    "    n = data.shape[0]\n",
    "    correlations = np.zeros(n)\n",
    "    for a in range(n):\n",
    "        # Compute the correlation coefficient between data[a, 0, :] and data[a, 1, :]\n",
    "        corr = np.corrcoef(data[a, 1, :], data[a, 0, :])[0, 1]\n",
    "        correlations[a] = corr\n",
    "    \n",
    "    return correlations"
   ]
  },
  {
   "cell_type": "code",
   "execution_count": 31,
   "metadata": {},
   "outputs": [
    {
     "data": {
      "image/png": "[encoded data removed]",
      "text/plain": [
       "<Figure size 1000x600 with 1 Axes>"
      ]
     },
     "metadata": {},
     "output_type": "display_data"
    }
   ],
   "source": [
    "# 相関係数\n",
    "corr_correct = calculate_correlation(test_data[correct])\n",
    "corr_incorrect = corr_correct = calculate_correlation(test_data[incorrect])\n",
    "plt.figure(figsize=(10, 6))\n",
    "plt.boxplot([corr_correct, corr_incorrect], labels=['Correct', 'Incorrect'])\n",
    "plt.title('Correlation of Correct and Incorrect Predictions')\n",
    "plt.show()"
   ]
  },
  {
   "cell_type": "markdown",
   "metadata": {},
   "source": [
    "### count number"
   ]
  },
  {
   "cell_type": "code",
   "execution_count": 21,
   "metadata": {},
   "outputs": [
    {
     "data": {
      "text/plain": [
       "(array([0, 1], dtype=int64), array([20674, 17436], dtype=int64))"
      ]
     },
     "execution_count": 21,
     "metadata": {},
     "output_type": "execute_result"
    }
   ],
   "source": [
    "np.unique(true_labels, return_counts=True)"
   ]
  },
  {
   "cell_type": "code",
   "execution_count": null,
   "metadata": {},
   "outputs": [],
   "source": [
    "Fold 1 - Accuracy: 0.7960, F1 Score: 0.7960\n",
    "                                                                     \n",
    "Fold 2 - Accuracy: 0.7850, F1 Score: 0.7850\n",
    "                                                                     \n",
    "Fold 3 - Accuracy: 0.8000, F1 Score: 0.7997\n",
    "                                                                     \n",
    "Fold 4 - Accuracy: 0.8054, F1 Score: 0.8051\n",
    "                                                                     \n",
    "Fold 5 - Accuracy: 0.8072, F1 Score: 0.8071"
   ]
  },
  {
   "cell_type": "markdown",
   "metadata": {},
   "source": [
    "# regr\n"
   ]
  },
  {
   "cell_type": "code",
   "execution_count": 112,
   "metadata": {},
   "outputs": [],
   "source": [
    "class BPDataset_Regr(Dataset):\n",
    "    def __init__(self, data_dir,train=True):\n",
    "        # Load data\n",
    "        if train:\n",
    "            self.x = np.load(f'{data_dir}/train.npy')[:, 1, :].reshape(-1,1,1250)  # Shape: (-1, 1250)\n",
    "            self.sbp = np.load(f'{data_dir}/train_sbp.npy')  # Shape: (-1,)\n",
    "            self.dbp = np.load(f'{data_dir}/train_dbp.npy')  # Shape: (-1,)\n",
    "            # self.x = np.load(f'{data_dir}/train_2.npy')[:, 1, :].reshape(-1,1,1250)  # Shape: (-1, 1250)\n",
    "            # self.y = np.load(f'{data_dir}/train_sbp_2labels.npy')  # Shape: (-1,)\n",
    "        else:\n",
    "            self.x = np.load(f'{data_dir}/test.npy')[:, 1, :].reshape(-1,1,1250)  # Shape: (-1, 1250)\n",
    "            self.sbp = np.load(f'{data_dir}/test_sbp.npy')  # Shape: (-1,)\n",
    "            self.dbp = np.load(f'{data_dir}/test_dbp.npy')  # Shape: (-1,)\n",
    "            # self.x = np.load(f'{data_dir}/test_2.npy')[:, 1, :].reshape(-1,1,1250)  # Shape: (-1, 1250)\n",
    "            # self.y = np.load(f'{data_dir}/test_sbp_2labels.npy')  # Shape: (-1,)\n",
    "        scale = np.load(f'{data_dir}/scale_train.npy')\n",
    "        self.sbp = self.sbp * scale[0,1]- scale[0,0]\n",
    "        self.dbp = self.dbp * scale[0,1] - scale[0,0]\n",
    "\n",
    "        # Convert to torch tensors\n",
    "        self.x = torch.FloatTensor(self.x)\n",
    "        self.sbp = torch.FloatTensor(self.sbp)\n",
    "        self.dbp = torch.FloatTensor(self.dbp)\n",
    "        print(self.x.shape,self.sbp.shape,self.dbp.shape)\n",
    "    def __len__(self):\n",
    "        return len(self.x)\n",
    "    \n",
    "    def __getitem__(self, idx):\n",
    "        return self.x[idx], self.sbp[idx],self.dbp[idx]\n"
   ]
  },
  {
   "cell_type": "code",
   "execution_count": 113,
   "metadata": {},
   "outputs": [
    {
     "name": "stdout",
     "output_type": "stream",
     "text": [
      "torch.Size([111600, 1, 1250]) torch.Size([111600]) torch.Size([111600])\n"
     ]
    }
   ],
   "source": [
    "# データセットとDataLoaderの作成\n",
    "data_dir = '../../data/processed/BP_npy/PulseDB'\n",
    "batch_size = 32\n",
    "\n",
    "# train_dataset = BPDataset(data_dir,train=True)\n",
    "# train_dataloader = DataLoader(train_dataset, batch_size=batch_size, shuffle=True)\n",
    "\n",
    "test_dataset = BPDataset_Regr(data_dir,train=False)\n",
    "test_dataloader = DataLoader(test_dataset, batch_size=batch_size, shuffle=False)\n"
   ]
  },
  {
   "cell_type": "code",
   "execution_count": 116,
   "metadata": {},
   "outputs": [],
   "source": [
    "config = {\n",
    "    \"network\":{\n",
    "        \"in_channels\":1,\n",
    "        \"base_filters\":64,\n",
    "        \"kernel_size\":3,\n",
    "        \"stride\":1,\n",
    "        \"groups\":1,\n",
    "        \"n_block\":5,\n",
    "        \"n_classes\":2,\n",
    "    },\n",
    "    \"learning_rate\": 1e-3,\n",
    "    \"batch_size\": batch_size,\n",
    "    \"epochs\":100,\n",
    "    \"log_interval\":100,\n",
    "    \"input_shape\":[1,1250],\n",
    "    \"output_path\": \"..\\\\outputs\\\\resnet\\\\0308_regr\",\n",
    "    \"patience\":10    \n",
    "          }"
   ]
  },
  {
   "cell_type": "code",
   "execution_count": 117,
   "metadata": {},
   "outputs": [
    {
     "ename": "RuntimeError",
     "evalue": "Error(s) in loading state_dict for ResNet1D:\n\tsize mismatch for first_block_conv.conv.weight: copying a param with shape torch.Size([64, 1, 5]) from checkpoint, the shape in current model is torch.Size([64, 1, 3]).\n\tsize mismatch for basicblock_list.0.conv1.conv.weight: copying a param with shape torch.Size([64, 64, 5]) from checkpoint, the shape in current model is torch.Size([64, 64, 3]).\n\tsize mismatch for basicblock_list.0.conv2.conv.weight: copying a param with shape torch.Size([64, 64, 5]) from checkpoint, the shape in current model is torch.Size([64, 64, 3]).\n\tsize mismatch for basicblock_list.1.conv1.conv.weight: copying a param with shape torch.Size([64, 64, 5]) from checkpoint, the shape in current model is torch.Size([64, 64, 3]).\n\tsize mismatch for basicblock_list.1.conv2.conv.weight: copying a param with shape torch.Size([64, 64, 5]) from checkpoint, the shape in current model is torch.Size([64, 64, 3]).\n\tsize mismatch for basicblock_list.2.conv1.conv.weight: copying a param with shape torch.Size([64, 64, 5]) from checkpoint, the shape in current model is torch.Size([64, 64, 3]).\n\tsize mismatch for basicblock_list.2.conv2.conv.weight: copying a param with shape torch.Size([64, 64, 5]) from checkpoint, the shape in current model is torch.Size([64, 64, 3]).\n\tsize mismatch for basicblock_list.3.conv1.conv.weight: copying a param with shape torch.Size([64, 64, 5]) from checkpoint, the shape in current model is torch.Size([64, 64, 3]).\n\tsize mismatch for basicblock_list.3.conv2.conv.weight: copying a param with shape torch.Size([64, 64, 5]) from checkpoint, the shape in current model is torch.Size([64, 64, 3]).\n\tsize mismatch for basicblock_list.4.conv1.conv.weight: copying a param with shape torch.Size([128, 64, 5]) from checkpoint, the shape in current model is torch.Size([128, 64, 3]).\n\tsize mismatch for basicblock_list.4.conv2.conv.weight: copying a param with shape torch.Size([128, 128, 5]) from checkpoint, the shape in current model is torch.Size([128, 128, 3]).",
     "output_type": "error",
     "traceback": [
      "\u001b[1;31m---------------------------------------------------------------------------\u001b[0m",
      "\u001b[1;31mRuntimeError\u001b[0m                              Traceback (most recent call last)",
      "Cell \u001b[1;32mIn[117], line 3\u001b[0m\n\u001b[0;32m      1\u001b[0m device \u001b[38;5;241m=\u001b[39m torch\u001b[38;5;241m.\u001b[39mdevice(\u001b[38;5;124m\"\u001b[39m\u001b[38;5;124mcuda\u001b[39m\u001b[38;5;124m\"\u001b[39m \u001b[38;5;28;01mif\u001b[39;00m torch\u001b[38;5;241m.\u001b[39mcuda\u001b[38;5;241m.\u001b[39mis_available() \u001b[38;5;28;01melse\u001b[39;00m \u001b[38;5;124m\"\u001b[39m\u001b[38;5;124mcpu\u001b[39m\u001b[38;5;124m\"\u001b[39m)\n\u001b[0;32m      2\u001b[0m model \u001b[38;5;241m=\u001b[39m ResNet1D(\u001b[38;5;241m*\u001b[39m\u001b[38;5;241m*\u001b[39mconfig[\u001b[38;5;124m\"\u001b[39m\u001b[38;5;124mnetwork\u001b[39m\u001b[38;5;124m\"\u001b[39m])\n\u001b[1;32m----> 3\u001b[0m \u001b[43mmodel\u001b[49m\u001b[38;5;241;43m.\u001b[39;49m\u001b[43mload_state_dict\u001b[49m\u001b[43m(\u001b[49m\u001b[43mtorch\u001b[49m\u001b[38;5;241;43m.\u001b[39;49m\u001b[43mload\u001b[49m\u001b[43m(\u001b[49m\u001b[38;5;124;43m'\u001b[39;49m\u001b[38;5;124;43m..\u001b[39;49m\u001b[38;5;130;43;01m\\\\\u001b[39;49;00m\u001b[38;5;124;43moutputs\u001b[39;49m\u001b[38;5;130;43;01m\\\\\u001b[39;49;00m\u001b[38;5;124;43mresnet\u001b[39;49m\u001b[38;5;130;43;01m\\\\\u001b[39;49;00m\u001b[38;5;124;43m0308_regr\u001b[39;49m\u001b[38;5;130;43;01m\\\\\u001b[39;49;00m\u001b[38;5;124;43mbest_fold0.pth\u001b[39;49m\u001b[38;5;124;43m'\u001b[39;49m\u001b[43m)\u001b[49m\u001b[43m)\u001b[49m\n\u001b[0;32m      4\u001b[0m model\u001b[38;5;241m.\u001b[39mto(device)\n\u001b[0;32m      5\u001b[0m model\u001b[38;5;241m.\u001b[39meval()\n",
      "File \u001b[1;32mf:\\minowa\\BloodPressureEstimation\\.venv\\lib\\site-packages\\torch\\nn\\modules\\module.py:2152\u001b[0m, in \u001b[0;36mModule.load_state_dict\u001b[1;34m(self, state_dict, strict, assign)\u001b[0m\n\u001b[0;32m   2147\u001b[0m         error_msgs\u001b[38;5;241m.\u001b[39minsert(\n\u001b[0;32m   2148\u001b[0m             \u001b[38;5;241m0\u001b[39m, \u001b[38;5;124m'\u001b[39m\u001b[38;5;124mMissing key(s) in state_dict: \u001b[39m\u001b[38;5;132;01m{}\u001b[39;00m\u001b[38;5;124m. \u001b[39m\u001b[38;5;124m'\u001b[39m\u001b[38;5;241m.\u001b[39mformat(\n\u001b[0;32m   2149\u001b[0m                 \u001b[38;5;124m'\u001b[39m\u001b[38;5;124m, \u001b[39m\u001b[38;5;124m'\u001b[39m\u001b[38;5;241m.\u001b[39mjoin(\u001b[38;5;124mf\u001b[39m\u001b[38;5;124m'\u001b[39m\u001b[38;5;124m\"\u001b[39m\u001b[38;5;132;01m{\u001b[39;00mk\u001b[38;5;132;01m}\u001b[39;00m\u001b[38;5;124m\"\u001b[39m\u001b[38;5;124m'\u001b[39m \u001b[38;5;28;01mfor\u001b[39;00m k \u001b[38;5;129;01min\u001b[39;00m missing_keys)))\n\u001b[0;32m   2151\u001b[0m \u001b[38;5;28;01mif\u001b[39;00m \u001b[38;5;28mlen\u001b[39m(error_msgs) \u001b[38;5;241m>\u001b[39m \u001b[38;5;241m0\u001b[39m:\n\u001b[1;32m-> 2152\u001b[0m     \u001b[38;5;28;01mraise\u001b[39;00m \u001b[38;5;167;01mRuntimeError\u001b[39;00m(\u001b[38;5;124m'\u001b[39m\u001b[38;5;124mError(s) in loading state_dict for \u001b[39m\u001b[38;5;132;01m{}\u001b[39;00m\u001b[38;5;124m:\u001b[39m\u001b[38;5;130;01m\\n\u001b[39;00m\u001b[38;5;130;01m\\t\u001b[39;00m\u001b[38;5;132;01m{}\u001b[39;00m\u001b[38;5;124m'\u001b[39m\u001b[38;5;241m.\u001b[39mformat(\n\u001b[0;32m   2153\u001b[0m                        \u001b[38;5;28mself\u001b[39m\u001b[38;5;241m.\u001b[39m\u001b[38;5;18m__class__\u001b[39m\u001b[38;5;241m.\u001b[39m\u001b[38;5;18m__name__\u001b[39m, \u001b[38;5;124m\"\u001b[39m\u001b[38;5;130;01m\\n\u001b[39;00m\u001b[38;5;130;01m\\t\u001b[39;00m\u001b[38;5;124m\"\u001b[39m\u001b[38;5;241m.\u001b[39mjoin(error_msgs)))\n\u001b[0;32m   2154\u001b[0m \u001b[38;5;28;01mreturn\u001b[39;00m _IncompatibleKeys(missing_keys, unexpected_keys)\n",
      "\u001b[1;31mRuntimeError\u001b[0m: Error(s) in loading state_dict for ResNet1D:\n\tsize mismatch for first_block_conv.conv.weight: copying a param with shape torch.Size([64, 1, 5]) from checkpoint, the shape in current model is torch.Size([64, 1, 3]).\n\tsize mismatch for basicblock_list.0.conv1.conv.weight: copying a param with shape torch.Size([64, 64, 5]) from checkpoint, the shape in current model is torch.Size([64, 64, 3]).\n\tsize mismatch for basicblock_list.0.conv2.conv.weight: copying a param with shape torch.Size([64, 64, 5]) from checkpoint, the shape in current model is torch.Size([64, 64, 3]).\n\tsize mismatch for basicblock_list.1.conv1.conv.weight: copying a param with shape torch.Size([64, 64, 5]) from checkpoint, the shape in current model is torch.Size([64, 64, 3]).\n\tsize mismatch for basicblock_list.1.conv2.conv.weight: copying a param with shape torch.Size([64, 64, 5]) from checkpoint, the shape in current model is torch.Size([64, 64, 3]).\n\tsize mismatch for basicblock_list.2.conv1.conv.weight: copying a param with shape torch.Size([64, 64, 5]) from checkpoint, the shape in current model is torch.Size([64, 64, 3]).\n\tsize mismatch for basicblock_list.2.conv2.conv.weight: copying a param with shape torch.Size([64, 64, 5]) from checkpoint, the shape in current model is torch.Size([64, 64, 3]).\n\tsize mismatch for basicblock_list.3.conv1.conv.weight: copying a param with shape torch.Size([64, 64, 5]) from checkpoint, the shape in current model is torch.Size([64, 64, 3]).\n\tsize mismatch for basicblock_list.3.conv2.conv.weight: copying a param with shape torch.Size([64, 64, 5]) from checkpoint, the shape in current model is torch.Size([64, 64, 3]).\n\tsize mismatch for basicblock_list.4.conv1.conv.weight: copying a param with shape torch.Size([128, 64, 5]) from checkpoint, the shape in current model is torch.Size([128, 64, 3]).\n\tsize mismatch for basicblock_list.4.conv2.conv.weight: copying a param with shape torch.Size([128, 128, 5]) from checkpoint, the shape in current model is torch.Size([128, 128, 3])."
     ]
    }
   ],
   "source": [
    "device = torch.device(\"cuda\" if torch.cuda.is_available() else \"cpu\")\n",
    "model = ResNet1D(**config[\"network\"])\n",
    "model.load_state_dict(torch.load('..\\\\outputs\\\\resnet\\\\0308_regr\\\\best_fold0.pth'))\n",
    "model.to(device)\n",
    "model.eval()"
   ]
  },
  {
   "cell_type": "code",
   "execution_count": 22,
   "metadata": {},
   "outputs": [
    {
     "data": {
      "text/plain": [
       "100"
      ]
     },
     "execution_count": 22,
     "metadata": {},
     "output_type": "execute_result"
    }
   ],
   "source": [
    "config[\"epochs\"] "
   ]
  },
  {
   "cell_type": "code",
   "execution_count": 25,
   "metadata": {},
   "outputs": [
    {
     "name": "stderr",
     "output_type": "stream",
     "text": [
      "100%|██████████| 3488/3488 [00:15<00:00, 219.69it/s]\n"
     ]
    }
   ],
   "source": [
    "val_loader = test_dataloader\n",
    "all_y_true = []\n",
    "all_y_pred = []\n",
    "val_loader_tqdm = tqdm(val_loader)\n",
    "with torch.no_grad():\n",
    "    for batch_idx, (x,sbp,dbp) in enumerate(val_loader_tqdm):\n",
    "\n",
    "        x,sbp,dbp = x.to(device), sbp.to(device),dbp.to(device)\n",
    "        outputs = model(x)\n",
    "        # val_loss_mae += loss_mae.item()\n",
    "        all_y_true.extend(np.array([sbp.cpu().numpy(),dbp.cpu().numpy()]))\n",
    "        all_y_pred.extend(np.array([outputs[:,0].cpu().numpy(),outputs[:,1].cpu().numpy()]))\n",
    "all_y_true = np.concatenate(all_y_true,axis=0).reshape(-1,2)\n",
    "all_y_pred = np.concatenate(all_y_pred,axis=0).reshape(-1,2)\n",
    "# print(all_y_true.shape,all_y_pred.shape)\n",
    "# accuracy, class_accuracies, f1 = calculate_metrics(all_y_true, all_y_pred,classes=config[\"network\"][\"n_classes\"])\n"
   ]
  },
  {
   "cell_type": "code",
   "execution_count": 3,
   "metadata": {},
   "outputs": [
    {
     "data": {
      "text/plain": [
       "284.2411394163927"
      ]
     },
     "execution_count": 3,
     "metadata": {},
     "output_type": "execute_result"
    }
   ],
   "source": [
    "import numpy as np\n",
    "scale = np.load('../../data/processed/BP_npy/PulseDB/scale_train.npy')\n",
    "1/scale[0,1]"
   ]
  },
  {
   "cell_type": "code",
   "execution_count": null,
   "metadata": {},
   "outputs": [
    {
     "ename": "NameError",
     "evalue": "name 'all_y_true' is not defined",
     "output_type": "error",
     "traceback": [
      "\u001b[1;31m---------------------------------------------------------------------------\u001b[0m",
      "\u001b[1;31mNameError\u001b[0m                                 Traceback (most recent call last)",
      "Cell \u001b[1;32mIn[1], line 1\u001b[0m\n\u001b[1;32m----> 1\u001b[0m error \u001b[38;5;241m=\u001b[39m (\u001b[43mall_y_true\u001b[49m \u001b[38;5;241m-\u001b[39m all_y_pred)\n\u001b[0;32m      2\u001b[0m scale \u001b[38;5;241m=\u001b[39m np\u001b[38;5;241m.\u001b[39mload(\u001b[38;5;124m'\u001b[39m\u001b[38;5;124m../../data/processed/BP_npy/PulseDB/scale_train.npy\u001b[39m\u001b[38;5;124m'\u001b[39m)\n\u001b[0;32m      3\u001b[0m error \u001b[38;5;241m=\u001b[39m (error \u001b[38;5;241m-\u001b[39m scale[\u001b[38;5;241m0\u001b[39m,\u001b[38;5;241m0\u001b[39m])\u001b[38;5;241m/\u001b[39mscale[\u001b[38;5;241m0\u001b[39m,\u001b[38;5;241m1\u001b[39m]\n",
      "\u001b[1;31mNameError\u001b[0m: name 'all_y_true' is not defined"
     ]
    }
   ],
   "source": [
    "error = (all_y_true - all_y_pred)\n",
    "scale = np.load('../../data/processed/BP_npy/PulseDB/scale_train.npy')\n",
    "error = (error - scale[0,0])/scale[0,1]\n",
    "error[1]"
   ]
  },
  {
   "cell_type": "code",
   "execution_count": 35,
   "metadata": {},
   "outputs": [
    {
     "data": {
      "text/plain": [
       "(111600, 2)"
      ]
     },
     "execution_count": 35,
     "metadata": {},
     "output_type": "execute_result"
    }
   ],
   "source": [
    "error.shape"
   ]
  },
  {
   "cell_type": "code",
   "execution_count": 38,
   "metadata": {},
   "outputs": [
    {
     "data": {
      "text/plain": [
       "(111600,)"
      ]
     },
     "execution_count": 38,
     "metadata": {},
     "output_type": "execute_result"
    }
   ],
   "source": [
    "error_5.shape"
   ]
  },
  {
   "cell_type": "code",
   "execution_count": 39,
   "metadata": {},
   "outputs": [],
   "source": [
    "\n",
    "mse = np.mean(error**2,axis=0)\n",
    "rmse = np.sqrt(mse)\n",
    "me = np.mean(error,axis=0)\n",
    "mae = np.mean(np.abs(error),axis=0)\n",
    "std = np.std(error,axis=0)\n",
    "n_samples = len(test_dataset)\n",
    "(me.shape,mae.shape,rmse.shape,std.shape)\n",
    "error_5 = np.count_nonzero(np.abs(error)<=5,axis=0)/n_samples*100\n",
    "error_15 = np.count_nonzero(np.abs(error)<=15,axis=0)/n_samples*100\n",
    "error_10 = np.count_nonzero(np.abs(error)<=10,axis=0)/n_samples*100"
   ]
  },
  {
   "cell_type": "code",
   "execution_count": 40,
   "metadata": {},
   "outputs": [
    {
     "name": "stdout",
     "output_type": "stream",
     "text": [
      "\n",
      "          test data samples:\n",
      "          # samples : 111600\n",
      "          \n",
      "          Eval Stats:   DBP    SBP\n",
      "          MAE:        11.901 11.929\n",
      "          RMSE:       15.566 15.606\n",
      "          Mean Error:  3.869  3.949\n",
      "          STD:        15.078 15.098\n",
      "          \n",
      "          BHS standards range:\n",
      "          Error   <5mmHg <10mmHg <15mmHg\n",
      "          gradeA     60%     85%     95%\n",
      "          gradeB     50%     75%     90%\n",
      "          gradeC     40%     65%     85%\n",
      "          DBP      27.7%   52.3%   70.7%\n",
      "          SBP      27.8%   52.1%   70.5%\n",
      "           \n",
      "          \n",
      "          \n"
     ]
    }
   ],
   "source": [
    "print(\"\"\"\n",
    "          test data samples:\n",
    "          # samples : {}\n",
    "          \n",
    "          Eval Stats:   DBP    SBP\n",
    "          MAE:        {:6.3f} {:6.3f}\n",
    "          RMSE:       {:6.3f} {:6.3f}\n",
    "          Mean Error: {:6.3f} {:6.3f}\n",
    "          STD:        {:6.3f} {:6.3f}\n",
    "          \n",
    "          BHS standards range:\n",
    "          Error   <5mmHg <10mmHg <15mmHg\n",
    "          gradeA     60%     85%     95%\n",
    "          gradeB     50%     75%     90%\n",
    "          gradeC     40%     65%     85%\n",
    "          DBP     {:5.1f}%  {:5.1f}%  {:5.1f}%\n",
    "          SBP     {:5.1f}%  {:5.1f}%  {:5.1f}%\n",
    "           \n",
    "          \n",
    "          \"\"\".format(\n",
    "            n_samples,\n",
    "            *mae,\n",
    "            *rmse,\n",
    "            *me,\n",
    "            *std,\n",
    "            error_5[0], error_10[0], error_15[0],\n",
    "            error_5[1], error_10[1], error_15[1],\n",
    "          ))"
   ]
  },
  {
   "cell_type": "markdown",
   "metadata": {},
   "source": [
    "# Grad-CAM\n"
   ]
  },
  {
   "cell_type": "code",
   "execution_count": 118,
   "metadata": {},
   "outputs": [],
   "source": [
    "class GradCAM:\n",
    "    def __init__(self, model, feature_layer):\n",
    "        self.model = model\n",
    "        self.feature_layer = feature_layer\n",
    "        self.model.eval()\n",
    "        self.feature_grad = None\n",
    "        self.feature_map = None\n",
    "        self.hooks = []\n",
    "\n",
    "        # 最終層逆伝播時の勾配を記録する\n",
    "        def save_feature_grad(module, in_grad, out_grad):\n",
    "            self.feature_grad = out_grad[0]\n",
    "        self.hooks.append(self.feature_layer.register_backward_hook(save_feature_grad))\n",
    "\n",
    "        # 最終層の出力 Feature Map を記録する\n",
    "        def save_feature_map(module, inp, outp):\n",
    "            self.feature_map = outp[0]\n",
    "        self.hooks.append(self.feature_layer.register_forward_hook(save_feature_map))\n",
    "\n",
    "    def forward(self, x):\n",
    "        return self.model(x)\n",
    "\n",
    "    def backward_on_target(self, output, target):\n",
    "        self.model.zero_grad()\n",
    "        one_hot_output = torch.zeros([1, output.size()[-1]],device=output.device)\n",
    "        one_hot_output[0][target] = 0\n",
    "        output.backward(gradient=one_hot_output, retain_graph=True)\n",
    "\n",
    "    def clear_hook(self):\n",
    "        for hook in self.hooks:\n",
    "            hook.remove()"
   ]
  },
  {
   "cell_type": "code",
   "execution_count": 18,
   "metadata": {},
   "outputs": [],
   "source": [
    "from resnet1d import ResNet1D\n",
    "config = {\n",
    "    \"network\":{\n",
    "        \"in_channels\":1,\n",
    "        \"base_filters\":64,\n",
    "        \"kernel_size\":3,\n",
    "        \"stride\":1,\n",
    "        \"groups\":1,\n",
    "        \"n_block\":5,\n",
    "        \"n_classes\":2,\n",
    "    },\n",
    "    \"learning_rate\": 1e-3,\n",
    "    \"batch_size\": 32,\n",
    "    \"epochs\":100,\n",
    "    \"log_interval\":100,\n",
    "    \"input_shape\":[1,1250],\n",
    "    \"output_path\": \"..\\\\outputs\\\\resnet\\\\0228\",\n",
    "    \"patience\":10    \n",
    "          }\n",
    "model = ResNet1D(**config[\"network\"])"
   ]
  },
  {
   "cell_type": "code",
   "execution_count": 19,
   "metadata": {},
   "outputs": [],
   "source": [
    "device = torch.device(\"cuda\" if torch.cuda.is_available() else \"cpu\")"
   ]
  },
  {
   "cell_type": "code",
   "execution_count": 20,
   "metadata": {},
   "outputs": [
    {
     "data": {
      "text/plain": [
       "ResNet1D(\n",
       "  (first_block_conv): MyConv1dPadSame(\n",
       "    (conv): Conv1d(1, 64, kernel_size=(3,), stride=(1,))\n",
       "  )\n",
       "  (first_block_bn): BatchNorm1d(64, eps=1e-05, momentum=0.1, affine=True, track_running_stats=True)\n",
       "  (first_block_relu): ReLU()\n",
       "  (basicblock_list): ModuleList(\n",
       "    (0-3): 4 x BasicBlock(\n",
       "      (bn1): BatchNorm1d(64, eps=1e-05, momentum=0.1, affine=True, track_running_stats=True)\n",
       "      (relu1): ReLU()\n",
       "      (do1): Dropout(p=0.5, inplace=False)\n",
       "      (conv1): MyConv1dPadSame(\n",
       "        (conv): Conv1d(64, 64, kernel_size=(3,), stride=(1,))\n",
       "      )\n",
       "      (bn2): BatchNorm1d(64, eps=1e-05, momentum=0.1, affine=True, track_running_stats=True)\n",
       "      (relu2): ReLU()\n",
       "      (do2): Dropout(p=0.5, inplace=False)\n",
       "      (conv2): MyConv1dPadSame(\n",
       "        (conv): Conv1d(64, 64, kernel_size=(3,), stride=(1,))\n",
       "      )\n",
       "      (max_pool): MyMaxPool1dPadSame(\n",
       "        (max_pool): MaxPool1d(kernel_size=1, stride=1, padding=0, dilation=1, ceil_mode=False)\n",
       "      )\n",
       "    )\n",
       "    (4): BasicBlock(\n",
       "      (bn1): BatchNorm1d(64, eps=1e-05, momentum=0.1, affine=True, track_running_stats=True)\n",
       "      (relu1): ReLU()\n",
       "      (do1): Dropout(p=0.5, inplace=False)\n",
       "      (conv1): MyConv1dPadSame(\n",
       "        (conv): Conv1d(64, 128, kernel_size=(3,), stride=(1,))\n",
       "      )\n",
       "      (bn2): BatchNorm1d(128, eps=1e-05, momentum=0.1, affine=True, track_running_stats=True)\n",
       "      (relu2): ReLU()\n",
       "      (do2): Dropout(p=0.5, inplace=False)\n",
       "      (conv2): MyConv1dPadSame(\n",
       "        (conv): Conv1d(128, 128, kernel_size=(3,), stride=(1,))\n",
       "      )\n",
       "      (max_pool): MyMaxPool1dPadSame(\n",
       "        (max_pool): MaxPool1d(kernel_size=1, stride=1, padding=0, dilation=1, ceil_mode=False)\n",
       "      )\n",
       "    )\n",
       "  )\n",
       "  (final_bn): BatchNorm1d(128, eps=1e-05, momentum=0.1, affine=True, track_running_stats=True)\n",
       "  (final_relu): ReLU(inplace=True)\n",
       "  (dense): Linear(in_features=128, out_features=2, bias=True)\n",
       ")"
      ]
     },
     "execution_count": 20,
     "metadata": {},
     "output_type": "execute_result"
    }
   ],
   "source": [
    "model.load_state_dict(torch.load('..\\\\outputs\\\\resnet\\\\0228\\\\best.pth'))\n",
    "model.to(device)\n",
    "model.eval()\n",
    "\n"
   ]
  },
  {
   "cell_type": "code",
   "execution_count": 13,
   "metadata": {},
   "outputs": [],
   "source": [
    "id_to_label = {0: 'normal', 1: 'high'}\n"
   ]
  },
  {
   "cell_type": "code",
   "execution_count": 14,
   "metadata": {},
   "outputs": [
    {
     "ename": "SyntaxError",
     "evalue": "invalid syntax (1291206013.py, line 1)",
     "output_type": "error",
     "traceback": [
      "\u001b[1;36m  Cell \u001b[1;32mIn[14], line 1\u001b[1;36m\u001b[0m\n\u001b[1;33m    grad_cam =\u001b[0m\n\u001b[1;37m               ^\u001b[0m\n\u001b[1;31mSyntaxError\u001b[0m\u001b[1;31m:\u001b[0m invalid syntax\n"
     ]
    }
   ],
   "source": [
    "grad_cam = "
   ]
  },
  {
   "cell_type": "code",
   "execution_count": 27,
   "metadata": {},
   "outputs": [
    {
     "name": "stdout",
     "output_type": "stream",
     "text": [
      "torch.Size([111600, 1, 1250]) torch.Size([38110])\n"
     ]
    }
   ],
   "source": [
    "data_dir = '../../data/processed/BP_npy/PulseDB'\n",
    "batch_size = 32\n",
    "\n",
    "test_dataset = BPDataset(data_dir,train=False)\n",
    "test_dataloader = DataLoader(test_dataset, batch_size=batch_size, shuffle=False)\n"
   ]
  },
  {
   "cell_type": "code",
   "execution_count": 53,
   "metadata": {},
   "outputs": [],
   "source": [
    "def plot_cam(cam, y,title=None):\n",
    "    y=y.squeeze()\n",
    "    heatmap_image = np.tile(cam, (20, 1))  # 高さ20ピクセル相当のストライプ\n",
    "    fig, ax = plt.subplots(figsize=(10, 4))\n",
    "    x = np.arange(0,10,0.008)\n",
    "    # imshowで背景にヒートマップを表示\n",
    "    ax.imshow(\n",
    "        heatmap_image,\n",
    "        extent=[x.min(), x.max(), y.min() - 0.1, y.max() + 0.1],\n",
    "        aspect='auto',\n",
    "        cmap='RdYlBu_r',\n",
    "        alpha=0.5,  # 透明度\n",
    "        origin='lower'\n",
    "    )\n",
    "    ax.set_title(title)\n",
    "    # 波形のプロット\n",
    "    ax.plot(x, y, color='black')\n",
    "    ax.set_xlim(x.min(), x.max())\n",
    "    plt.tight_layout()\n",
    "    plt.show()\n"
   ]
  },
  {
   "cell_type": "code",
   "execution_count": 68,
   "metadata": {},
   "outputs": [],
   "source": [
    "def grad_cam_plot(model,idx):\n",
    "    grad_cam = GradCAM(model=model, feature_layer=model.basicblock_list[-1])\n",
    "    input_tensor = test_dataset[idx][0].unsqueeze(0).to(device)\n",
    "    print(\"true:\",test_dataset[idx][1].cpu().numpy(),\"pred:\",grad_cam.forward(input_tensor),nn.Softmax(dim=1)(grad_cam.forward(input_tensor)))\n",
    "    model_output = grad_cam.forward(input_tensor)\n",
    "    target = model_output.argmax(1).item()\n",
    "    grad_cam.backward_on_target(model_output, target)\n",
    "    # Get feature gradient\n",
    "    feature_grad = grad_cam.feature_grad.data.cpu().numpy()[0]\n",
    "    print(feature_grad.shape)\n",
    "    # Get weights from gradient\n",
    "    weights = np.mean(feature_grad, axis=1)  # Take averages for each gradient\n",
    "    # Get features outputs\n",
    "    feature_map = grad_cam.feature_map.data.cpu().numpy()\n",
    "    grad_cam.clear_hook()\n",
    "    cam = np.sum((weights * feature_map.T), axis=1).T\n",
    "    cam = np.maximum(cam, 0)  # apply ReLU to cam\n",
    "    cam = (cam-cam.min())/(cam.max()-cam.min())\n",
    "    plot_cam(cam,input_tensor.cpu().numpy()[0],title=f\"true:{test_dataset[idx][1].cpu().numpy()},pred:{nn.Softmax(dim=1)(grad_cam.forward(input_tensor)).detach().cpu().numpy()[0]}\")"
   ]
  },
  {
   "cell_type": "code",
   "execution_count": null,
   "metadata": {},
   "outputs": [
    {
     "name": "stdout",
     "output_type": "stream",
     "text": [
      "257\n"
     ]
    },
    {
     "ename": "RuntimeError",
     "evalue": "Input type (torch.cuda.FloatTensor) and weight type (torch.FloatTensor) should be the same",
     "output_type": "error",
     "traceback": [
      "\u001b[1;31m---------------------------------------------------------------------------\u001b[0m",
      "\u001b[1;31mRuntimeError\u001b[0m                              Traceback (most recent call last)",
      "Cell \u001b[1;32mIn[119], line 3\u001b[0m\n\u001b[0;32m      1\u001b[0m i \u001b[38;5;241m=\u001b[39m np\u001b[38;5;241m.\u001b[39mrandom\u001b[38;5;241m.\u001b[39mrandint(\u001b[38;5;241m10000\u001b[39m)\n\u001b[0;32m      2\u001b[0m \u001b[38;5;28mprint\u001b[39m(i)\n\u001b[1;32m----> 3\u001b[0m \u001b[43mgrad_cam_plot\u001b[49m\u001b[43m(\u001b[49m\u001b[43mmodel\u001b[49m\u001b[43m,\u001b[49m\u001b[43mi\u001b[49m\u001b[43m)\u001b[49m\n",
      "Cell \u001b[1;32mIn[68], line 4\u001b[0m, in \u001b[0;36mgrad_cam_plot\u001b[1;34m(model, idx)\u001b[0m\n\u001b[0;32m      2\u001b[0m grad_cam \u001b[38;5;241m=\u001b[39m GradCAM(model\u001b[38;5;241m=\u001b[39mmodel, feature_layer\u001b[38;5;241m=\u001b[39mmodel\u001b[38;5;241m.\u001b[39mbasicblock_list[\u001b[38;5;241m-\u001b[39m\u001b[38;5;241m1\u001b[39m])\n\u001b[0;32m      3\u001b[0m input_tensor \u001b[38;5;241m=\u001b[39m test_dataset[idx][\u001b[38;5;241m0\u001b[39m]\u001b[38;5;241m.\u001b[39munsqueeze(\u001b[38;5;241m0\u001b[39m)\u001b[38;5;241m.\u001b[39mto(device)\n\u001b[1;32m----> 4\u001b[0m \u001b[38;5;28mprint\u001b[39m(\u001b[38;5;124m\"\u001b[39m\u001b[38;5;124mtrue:\u001b[39m\u001b[38;5;124m\"\u001b[39m,test_dataset[idx][\u001b[38;5;241m1\u001b[39m]\u001b[38;5;241m.\u001b[39mcpu()\u001b[38;5;241m.\u001b[39mnumpy(),\u001b[38;5;124m\"\u001b[39m\u001b[38;5;124mpred:\u001b[39m\u001b[38;5;124m\"\u001b[39m,\u001b[43mgrad_cam\u001b[49m\u001b[38;5;241;43m.\u001b[39;49m\u001b[43mforward\u001b[49m\u001b[43m(\u001b[49m\u001b[43minput_tensor\u001b[49m\u001b[43m)\u001b[49m,nn\u001b[38;5;241m.\u001b[39mSoftmax(dim\u001b[38;5;241m=\u001b[39m\u001b[38;5;241m1\u001b[39m)(grad_cam\u001b[38;5;241m.\u001b[39mforward(input_tensor)))\n\u001b[0;32m      5\u001b[0m model_output \u001b[38;5;241m=\u001b[39m grad_cam\u001b[38;5;241m.\u001b[39mforward(input_tensor)\n\u001b[0;32m      6\u001b[0m target \u001b[38;5;241m=\u001b[39m model_output\u001b[38;5;241m.\u001b[39margmax(\u001b[38;5;241m1\u001b[39m)\u001b[38;5;241m.\u001b[39mitem()\n",
      "Cell \u001b[1;32mIn[118], line 21\u001b[0m, in \u001b[0;36mGradCAM.forward\u001b[1;34m(self, x)\u001b[0m\n\u001b[0;32m     20\u001b[0m \u001b[38;5;28;01mdef\u001b[39;00m \u001b[38;5;21mforward\u001b[39m(\u001b[38;5;28mself\u001b[39m, x):\n\u001b[1;32m---> 21\u001b[0m     \u001b[38;5;28;01mreturn\u001b[39;00m \u001b[38;5;28;43mself\u001b[39;49m\u001b[38;5;241;43m.\u001b[39;49m\u001b[43mmodel\u001b[49m\u001b[43m(\u001b[49m\u001b[43mx\u001b[49m\u001b[43m)\u001b[49m\n",
      "File \u001b[1;32mf:\\minowa\\BloodPressureEstimation\\.venv\\lib\\site-packages\\torch\\nn\\modules\\module.py:1518\u001b[0m, in \u001b[0;36mModule._wrapped_call_impl\u001b[1;34m(self, *args, **kwargs)\u001b[0m\n\u001b[0;32m   1516\u001b[0m     \u001b[38;5;28;01mreturn\u001b[39;00m \u001b[38;5;28mself\u001b[39m\u001b[38;5;241m.\u001b[39m_compiled_call_impl(\u001b[38;5;241m*\u001b[39margs, \u001b[38;5;241m*\u001b[39m\u001b[38;5;241m*\u001b[39mkwargs)  \u001b[38;5;66;03m# type: ignore[misc]\u001b[39;00m\n\u001b[0;32m   1517\u001b[0m \u001b[38;5;28;01melse\u001b[39;00m:\n\u001b[1;32m-> 1518\u001b[0m     \u001b[38;5;28;01mreturn\u001b[39;00m \u001b[38;5;28mself\u001b[39m\u001b[38;5;241m.\u001b[39m_call_impl(\u001b[38;5;241m*\u001b[39margs, \u001b[38;5;241m*\u001b[39m\u001b[38;5;241m*\u001b[39mkwargs)\n",
      "File \u001b[1;32mf:\\minowa\\BloodPressureEstimation\\.venv\\lib\\site-packages\\torch\\nn\\modules\\module.py:1527\u001b[0m, in \u001b[0;36mModule._call_impl\u001b[1;34m(self, *args, **kwargs)\u001b[0m\n\u001b[0;32m   1522\u001b[0m \u001b[38;5;66;03m# If we don't have any hooks, we want to skip the rest of the logic in\u001b[39;00m\n\u001b[0;32m   1523\u001b[0m \u001b[38;5;66;03m# this function, and just call forward.\u001b[39;00m\n\u001b[0;32m   1524\u001b[0m \u001b[38;5;28;01mif\u001b[39;00m \u001b[38;5;129;01mnot\u001b[39;00m (\u001b[38;5;28mself\u001b[39m\u001b[38;5;241m.\u001b[39m_backward_hooks \u001b[38;5;129;01mor\u001b[39;00m \u001b[38;5;28mself\u001b[39m\u001b[38;5;241m.\u001b[39m_backward_pre_hooks \u001b[38;5;129;01mor\u001b[39;00m \u001b[38;5;28mself\u001b[39m\u001b[38;5;241m.\u001b[39m_forward_hooks \u001b[38;5;129;01mor\u001b[39;00m \u001b[38;5;28mself\u001b[39m\u001b[38;5;241m.\u001b[39m_forward_pre_hooks\n\u001b[0;32m   1525\u001b[0m         \u001b[38;5;129;01mor\u001b[39;00m _global_backward_pre_hooks \u001b[38;5;129;01mor\u001b[39;00m _global_backward_hooks\n\u001b[0;32m   1526\u001b[0m         \u001b[38;5;129;01mor\u001b[39;00m _global_forward_hooks \u001b[38;5;129;01mor\u001b[39;00m _global_forward_pre_hooks):\n\u001b[1;32m-> 1527\u001b[0m     \u001b[38;5;28;01mreturn\u001b[39;00m forward_call(\u001b[38;5;241m*\u001b[39margs, \u001b[38;5;241m*\u001b[39m\u001b[38;5;241m*\u001b[39mkwargs)\n\u001b[0;32m   1529\u001b[0m \u001b[38;5;28;01mtry\u001b[39;00m:\n\u001b[0;32m   1530\u001b[0m     result \u001b[38;5;241m=\u001b[39m \u001b[38;5;28;01mNone\u001b[39;00m\n",
      "File \u001b[1;32mf:\\minowa\\BloodPressureEstimation\\notebooks\\BP_regression\\resnet1d.py:266\u001b[0m, in \u001b[0;36mResNet1D.forward\u001b[1;34m(self, x)\u001b[0m\n\u001b[0;32m    264\u001b[0m \u001b[38;5;28;01mif\u001b[39;00m \u001b[38;5;28mself\u001b[39m\u001b[38;5;241m.\u001b[39mverbose:\n\u001b[0;32m    265\u001b[0m     \u001b[38;5;28mprint\u001b[39m(\u001b[38;5;124m'\u001b[39m\u001b[38;5;124minput shape\u001b[39m\u001b[38;5;124m'\u001b[39m, out\u001b[38;5;241m.\u001b[39mshape)\n\u001b[1;32m--> 266\u001b[0m out \u001b[38;5;241m=\u001b[39m \u001b[38;5;28;43mself\u001b[39;49m\u001b[38;5;241;43m.\u001b[39;49m\u001b[43mfirst_block_conv\u001b[49m\u001b[43m(\u001b[49m\u001b[43mout\u001b[49m\u001b[43m)\u001b[49m\n\u001b[0;32m    267\u001b[0m \u001b[38;5;28;01mif\u001b[39;00m \u001b[38;5;28mself\u001b[39m\u001b[38;5;241m.\u001b[39mverbose:\n\u001b[0;32m    268\u001b[0m     \u001b[38;5;28mprint\u001b[39m(\u001b[38;5;124m'\u001b[39m\u001b[38;5;124mafter first conv\u001b[39m\u001b[38;5;124m'\u001b[39m, out\u001b[38;5;241m.\u001b[39mshape)\n",
      "File \u001b[1;32mf:\\minowa\\BloodPressureEstimation\\.venv\\lib\\site-packages\\torch\\nn\\modules\\module.py:1518\u001b[0m, in \u001b[0;36mModule._wrapped_call_impl\u001b[1;34m(self, *args, **kwargs)\u001b[0m\n\u001b[0;32m   1516\u001b[0m     \u001b[38;5;28;01mreturn\u001b[39;00m \u001b[38;5;28mself\u001b[39m\u001b[38;5;241m.\u001b[39m_compiled_call_impl(\u001b[38;5;241m*\u001b[39margs, \u001b[38;5;241m*\u001b[39m\u001b[38;5;241m*\u001b[39mkwargs)  \u001b[38;5;66;03m# type: ignore[misc]\u001b[39;00m\n\u001b[0;32m   1517\u001b[0m \u001b[38;5;28;01melse\u001b[39;00m:\n\u001b[1;32m-> 1518\u001b[0m     \u001b[38;5;28;01mreturn\u001b[39;00m \u001b[38;5;28mself\u001b[39m\u001b[38;5;241m.\u001b[39m_call_impl(\u001b[38;5;241m*\u001b[39margs, \u001b[38;5;241m*\u001b[39m\u001b[38;5;241m*\u001b[39mkwargs)\n",
      "File \u001b[1;32mf:\\minowa\\BloodPressureEstimation\\.venv\\lib\\site-packages\\torch\\nn\\modules\\module.py:1527\u001b[0m, in \u001b[0;36mModule._call_impl\u001b[1;34m(self, *args, **kwargs)\u001b[0m\n\u001b[0;32m   1522\u001b[0m \u001b[38;5;66;03m# If we don't have any hooks, we want to skip the rest of the logic in\u001b[39;00m\n\u001b[0;32m   1523\u001b[0m \u001b[38;5;66;03m# this function, and just call forward.\u001b[39;00m\n\u001b[0;32m   1524\u001b[0m \u001b[38;5;28;01mif\u001b[39;00m \u001b[38;5;129;01mnot\u001b[39;00m (\u001b[38;5;28mself\u001b[39m\u001b[38;5;241m.\u001b[39m_backward_hooks \u001b[38;5;129;01mor\u001b[39;00m \u001b[38;5;28mself\u001b[39m\u001b[38;5;241m.\u001b[39m_backward_pre_hooks \u001b[38;5;129;01mor\u001b[39;00m \u001b[38;5;28mself\u001b[39m\u001b[38;5;241m.\u001b[39m_forward_hooks \u001b[38;5;129;01mor\u001b[39;00m \u001b[38;5;28mself\u001b[39m\u001b[38;5;241m.\u001b[39m_forward_pre_hooks\n\u001b[0;32m   1525\u001b[0m         \u001b[38;5;129;01mor\u001b[39;00m _global_backward_pre_hooks \u001b[38;5;129;01mor\u001b[39;00m _global_backward_hooks\n\u001b[0;32m   1526\u001b[0m         \u001b[38;5;129;01mor\u001b[39;00m _global_forward_hooks \u001b[38;5;129;01mor\u001b[39;00m _global_forward_pre_hooks):\n\u001b[1;32m-> 1527\u001b[0m     \u001b[38;5;28;01mreturn\u001b[39;00m forward_call(\u001b[38;5;241m*\u001b[39margs, \u001b[38;5;241m*\u001b[39m\u001b[38;5;241m*\u001b[39mkwargs)\n\u001b[0;32m   1529\u001b[0m \u001b[38;5;28;01mtry\u001b[39;00m:\n\u001b[0;32m   1530\u001b[0m     result \u001b[38;5;241m=\u001b[39m \u001b[38;5;28;01mNone\u001b[39;00m\n",
      "File \u001b[1;32mf:\\minowa\\BloodPressureEstimation\\notebooks\\BP_regression\\resnet1d.py:60\u001b[0m, in \u001b[0;36mMyConv1dPadSame.forward\u001b[1;34m(self, x)\u001b[0m\n\u001b[0;32m     57\u001b[0m pad_right \u001b[38;5;241m=\u001b[39m p \u001b[38;5;241m-\u001b[39m pad_left\n\u001b[0;32m     58\u001b[0m net \u001b[38;5;241m=\u001b[39m F\u001b[38;5;241m.\u001b[39mpad(net, (pad_left, pad_right), \u001b[38;5;124m\"\u001b[39m\u001b[38;5;124mconstant\u001b[39m\u001b[38;5;124m\"\u001b[39m, \u001b[38;5;241m0\u001b[39m)\n\u001b[1;32m---> 60\u001b[0m net \u001b[38;5;241m=\u001b[39m \u001b[38;5;28;43mself\u001b[39;49m\u001b[38;5;241;43m.\u001b[39;49m\u001b[43mconv\u001b[49m\u001b[43m(\u001b[49m\u001b[43mnet\u001b[49m\u001b[43m)\u001b[49m\n\u001b[0;32m     62\u001b[0m \u001b[38;5;28;01mreturn\u001b[39;00m net\n",
      "File \u001b[1;32mf:\\minowa\\BloodPressureEstimation\\.venv\\lib\\site-packages\\torch\\nn\\modules\\module.py:1518\u001b[0m, in \u001b[0;36mModule._wrapped_call_impl\u001b[1;34m(self, *args, **kwargs)\u001b[0m\n\u001b[0;32m   1516\u001b[0m     \u001b[38;5;28;01mreturn\u001b[39;00m \u001b[38;5;28mself\u001b[39m\u001b[38;5;241m.\u001b[39m_compiled_call_impl(\u001b[38;5;241m*\u001b[39margs, \u001b[38;5;241m*\u001b[39m\u001b[38;5;241m*\u001b[39mkwargs)  \u001b[38;5;66;03m# type: ignore[misc]\u001b[39;00m\n\u001b[0;32m   1517\u001b[0m \u001b[38;5;28;01melse\u001b[39;00m:\n\u001b[1;32m-> 1518\u001b[0m     \u001b[38;5;28;01mreturn\u001b[39;00m \u001b[38;5;28mself\u001b[39m\u001b[38;5;241m.\u001b[39m_call_impl(\u001b[38;5;241m*\u001b[39margs, \u001b[38;5;241m*\u001b[39m\u001b[38;5;241m*\u001b[39mkwargs)\n",
      "File \u001b[1;32mf:\\minowa\\BloodPressureEstimation\\.venv\\lib\\site-packages\\torch\\nn\\modules\\module.py:1527\u001b[0m, in \u001b[0;36mModule._call_impl\u001b[1;34m(self, *args, **kwargs)\u001b[0m\n\u001b[0;32m   1522\u001b[0m \u001b[38;5;66;03m# If we don't have any hooks, we want to skip the rest of the logic in\u001b[39;00m\n\u001b[0;32m   1523\u001b[0m \u001b[38;5;66;03m# this function, and just call forward.\u001b[39;00m\n\u001b[0;32m   1524\u001b[0m \u001b[38;5;28;01mif\u001b[39;00m \u001b[38;5;129;01mnot\u001b[39;00m (\u001b[38;5;28mself\u001b[39m\u001b[38;5;241m.\u001b[39m_backward_hooks \u001b[38;5;129;01mor\u001b[39;00m \u001b[38;5;28mself\u001b[39m\u001b[38;5;241m.\u001b[39m_backward_pre_hooks \u001b[38;5;129;01mor\u001b[39;00m \u001b[38;5;28mself\u001b[39m\u001b[38;5;241m.\u001b[39m_forward_hooks \u001b[38;5;129;01mor\u001b[39;00m \u001b[38;5;28mself\u001b[39m\u001b[38;5;241m.\u001b[39m_forward_pre_hooks\n\u001b[0;32m   1525\u001b[0m         \u001b[38;5;129;01mor\u001b[39;00m _global_backward_pre_hooks \u001b[38;5;129;01mor\u001b[39;00m _global_backward_hooks\n\u001b[0;32m   1526\u001b[0m         \u001b[38;5;129;01mor\u001b[39;00m _global_forward_hooks \u001b[38;5;129;01mor\u001b[39;00m _global_forward_pre_hooks):\n\u001b[1;32m-> 1527\u001b[0m     \u001b[38;5;28;01mreturn\u001b[39;00m forward_call(\u001b[38;5;241m*\u001b[39margs, \u001b[38;5;241m*\u001b[39m\u001b[38;5;241m*\u001b[39mkwargs)\n\u001b[0;32m   1529\u001b[0m \u001b[38;5;28;01mtry\u001b[39;00m:\n\u001b[0;32m   1530\u001b[0m     result \u001b[38;5;241m=\u001b[39m \u001b[38;5;28;01mNone\u001b[39;00m\n",
      "File \u001b[1;32mf:\\minowa\\BloodPressureEstimation\\.venv\\lib\\site-packages\\torch\\nn\\modules\\conv.py:310\u001b[0m, in \u001b[0;36mConv1d.forward\u001b[1;34m(self, input)\u001b[0m\n\u001b[0;32m    309\u001b[0m \u001b[38;5;28;01mdef\u001b[39;00m \u001b[38;5;21mforward\u001b[39m(\u001b[38;5;28mself\u001b[39m, \u001b[38;5;28minput\u001b[39m: Tensor) \u001b[38;5;241m-\u001b[39m\u001b[38;5;241m>\u001b[39m Tensor:\n\u001b[1;32m--> 310\u001b[0m     \u001b[38;5;28;01mreturn\u001b[39;00m \u001b[38;5;28;43mself\u001b[39;49m\u001b[38;5;241;43m.\u001b[39;49m\u001b[43m_conv_forward\u001b[49m\u001b[43m(\u001b[49m\u001b[38;5;28;43minput\u001b[39;49m\u001b[43m,\u001b[49m\u001b[43m \u001b[49m\u001b[38;5;28;43mself\u001b[39;49m\u001b[38;5;241;43m.\u001b[39;49m\u001b[43mweight\u001b[49m\u001b[43m,\u001b[49m\u001b[43m \u001b[49m\u001b[38;5;28;43mself\u001b[39;49m\u001b[38;5;241;43m.\u001b[39;49m\u001b[43mbias\u001b[49m\u001b[43m)\u001b[49m\n",
      "File \u001b[1;32mf:\\minowa\\BloodPressureEstimation\\.venv\\lib\\site-packages\\torch\\nn\\modules\\conv.py:306\u001b[0m, in \u001b[0;36mConv1d._conv_forward\u001b[1;34m(self, input, weight, bias)\u001b[0m\n\u001b[0;32m    302\u001b[0m \u001b[38;5;28;01mif\u001b[39;00m \u001b[38;5;28mself\u001b[39m\u001b[38;5;241m.\u001b[39mpadding_mode \u001b[38;5;241m!=\u001b[39m \u001b[38;5;124m'\u001b[39m\u001b[38;5;124mzeros\u001b[39m\u001b[38;5;124m'\u001b[39m:\n\u001b[0;32m    303\u001b[0m     \u001b[38;5;28;01mreturn\u001b[39;00m F\u001b[38;5;241m.\u001b[39mconv1d(F\u001b[38;5;241m.\u001b[39mpad(\u001b[38;5;28minput\u001b[39m, \u001b[38;5;28mself\u001b[39m\u001b[38;5;241m.\u001b[39m_reversed_padding_repeated_twice, mode\u001b[38;5;241m=\u001b[39m\u001b[38;5;28mself\u001b[39m\u001b[38;5;241m.\u001b[39mpadding_mode),\n\u001b[0;32m    304\u001b[0m                     weight, bias, \u001b[38;5;28mself\u001b[39m\u001b[38;5;241m.\u001b[39mstride,\n\u001b[0;32m    305\u001b[0m                     _single(\u001b[38;5;241m0\u001b[39m), \u001b[38;5;28mself\u001b[39m\u001b[38;5;241m.\u001b[39mdilation, \u001b[38;5;28mself\u001b[39m\u001b[38;5;241m.\u001b[39mgroups)\n\u001b[1;32m--> 306\u001b[0m \u001b[38;5;28;01mreturn\u001b[39;00m \u001b[43mF\u001b[49m\u001b[38;5;241;43m.\u001b[39;49m\u001b[43mconv1d\u001b[49m\u001b[43m(\u001b[49m\u001b[38;5;28;43minput\u001b[39;49m\u001b[43m,\u001b[49m\u001b[43m \u001b[49m\u001b[43mweight\u001b[49m\u001b[43m,\u001b[49m\u001b[43m \u001b[49m\u001b[43mbias\u001b[49m\u001b[43m,\u001b[49m\u001b[43m \u001b[49m\u001b[38;5;28;43mself\u001b[39;49m\u001b[38;5;241;43m.\u001b[39;49m\u001b[43mstride\u001b[49m\u001b[43m,\u001b[49m\n\u001b[0;32m    307\u001b[0m \u001b[43m                \u001b[49m\u001b[38;5;28;43mself\u001b[39;49m\u001b[38;5;241;43m.\u001b[39;49m\u001b[43mpadding\u001b[49m\u001b[43m,\u001b[49m\u001b[43m \u001b[49m\u001b[38;5;28;43mself\u001b[39;49m\u001b[38;5;241;43m.\u001b[39;49m\u001b[43mdilation\u001b[49m\u001b[43m,\u001b[49m\u001b[43m \u001b[49m\u001b[38;5;28;43mself\u001b[39;49m\u001b[38;5;241;43m.\u001b[39;49m\u001b[43mgroups\u001b[49m\u001b[43m)\u001b[49m\n",
      "\u001b[1;31mRuntimeError\u001b[0m: Input type (torch.cuda.FloatTensor) and weight type (torch.FloatTensor) should be the same"
     ]
    },
    {
     "ename": "",
     "evalue": "",
     "output_type": "error",
     "traceback": [
      "\u001b[1;31mThe Kernel crashed while executing code in the current cell or a previous cell. \n",
      "\u001b[1;31mPlease review the code in the cell(s) to identify a possible cause of the failure. \n",
      "\u001b[1;31mClick <a href='https://aka.ms/vscodeJupyterKernelCrash'>here</a> for more info. \n",
      "\u001b[1;31mView Jupyter <a href='command:jupyter.viewOutput'>log</a> for further details."
     ]
    }
   ],
   "source": [
    "i = np.random.randint(10000)\n",
    "print(i)\n",
    "grad_cam_plot(model,i)"
   ]
  },
  {
   "cell_type": "code",
   "execution_count": 65,
   "metadata": {},
   "outputs": [
    {
     "ename": "NameError",
     "evalue": "name 'cam' is not defined",
     "output_type": "error",
     "traceback": [
      "\u001b[1;31m---------------------------------------------------------------------------\u001b[0m",
      "\u001b[1;31mNameError\u001b[0m                                 Traceback (most recent call last)",
      "Cell \u001b[1;32mIn[65], line 1\u001b[0m\n\u001b[1;32m----> 1\u001b[0m plot_cam(\u001b[43mcam\u001b[49m,input_tensor\u001b[38;5;241m.\u001b[39mcpu()\u001b[38;5;241m.\u001b[39mnumpy()[\u001b[38;5;241m0\u001b[39m])\n",
      "\u001b[1;31mNameError\u001b[0m: name 'cam' is not defined"
     ]
    }
   ],
   "source": [
    "plot_cam(cam,input_tensor.cpu().numpy()[0])"
   ]
  },
  {
   "cell_type": "code",
   "execution_count": null,
   "metadata": {},
   "outputs": [],
   "source": [
    "import heartpy as hp\n",
    "\n"
   ]
  },
  {
   "cell_type": "code",
   "execution_count": 90,
   "metadata": {},
   "outputs": [
    {
     "data": {
      "image/png": "[encoded data removed]",
      "text/plain": [
       "<Figure size 1400x1200 with 2 Axes>"
      ]
     },
     "metadata": {},
     "output_type": "display_data"
    }
   ],
   "source": [
    "import numpy as np\n",
    "from scipy.signal import find_peaks\n",
    "import matplotlib.pyplot as plt\n",
    "\n",
    "# サンプルのPPG波形（例としてsin波 + ノイズ）\n",
    "x = test_dataset[0][0].cpu().numpy().squeeze()\n",
    "# --- 平滑化（移動平均） ---\n",
    "def moving_average(x, n=5):\n",
    "    return np.convolve(x, np.ones(n)/n, mode='same')\n",
    "\n",
    "y = moving_average(x, n=5)\n",
    "\n",
    "# --- JPG (3次差分の導関数) ---\n",
    "def compute_jpg(y):\n",
    "    # 差分\n",
    "    d = np.zeros_like(y)\n",
    "    for i in range(3, len(y)-2):\n",
    "        d[i] = y[i+2] - 2*y[i+1] + 2*y[i] - y[i-1]\n",
    "    # 微分\n",
    "    jpg = np.gradient(d)\n",
    "    return jpg\n",
    "\n",
    "jpg = compute_jpg(y)\n",
    "\n",
    "# --- 極大値 (S) と 極小値 (O) の検出 ---\n",
    "peaks_s, _ = find_peaks(x, distance=50)\n",
    "peaks_o, _ = find_peaks(-x, distance=50)\n",
    "\n",
    "# --- ゼロクロス検出（N, D候補） ---\n",
    "def zero_crossings(signal):\n",
    "    return np.where(np.diff(np.sign(signal)))[0]\n",
    "\n",
    "zc = zero_crossings(jpg)\n",
    "# pairs = [(o, s) for o in peaks_o for s in peaks_s if o < s]\n",
    "peaks_n = []\n",
    "peaks_d = []\n",
    "peaks_s_in_cycle = []\n",
    "\n",
    "# O の連続するペアを使って区間を作る\n",
    "for i in range(len(peaks_o) - 1):\n",
    "    o_start = peaks_o[i]\n",
    "    o_end = peaks_o[i + 1]\n",
    "\n",
    "    # O–O区間にあるS（systolic peak）の中で最大のピーク（たいてい1個）\n",
    "    s_candidates = [s for s in peaks_s if o_start < s < o_end]\n",
    "    if len(s_candidates) == 0:\n",
    "        continue  # Sが見つからなければスキップ\n",
    "    peak_s = max(s_candidates, key=lambda idx: x[idx])\n",
    "    peaks_s_in_cycle.append(peak_s)\n",
    "\n",
    "    # O–O区間のJPGゼロクロス（NとDを探す）\n",
    "    zc_in_range = [z for z in zc if o_start < z < o_end]\n",
    "    if len(zc_in_range) >= 4:\n",
    "        peaks_n.append(zc_in_range[2])\n",
    "        peaks_d.append(zc_in_range[3])\n",
    "    else:\n",
    "        peaks_n.append(np.nan)\n",
    "        peaks_d.append(np.nan)\n",
    "# # N, Dとしてゼロクロスの3番目と4番目を仮で抽出\n",
    "# peaks_n = zc[2::4]  # 3番目\n",
    "# peaks_d = zc[3::4]  # 4番目\n",
    "t=np.arange(0,10,0.008)\n",
    "# --- プロット ---\n",
    "plt.figure(figsize=(14, 12))\n",
    "plt.subplot(2,1,1)\n",
    "plt.plot(t, x, label='PPG Signal')\n",
    "plt.plot(t[peaks_s], x[peaks_s], 'ro', label='S (systolic peaks)')\n",
    "plt.plot(t[peaks_o], x[peaks_o], 'go', label='O (onsets)')\n",
    "plt.plot(t[peaks_n], x[peaks_n], 'mo', label='N (notch)')\n",
    "plt.plot(t[peaks_d], x[peaks_d], 'co', label='D (diastolic peaks)')\n",
    "plt.title('PPG Signal with O, S, N, D Points')\n",
    "plt.subplot(2,1,2)\n",
    "plt.plot(t,jpg)\n",
    "plt.plot(t[peaks_o], jpg[peaks_o], 'go', label='O (onsets)')\n",
    "plt.plot(t[peaks_n], jpg[peaks_n], 'mo', label='N (notch)')\n",
    "plt.plot(t[peaks_d], jpg[peaks_d], 'co', label='D (diastolic peaks)')\n",
    "plt.legend()\n",
    "plt.grid(True)\n",
    "plt.show()\n"
   ]
  },
  {
   "cell_type": "markdown",
   "metadata": {},
   "source": [
    "resnet34 7,219,266,\n",
    "seresnet34 7,376,450\n",
    "resnet18 3,844,930\n",
    "seresnet18 3,931,970"
   ]
  },
  {
   "cell_type": "code",
   "execution_count": 4,
   "metadata": {},
   "outputs": [
    {
     "data": {
      "text/plain": [
       "============================================================================================================================================\n",
       "Layer (type (var_name))                  Input Shape               Output Shape              Param #                   Trainable\n",
       "============================================================================================================================================\n",
       "ResNet1D (ResNet1D)                      [1, 1, 1250]              [1, 2]                    --                        True\n",
       "├─Conv1d (conv1)                         [1, 1, 1250]              [1, 64, 625]              448                       True\n",
       "├─BatchNorm1d (bn1)                      [1, 64, 625]              [1, 64, 625]              128                       True\n",
       "├─ReLU (relu)                            [1, 64, 625]              [1, 64, 625]              --                        --\n",
       "├─MaxPool1d (maxpool)                    [1, 64, 625]              [1, 64, 313]              --                        --\n",
       "├─Sequential (layer1)                    [1, 64, 313]              [1, 64, 313]              --                        True\n",
       "│    └─BasicBlock (0)                    [1, 64, 313]              [1, 64, 313]              --                        True\n",
       "│    │    └─Conv1d (conv1)               [1, 64, 313]              [1, 64, 313]              12,288                    True\n",
       "│    │    └─BatchNorm1d (bn1)            [1, 64, 313]              [1, 64, 313]              128                       True\n",
       "│    │    └─ReLU (relu)                  [1, 64, 313]              [1, 64, 313]              --                        --\n",
       "│    │    └─Conv1d (conv2)               [1, 64, 313]              [1, 64, 313]              12,288                    True\n",
       "│    │    └─BatchNorm1d (bn2)            [1, 64, 313]              [1, 64, 313]              128                       True\n",
       "│    │    └─ReLU (relu)                  [1, 64, 313]              [1, 64, 313]              --                        --\n",
       "│    └─BasicBlock (1)                    [1, 64, 313]              [1, 64, 313]              --                        True\n",
       "│    │    └─Conv1d (conv1)               [1, 64, 313]              [1, 64, 313]              12,288                    True\n",
       "│    │    └─BatchNorm1d (bn1)            [1, 64, 313]              [1, 64, 313]              128                       True\n",
       "│    │    └─ReLU (relu)                  [1, 64, 313]              [1, 64, 313]              --                        --\n",
       "│    │    └─Conv1d (conv2)               [1, 64, 313]              [1, 64, 313]              12,288                    True\n",
       "│    │    └─BatchNorm1d (bn2)            [1, 64, 313]              [1, 64, 313]              128                       True\n",
       "│    │    └─ReLU (relu)                  [1, 64, 313]              [1, 64, 313]              --                        --\n",
       "├─Sequential (layer2)                    [1, 64, 313]              [1, 128, 157]             --                        True\n",
       "│    └─BasicBlock (0)                    [1, 64, 313]              [1, 128, 157]             --                        True\n",
       "│    │    └─Conv1d (conv1)               [1, 64, 313]              [1, 128, 157]             24,576                    True\n",
       "│    │    └─BatchNorm1d (bn1)            [1, 128, 157]             [1, 128, 157]             256                       True\n",
       "│    │    └─ReLU (relu)                  [1, 128, 157]             [1, 128, 157]             --                        --\n",
       "│    │    └─Conv1d (conv2)               [1, 128, 157]             [1, 128, 157]             49,152                    True\n",
       "│    │    └─BatchNorm1d (bn2)            [1, 128, 157]             [1, 128, 157]             256                       True\n",
       "│    │    └─Sequential (downsample)      [1, 64, 313]              [1, 128, 157]             8,448                     True\n",
       "│    │    └─ReLU (relu)                  [1, 128, 157]             [1, 128, 157]             --                        --\n",
       "│    └─BasicBlock (1)                    [1, 128, 157]             [1, 128, 157]             --                        True\n",
       "│    │    └─Conv1d (conv1)               [1, 128, 157]             [1, 128, 157]             49,152                    True\n",
       "│    │    └─BatchNorm1d (bn1)            [1, 128, 157]             [1, 128, 157]             256                       True\n",
       "│    │    └─ReLU (relu)                  [1, 128, 157]             [1, 128, 157]             --                        --\n",
       "│    │    └─Conv1d (conv2)               [1, 128, 157]             [1, 128, 157]             49,152                    True\n",
       "│    │    └─BatchNorm1d (bn2)            [1, 128, 157]             [1, 128, 157]             256                       True\n",
       "│    │    └─ReLU (relu)                  [1, 128, 157]             [1, 128, 157]             --                        --\n",
       "├─Sequential (layer3)                    [1, 128, 157]             [1, 256, 79]              --                        True\n",
       "│    └─BasicBlock (0)                    [1, 128, 157]             [1, 256, 79]              --                        True\n",
       "│    │    └─Conv1d (conv1)               [1, 128, 157]             [1, 256, 79]              98,304                    True\n",
       "│    │    └─BatchNorm1d (bn1)            [1, 256, 79]              [1, 256, 79]              512                       True\n",
       "│    │    └─ReLU (relu)                  [1, 256, 79]              [1, 256, 79]              --                        --\n",
       "│    │    └─Conv1d (conv2)               [1, 256, 79]              [1, 256, 79]              196,608                   True\n",
       "│    │    └─BatchNorm1d (bn2)            [1, 256, 79]              [1, 256, 79]              512                       True\n",
       "│    │    └─Sequential (downsample)      [1, 128, 157]             [1, 256, 79]              33,280                    True\n",
       "│    │    └─ReLU (relu)                  [1, 256, 79]              [1, 256, 79]              --                        --\n",
       "│    └─BasicBlock (1)                    [1, 256, 79]              [1, 256, 79]              --                        True\n",
       "│    │    └─Conv1d (conv1)               [1, 256, 79]              [1, 256, 79]              196,608                   True\n",
       "│    │    └─BatchNorm1d (bn1)            [1, 256, 79]              [1, 256, 79]              512                       True\n",
       "│    │    └─ReLU (relu)                  [1, 256, 79]              [1, 256, 79]              --                        --\n",
       "│    │    └─Conv1d (conv2)               [1, 256, 79]              [1, 256, 79]              196,608                   True\n",
       "│    │    └─BatchNorm1d (bn2)            [1, 256, 79]              [1, 256, 79]              512                       True\n",
       "│    │    └─ReLU (relu)                  [1, 256, 79]              [1, 256, 79]              --                        --\n",
       "├─Sequential (layer4)                    [1, 256, 79]              [1, 512, 40]              --                        True\n",
       "│    └─BasicBlock (0)                    [1, 256, 79]              [1, 512, 40]              --                        True\n",
       "│    │    └─Conv1d (conv1)               [1, 256, 79]              [1, 512, 40]              393,216                   True\n",
       "│    │    └─BatchNorm1d (bn1)            [1, 512, 40]              [1, 512, 40]              1,024                     True\n",
       "│    │    └─ReLU (relu)                  [1, 512, 40]              [1, 512, 40]              --                        --\n",
       "│    │    └─Conv1d (conv2)               [1, 512, 40]              [1, 512, 40]              786,432                   True\n",
       "│    │    └─BatchNorm1d (bn2)            [1, 512, 40]              [1, 512, 40]              1,024                     True\n",
       "│    │    └─Sequential (downsample)      [1, 256, 79]              [1, 512, 40]              132,096                   True\n",
       "│    │    └─ReLU (relu)                  [1, 512, 40]              [1, 512, 40]              --                        --\n",
       "│    └─BasicBlock (1)                    [1, 512, 40]              [1, 512, 40]              --                        True\n",
       "│    │    └─Conv1d (conv1)               [1, 512, 40]              [1, 512, 40]              786,432                   True\n",
       "│    │    └─BatchNorm1d (bn1)            [1, 512, 40]              [1, 512, 40]              1,024                     True\n",
       "│    │    └─ReLU (relu)                  [1, 512, 40]              [1, 512, 40]              --                        --\n",
       "│    │    └─Conv1d (conv2)               [1, 512, 40]              [1, 512, 40]              786,432                   True\n",
       "│    │    └─BatchNorm1d (bn2)            [1, 512, 40]              [1, 512, 40]              1,024                     True\n",
       "│    │    └─ReLU (relu)                  [1, 512, 40]              [1, 512, 40]              --                        --\n",
       "├─AdaptiveAvgPool1d (avgpool)            [1, 512, 40]              [1, 512, 1]               --                        --\n",
       "├─Dropout (dropout)                      [1, 512]                  [1, 512]                  --                        --\n",
       "├─Linear (fc)                            [1, 512]                  [1, 2]                    1,026                     True\n",
       "============================================================================================================================================\n",
       "Total params: 3,844,930\n",
       "Trainable params: 3,844,930\n",
       "Non-trainable params: 0\n",
       "Total mult-adds (M): 216.26\n",
       "============================================================================================================================================\n",
       "Input size (MB): 0.01\n",
       "Forward/backward pass size (MB): 6.79\n",
       "Params size (MB): 15.38\n",
       "Estimated Total Size (MB): 22.17\n",
       "============================================================================================================================================"
      ]
     },
     "execution_count": 4,
     "metadata": {},
     "output_type": "execute_result"
    }
   ],
   "source": [
    "from torchinfo import summary\n",
    "from se_resnet1d import resnet34,se_resnet34,se_resnet18,resnet18\n",
    "model = resnet18(num_classes=config[\"network\"][\"n_classes\"], in_channels=config[\"network\"][\"in_channels\"])\n",
    "summary(model, input_size=(1, 1, 1250), col_names=[\"input_size\", \"output_size\", \"num_params\", \"trainable\"], row_settings=[\"var_names\"])"
   ]
  }
 ],
 "metadata": {
  "kernelspec": {
   "display_name": ".venv",
   "language": "python",
   "name": "python3"
  },
  "language_info": {
   "codemirror_mode": {
    "name": "ipython",
    "version": 3
   },
   "file_extension": ".py",
   "mimetype": "text/x-python",
   "name": "python",
   "nbconvert_exporter": "python",
   "pygments_lexer": "ipython3",
   "version": "3.10.11"
  }
 },
 "nbformat": 4,
 "nbformat_minor": 2
}
