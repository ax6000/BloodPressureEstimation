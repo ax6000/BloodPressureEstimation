{
 "cells": [
  {
   "cell_type": "code",
   "execution_count": 2,
   "metadata": {},
   "outputs": [],
   "source": [
    "import numpy as np\n",
    "import glob\n",
    "import os\n",
    "import logging\n",
    "from tqdm import tqdm\n",
    "from PIL import Image\n",
    "import matplotlib.pyplot as plt"
   ]
  },
  {
   "cell_type": "code",
   "execution_count": 26,
   "metadata": {},
   "outputs": [],
   "source": [
    "DATA_DIR = r\"D:\\minowa\\BloodPressureEstimation\\data\\processed\\npy\\1030\\p00\"\n",
    "OUTPUT_DIR = r\"D:\\minowa\\BloodPressureEstimation\\data\\processed\\img\\1030\""
   ]
  },
  {
   "cell_type": "code",
   "execution_count": 3,
   "metadata": {},
   "outputs": [],
   "source": [
    "def create_signal_images(target,count,out_path_abp,out_path_ppg):\n",
    "    px = 256\n",
    "    def ppg_img(sig,out_path_ppg,count):\n",
    "        im_arr = np.zeros((px,px),dtype=np.uint8)\n",
    "        rescaled = (255.0*sig).astype(np.uint8)\n",
    "        #rescaled = np.array(j).astype(np.uint8)\n",
    "        im_arr[:,:] = rescaled[:,None]\n",
    "        im = Image.fromarray(im_arr.T)\n",
    "        im.save(out_path_ppg.format(count))\n",
    "        return \n",
    "    def abp_img(sig,out_path_abp,count):\n",
    "        im_arr = np.zeros((px,px),dtype=np.uint8)\n",
    "        abp_max = 255\n",
    "        abp_min = 0\n",
    "        rescaled = (255.0/(abp_max-abp_min)*(sig-abp_min)).astype(np.uint8)\n",
    "        im_arr[:,:] = rescaled[:,None]\n",
    "        im = Image.fromarray(im_arr.T)\n",
    "        im.save(out_path_abp.format(count))\n",
    "        return\n",
    "    for i in range(0,len(target)-px,px):\n",
    "        s = target[i:i+px,:]\n",
    "        abp_img(s[:,0],out_path_abp,count)\n",
    "        ppg_img(s[:,1],out_path_ppg,count)\n",
    "        count+=1\n",
    "    return count"
   ]
  },
  {
   "cell_type": "code",
   "execution_count": 4,
   "metadata": {},
   "outputs": [],
   "source": [
    "def create_image_executor(dir1):\n",
    "    DATA_DIR = r\"D:\\minowa\\BloodPressureEstimation\\data\\processed\\npy\\1030\\p00\"\n",
    "    OUTPUT_DIR = r\"D:\\minowa\\BloodPressureEstimation\\data\\processed\\img\\1030\"\n",
    "    os.makedirs(f\"{OUTPUT_DIR}\\\\abp\\p00\\{dir1}\",exist_ok=True)\n",
    "    os.makedirs(f\"{OUTPUT_DIR}\\\\ppg\\p00\\{dir1}\",exist_ok=True)\n",
    "    files = glob.glob(dir1+\"\\*\",root_dir=DATA_DIR)\n",
    "    out_path_abp = f\"{OUTPUT_DIR}\\\\abp\\p00\\{dir1}\\\\\"+\"{:07d}.png\"\n",
    "    out_path_ppg = f\"{OUTPUT_DIR}\\\\ppg\\p00\\{dir1}\\\\\"+\"{:07d}.png\"\n",
    "    for file in files:\n",
    "        sig = np.load(os.path.join(DATA_DIR,file))\n",
    "        nan_locs = np.where(np.isnan(sig))[0]\n",
    "        count = 0\n",
    "        for n in range(len(nan_locs)-1):\n",
    "            target = sig[nan_locs[n]+1:nan_locs[n+1]]\n",
    "            count = create_signal_images(target,count,out_path_abp,out_path_ppg)"
   ]
  },
  {
   "cell_type": "code",
   "execution_count": 58,
   "metadata": {},
   "outputs": [],
   "source": [
    "def create_npy_executor(dir1):\n",
    "    px = 256\n",
    "    max= 200\n",
    "    DATA_DIR = r\"D:\\minowa\\BloodPressureEstimation\\data\\processed\\npy\\1030\\p00\"\n",
    "    OUTPUT_DIR = r\"D:\\minowa\\BloodPressureEstimation\\data\\processed\\sig_npy\\1107_norm\"\n",
    "    os.makedirs(f\"{OUTPUT_DIR}\\\\p00\\{dir1}\",exist_ok=True)\n",
    "    files = glob.glob(dir1+\"\\*\",root_dir=DATA_DIR)\n",
    "    out_path = f\"{OUTPUT_DIR}\\\\p00\\{dir1}\\\\{dir1}_\"+\"{:06d}.npy\"\n",
    "    count = 0\n",
    "    for file in files:\n",
    "        sig = np.load(os.path.join(DATA_DIR,file))\n",
    "        sig[:,0] = sig[:,0]/max\n",
    "        nan_locs = np.where(np.isnan(sig))[0]\n",
    "        for n in range(len(nan_locs)-1):\n",
    "            target = sig[nan_locs[n]+1:nan_locs[n+1]]\n",
    "            for i in range(0,len(target)-px,px):\n",
    "                s = target[i:i+px,:]\n",
    "                np.save(out_path.format(count),s.astype(np.float16))\n",
    "                count+=1"
   ]
  },
  {
   "cell_type": "code",
   "execution_count": 59,
   "metadata": {},
   "outputs": [
    {
     "name": "stderr",
     "output_type": "stream",
     "text": [
      "  2%|▏         | 2/121 [01:12<1:11:49, 36.21s/it]\n"
     ]
    },
    {
     "ename": "KeyboardInterrupt",
     "evalue": "",
     "output_type": "error",
     "traceback": [
      "\u001b[1;31m---------------------------------------------------------------------------\u001b[0m",
      "\u001b[1;31mKeyboardInterrupt\u001b[0m                         Traceback (most recent call last)",
      "\u001b[1;32md:\\minowa\\BloodPressureEstimation\\notebooks\\create_image_data.ipynb Cell 6\u001b[0m line \u001b[0;36m1\n\u001b[0;32m      <a href='vscode-notebook-cell:/d%3A/minowa/BloodPressureEstimation/notebooks/create_image_data.ipynb#W5sZmlsZQ%3D%3D?line=8'>9</a>\u001b[0m     patients_num \u001b[39m=\u001b[39m \u001b[39mint\u001b[39m(dirs[i][\u001b[39m1\u001b[39m:])\n\u001b[0;32m     <a href='vscode-notebook-cell:/d%3A/minowa/BloodPressureEstimation/notebooks/create_image_data.ipynb#W5sZmlsZQ%3D%3D?line=9'>10</a>\u001b[0m     \u001b[39m# print(patients_num)\u001b[39;00m\n\u001b[0;32m     <a href='vscode-notebook-cell:/d%3A/minowa/BloodPressureEstimation/notebooks/create_image_data.ipynb#W5sZmlsZQ%3D%3D?line=10'>11</a>\u001b[0m     \u001b[39m# if patients_num < 4680:\u001b[39;00m\n\u001b[0;32m     <a href='vscode-notebook-cell:/d%3A/minowa/BloodPressureEstimation/notebooks/create_image_data.ipynb#W5sZmlsZQ%3D%3D?line=11'>12</a>\u001b[0m     \u001b[39m#     continue\u001b[39;00m\n\u001b[0;32m     <a href='vscode-notebook-cell:/d%3A/minowa/BloodPressureEstimation/notebooks/create_image_data.ipynb#W5sZmlsZQ%3D%3D?line=12'>13</a>\u001b[0m     \u001b[39m# create_image_executor(dirs[i])\u001b[39;00m\n\u001b[1;32m---> <a href='vscode-notebook-cell:/d%3A/minowa/BloodPressureEstimation/notebooks/create_image_data.ipynb#W5sZmlsZQ%3D%3D?line=13'>14</a>\u001b[0m     create_npy_executor(dirs[i])\n\u001b[0;32m     <a href='vscode-notebook-cell:/d%3A/minowa/BloodPressureEstimation/notebooks/create_image_data.ipynb#W5sZmlsZQ%3D%3D?line=14'>15</a>\u001b[0m         \u001b[39m# futures.append(executor.submit(create_image_executor,dirs[i]))\u001b[39;00m\n\u001b[0;32m     <a href='vscode-notebook-cell:/d%3A/minowa/BloodPressureEstimation/notebooks/create_image_data.ipynb#W5sZmlsZQ%3D%3D?line=15'>16</a>\u001b[0m     \u001b[39m# concurrent.futures.wait(futures,timeout=None,return_when=concurrent.futures.ALL_COMPLETED)\u001b[39;00m\n\u001b[0;32m     <a href='vscode-notebook-cell:/d%3A/minowa/BloodPressureEstimation/notebooks/create_image_data.ipynb#W5sZmlsZQ%3D%3D?line=16'>17</a>\u001b[0m     \u001b[39m# executor.shutdown()\u001b[39;00m\n\u001b[0;32m     <a href='vscode-notebook-cell:/d%3A/minowa/BloodPressureEstimation/notebooks/create_image_data.ipynb#W5sZmlsZQ%3D%3D?line=17'>18</a>\u001b[0m \u001b[39mprint\u001b[39m(\u001b[39m\"\u001b[39m\u001b[39mdone\u001b[39m\u001b[39m\"\u001b[39m)\n",
      "\u001b[1;32md:\\minowa\\BloodPressureEstimation\\notebooks\\create_image_data.ipynb Cell 6\u001b[0m line \u001b[0;36m1\n\u001b[0;32m     <a href='vscode-notebook-cell:/d%3A/minowa/BloodPressureEstimation/notebooks/create_image_data.ipynb#W5sZmlsZQ%3D%3D?line=15'>16</a>\u001b[0m \u001b[39mfor\u001b[39;00m i \u001b[39min\u001b[39;00m \u001b[39mrange\u001b[39m(\u001b[39m0\u001b[39m,\u001b[39mlen\u001b[39m(target)\u001b[39m-\u001b[39mpx,px):\n\u001b[0;32m     <a href='vscode-notebook-cell:/d%3A/minowa/BloodPressureEstimation/notebooks/create_image_data.ipynb#W5sZmlsZQ%3D%3D?line=16'>17</a>\u001b[0m     s \u001b[39m=\u001b[39m target[i:i\u001b[39m+\u001b[39mpx,:]\n\u001b[1;32m---> <a href='vscode-notebook-cell:/d%3A/minowa/BloodPressureEstimation/notebooks/create_image_data.ipynb#W5sZmlsZQ%3D%3D?line=17'>18</a>\u001b[0m     np\u001b[39m.\u001b[39;49msave(out_path\u001b[39m.\u001b[39;49mformat(count),s\u001b[39m.\u001b[39;49mastype(np\u001b[39m.\u001b[39;49mfloat16))\n\u001b[0;32m     <a href='vscode-notebook-cell:/d%3A/minowa/BloodPressureEstimation/notebooks/create_image_data.ipynb#W5sZmlsZQ%3D%3D?line=18'>19</a>\u001b[0m     count\u001b[39m+\u001b[39m\u001b[39m=\u001b[39m\u001b[39m1\u001b[39m\n",
      "File \u001b[1;32m<__array_function__ internals>:200\u001b[0m, in \u001b[0;36msave\u001b[1;34m(*args, **kwargs)\u001b[0m\n",
      "File \u001b[1;32md:\\minowa\\BloodPressureEstimation\\.venv\\lib\\site-packages\\numpy\\lib\\npyio.py:522\u001b[0m, in \u001b[0;36msave\u001b[1;34m(file, arr, allow_pickle, fix_imports)\u001b[0m\n\u001b[0;32m    520\u001b[0m \u001b[39mwith\u001b[39;00m file_ctx \u001b[39mas\u001b[39;00m fid:\n\u001b[0;32m    521\u001b[0m     arr \u001b[39m=\u001b[39m np\u001b[39m.\u001b[39masanyarray(arr)\n\u001b[1;32m--> 522\u001b[0m     \u001b[39mformat\u001b[39;49m\u001b[39m.\u001b[39;49mwrite_array(fid, arr, allow_pickle\u001b[39m=\u001b[39;49mallow_pickle,\n\u001b[0;32m    523\u001b[0m                        pickle_kwargs\u001b[39m=\u001b[39;49m\u001b[39mdict\u001b[39;49m(fix_imports\u001b[39m=\u001b[39;49mfix_imports))\n",
      "File \u001b[1;32md:\\minowa\\BloodPressureEstimation\\.venv\\lib\\site-packages\\numpy\\lib\\format.py:722\u001b[0m, in \u001b[0;36mwrite_array\u001b[1;34m(fp, array, version, allow_pickle, pickle_kwargs)\u001b[0m\n\u001b[0;32m    720\u001b[0m \u001b[39melse\u001b[39;00m:\n\u001b[0;32m    721\u001b[0m     \u001b[39mif\u001b[39;00m isfileobj(fp):\n\u001b[1;32m--> 722\u001b[0m         array\u001b[39m.\u001b[39;49mtofile(fp)\n\u001b[0;32m    723\u001b[0m     \u001b[39melse\u001b[39;00m:\n\u001b[0;32m    724\u001b[0m         \u001b[39mfor\u001b[39;00m chunk \u001b[39min\u001b[39;00m numpy\u001b[39m.\u001b[39mnditer(\n\u001b[0;32m    725\u001b[0m                 array, flags\u001b[39m=\u001b[39m[\u001b[39m'\u001b[39m\u001b[39mexternal_loop\u001b[39m\u001b[39m'\u001b[39m, \u001b[39m'\u001b[39m\u001b[39mbuffered\u001b[39m\u001b[39m'\u001b[39m, \u001b[39m'\u001b[39m\u001b[39mzerosize_ok\u001b[39m\u001b[39m'\u001b[39m],\n\u001b[0;32m    726\u001b[0m                 buffersize\u001b[39m=\u001b[39mbuffersize, order\u001b[39m=\u001b[39m\u001b[39m'\u001b[39m\u001b[39mC\u001b[39m\u001b[39m'\u001b[39m):\n",
      "\u001b[1;31mKeyboardInterrupt\u001b[0m: "
     ]
    }
   ],
   "source": [
    "import concurrent.futures\n",
    "import time\n",
    "from multiprocessing import Pool\n",
    "dirs = glob.glob(\"p*\",root_dir=DATA_DIR)\n",
    "# futures =[]\n",
    "# with concurrent.futures.ProcessPoolExecutor(max_workers=8) as executor:\n",
    "# p = Pool(8) # プロセス数を4に設定\n",
    "for i in tqdm(range(len(dirs))):\n",
    "    patients_num = int(dirs[i][1:])\n",
    "    # print(patients_num)\n",
    "    # if patients_num < 4680:\n",
    "    #     continue\n",
    "    # create_image_executor(dirs[i])\n",
    "    create_npy_executor(dirs[i])\n",
    "        # futures.append(executor.submit(create_image_executor,dirs[i]))\n",
    "    # concurrent.futures.wait(futures,timeout=None,return_when=concurrent.futures.ALL_COMPLETED)\n",
    "    # executor.shutdown()\n",
    "print(\"done\")\n",
    "    "
   ]
  },
  {
   "cell_type": "markdown",
   "metadata": {},
   "source": [
    "# filename修正\n",
    "p000000_000000.png"
   ]
  },
  {
   "cell_type": "code",
   "execution_count": 12,
   "metadata": {},
   "outputs": [
    {
     "name": "stderr",
     "output_type": "stream",
     "text": [
      "100%|██████████| 121/121 [06:22<00:00,  3.16s/it]\n"
     ]
    }
   ],
   "source": [
    "# OUTPUT_DIR = r\"D:\\minowa\\BloodPressureEstimation\\data\\processed\\img\\1030\\abp\\p00\"\n",
    "OUTPUT_DIR = r\"D:\\minowa\\BloodPressureEstimation\\data\\processed\\sig_npy\\1101_norm\\p00\"\n",
    "dirs = glob.glob(\"p*\",root_dir=OUTPUT_DIR)\n",
    "for i in tqdm(range(len(dirs))):\n",
    "    patients = dirs[i]\n",
    "    files = glob.glob(patients+\"\\*\",root_dir=OUTPUT_DIR)\n",
    "    for f in files:\n",
    "        #p123456/1234567.png\n",
    "        n = f[-10:-4]\n",
    "        # newname = f\"{patients}_{n}.png\"\n",
    "        newname = f\"{n}.npy\"\n",
    "        os.rename(os.path.join(OUTPUT_DIR,f),os.path.join(OUTPUT_DIR,patients,newname)) \n",
    "        "
   ]
  },
  {
   "cell_type": "markdown",
   "metadata": {},
   "source": [
    "7:3に分割　patients単位"
   ]
  },
  {
   "cell_type": "code",
   "execution_count": 69,
   "metadata": {},
   "outputs": [
    {
     "name": "stderr",
     "output_type": "stream",
     "text": [
      "100%|██████████| 121/121 [00:27<00:00,  4.42it/s]\n"
     ]
    },
    {
     "data": {
      "text/plain": [
       "<matplotlib.collections.PathCollection at 0x1c5100a3730>"
      ]
     },
     "execution_count": 69,
     "metadata": {},
     "output_type": "execute_result"
    },
    {
     "data": {
      "image/png": "[encoded data removed]",
      "text/plain": [
       "<Figure size 640x480 with 1 Axes>"
      ]
     },
     "metadata": {},
     "output_type": "display_data"
    }
   ],
   "source": [
    "OUTPUT_DIR = r\"D:\\minowa\\BloodPressureEstimation\\data\\processed\\sig_npy\\1107_concat\\p00\"\n",
    "dirs = glob.glob(\"p*.npy\",root_dir=OUTPUT_DIR)\n",
    "nums = []\n",
    "for i in tqdm(range(len(dirs))):\n",
    "    npy = np.load(os.path.join(OUTPUT_DIR,dirs[i]))\n",
    "    nums.append(npy.shape[0])\n",
    "plt.scatter(np.arange(0,len(nums)),nums)"
   ]
  },
  {
   "cell_type": "code",
   "execution_count": 71,
   "metadata": {},
   "outputs": [
    {
     "data": {
      "text/plain": [
       "dtype('float16')"
      ]
     },
     "execution_count": 71,
     "metadata": {},
     "output_type": "execute_result"
    }
   ],
   "source": [
    "npy.dtype"
   ]
  },
  {
   "cell_type": "code",
   "execution_count": 70,
   "metadata": {},
   "outputs": [
    {
     "name": "stdout",
     "output_type": "stream",
     "text": [
      "sum 10733171\n"
     ]
    }
   ],
   "source": [
    "sum = np.sum(nums)\n",
    "print(\"sum\",sum)\n",
    "train_ratio = int(0.7 * sum)\n",
    "count = 0\n",
    "p_test = []\n",
    "p_train = []\n",
    "i = 0\n",
    "while train_ratio > count:\n",
    "    p_train.append(dirs[i])\n",
    "    count += nums[i]\n",
    "    i+= 1\n",
    "    \n",
    "for j in range(i,len(dirs)):\n",
    "    p_test.append(dirs[j])\n",
    "\n",
    "p_train = \"\\n\".join(p_train)\n",
    "p_test = \"\\n\".join(p_test)\n",
    "\n",
    "with open(\"../data/processed/list/train_p00.txt\", mode=\"w\") as tr, open(\"../data/processed/list/test_p00.txt\", mode=\"w\") as t:\n",
    "    tr.writelines(p_train)\n",
    "    t.writelines(p_test)\n",
    "\n",
    "\n"
   ]
  },
  {
   "cell_type": "markdown",
   "metadata": {},
   "source": [
    "flistを作成(Palette\\preprocess\\mirflickr25k_preprocess.py)"
   ]
  },
  {
   "cell_type": "code",
   "execution_count": 23,
   "metadata": {},
   "outputs": [
    {
     "name": "stderr",
     "output_type": "stream",
     "text": [
      "100%|██████████| 82/82 [00:04<00:00, 16.42it/s]\n"
     ]
    }
   ],
   "source": [
    "DIR= \"img/1030\"\n",
    "# DIR= \"sig_npy/1101_norm\"\n",
    "with open(\"../data/processed/list/train_p00.txt\", mode=\"r\") as tr, open(f\"../data/processed/{DIR}/train.flist\",mode='w') as f:\n",
    "    l = tr.readlines()\n",
    "    for i in tqdm(range(len(l))):\n",
    "        dir = l[i]\n",
    "        # print(dir[:-1])\n",
    "        files=glob.glob(f\"{dir[:-1]}/*.png\",root_dir=f\"../data/processed/{DIR}/abp/p00\")\n",
    "        # files=glob.glob(f\"{dir[:-1]}/*.npy\",root_dir=f\"../data/processed/{DIR}/p00\")\n",
    "        # print(len(files))\n",
    "        for file in files:\n",
    "            print(file[:-4],file=f)\n"
   ]
  },
  {
   "cell_type": "code",
   "execution_count": 22,
   "metadata": {},
   "outputs": [
    {
     "name": "stderr",
     "output_type": "stream",
     "text": [
      "100%|██████████| 39/39 [00:01<00:00, 20.82it/s]\n"
     ]
    }
   ],
   "source": [
    "# DIR= \"sig_npy/1101_norm\"\n",
    "DIR= \"img/1030\"\n",
    "with open(\"../data/processed/list/test_p00.txt\", mode=\"r\") as tr, open(f\"../data/processed/{DIR}/test.flist\",mode='w') as f:\n",
    "    l = tr.readlines()\n",
    "    for i in tqdm(range(len(l))):\n",
    "        dir = l[i]\n",
    "        # print(dir[:-1])\n",
    "        # files=glob.glob(f\"{dir[:-1]}/*.npy\",root_dir=f\"../data/processed/{DIR}/p00\")\n",
    "        files=glob.glob(f\"{dir[:-1]}/*.png\",root_dir=f\"../data/processed/{DIR}/abp/p00\")\n",
    "        # print(len(files))\n",
    "        for file in files:\n",
    "            print(file[:-4],file=f)"
   ]
  },
  {
   "cell_type": "markdown",
   "metadata": {},
   "source": [
    "連結"
   ]
  },
  {
   "cell_type": "code",
   "execution_count": 67,
   "metadata": {},
   "outputs": [],
   "source": [
    "def create_npy_executor_big(dir1):\n",
    "    px = 256\n",
    "    max= 200\n",
    "    DATA_DIR = r\"D:\\minowa\\BloodPressureEstimation\\data\\processed\\npy\\1030\\p00\"\n",
    "    OUTPUT_DIR = r\"D:\\minowa\\BloodPressureEstimation\\data\\processed\\sig_npy\\1107_concat\"\n",
    "    # os.makedirs(f\"{OUTPUT_DIR}\\\\p00\\{dir1}\",exist_ok=True)\n",
    "    files = glob.glob(dir1+\"\\*\",root_dir=DATA_DIR)\n",
    "    out_path = f\"{OUTPUT_DIR}\\\\p00\\{dir1}.npy\"\n",
    "    s = []\n",
    "    count = 0\n",
    "    for file in files:\n",
    "        sig = np.load(os.path.join(DATA_DIR,file))\n",
    "        sig[:,0] = sig[:,0]/max\n",
    "        nan_locs = np.where(np.isnan(sig[:,0]))[0]\n",
    "        # print(len(nan_locs))\n",
    "        \n",
    "        for n in range(len(nan_locs)-1):\n",
    "            target = sig[nan_locs[n]+1:nan_locs[n+1]]\n",
    "            for i in range(0,len(target)-px,px):\n",
    "                s.append(target[i:i+px,:].astype(np.float16))\n",
    "                # count+=1\n",
    "        # print(count)\n",
    "    if len(s):\n",
    "        s = np.stack(s,dtype=np.float16)\n",
    "        print(s.shape)\n",
    "        np.save(out_path,s)\n",
    "    else:\n",
    "        print(\"##### NO SIGNAL:\", dir1)\n",
    "        "
   ]
  },
  {
   "cell_type": "code",
   "execution_count": 68,
   "metadata": {},
   "outputs": [
    {
     "name": "stderr",
     "output_type": "stream",
     "text": [
      "  0%|          | 0/121 [00:00<?, ?it/s]"
     ]
    },
    {
     "name": "stdout",
     "output_type": "stream",
     "text": [
      "(5161, 256, 2)\n",
      "(189844, 256, 2)\n"
     ]
    },
    {
     "name": "stderr",
     "output_type": "stream",
     "text": [
      "  2%|▏         | 3/121 [00:02<01:46,  1.11it/s]"
     ]
    },
    {
     "name": "stdout",
     "output_type": "stream",
     "text": [
      "(44673, 256, 2)\n"
     ]
    },
    {
     "name": "stderr",
     "output_type": "stream",
     "text": [
      "  3%|▎         | 4/121 [00:03<01:21,  1.43it/s]"
     ]
    },
    {
     "name": "stdout",
     "output_type": "stream",
     "text": [
      "(24947, 256, 2)\n",
      "(98371, 256, 2)\n"
     ]
    },
    {
     "name": "stderr",
     "output_type": "stream",
     "text": [
      "  4%|▍         | 5/121 [00:04<01:32,  1.26it/s]"
     ]
    },
    {
     "name": "stdout",
     "output_type": "stream",
     "text": [
      "(410066, 256, 2)\n"
     ]
    },
    {
     "name": "stderr",
     "output_type": "stream",
     "text": [
      "  5%|▍         | 6/121 [00:09<04:12,  2.19s/it]"
     ]
    },
    {
     "name": "stdout",
     "output_type": "stream",
     "text": [
      "(48623, 256, 2)\n"
     ]
    },
    {
     "name": "stderr",
     "output_type": "stream",
     "text": [
      "  6%|▌         | 7/121 [00:09<03:15,  1.72s/it]"
     ]
    },
    {
     "name": "stdout",
     "output_type": "stream",
     "text": [
      "(213968, 256, 2)\n"
     ]
    },
    {
     "name": "stderr",
     "output_type": "stream",
     "text": [
      "  7%|▋         | 8/121 [00:13<04:00,  2.13s/it]"
     ]
    },
    {
     "name": "stdout",
     "output_type": "stream",
     "text": [
      "(925962, 256, 2)\n"
     ]
    },
    {
     "name": "stderr",
     "output_type": "stream",
     "text": [
      "  8%|▊         | 10/121 [00:24<06:22,  3.45s/it]"
     ]
    },
    {
     "name": "stdout",
     "output_type": "stream",
     "text": [
      "(21040, 256, 2)\n",
      "(44729, 256, 2)\n"
     ]
    },
    {
     "name": "stderr",
     "output_type": "stream",
     "text": [
      "  9%|▉         | 11/121 [00:24<04:40,  2.55s/it]"
     ]
    },
    {
     "name": "stdout",
     "output_type": "stream",
     "text": [
      "(53487, 256, 2)\n"
     ]
    },
    {
     "name": "stderr",
     "output_type": "stream",
     "text": [
      " 10%|▉         | 12/121 [00:25<03:30,  1.93s/it]"
     ]
    },
    {
     "name": "stdout",
     "output_type": "stream",
     "text": [
      "(75411, 256, 2)\n"
     ]
    },
    {
     "name": "stderr",
     "output_type": "stream",
     "text": [
      " 11%|█         | 13/121 [00:26<03:02,  1.69s/it]"
     ]
    },
    {
     "name": "stdout",
     "output_type": "stream",
     "text": [
      "(120212, 256, 2)\n"
     ]
    },
    {
     "name": "stderr",
     "output_type": "stream",
     "text": [
      " 12%|█▏        | 14/121 [00:28<03:00,  1.69s/it]"
     ]
    },
    {
     "name": "stdout",
     "output_type": "stream",
     "text": [
      "(1475, 256, 2)\n",
      "(262049, 256, 2)\n"
     ]
    },
    {
     "name": "stderr",
     "output_type": "stream",
     "text": [
      " 13%|█▎        | 16/121 [00:31<02:47,  1.60s/it]"
     ]
    },
    {
     "name": "stdout",
     "output_type": "stream",
     "text": [
      "(107928, 256, 2)\n"
     ]
    },
    {
     "name": "stderr",
     "output_type": "stream",
     "text": [
      " 15%|█▍        | 18/121 [00:32<02:06,  1.23s/it]"
     ]
    },
    {
     "name": "stdout",
     "output_type": "stream",
     "text": [
      "(40086, 256, 2)\n",
      "(160104, 256, 2)\n"
     ]
    },
    {
     "name": "stderr",
     "output_type": "stream",
     "text": [
      " 16%|█▌        | 19/121 [00:34<02:23,  1.40s/it]"
     ]
    },
    {
     "name": "stdout",
     "output_type": "stream",
     "text": [
      "(61109, 256, 2)\n"
     ]
    },
    {
     "name": "stderr",
     "output_type": "stream",
     "text": [
      " 17%|█▋        | 20/121 [00:35<01:59,  1.18s/it]"
     ]
    },
    {
     "name": "stdout",
     "output_type": "stream",
     "text": [
      "(144386, 256, 2)\n"
     ]
    },
    {
     "name": "stderr",
     "output_type": "stream",
     "text": [
      " 18%|█▊        | 22/121 [00:37<01:53,  1.14s/it]"
     ]
    },
    {
     "name": "stdout",
     "output_type": "stream",
     "text": [
      "(15550, 256, 2)\n",
      "(117952, 256, 2)\n"
     ]
    },
    {
     "name": "stderr",
     "output_type": "stream",
     "text": [
      " 19%|█▉        | 23/121 [00:39<02:02,  1.25s/it]"
     ]
    },
    {
     "name": "stdout",
     "output_type": "stream",
     "text": [
      "(69181, 256, 2)\n"
     ]
    },
    {
     "name": "stderr",
     "output_type": "stream",
     "text": [
      " 21%|██        | 25/121 [00:40<01:22,  1.17it/s]"
     ]
    },
    {
     "name": "stdout",
     "output_type": "stream",
     "text": [
      "(6776, 256, 2)\n",
      "(51768, 256, 2)\n"
     ]
    },
    {
     "name": "stderr",
     "output_type": "stream",
     "text": [
      " 21%|██▏       | 26/121 [00:41<01:13,  1.29it/s]"
     ]
    },
    {
     "name": "stdout",
     "output_type": "stream",
     "text": [
      "(398453, 256, 2)\n"
     ]
    },
    {
     "name": "stderr",
     "output_type": "stream",
     "text": [
      " 23%|██▎       | 28/121 [00:46<02:13,  1.44s/it]"
     ]
    },
    {
     "name": "stdout",
     "output_type": "stream",
     "text": [
      "(21161, 256, 2)\n",
      "(166, 256, 2)\n",
      "(28662, 256, 2)\n"
     ]
    },
    {
     "name": "stderr",
     "output_type": "stream",
     "text": [
      " 26%|██▌       | 31/121 [00:46<01:05,  1.37it/s]"
     ]
    },
    {
     "name": "stdout",
     "output_type": "stream",
     "text": [
      "(36543, 256, 2)\n",
      "(404564, 256, 2)\n"
     ]
    },
    {
     "name": "stderr",
     "output_type": "stream",
     "text": [
      " 26%|██▋       | 32/121 [00:51<02:39,  1.79s/it]"
     ]
    },
    {
     "name": "stdout",
     "output_type": "stream",
     "text": [
      "(71628, 256, 2)\n"
     ]
    },
    {
     "name": "stderr",
     "output_type": "stream",
     "text": [
      " 27%|██▋       | 33/121 [00:52<02:15,  1.54s/it]"
     ]
    },
    {
     "name": "stdout",
     "output_type": "stream",
     "text": [
      "(59462, 256, 2)\n"
     ]
    },
    {
     "name": "stderr",
     "output_type": "stream",
     "text": [
      " 28%|██▊       | 34/121 [00:53<01:52,  1.29s/it]"
     ]
    },
    {
     "name": "stdout",
     "output_type": "stream",
     "text": [
      "(1486, 256, 2)\n",
      "(125739, 256, 2)\n"
     ]
    },
    {
     "name": "stderr",
     "output_type": "stream",
     "text": [
      " 31%|███       | 37/121 [00:54<01:13,  1.15it/s]"
     ]
    },
    {
     "name": "stdout",
     "output_type": "stream",
     "text": [
      "(23218, 256, 2)\n",
      "(534289, 256, 2)\n"
     ]
    },
    {
     "name": "stderr",
     "output_type": "stream",
     "text": [
      " 31%|███▏      | 38/121 [01:01<03:16,  2.37s/it]"
     ]
    },
    {
     "name": "stdout",
     "output_type": "stream",
     "text": [
      "(3002, 256, 2)\n",
      "(94007, 256, 2)\n"
     ]
    },
    {
     "name": "stderr",
     "output_type": "stream",
     "text": [
      " 34%|███▍      | 41/121 [01:02<01:38,  1.24s/it]"
     ]
    },
    {
     "name": "stdout",
     "output_type": "stream",
     "text": [
      "(16904, 256, 2)\n"
     ]
    },
    {
     "name": "stderr",
     "output_type": "stream",
     "text": [
      " 35%|███▍      | 42/121 [01:03<01:21,  1.03s/it]"
     ]
    },
    {
     "name": "stdout",
     "output_type": "stream",
     "text": [
      "(30216, 256, 2)\n",
      "(105866, 256, 2)\n"
     ]
    },
    {
     "name": "stderr",
     "output_type": "stream",
     "text": [
      " 36%|███▌      | 43/121 [01:04<01:24,  1.08s/it]"
     ]
    },
    {
     "name": "stdout",
     "output_type": "stream",
     "text": [
      "(832, 256, 2)\n",
      "##### NO SIGNAL: p004113\n",
      "(1818, 256, 2)\n"
     ]
    },
    {
     "name": "stderr",
     "output_type": "stream",
     "text": [
      " 39%|███▉      | 47/121 [01:04<00:35,  2.07it/s]"
     ]
    },
    {
     "name": "stdout",
     "output_type": "stream",
     "text": [
      "(27407, 256, 2)\n",
      "(117438, 256, 2)\n"
     ]
    },
    {
     "name": "stderr",
     "output_type": "stream",
     "text": [
      " 40%|███▉      | 48/121 [01:06<00:47,  1.55it/s]"
     ]
    },
    {
     "name": "stdout",
     "output_type": "stream",
     "text": [
      "##### NO SIGNAL: p004405\n"
     ]
    },
    {
     "name": "stderr",
     "output_type": "stream",
     "text": [
      " 41%|████▏     | 50/121 [01:06<00:38,  1.82it/s]"
     ]
    },
    {
     "name": "stdout",
     "output_type": "stream",
     "text": [
      "(22833, 256, 2)\n",
      "(101414, 256, 2)\n"
     ]
    },
    {
     "name": "stderr",
     "output_type": "stream",
     "text": [
      " 42%|████▏     | 51/121 [01:10<01:23,  1.20s/it]"
     ]
    },
    {
     "name": "stdout",
     "output_type": "stream",
     "text": [
      "(454191, 256, 2)\n"
     ]
    },
    {
     "name": "stderr",
     "output_type": "stream",
     "text": [
      " 43%|████▎     | 52/121 [01:34<06:57,  6.05s/it]"
     ]
    },
    {
     "name": "stdout",
     "output_type": "stream",
     "text": [
      "(238895, 256, 2)\n"
     ]
    },
    {
     "name": "stderr",
     "output_type": "stream",
     "text": [
      " 44%|████▍     | 53/121 [01:43<07:49,  6.90s/it]"
     ]
    },
    {
     "name": "stdout",
     "output_type": "stream",
     "text": [
      "(62442, 256, 2)\n"
     ]
    },
    {
     "name": "stderr",
     "output_type": "stream",
     "text": [
      " 45%|████▌     | 55/121 [01:47<04:54,  4.47s/it]"
     ]
    },
    {
     "name": "stdout",
     "output_type": "stream",
     "text": [
      "(3246, 256, 2)\n"
     ]
    },
    {
     "name": "stderr",
     "output_type": "stream",
     "text": [
      " 46%|████▋     | 56/121 [01:47<03:37,  3.35s/it]"
     ]
    },
    {
     "name": "stdout",
     "output_type": "stream",
     "text": [
      "(13367, 256, 2)\n",
      "##### NO SIGNAL: p004904\n"
     ]
    },
    {
     "name": "stderr",
     "output_type": "stream",
     "text": [
      " 48%|████▊     | 58/121 [01:49<02:13,  2.12s/it]"
     ]
    },
    {
     "name": "stdout",
     "output_type": "stream",
     "text": [
      "(14932, 256, 2)\n",
      "(43043, 256, 2)\n"
     ]
    },
    {
     "name": "stderr",
     "output_type": "stream",
     "text": [
      " 50%|████▉     | 60/121 [01:53<02:17,  2.25s/it]"
     ]
    },
    {
     "name": "stdout",
     "output_type": "stream",
     "text": [
      "(46508, 256, 2)\n"
     ]
    },
    {
     "name": "stderr",
     "output_type": "stream",
     "text": [
      " 50%|█████     | 61/121 [01:54<01:43,  1.72s/it]"
     ]
    },
    {
     "name": "stdout",
     "output_type": "stream",
     "text": [
      "(8385, 256, 2)\n"
     ]
    },
    {
     "name": "stderr",
     "output_type": "stream",
     "text": [
      " 52%|█████▏    | 63/121 [01:56<01:20,  1.39s/it]"
     ]
    },
    {
     "name": "stdout",
     "output_type": "stream",
     "text": [
      "(15992, 256, 2)\n",
      "(2367, 256, 2)\n",
      "(167036, 256, 2)\n"
     ]
    },
    {
     "name": "stderr",
     "output_type": "stream",
     "text": [
      " 54%|█████▎    | 65/121 [02:09<03:07,  3.36s/it]"
     ]
    },
    {
     "name": "stdout",
     "output_type": "stream",
     "text": [
      "(3446, 256, 2)\n",
      "(115997, 256, 2)\n"
     ]
    },
    {
     "name": "stderr",
     "output_type": "stream",
     "text": [
      " 55%|█████▍    | 66/121 [02:16<03:59,  4.36s/it]"
     ]
    },
    {
     "name": "stdout",
     "output_type": "stream",
     "text": [
      "(37500, 256, 2)\n"
     ]
    },
    {
     "name": "stderr",
     "output_type": "stream",
     "text": [
      " 55%|█████▌    | 67/121 [02:19<03:29,  3.88s/it]"
     ]
    },
    {
     "name": "stdout",
     "output_type": "stream",
     "text": [
      "(180503, 256, 2)\n"
     ]
    },
    {
     "name": "stderr",
     "output_type": "stream",
     "text": [
      " 57%|█████▋    | 69/121 [02:29<03:33,  4.11s/it]"
     ]
    },
    {
     "name": "stdout",
     "output_type": "stream",
     "text": [
      "(34376, 256, 2)\n",
      "(37872, 256, 2)\n"
     ]
    },
    {
     "name": "stderr",
     "output_type": "stream",
     "text": [
      " 59%|█████▊    | 71/121 [02:31<02:12,  2.64s/it]"
     ]
    },
    {
     "name": "stdout",
     "output_type": "stream",
     "text": [
      "(18986, 256, 2)\n",
      "(121786, 256, 2)\n"
     ]
    },
    {
     "name": "stderr",
     "output_type": "stream",
     "text": [
      " 60%|██████    | 73/121 [02:41<02:43,  3.41s/it]"
     ]
    },
    {
     "name": "stdout",
     "output_type": "stream",
     "text": [
      "(471, 256, 2)\n",
      "(262238, 256, 2)\n"
     ]
    },
    {
     "name": "stderr",
     "output_type": "stream",
     "text": [
      " 62%|██████▏   | 75/121 [03:00<04:21,  5.68s/it]"
     ]
    },
    {
     "name": "stdout",
     "output_type": "stream",
     "text": [
      "(3368, 256, 2)\n"
     ]
    },
    {
     "name": "stderr",
     "output_type": "stream",
     "text": [
      " 63%|██████▎   | 76/121 [03:01<03:13,  4.29s/it]"
     ]
    },
    {
     "name": "stdout",
     "output_type": "stream",
     "text": [
      "(32494, 256, 2)\n"
     ]
    },
    {
     "name": "stderr",
     "output_type": "stream",
     "text": [
      " 64%|██████▎   | 77/121 [03:01<02:17,  3.13s/it]"
     ]
    },
    {
     "name": "stdout",
     "output_type": "stream",
     "text": [
      "(10643, 256, 2)\n"
     ]
    },
    {
     "name": "stderr",
     "output_type": "stream",
     "text": [
      " 65%|██████▌   | 79/121 [03:02<01:09,  1.65s/it]"
     ]
    },
    {
     "name": "stdout",
     "output_type": "stream",
     "text": [
      "(759, 256, 2)\n",
      "(6525, 256, 2)\n"
     ]
    },
    {
     "name": "stderr",
     "output_type": "stream",
     "text": [
      " 66%|██████▌   | 80/121 [03:03<01:09,  1.70s/it]"
     ]
    },
    {
     "name": "stdout",
     "output_type": "stream",
     "text": [
      "(13681, 256, 2)\n"
     ]
    },
    {
     "name": "stderr",
     "output_type": "stream",
     "text": [
      " 67%|██████▋   | 81/121 [03:04<00:50,  1.26s/it]"
     ]
    },
    {
     "name": "stdout",
     "output_type": "stream",
     "text": [
      "(7429, 256, 2)\n"
     ]
    },
    {
     "name": "stderr",
     "output_type": "stream",
     "text": [
      " 68%|██████▊   | 82/121 [03:05<00:53,  1.38s/it]"
     ]
    },
    {
     "name": "stdout",
     "output_type": "stream",
     "text": [
      "(22840, 256, 2)\n",
      "(558687, 256, 2)\n"
     ]
    },
    {
     "name": "stderr",
     "output_type": "stream",
     "text": [
      " 69%|██████▊   | 83/121 [03:39<06:56, 10.96s/it]"
     ]
    },
    {
     "name": "stdout",
     "output_type": "stream",
     "text": [
      "(42643, 256, 2)\n"
     ]
    },
    {
     "name": "stderr",
     "output_type": "stream",
     "text": [
      " 69%|██████▉   | 84/121 [03:41<05:12,  8.45s/it]"
     ]
    },
    {
     "name": "stdout",
     "output_type": "stream",
     "text": [
      "(254208, 256, 2)\n"
     ]
    },
    {
     "name": "stderr",
     "output_type": "stream",
     "text": [
      " 71%|███████   | 86/121 [03:57<04:28,  7.68s/it]"
     ]
    },
    {
     "name": "stdout",
     "output_type": "stream",
     "text": [
      "(32096, 256, 2)\n"
     ]
    },
    {
     "name": "stderr",
     "output_type": "stream",
     "text": [
      " 73%|███████▎  | 88/121 [03:57<02:17,  4.17s/it]"
     ]
    },
    {
     "name": "stdout",
     "output_type": "stream",
     "text": [
      "(272, 256, 2)\n",
      "(1376, 256, 2)\n"
     ]
    },
    {
     "name": "stderr",
     "output_type": "stream",
     "text": [
      " 74%|███████▍  | 90/121 [03:58<01:14,  2.42s/it]"
     ]
    },
    {
     "name": "stdout",
     "output_type": "stream",
     "text": [
      "(13784, 256, 2)\n",
      "##### NO SIGNAL: p007614\n",
      "(330096, 256, 2)\n"
     ]
    },
    {
     "name": "stderr",
     "output_type": "stream",
     "text": [
      " 76%|███████▌  | 92/121 [04:15<02:17,  4.74s/it]"
     ]
    },
    {
     "name": "stdout",
     "output_type": "stream",
     "text": [
      "(7323, 256, 2)\n"
     ]
    },
    {
     "name": "stderr",
     "output_type": "stream",
     "text": [
      " 77%|███████▋  | 93/121 [04:17<01:49,  3.91s/it]"
     ]
    },
    {
     "name": "stdout",
     "output_type": "stream",
     "text": [
      "(14021, 256, 2)\n",
      "(160473, 256, 2)\n"
     ]
    },
    {
     "name": "stderr",
     "output_type": "stream",
     "text": [
      " 78%|███████▊  | 94/121 [04:27<02:33,  5.69s/it]"
     ]
    },
    {
     "name": "stdout",
     "output_type": "stream",
     "text": [
      "(38725, 256, 2)\n"
     ]
    },
    {
     "name": "stderr",
     "output_type": "stream",
     "text": [
      " 79%|███████▉  | 96/121 [04:31<01:33,  3.74s/it]"
     ]
    },
    {
     "name": "stdout",
     "output_type": "stream",
     "text": [
      "(26319, 256, 2)\n"
     ]
    },
    {
     "name": "stderr",
     "output_type": "stream",
     "text": [
      " 80%|████████  | 97/121 [04:31<01:04,  2.71s/it]"
     ]
    },
    {
     "name": "stdout",
     "output_type": "stream",
     "text": [
      "(5279, 256, 2)\n",
      "(3379, 256, 2)\n",
      "(44543, 256, 2)\n"
     ]
    },
    {
     "name": "stderr",
     "output_type": "stream",
     "text": [
      " 83%|████████▎ | 100/121 [04:36<00:45,  2.18s/it]"
     ]
    },
    {
     "name": "stdout",
     "output_type": "stream",
     "text": [
      "(1510, 256, 2)\n"
     ]
    },
    {
     "name": "stderr",
     "output_type": "stream",
     "text": [
      " 83%|████████▎ | 101/121 [04:38<00:38,  1.94s/it]"
     ]
    },
    {
     "name": "stdout",
     "output_type": "stream",
     "text": [
      "(17860, 256, 2)\n",
      "(95217, 256, 2)\n"
     ]
    },
    {
     "name": "stderr",
     "output_type": "stream",
     "text": [
      " 85%|████████▌ | 103/121 [04:42<00:35,  1.99s/it]"
     ]
    },
    {
     "name": "stdout",
     "output_type": "stream",
     "text": [
      "(22601, 256, 2)\n"
     ]
    },
    {
     "name": "stderr",
     "output_type": "stream",
     "text": [
      " 86%|████████▌ | 104/121 [04:42<00:25,  1.48s/it]"
     ]
    },
    {
     "name": "stdout",
     "output_type": "stream",
     "text": [
      "(625, 256, 2)\n",
      "(2741, 256, 2)\n"
     ]
    },
    {
     "name": "stderr",
     "output_type": "stream",
     "text": [
      " 88%|████████▊ | 106/121 [04:44<00:18,  1.25s/it]"
     ]
    },
    {
     "name": "stdout",
     "output_type": "stream",
     "text": [
      "(37141, 256, 2)\n",
      "(70036, 256, 2)\n"
     ]
    },
    {
     "name": "stderr",
     "output_type": "stream",
     "text": [
      " 89%|████████▉ | 108/121 [04:47<00:16,  1.28s/it]"
     ]
    },
    {
     "name": "stdout",
     "output_type": "stream",
     "text": [
      "(6032, 256, 2)\n",
      "(96202, 256, 2)\n"
     ]
    },
    {
     "name": "stderr",
     "output_type": "stream",
     "text": [
      " 90%|█████████ | 109/121 [04:51<00:23,  1.99s/it]"
     ]
    },
    {
     "name": "stdout",
     "output_type": "stream",
     "text": [
      "(146636, 256, 2)\n"
     ]
    },
    {
     "name": "stderr",
     "output_type": "stream",
     "text": [
      " 91%|█████████ | 110/121 [04:58<00:35,  3.20s/it]"
     ]
    },
    {
     "name": "stdout",
     "output_type": "stream",
     "text": [
      "(62274, 256, 2)\n"
     ]
    },
    {
     "name": "stderr",
     "output_type": "stream",
     "text": [
      " 93%|█████████▎| 112/121 [05:02<00:22,  2.46s/it]"
     ]
    },
    {
     "name": "stdout",
     "output_type": "stream",
     "text": [
      "(4064, 256, 2)\n"
     ]
    },
    {
     "name": "stderr",
     "output_type": "stream",
     "text": [
      " 93%|█████████▎| 113/121 [05:04<00:18,  2.27s/it]"
     ]
    },
    {
     "name": "stdout",
     "output_type": "stream",
     "text": [
      "(22799, 256, 2)\n",
      "(82253, 256, 2)\n"
     ]
    },
    {
     "name": "stderr",
     "output_type": "stream",
     "text": [
      " 94%|█████████▍| 114/121 [05:08<00:20,  2.92s/it]"
     ]
    },
    {
     "name": "stdout",
     "output_type": "stream",
     "text": [
      "(513163, 256, 2)\n"
     ]
    },
    {
     "name": "stderr",
     "output_type": "stream",
     "text": [
      " 95%|█████████▌| 115/121 [05:33<00:57,  9.50s/it]"
     ]
    },
    {
     "name": "stdout",
     "output_type": "stream",
     "text": [
      "(53430, 256, 2)\n"
     ]
    },
    {
     "name": "stderr",
     "output_type": "stream",
     "text": [
      " 97%|█████████▋| 117/121 [05:37<00:22,  5.53s/it]"
     ]
    },
    {
     "name": "stdout",
     "output_type": "stream",
     "text": [
      "(704, 256, 2)\n",
      "(69430, 256, 2)\n"
     ]
    },
    {
     "name": "stderr",
     "output_type": "stream",
     "text": [
      " 98%|█████████▊| 118/121 [05:40<00:14,  4.93s/it]"
     ]
    },
    {
     "name": "stdout",
     "output_type": "stream",
     "text": [
      "(111997, 256, 2)\n"
     ]
    },
    {
     "name": "stderr",
     "output_type": "stream",
     "text": [
      " 99%|█████████▉| 120/121 [05:47<00:03,  3.95s/it]"
     ]
    },
    {
     "name": "stdout",
     "output_type": "stream",
     "text": [
      "(30236, 256, 2)\n",
      "(229712, 256, 2)\n"
     ]
    },
    {
     "name": "stderr",
     "output_type": "stream",
     "text": [
      "100%|██████████| 121/121 [05:58<00:00,  2.96s/it]"
     ]
    },
    {
     "name": "stdout",
     "output_type": "stream",
     "text": [
      "done\n"
     ]
    },
    {
     "name": "stderr",
     "output_type": "stream",
     "text": [
      "\n"
     ]
    }
   ],
   "source": [
    "import concurrent.futures\n",
    "import time\n",
    "from multiprocessing import Pool\n",
    "dirs = glob.glob(\"p*\",root_dir=DATA_DIR)\n",
    "# futures =[]\n",
    "# with concurrent.futures.ProcessPoolExecutor(max_workers=8) as executor:\n",
    "# p = Pool(8) # プロセス数を4に設定\n",
    "for i in tqdm(range(len(dirs))):\n",
    "    patients_num = int(dirs[i][1:])\n",
    "    # print(patients_num)\n",
    "    # if patients_num < 4680:\n",
    "    #     continue\n",
    "    # create_image_executor(dirs[i])\n",
    "    create_npy_executor_big(dirs[i])\n",
    "        # futures.append(executor.submit(create_image_executor,dirs[i]))\n",
    "    # concurrent.futures.wait(futures,timeout=None,return_when=concurrent.futures.ALL_COMPLETED)\n",
    "    # executor.shutdown()\n",
    "print(\"done\")"
   ]
  },
  {
   "cell_type": "markdown",
   "metadata": {},
   "source": [
    "nan確認"
   ]
  },
  {
   "cell_type": "code",
   "execution_count": 12,
   "metadata": {},
   "outputs": [
    {
     "name": "stdout",
     "output_type": "stream",
     "text": [
      "121\n",
      "0 .\\p000160.npy\n",
      "0 .\\p000188.npy\n",
      "0 .\\p000333.npy\n",
      "0 .\\p000543.npy\n",
      "0 .\\p000618.npy\n",
      "0 .\\p000652.npy\n",
      "0 .\\p000735.npy\n",
      "0 .\\p000773.npy\n",
      "0 .\\p000801.npy\n",
      "0 .\\p000878.npy\n",
      "0 .\\p001004.npy\n",
      "0 .\\p001038.npy\n",
      "0 .\\p001049.npy\n",
      "0 .\\p001158.npy\n",
      "0 .\\p001190.npy\n",
      "0 .\\p001331.npy\n",
      "0 .\\p001501.npy\n",
      "0 .\\p001606.npy\n",
      "0 .\\p001791.npy\n",
      "0 .\\p001840.npy\n",
      "0 .\\p001855.npy\n",
      "0 .\\p001949.npy\n",
      "0 .\\p001978.npy\n",
      "0 .\\p002045.npy\n",
      "0 .\\p002063.npy\n",
      "0 .\\p002104.npy\n",
      "0 .\\p002343.npy\n",
      "0 .\\p002369.npy\n",
      "0 .\\p002458.npy\n",
      "0 .\\p002513.npy\n",
      "0 .\\p002577.npy\n",
      "0 .\\p002586.npy\n",
      "0 .\\p002636.npy\n",
      "0 .\\p002639.npy\n",
      "0 .\\p002858.npy\n",
      "0 .\\p002906.npy\n",
      "0 .\\p003039.npy\n",
      "0 .\\p003386.npy\n",
      "0 .\\p003617.npy\n",
      "0 .\\p003695.npy\n",
      "0 .\\p003744.npy\n",
      "0 .\\p003866.npy\n",
      "0 .\\p003949.npy\n",
      "0 .\\p004053.npy\n",
      "0 .\\p004113.npy\n",
      "0 .\\p004313.npy\n",
      "0 .\\p004324.npy\n",
      "0 .\\p004331.npy\n",
      "0 .\\p004405.npy\n",
      "0 .\\p004588.npy\n",
      "0 .\\p004679.npy\n",
      "0 .\\p004802.npy\n",
      "0 .\\p004804.npy\n",
      "0 .\\p004833.npy\n",
      "0 .\\p004837.npy\n",
      "0 .\\p004900.npy\n",
      "0 .\\p004904.npy\n",
      "0 .\\p004906.npy\n",
      "0 .\\p004958.npy\n",
      "0 .\\p004966.npy\n",
      "0 .\\p005071.npy\n",
      "0 .\\p005193.npy\n",
      "0 .\\p005345.npy\n",
      "0 .\\p005382.npy\n",
      "0 .\\p005453.npy\n",
      "0 .\\p005885.npy\n",
      "0 .\\p005913.npy\n",
      "0 .\\p005937.npy\n",
      "0 .\\p006052.npy\n",
      "0 .\\p006116.npy\n",
      "0 .\\p006158.npy\n",
      "0 .\\p006381.npy\n",
      "0 .\\p006533.npy\n",
      "0 .\\p006539.npy\n",
      "0 .\\p006583.npy\n",
      "0 .\\p006621.npy\n",
      "0 .\\p006692.npy\n",
      "0 .\\p006702.npy\n",
      "0 .\\p006728.npy\n",
      "0 .\\p006875.npy\n",
      "0 .\\p006917.npy\n",
      "0 .\\p007184.npy\n",
      "0 .\\p007251.npy\n",
      "0 .\\p007415.npy\n",
      "0 .\\p007445.npy\n",
      "0 .\\p007472.npy\n",
      "0 .\\p007517.npy\n",
      "0 .\\p007529.npy\n",
      "0 .\\p007533.npy\n",
      "0 .\\p007614.npy\n",
      "0 .\\p007629.npy\n",
      "0 .\\p007644.npy\n",
      "0 .\\p007654.npy\n",
      "0 .\\p007695.npy\n",
      "0 .\\p007825.npy\n",
      "0 .\\p007966.npy\n",
      "0 .\\p008061.npy\n",
      "0 .\\p008109.npy\n",
      "0 .\\p008141.npy\n",
      "0 .\\p008142.npy\n",
      "0 .\\p008167.npy\n",
      "0 .\\p008228.npy\n",
      "0 .\\p008275.npy\n",
      "0 .\\p008281.npy\n",
      "0 .\\p008318.npy\n",
      "0 .\\p008396.npy\n",
      "0 .\\p008698.npy\n",
      "0 .\\p008723.npy\n",
      "0 .\\p008735.npy\n",
      "0 .\\p008748.npy\n",
      "0 .\\p008780.npy\n",
      "0 .\\p008795.npy\n",
      "0 .\\p008799.npy\n",
      "0 .\\p008848.npy\n",
      "0 .\\p008915.npy\n",
      "0 .\\p009124.npy\n",
      "0 .\\p009258.npy\n",
      "0 .\\p009473.npy\n",
      "0 .\\p009889.npy\n",
      "0 .\\p009965.npy\n",
      "0 .\\p009993.npy\n"
     ]
    }
   ],
   "source": [
    "OUTPUT_DIR = r\"D:\\minowa\\BloodPressureEstimation\\data\\processed\\sig_npy\\1107_concat\\p00\"\n",
    "files = glob.glob(\".\\*\",root_dir=OUTPUT_DIR)\n",
    "print(len(files))\n",
    "for file in files:\n",
    "    a = np.load(OUTPUT_DIR+\"\\\\\"+file)\n",
    "    print(np.sum((np.isnan(a))),file)"
   ]
  }
 ],
 "metadata": {
  "kernelspec": {
   "display_name": ".venv",
   "language": "python",
   "name": "python3"
  },
  "language_info": {
   "codemirror_mode": {
    "name": "ipython",
    "version": 3
   },
   "file_extension": ".py",
   "mimetype": "text/x-python",
   "name": "python",
   "nbconvert_exporter": "python",
   "pygments_lexer": "ipython3",
   "version": "3.10.11"
  }
 },
 "nbformat": 4,
 "nbformat_minor": 2
}
