{
 "cells": [
  {
   "cell_type": "code",
   "execution_count": 4,
   "metadata": {},
   "outputs": [],
   "source": [
    "import numpy as np\n",
    "import scipy.signal as signal\n"
   ]
  },
  {
   "cell_type": "code",
   "execution_count": 5,
   "metadata": {},
   "outputs": [],
   "source": [
    "DATA_DIR = r\"../data/processed/BP_npy/0625_264_corr_clean/p00/\"\n"
   ]
  },
  {
   "cell_type": "code",
   "execution_count": 6,
   "metadata": {},
   "outputs": [
    {
     "name": "stdout",
     "output_type": "stream",
     "text": [
      "(132268, 264, 2)\n"
     ]
    }
   ],
   "source": [
    "sig = np.load(DATA_DIR+\"train.npy\")\n",
    "print(sig.shape)"
   ]
  },
  {
   "cell_type": "code",
   "execution_count": 14,
   "metadata": {},
   "outputs": [],
   "source": [
    "def downsampling(x):\n",
    "    fs = 125  # サンプリング周波数\n",
    "    N = 264   # サンプル数\n",
    "    fc = 15.625  # カットオフ周波数\n",
    "\n",
    "    # 時間軸の生成\n",
    "    t = np.arange(N) / fs\n",
    "\n",
    "    # サンプル信号の生成（例: サイン波）\n",
    "    freq = 10  # 信号の周波数\n",
    "    # x = np.sin(2 * np.pi * freq * t)\n",
    "\n",
    "    # ローパスフィルターの設計\n",
    "    nyquist = 0.5 * fs\n",
    "    normal_cutoff = fc / nyquist\n",
    "    b, a = signal.butter(4, normal_cutoff, btype='low', analog=False)\n",
    "\n",
    "    # フィルタリング\n",
    "    filtered_signal = signal.filtfilt(b, a, x)\n",
    "\n",
    "    # ダウンサンプリング\n",
    "    downsampled_signal = filtered_signal[:,::4]\n",
    "    return downsampled_signal"
   ]
  },
  {
   "cell_type": "code",
   "execution_count": 9,
   "metadata": {},
   "outputs": [],
   "source": [
    "def calc_diff(sig,px=256):\n",
    "    diff1 = np.diff(sig,axis=1)\n",
    "    diff2 = np.diff(diff1,axis=1)\n",
    "    sig = sig[:,:px]\n",
    "    diff1 = diff1[:,:px]\n",
    "    ret = np.stack([sig,diff1,diff2],axis=-1)\n",
    "    print(ret.shape)\n",
    "    return ret"
   ]
  },
  {
   "cell_type": "code",
   "execution_count": null,
   "metadata": {},
   "outputs": [],
   "source": []
  },
  {
   "cell_type": "code",
   "execution_count": 12,
   "metadata": {},
   "outputs": [],
   "source": [
    "def run(file,px=256):\n",
    "    sig = np.load(DATA_DIR+file+\".npy\")\n",
    "    ppg = downsampling(sig[:,:,1])\n",
    "    print(ppg.shape)\n",
    "    ppg = calc_diff(ppg,px=px//4)\n",
    "    abp = sig[:,:px,0]\n",
    "    print(file,ppg.shape,abp.shape)\n",
    "    np.save(DATA_DIR+file+\"_ppg.npy\",ppg)\n",
    "    np.save(DATA_DIR+file+\"_abp.npy\",abp)"
   ]
  },
  {
   "cell_type": "code",
   "execution_count": 15,
   "metadata": {},
   "outputs": [
    {
     "name": "stdout",
     "output_type": "stream",
     "text": [
      "(132268, 66)\n",
      "(132268, 64, 3)\n",
      "train (132268, 64, 3) (132268, 256)\n"
     ]
    }
   ],
   "source": [
    "run(\"train\")\n"
   ]
  },
  {
   "cell_type": "code",
   "execution_count": 16,
   "metadata": {},
   "outputs": [
    {
     "name": "stdout",
     "output_type": "stream",
     "text": [
      "(7468, 66)\n",
      "(7468, 64, 3)\n",
      "validate (7468, 64, 3) (7468, 256)\n",
      "(16218, 66)\n",
      "(16218, 64, 3)\n",
      "test (16218, 64, 3) (16218, 256)\n"
     ]
    }
   ],
   "source": [
    "run(\"validate\")\n",
    "run(\"test\")"
   ]
  }
 ],
 "metadata": {
  "kernelspec": {
   "display_name": ".venv",
   "language": "python",
   "name": "python3"
  },
  "language_info": {
   "codemirror_mode": {
    "name": "ipython",
    "version": 3
   },
   "file_extension": ".py",
   "mimetype": "text/x-python",
   "name": "python",
   "nbconvert_exporter": "python",
   "pygments_lexer": "ipython3",
   "version": "3.10.11"
  }
 },
 "nbformat": 4,
 "nbformat_minor": 2
}
