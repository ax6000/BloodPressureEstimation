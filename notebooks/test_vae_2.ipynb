{
 "cells": [
  {
   "cell_type": "markdown",
   "metadata": {},
   "source": [
    "# init"
   ]
  },
  {
   "cell_type": "code",
   "execution_count": 1,
   "metadata": {},
   "outputs": [],
   "source": [
    "import os\n",
    "import numpy as np\n",
    "import PIL\n",
    "from PIL import Image\n",
    "from torch.utils.data import Dataset\n",
    "import torchvision\n",
    "from torchvision import transforms\n",
    "import torch\n",
    "from torch import nn\n",
    "from torch.nn import functional as F\n",
    "from typing import List, Callable, Union, Any, TypeVar, Tuple\n",
    "from torch import tensor as Tensor\n",
    "from tqdm import tqdm\n",
    "from torchinfo import summary\n",
    "import wandb\n",
    "import glob"
   ]
  },
  {
   "cell_type": "code",
   "execution_count": 2,
   "metadata": {},
   "outputs": [],
   "source": [
    "import wandb\n",
    "import time\n",
    "device = (\n",
    "    \"cuda\"\n",
    "    if torch.cuda.is_available()\n",
    "    else \"mps\"\n",
    "    if torch.backends.mps.is_available()\n",
    "    else \"cpu\"\n",
    ")\n"
   ]
  },
  {
   "cell_type": "markdown",
   "metadata": {},
   "source": [
    "# model"
   ]
  },
  {
   "cell_type": "code",
   "execution_count": 3,
   "metadata": {},
   "outputs": [],
   "source": [
    "##https://github.com/AntixK/PyTorch-VAE/blob/master/models/vanilla_vae.py\n",
    "# Tensor = TypeVar('torch.tensor')\n",
    "\n",
    "\n",
    "class VanillaVAE(nn.Module):\n",
    "\n",
    "\n",
    "    def __init__(self,\n",
    "                 in_channels: int,\n",
    "                 latent_dim: int,\n",
    "                 hidden_dims: List = None,\n",
    "                 **kwargs) -> None:\n",
    "        super(VanillaVAE, self).__init__()\n",
    "\n",
    "        self.latent_dim = latent_dim\n",
    "\n",
    "        modules = []\n",
    "        if hidden_dims is None:\n",
    "            hidden_dims = [32, 64, 128, 256, 512]\n",
    "\n",
    "        # Build Encoder\n",
    "        for h_dim in hidden_dims:\n",
    "            modules.append(\n",
    "                nn.Sequential(\n",
    "                    nn.Conv2d(in_channels, out_channels=h_dim,\n",
    "                              kernel_size= 3, stride= 2, padding  = 1),\n",
    "                    nn.BatchNorm2d(h_dim),\n",
    "                    nn.LeakyReLU())\n",
    "            )\n",
    "            in_channels = h_dim\n",
    "\n",
    "        self.encoder = nn.Sequential(*modules)\n",
    "        # print()\n",
    "        self.fc_mu = nn.Linear(hidden_dims[-1]*8*8, latent_dim)\n",
    "        self.fc_var = nn.Linear(hidden_dims[-1]*8*8, latent_dim)\n",
    "\n",
    "\n",
    "        # Build Decoder\n",
    "        modules = []\n",
    "\n",
    "        self.decoder_input = nn.Linear(latent_dim, hidden_dims[-1] *8*8)\n",
    "\n",
    "        hidden_dims.reverse()\n",
    "\n",
    "        for i in range(len(hidden_dims) - 1):\n",
    "            modules.append(\n",
    "                nn.Sequential(\n",
    "                    nn.ConvTranspose2d(hidden_dims[i],\n",
    "                                       hidden_dims[i + 1],\n",
    "                                       kernel_size=3,\n",
    "                                       stride = 2,\n",
    "                                       padding=1,\n",
    "                                       output_padding=1),\n",
    "                    nn.BatchNorm2d(hidden_dims[i + 1]),\n",
    "                    nn.LeakyReLU())\n",
    "            )\n",
    "\n",
    "\n",
    "\n",
    "        self.decoder = nn.Sequential(*modules)\n",
    "\n",
    "        self.final_layer = nn.Sequential(\n",
    "                            nn.ConvTranspose2d(hidden_dims[-1],\n",
    "                                               hidden_dims[-1],\n",
    "                                               kernel_size=3,\n",
    "                                               stride=2,\n",
    "                                               padding=1,\n",
    "                                               output_padding=1),\n",
    "                            nn.BatchNorm2d(hidden_dims[-1]),\n",
    "                            nn.LeakyReLU(),\n",
    "                            nn.Conv2d(hidden_dims[-1], out_channels= 1,\n",
    "                                      kernel_size= 3, padding= 1),\n",
    "                            nn.Tanh())\n",
    "\n",
    "    def encode(self, input: Tensor) -> List[Tensor]:\n",
    "        result = self.encoder(input)\n",
    "        result = torch.flatten(result, start_dim=1)\n",
    "        # Split the result into mu and var components\n",
    "        # of the latent Gaussian distribution\n",
    "        mu = self.fc_mu(result) #  nn.Linear\n",
    "        log_var = self.fc_var(result) # nn.Linear\n",
    "\n",
    "        return [mu, log_var]\n",
    "\n",
    "    def decode(self, z: Tensor) -> Tensor:\n",
    "        \"\"\"\n",
    "        Maps the given latent codes\n",
    "        onto the image space.\n",
    "        :param z: (Tensor) [B x D]\n",
    "        :return: (Tensor) [B x C x H x W]\n",
    "        \"\"\"\n",
    "        result = self.decoder_input(z)\n",
    "        # print(result.shape)\n",
    "        result = result.view(-1, 512, 8,8)\n",
    "        result = self.decoder(result)\n",
    "        result = self.final_layer(result)\n",
    "        return result\n",
    "\n",
    "    def reparameterize(self, mu: Tensor, logvar: Tensor) -> Tensor:\n",
    "        \"\"\"\n",
    "        Reparameterization trick to sample from N(mu, var) from\n",
    "        N(0,1).\n",
    "        :param mu: (Tensor) Mean of the latent Gaussian [B x D]\n",
    "        :param logvar: (Tensor) Standard deviation of the latent Gaussian [B x D]\n",
    "        :return: (Tensor) [B x D]\n",
    "        \"\"\"\n",
    "        std = torch.exp(0.5 * logvar)\n",
    "        eps = torch.randn_like(std)\n",
    "        return eps * std + mu\n",
    "\n",
    "    def forward(self, input: Tensor, **kwargs) -> List[Tensor]:\n",
    "        mu, log_var = self.encode(input)\n",
    "        z = self.reparameterize(mu, log_var)\n",
    "        return  [self.decode(z), input, mu, log_var]\n",
    "\n",
    "    def loss_function(self,\n",
    "                      *args,\n",
    "                      **kwargs) -> dict:\n",
    "        \"\"\"\n",
    "        Computes the VAE loss function.\n",
    "        KL(N(\\mu, \\sigma), N(0, 1)) = \\log \\frac{1}{\\sigma} + \\frac{\\sigma^2 + \\mu^2}{2} - \\frac{1}{2}\n",
    "        :param args:\n",
    "        :param kwargs:\n",
    "        :return:\n",
    "        \"\"\"\n",
    "        recons = args[0]\n",
    "        input = args[1]\n",
    "        mu = args[2]\n",
    "        log_var = args[3]\n",
    "\n",
    "        kld_weight = kwargs['M_N'] # Account for the minibatch samples from the dataset\n",
    "        recons_loss =F.mse_loss(recons, input)\n",
    "\n",
    "\n",
    "        kld_loss = torch.mean(-0.5 * torch.sum(1 + log_var - mu ** 2 - log_var.exp(), dim = 1), dim = 0)\n",
    "\n",
    "        loss = recons_loss + kld_weight * kld_loss\n",
    "        return {'loss': loss, 'Reconstruction_Loss':recons_loss.detach(), 'KLD':-kld_loss.detach()}\n",
    "\n",
    "    def sample(self,\n",
    "               num_samples:int,\n",
    "               current_device: int, **kwargs) -> Tensor:\n",
    "        \"\"\"\n",
    "        Samples from the latent space and return the corresponding\n",
    "        image space map.\n",
    "        :param num_samples: (Int) Number of samples\n",
    "        :param current_device: (Int) Device to run the model\n",
    "        :return: (Tensor)\n",
    "        \"\"\"\n",
    "        z = torch.randn(num_samples,\n",
    "                        self.latent_dim)\n",
    "\n",
    "        z = z.to(current_device)\n",
    "\n",
    "        samples = self.decode(z)\n",
    "        return samples\n",
    "\n",
    "    def generate(self, x: Tensor, **kwargs) -> Tensor:\n",
    "        \"\"\"\n",
    "        Given an input image x, returns the reconstructed image\n",
    "        :param x: (Tensor) [B x C x H x W]\n",
    "        :return: (Tensor) [B x C x H x W]\n",
    "        \"\"\"\n",
    "\n",
    "        return self.forward(x)[0]"
   ]
  },
  {
   "cell_type": "markdown",
   "metadata": {},
   "source": [
    "## v2\n",
    "conv2d mid layer  \n",
    "add groupnorm 32\n"
   ]
  },
  {
   "cell_type": "code",
   "execution_count": 4,
   "metadata": {},
   "outputs": [],
   "source": [
    "def Normalize(in_channels, num_groups=32):\n",
    "    return torch.nn.GroupNorm(num_groups=num_groups, num_channels=in_channels, eps=1e-6, affine=True)\n",
    "class AttnBlock(nn.Module):\n",
    "    def __init__(self, in_channels):\n",
    "        super().__init__()\n",
    "        self.in_channels = in_channels\n",
    "\n",
    "        self.norm = Normalize(in_channels)\n",
    "        self.q = torch.nn.Conv2d(in_channels,\n",
    "                                 in_channels,\n",
    "                                 kernel_size=1,\n",
    "                                 stride=1,\n",
    "                                 padding=0)\n",
    "        self.k = torch.nn.Conv2d(in_channels,\n",
    "                                 in_channels,\n",
    "                                 kernel_size=1,\n",
    "                                 stride=1,\n",
    "                                 padding=0)\n",
    "        self.v = torch.nn.Conv2d(in_channels,\n",
    "                                 in_channels,\n",
    "                                 kernel_size=1,\n",
    "                                 stride=1,\n",
    "                                 padding=0)\n",
    "        self.proj_out = torch.nn.Conv2d(in_channels,\n",
    "                                        in_channels,\n",
    "                                        kernel_size=1,\n",
    "                                        stride=1,\n",
    "                                        padding=0)\n",
    "\n",
    "\n",
    "    def forward(self, x):\n",
    "        h_ = x\n",
    "        h_ = self.norm(h_)\n",
    "        q = self.q(h_)\n",
    "        k = self.k(h_)\n",
    "        v = self.v(h_)\n",
    "\n",
    "        # compute attention\n",
    "        b,c,h,w = q.shape\n",
    "        q = q.reshape(b,c,h*w)\n",
    "        q = q.permute(0,2,1)   # b,hw,c\n",
    "        k = k.reshape(b,c,h*w) # b,c,hw\n",
    "        w_ = torch.bmm(q,k)     # b,hw,hw    w[b,i,j]=sum_c q[b,i,c]k[b,c,j]\n",
    "        w_ = w_ * (int(c)**(-0.5))\n",
    "        w_ = torch.nn.functional.softmax(w_, dim=2)\n",
    "\n",
    "        # attend to values\n",
    "        v = v.reshape(b,c,h*w)\n",
    "        w_ = w_.permute(0,2,1)   # b,hw,hw (first hw of k, second of q)\n",
    "        h_ = torch.bmm(v,w_)     # b, c,hw (hw of q) h_[b,c,j] = sum_i v[b,c,i] w_[b,i,j]\n",
    "        h_ = h_.reshape(b,c,h,w)\n",
    "\n",
    "        h_ = self.proj_out(h_)\n",
    "\n",
    "        return x+h_"
   ]
  },
  {
   "cell_type": "code",
   "execution_count": 51,
   "metadata": {},
   "outputs": [],
   "source": [
    "\n",
    "\n",
    "class VanillaVAE_v2(nn.Module):\n",
    "\n",
    "\n",
    "    def __init__(self,\n",
    "                 in_channels: int,\n",
    "                 latent_dim: int,\n",
    "                 hidden_dims: List = None,\n",
    "                 **kwargs) -> None:\n",
    "        super(VanillaVAE_v2, self).__init__()\n",
    "\n",
    "        self.latent_dim = latent_dim\n",
    "\n",
    "        modules = []\n",
    "        if hidden_dims is None:\n",
    "            hidden_dims = [32, 64, 128, 256, 512]\n",
    "\n",
    "        # Build Encoder\n",
    "        for h_dim in hidden_dims:\n",
    "            modules.append(\n",
    "                nn.Sequential(\n",
    "                    nn.Conv2d(in_channels, out_channels=h_dim,\n",
    "                              kernel_size= 3, stride= 2, padding  = 1),\n",
    "                    Normalize(h_dim),\n",
    "                    nn.LeakyReLU())\n",
    "            )\n",
    "            in_channels = h_dim\n",
    "\n",
    "        self.encoder = nn.Sequential(*modules)\n",
    "        self.mid_params = nn.Conv2d(hidden_dims[-1],latent_dim*2,1)\n",
    "        self.decoder_input2 = nn.Conv2d(latent_dim, hidden_dims[-1],1)\n",
    "\n",
    "        hidden_dims.reverse()\n",
    "            # Build Decoder\n",
    "        modules = []\n",
    "        for i in range(len(hidden_dims) - 1):\n",
    "            modules.append(\n",
    "                nn.Sequential(\n",
    "                    nn.ConvTranspose2d(hidden_dims[i],\n",
    "                                       hidden_dims[i + 1],\n",
    "                                       kernel_size=3,\n",
    "                                       stride = 2,\n",
    "                                       padding=1,\n",
    "                                       output_padding=1),\n",
    "                    Normalize(hidden_dims[i + 1]),\n",
    "                    nn.LeakyReLU())\n",
    "            )\n",
    "        self.decoder = nn.Sequential(*modules)\n",
    "\n",
    "        self.final_layer = nn.Sequential(\n",
    "                            nn.ConvTranspose2d(hidden_dims[-1],\n",
    "                                               hidden_dims[-1],\n",
    "                                               kernel_size=3,\n",
    "                                               stride=2,\n",
    "                                               padding=1,\n",
    "                                               output_padding=1),\n",
    "                            Normalize(hidden_dims[-1]),\n",
    "                            nn.LeakyReLU(),\n",
    "                            nn.Conv2d(hidden_dims[-1], out_channels= 1,\n",
    "                                      kernel_size= 3, padding= 1),\n",
    "                            nn.Tanh())\n",
    "\n",
    "    def encode(self, input: Tensor) -> List[Tensor]:\n",
    "        \"\"\"\n",
    "        Encodes the input by passing through the encoder network\n",
    "        and returns the latent codes.\n",
    "        :param input: (Tensor) Input tensor to encoder [N x C x H x W]\n",
    "        :return: (Tensor) List of latent codes\n",
    "        \"\"\"\n",
    "        result = self.encoder(input)\n",
    "        result = self.mid_params(result)\n",
    "        mu,log_var = torch.chunk(result,2,dim=1)\n",
    "        # Split the result into mu and var components\n",
    "        # of the latent Gaussian distribution\n",
    "\n",
    "        return [mu, log_var]\n",
    "\n",
    "    def decode(self, z: Tensor) -> Tensor:\n",
    "        \"\"\"\n",
    "        Maps the given latent codes\n",
    "        onto the image space.\n",
    "        :param z: (Tensor) [B x D]\n",
    "        :return: (Tensor) [B x C x H x W]\n",
    "        \"\"\"\n",
    "        result = self.decoder_input2(z)\n",
    "\n",
    "        result = self.decoder(result)\n",
    "        result = self.final_layer(result)\n",
    "        return result\n",
    "\n",
    "    def reparameterize(self, mu: Tensor, logvar: Tensor) -> Tensor:\n",
    "        \"\"\"\n",
    "        Reparameterization trick to sample from N(mu, var) from\n",
    "        N(0,1).\n",
    "        :param mu: (Tensor) Mean of the latent Gaussian [B x D]\n",
    "        :param logvar: (Tensor) Standard deviation of the latent Gaussian [B x D]\n",
    "        :return: (Tensor) [B x D]\n",
    "        \"\"\"\n",
    "        std = torch.exp(0.5 * logvar)\n",
    "        eps = torch.randn_like(std)\n",
    "        return eps * std + mu\n",
    "\n",
    "    def forward(self, input: Tensor, **kwargs) -> List[Tensor]:\n",
    "        mu, log_var = self.encode(input)\n",
    "        z = self.reparameterize(mu, log_var)\n",
    "        # print(\"input,decode(z),mu,var,z\",input.shape,self.decode(z).shape,mu.shape,log_var.shape,z.shape)\n",
    "        return  [self.decode(z), input, mu, log_var]\n",
    "\n",
    "    def loss_function(self,\n",
    "                      *args,\n",
    "                      **kwargs) -> dict:\n",
    "        \"\"\"\n",
    "        Computes the VAE loss function.\n",
    "        KL(N(\\mu, \\sigma), N(0, 1)) = \\log \\frac{1}{\\sigma} + \\frac{\\sigma^2 + \\mu^2}{2} - \\frac{1}{2}\n",
    "        :param args:\n",
    "        :param kwargs:\n",
    "        :return:\n",
    "        \"\"\"\n",
    "        recons = args[0]\n",
    "        input = args[1]\n",
    "        mu = args[2]\n",
    "        log_var = args[3]\n",
    "\n",
    "        kld_weight = kwargs['M_N'] # Account for the minibatch samples from the dataset\n",
    "        recons_loss =F.mse_loss(recons, input)\n",
    "\n",
    "        # kld_loss = torch.mean(-0.5 * torch.sum(1 + log_var - mu ** 2 - log_var.exp(), dim = 1), dim = 0)\n",
    "        kld_loss = torch.mean(-0.5 * torch.sum(-torch.pow(mu, 2)\n",
    "                                       - log_var.exp() + 1.0 + log_var,\n",
    "                                       dim=[1, 2, 3]),dim=0)\n",
    "        loss = recons_loss + kld_weight * kld_loss\n",
    "        # print(log_var.shape,mu.shape,torch.sum(1 + log_var - mu ** 2 - log_var.exp(), dim = 1).shape,kld_loss.shape)\n",
    "        return {'loss': loss, 'Reconstruction_Loss':recons_loss.detach(), 'KLD':-kld_loss.detach()}\n",
    "\n",
    "    def sample(self,\n",
    "               num_samples:int,\n",
    "               current_device: int, **kwargs) -> Tensor:\n",
    "        \"\"\"\n",
    "        Samples from the latent space and return the corresponding\n",
    "        image space map.\n",
    "        :param num_samples: (Int) Number of samples\n",
    "        :param current_device: (Int) Device to run the model\n",
    "        :return: (Tensor)\n",
    "        \"\"\"\n",
    "        z = torch.randn(num_samples,\n",
    "                        self.latent_dim)\n",
    "\n",
    "        z = z.to(current_device)\n",
    "\n",
    "        samples = self.decode(z)\n",
    "        return samples\n",
    "\n",
    "    def generate(self, x: Tensor, **kwargs) -> Tensor:\n",
    "        \"\"\"\n",
    "        Given an input image x, returns the reconstructed image\n",
    "        :param x: (Tensor) [B x C x H x W]\n",
    "        :return: (Tensor) [B x C x H x W]\n",
    "        \"\"\"\n",
    "\n",
    "        return self.forward(x)[0]"
   ]
  },
  {
   "cell_type": "markdown",
   "metadata": {},
   "source": [
    "## ConvAE"
   ]
  },
  {
   "cell_type": "code",
   "execution_count": 84,
   "metadata": {},
   "outputs": [],
   "source": [
    "class ConvAE(nn.Module):\n",
    "\n",
    "\n",
    "    def __init__(self,\n",
    "                 in_channels: int,\n",
    "                #  latent_dim: int,\n",
    "                 hidden_dims: List = None,\n",
    "                 **kwargs) -> None:\n",
    "        super(ConvAE, self).__init__()\n",
    "\n",
    "        # self.latent_dim = latent_dim\n",
    "\n",
    "        modules = []\n",
    "        if hidden_dims is None:\n",
    "            hidden_dims = [32, 64, 128, 256, 512]\n",
    "\n",
    "        # Build Encoder\n",
    "        for h_dim in hidden_dims:\n",
    "            modules.append(\n",
    "                nn.Sequential(\n",
    "                    nn.Conv2d(in_channels, out_channels=h_dim,\n",
    "                              kernel_size= 3, stride= 1, padding  = 1),\n",
    "                    nn.BatchNorm2d(h_dim),\n",
    "                    nn.LeakyReLU(),\n",
    "                    nn.MaxPool2d(2,2)),\n",
    "            )\n",
    "            in_channels = h_dim\n",
    "\n",
    "        self.encoder = nn.Sequential(*modules)\n",
    "        # print()\n",
    "        # self.fc_mu = nn.Linear(hidden_dims[-1]*8*8, latent_dim)\n",
    "        # self.fc_var = nn.Linear(hidden_dims[-1]*8*8, latent_dim)\n",
    "\n",
    "\n",
    "        # Build Decoder\n",
    "        modules = []\n",
    "\n",
    "        # self.decoder_input = nn.Linear(latent_dim, hidden_dims[-1] *8*8)\n",
    "\n",
    "        hidden_dims.reverse()\n",
    "\n",
    "        for i in range(len(hidden_dims) - 1):\n",
    "            modules.append(\n",
    "                nn.Sequential(\n",
    "                    nn.ConvTranspose2d(hidden_dims[i],\n",
    "                                       hidden_dims[i + 1],\n",
    "                                       kernel_size=3,\n",
    "                                       stride = 2,\n",
    "                                       padding=1,\n",
    "                                       output_padding=1),\n",
    "                    nn.BatchNorm2d(hidden_dims[i + 1]),\n",
    "                    nn.LeakyReLU())\n",
    "            )\n",
    "\n",
    "\n",
    "\n",
    "        self.decoder = nn.Sequential(*modules)\n",
    "\n",
    "        self.final_layer = nn.Sequential(\n",
    "                            nn.ConvTranspose2d(hidden_dims[-1],\n",
    "                                               hidden_dims[-1],\n",
    "                                               kernel_size=3,\n",
    "                                               stride=2,\n",
    "                                               padding=1,\n",
    "                                               output_padding=1),\n",
    "                            nn.BatchNorm2d(hidden_dims[-1]),\n",
    "                            nn.LeakyReLU(),\n",
    "                            nn.Conv2d(hidden_dims[-1], out_channels= 1,\n",
    "                                      kernel_size= 3, padding= 1),\n",
    "                            nn.Tanh())\n",
    "\n",
    "    def encode(self, input: Tensor) -> List[Tensor]:\n",
    "        \"\"\"\n",
    "        Encodes the input by passing through the encoder network\n",
    "        and returns the latent codes.\n",
    "        :param input: (Tensor) Input tensor to encoder [N x C x H x W]\n",
    "        :return: (Tensor) List of latent codes\n",
    "        \"\"\"\n",
    "        # print(input.shape)\n",
    "        result = self.encoder(input)\n",
    "        # print(result.shape)\n",
    "\n",
    "        return result\n",
    "\n",
    "    def decode(self, z: Tensor) -> Tensor:\n",
    "        \"\"\"\n",
    "        Maps the given latent codes\n",
    "        onto the image space.\n",
    "        :param z: (Tensor) [B x D]\n",
    "        :return: (Tensor) [B x C x H x W]\n",
    "        \"\"\"\n",
    "\n",
    "        result = self.decoder(z)\n",
    "        result = self.final_layer(result)\n",
    "        return result\n",
    "\n",
    "    def forward(self, input: Tensor, **kwargs) -> List[Tensor]:\n",
    "        return self.decode(self.encode(input))\n",
    "\n",
    "    def loss_function(self,\n",
    "                      *args,\n",
    "                      **kwargs) -> dict:\n",
    "        \"\"\"\n",
    "        Computes the VAE loss function.\n",
    "        KL(N(\\mu, \\sigma), N(0, 1)) = \\log \\frac{1}{\\sigma} + \\frac{\\sigma^2 + \\mu^2}{2} - \\frac{1}{2}\n",
    "        :param args:\n",
    "        :param kwargs:\n",
    "        :return:\n",
    "        \"\"\"\n",
    "        recons = args[0]\n",
    "        input = args[1]\n",
    "        loss =F.mse_loss(recons,input)\n",
    "        return {'loss': loss}\n",
    "\n",
    "    def sample(self,\n",
    "               num_samples:int,\n",
    "               current_device: int, **kwargs) -> Tensor:\n",
    "        \"\"\"\n",
    "        Samples from the latent space and return the corresponding\n",
    "        image space map.\n",
    "        :param num_samples: (Int) Number of samples\n",
    "        :param current_device: (Int) Device to run the model\n",
    "        :return: (Tensor)\n",
    "        \"\"\"\n",
    "        z = torch.randn(num_samples,\n",
    "                        self.latent_dim)\n",
    "\n",
    "        z = z.to(current_device)\n",
    "\n",
    "        samples = self.decode(z)\n",
    "        return samples\n",
    "\n",
    "    def generate(self, x: Tensor, **kwargs) -> Tensor:\n",
    "        \"\"\"\n",
    "        Given an input image x, returns the reconstructed image\n",
    "        :param x: (Tensor) [B x C x H x W]\n",
    "        :return: (Tensor) [B x C x H x W]\n",
    "        \"\"\"\n",
    "\n",
    "        return self.forward(x)"
   ]
  },
  {
   "cell_type": "markdown",
   "metadata": {},
   "source": [
    "# dataset"
   ]
  },
  {
   "cell_type": "code",
   "execution_count": 4,
   "metadata": {},
   "outputs": [],
   "source": [
    "IMG_EXTENSIONS = [\n",
    "    '.jpg', '.JPG', '.jpeg', '.JPEG',\n",
    "    '.png', '.PNG', '.ppm', '.PPM', '.bmp', '.BMP',\n",
    "]\n",
    "\n",
    "def is_image_file(filename):\n",
    "    return any(filename.endswith(extension) for extension in IMG_EXTENSIONS)\n",
    "\n",
    "def make_dataset(dir):\n",
    "    print(os.path.isfile(dir))\n",
    "    if os.path.isfile(dir):\n",
    "        arr = np.genfromtxt(dir, dtype=str, encoding='utf-8')\n",
    "        if arr.ndim:\n",
    "            images = [i for i in arr]\n",
    "        else:\n",
    "            images = np.array([arr])\n",
    "    else:\n",
    "        images = []\n",
    "        assert os.path.isdir(dir), '%s is not a valid directory' % dir\n",
    "        for root, _, fnames in sorted(os.walk(dir)):\n",
    "            for fname in sorted(fnames):\n",
    "                if is_image_file(fname):\n",
    "                    path = os.path.join(root, fname)\n",
    "                    images.append(path)\n",
    "\n",
    "    return images\n",
    "\n",
    "\n",
    "class PPG2ABPDataset_v3_base(Dataset):\n",
    "    def __init__(self,data_flist,data_root = r\"F:\\minowa\\BloodPressureEstimation\\data\\processed\\BP_npy\\0325_256_corr_clean\\p00\",\n",
    "                 data_len=1000, size=224, loader=None):\n",
    "        self.data_root = data_root\n",
    "        self.data_flist = data_flist\n",
    "        self.flist = make_dataset(self.data_flist)\n",
    "        # if data_len > 0:\n",
    "        #     self.flist = flist[:int(data_len)]\n",
    "        # else:\n",
    "        #     self.flist = flist\n",
    "        self.tfs = transforms.ToTensor()\n",
    "        self.size = size\n",
    "        self.data=self.load_npys()\n",
    "        if data_len > 0:\n",
    "            data_index = np.arange(0,len(self.data),max(len(self.data)//int(data_len),0)).astype(int)[:int(data_len)]\n",
    "            self.data = self.data[data_index]\n",
    "        else:\n",
    "            self.data = self.data[:len(self.data)-len(self.data)%64]\n",
    "        print(\"data prepared:\" ,self.data.shape)\n",
    "    # def _expand_dims(self,tensor):\n",
    "    #     length = tensor.shape[-1]\n",
    "    #     reshaped = torch.unsqueeze(tensor, axis=2)\n",
    "    #     reshaped = torch.repeat_interleave(reshaped, length, axis=2)\n",
    "    #     return reshaped\n",
    "    def load_npys(self):\n",
    "        data = []\n",
    "        for f in self.flist:\n",
    "            arr = np.load(self.data_root+\"\\\\\"+str(f))\n",
    "            if len(arr) != 0:\n",
    "                data.append(arr)\n",
    "        data = np.concatenate(data)\n",
    "        return data\n",
    "    \n",
    "    def __getitem__(self, index):\n",
    "        # ret = {}\n",
    "        # ret['gt_image'] = self._expand_dims(torch.from_numpy(self.data[index,:,0].astype(np.float32)))\n",
    "        # ret['cond_image'] = self._expand_dims(torch.from_numpy(self.data[index,:,1].astype(np.float32)))\n",
    "        ret = self.data[index,:,1].astype(np.float32)\n",
    "        ret = np.tile(ret,(256,1))[np.newaxis]\n",
    "        # ret['path'] = str(index)\n",
    "        return ret\n",
    "\n",
    "    def __len__(self):\n",
    "        return self.data.shape[0]\n",
    "    \n",
    "class PPG2ABPDataset_v3_Train(PPG2ABPDataset_v3_base):\n",
    "    def __init__(self, data_len=-1, size=224, loader=None):\n",
    "        super().__init__(data_flist = r\"F:\\minowa\\BloodPressureEstimation\\data\\processed\\list\\train_BP2.txt\",data_len=data_len,size=size)\n",
    "\n",
    "class PPG2ABPDataset_v3_Val(PPG2ABPDataset_v3_base):\n",
    "    def __init__(self, data_len=-1, size=224, loader=None):\n",
    "        super().__init__(data_flist = r\"F:\\minowa\\BloodPressureEstimation\\data\\processed\\list\\val_BP2.txt\",data_len=data_len,size=size)\n",
    "\n",
    "class PPG2ABPDataset_v3_Test(PPG2ABPDataset_v3_base):\n",
    "    def __init__(self, data_len=-1, size=224, loader=None):\n",
    "        super().__init__(data_flist = r\"F:\\minowa\\BloodPressureEstimation\\data\\processed\\list\\test_BP2.txt\",data_len=data_len,size=size)         \n",
    "    "
   ]
  },
  {
   "cell_type": "markdown",
   "metadata": {},
   "source": [
    "# train function"
   ]
  },
  {
   "cell_type": "code",
   "execution_count": 7,
   "metadata": {},
   "outputs": [],
   "source": [
    "class EarlyStopping:\n",
    "    \"\"\"Early stops the training if validation loss doesn't improve after a given patience.\"\"\"\n",
    "    def __init__(self, patience=7, verbose=False, delta=0, path='checkpoint.pt', trace_func=print):\n",
    "        \"\"\"\n",
    "        Args:\n",
    "            patience (int): How long to wait after last time validation loss improved.\n",
    "                            Default: 7\n",
    "            verbose (bool): If True, prints a message for each validation loss improvement. \n",
    "                            Default: False\n",
    "            delta (float): Minimum change in the monitored quantity to qualify as an improvement.\n",
    "                            Default: 0\n",
    "            path (str): Path for the checkpoint to be saved to.\n",
    "                            Default: 'checkpoint.pt'\n",
    "            trace_func (function): trace print function.\n",
    "                            Default: print            \n",
    "        \"\"\"\n",
    "        self.patience = patience\n",
    "        self.verbose = verbose\n",
    "        self.counter = 0\n",
    "        self.best_score = None\n",
    "        self.early_stop = False\n",
    "        self.val_loss_min = np.Inf\n",
    "        self.delta = delta\n",
    "        self.path = path\n",
    "        self.trace_func = trace_func\n",
    "    def __call__(self, val_loss, model,epoch):\n",
    "\n",
    "        score = -val_loss\n",
    "\n",
    "        if self.best_score is None:\n",
    "            self.best_score = score\n",
    "            self.save_checkpoint(val_loss, model,epoch)\n",
    "        elif score < self.best_score + self.delta:\n",
    "            self.counter += 1\n",
    "            self.trace_func(f'EarlyStopping counter: {self.counter} out of {self.patience}')\n",
    "            if self.counter >= self.patience:\n",
    "                self.early_stop = True\n",
    "        else:\n",
    "            self.best_score = score\n",
    "            self.save_checkpoint(val_loss, model,epoch)\n",
    "            self.counter = 0\n",
    "\n",
    "    def save_checkpoint(self, val_loss, model,epoch):\n",
    "        '''Saves model when validation loss decrease.'''\n",
    "        if self.verbose:\n",
    "            self.trace_func(f'Validation loss decreased ({self.val_loss_min:.6f} --> {val_loss:.6f}).  Saving model ...')\n",
    "        torch.save(model.state_dict(), self.path.format(t=epoch))\n",
    "        self.val_loss_min = val_loss"
   ]
  },
  {
   "cell_type": "markdown",
   "metadata": {},
   "source": [
    "## train"
   ]
  },
  {
   "cell_type": "code",
   "execution_count": 74,
   "metadata": {},
   "outputs": [],
   "source": [
    "def train(dataloader,optimizer, model,kld_weight=0.00025):\n",
    "    # optimizer = torch.optim.Adam(model.parameters(),lr=lr)\n",
    "    size = len(dataloader.dataset)\n",
    "    total_loss_sum=0\n",
    "    recon_loss_sum=0\n",
    "    kld_loss_sum = 0\n",
    "    total=0\n",
    "    with tqdm(total=len(dataloader),unit=\"batch\") as pbar:\n",
    "        # with torch.autograd.set_detect_anomaly(True):\n",
    "        for batch, X in enumerate(dataloader):\n",
    "            X = X.to(device)\n",
    "            \n",
    "            # print(X.shape)\n",
    "            # print(X.shape,y.shape)\n",
    "            # Compute prediction error\n",
    "            results = model.forward(X)\n",
    "            optimizer.zero_grad()\n",
    "            loss = model.loss_function(*results, M_N=kld_weight)\n",
    "            \n",
    "            # Backpropagation\n",
    "            total+=X.size(0)\n",
    "            # {'loss': loss, 'Reconstruction_Loss':recons_loss.detach(), 'KLD':-kld_loss.detach()}\n",
    "            total_loss_sum+=loss['loss']*X.size(0) \n",
    "            # recon_loss_sum+=loss['Reconstruction_Loss']*X.size(0) \n",
    "            # kld_loss_sum+=loss['KLD']*X.size(0)\n",
    "            running_total_loss=total_loss_sum/total\n",
    "            # running_recon_loss=recon_loss_sum/total\n",
    "            # running_kld_loss=kld_loss_sum/total\n",
    "            loss['loss'].backward()\n",
    "            # print(X.grad)\n",
    "            optimizer.step()\n",
    "            metrics = {\"train/total_loss_batch\":loss['loss'].item(),\n",
    "                    #    \"train/recon_loss_batch\":loss['Reconstruction_Loss'].item(),\n",
    "                    #    \"train/KLD_batch\":loss['KLD'].item(),\n",
    "                       \"train/total_loss\":running_total_loss.item(),\n",
    "                    #    \"train/recon_loss(MSE)\":running_recon_loss.item(),\n",
    "                    #    \"train/KLD\":running_kld_loss.item(),\n",
    "                    #    \"Total\":total\n",
    "                       }\n",
    "            if batch < 100:\n",
    "                # 🐝 Log train metrics to wandb \n",
    "                wandb.log(metrics)\n",
    "            # if batch < 50:\n",
    "                # wandb.log(metrics)\n",
    "                # torch.save(model.state_dict(),\"./wandb/weights.pth\")\n",
    "                # artifact = wandb.Artifact('model-weights',type='weights')\n",
    "                # artifact.add_file(\"./wandb/weights.pth\")\n",
    "                # wandb.log_artifact(artifact)\n",
    "                # time.sleep(10)\n",
    "            pbar.set_postfix(metrics)\n",
    "            pbar.update(1)\n",
    "    return total"
   ]
  },
  {
   "cell_type": "markdown",
   "metadata": {},
   "source": [
    "## test"
   ]
  },
  {
   "cell_type": "code",
   "execution_count": 77,
   "metadata": {},
   "outputs": [],
   "source": [
    "def test(dataloader, model, log_images=2,kld_weight=0.00025,save = False):\n",
    "    size = len(dataloader.dataset)\n",
    "    num_batches = len(dataloader)\n",
    "    model.eval()\n",
    "    total=0\n",
    "    test_total_loss_sum=0\n",
    "    test_recon_loss_sum=0\n",
    "    test_kld_loss_sum = 0\n",
    "    images = []\n",
    "    gt = []\n",
    "    log_arr = np.random.randint(0,num_batches)\n",
    "    with torch.no_grad():\n",
    "        for i,X in enumerate(dataloader):\n",
    "            X = X.to(device)\n",
    "            total+=X.size(0)\n",
    "            # print(\"x\",X.shape)\n",
    "            results = model.forward(X)\n",
    "            loss = model.loss_function(*results, M_N=kld_weight)\n",
    "            if save:\n",
    "                images.append(model.generate(X).detach().cpu().numpy())\n",
    "                gt.append(X.detach().cpu().numpy())\n",
    "            test_total_loss_sum+=loss['loss']*X.size(0) \n",
    "            # test_recon_loss_sum+=loss['Reconstruction_Loss']*X.size(0) \n",
    "            # test_kld_loss_sum+=loss['KLD']*X.size(0)\n",
    "            if i == log_arr: \n",
    "                pred = model.generate(X)\n",
    "                print(pred.shape)\n",
    "                pred_image = wandb.Image(pred[0].detach().permute(1,2,0).cpu().numpy(),mode='L', caption=f\"generated {i*X.shape[0]}\")\n",
    "                gt_image = wandb.Image(X[0].detach().permute(1,2,0).cpu().numpy(),mode='L', caption=f\"ground truth {i*X.shape[0]}\")\n",
    "                wandb.log({\"val/pred_image\":pred_image,\"val/gt_image\":gt_image})\n",
    "    test_total_loss_sum /= total\n",
    "    # test_recon_loss_sum /= total\n",
    "    # test_kld_loss_sum /= total\n",
    "    wandb.log({\"val/total_loss\":test_total_loss_sum.item(),\n",
    "                    #    \"val/recon_loss(MSE)\":test_recon_loss_sum.item(),\n",
    "                    #    \"val/KLD\":test_kld_loss_sum.item(),\n",
    "                       })\n",
    "    # print(f\"Test Error: {test_total_loss_sum.item():>8f}\\nMSE: {test_recon_loss_sum.item():>8f} \\nKLD: {test_kld_loss_sum.item():>8f} \\n\")\n",
    "    if save:\n",
    "        images = np.concatenate(images,axis=0)\n",
    "        gt = np.concatenate(gt,axis=0)\n",
    "    return test_total_loss_sum.item(),[images,gt]"
   ]
  },
  {
   "cell_type": "code",
   "execution_count": null,
   "metadata": {},
   "outputs": [],
   "source": []
  },
  {
   "cell_type": "markdown",
   "metadata": {},
   "source": [
    "# run"
   ]
  },
  {
   "cell_type": "code",
   "execution_count": null,
   "metadata": {},
   "outputs": [],
   "source": []
  },
  {
   "cell_type": "code",
   "execution_count": 10,
   "metadata": {},
   "outputs": [
    {
     "name": "stderr",
     "output_type": "stream",
     "text": [
      "Failed to detect the name of this notebook, you can set it manually with the WANDB_NOTEBOOK_NAME environment variable to enable code saving.\n",
      "\u001b[34m\u001b[1mwandb\u001b[0m: Currently logged in as: \u001b[33max600002\u001b[0m. Use \u001b[1m`wandb login --relogin`\u001b[0m to force relogin\n"
     ]
    },
    {
     "data": {
      "text/plain": [
       "True"
      ]
     },
     "execution_count": 10,
     "metadata": {},
     "output_type": "execute_result"
    }
   ],
   "source": [
    "wandb.login()"
   ]
  },
  {
   "cell_type": "code",
   "execution_count": 11,
   "metadata": {},
   "outputs": [],
   "source": [
    "# del model\n",
    "# import gc\n",
    "# gc.collect()"
   ]
  },
  {
   "cell_type": "code",
   "execution_count": 133,
   "metadata": {},
   "outputs": [
    {
     "name": "stdout",
     "output_type": "stream",
     "text": [
      "True\n",
      "data prepared: (30000, 256, 2)\n",
      "True\n",
      "data prepared: (1000, 256, 2)\n",
      "True\n",
      "data prepared: (2000, 256, 2)\n"
     ]
    }
   ],
   "source": [
    "# model = VanillaVAE_v2(in_channels = 1, latent_dim=4,hidden_dims=[64,128,256,512]).to(device)\n",
    "model = ConvAE(in_channels = 1,hidden_dims=[64,128,256]).to(device)\n",
    "# model = VanillaVAE(in_channels = 1, latent_dim=32).to(device)\n",
    "train_loader = torch.utils.data.DataLoader(dataset=PPG2ABPDataset_v3_Train(data_len=30000), \n",
    "                                         batch_size=16, \n",
    "                                         shuffle=True, )\n",
    "val_loader = torch.utils.data.DataLoader(dataset=PPG2ABPDataset_v3_Val(data_len=1000), \n",
    "                                         batch_size=16, \n",
    "                                         shuffle=False, )\n",
    "test_loader = torch.utils.data.DataLoader(dataset=PPG2ABPDataset_v3_Test(data_len=2000), \n",
    "                                          batch_size=16, \n",
    "                                         shuffle=False, )\n"
   ]
  },
  {
   "cell_type": "code",
   "execution_count": 134,
   "metadata": {},
   "outputs": [
    {
     "data": {
      "text/plain": [
       "0.00048828125"
      ]
     },
     "execution_count": 134,
     "metadata": {},
     "output_type": "execute_result"
    }
   ],
   "source": [
    "path = os.path.join(\".\\outputs\\\\0611_vae_bp\\\\{t}.pth\")\n",
    "kld_weight = 32/(256**2) # \n",
    "epochs = 100\n",
    "lr = 0.0001\n",
    "kld_weight\n"
   ]
  },
  {
   "cell_type": "code",
   "execution_count": 135,
   "metadata": {},
   "outputs": [
    {
     "data": {
      "text/html": [
       "Finishing last run (ID:gz51mv0a) before initializing another..."
      ],
      "text/plain": [
       "<IPython.core.display.HTML object>"
      ]
     },
     "metadata": {},
     "output_type": "display_data"
    },
    {
     "data": {
      "text/html": [
       "<style>\n",
       "    table.wandb td:nth-child(1) { padding: 0 10px; text-align: left ; width: auto;} td:nth-child(2) {text-align: left ; width: 100%}\n",
       "    .wandb-row { display: flex; flex-direction: row; flex-wrap: wrap; justify-content: flex-start; width: 100% }\n",
       "    .wandb-col { display: flex; flex-direction: column; flex-basis: 100%; flex: 1; padding: 10px; }\n",
       "    </style>\n",
       "<div class=\"wandb-row\"><div class=\"wandb-col\"><h3>Run history:</h3><br/><table class=\"wandb\"><tr><td>train/total_loss</td><td>█▅▃▃▁▁▁▁▁▁▁▁▁▁▁▁▁▁▁▁▁▁▁▁▁▁▁▁▁▁▁▁▁▁▁▁▁▁▁▁</td></tr><tr><td>train/total_loss_batch</td><td>█▄▂▂▁▁▁▁▁▁▁▁▁▁▁▁▁▁▁▁▁▁▁▁▁▁▁▁▁▁▁▁▁▁▁▁▁▁▁▁</td></tr><tr><td>val/total_loss</td><td>█▄▂▂▁▁▁▁▁▁▁</td></tr></table><br/></div><div class=\"wandb-col\"><h3>Run summary:</h3><br/><table class=\"wandb\"><tr><td>train/total_loss</td><td>0.0</td></tr><tr><td>train/total_loss_batch</td><td>0.0</td></tr><tr><td>val/total_loss</td><td>0.0</td></tr></table><br/></div></div>"
      ],
      "text/plain": [
       "<IPython.core.display.HTML object>"
      ]
     },
     "metadata": {},
     "output_type": "display_data"
    },
    {
     "data": {
      "text/html": [
       " View run <strong style=\"color:#cdcd00\">earnest-plasma-95</strong> at: <a href='https://wandb.ai/ax600002/VAE/runs/gz51mv0a' target=\"_blank\">https://wandb.ai/ax600002/VAE/runs/gz51mv0a</a><br/>Synced 5 W&B file(s), 22 media file(s), 0 artifact file(s) and 0 other file(s)"
      ],
      "text/plain": [
       "<IPython.core.display.HTML object>"
      ]
     },
     "metadata": {},
     "output_type": "display_data"
    },
    {
     "data": {
      "text/html": [
       "Find logs at: <code>.\\wandb\\run-20240611_121350-gz51mv0a\\logs</code>"
      ],
      "text/plain": [
       "<IPython.core.display.HTML object>"
      ]
     },
     "metadata": {},
     "output_type": "display_data"
    },
    {
     "data": {
      "text/html": [
       "Successfully finished last run (ID:gz51mv0a). Initializing new run:<br/>"
      ],
      "text/plain": [
       "<IPython.core.display.HTML object>"
      ]
     },
     "metadata": {},
     "output_type": "display_data"
    },
    {
     "data": {
      "text/html": [
       "wandb version 0.17.1 is available!  To upgrade, please run:\n",
       " $ pip install wandb --upgrade"
      ],
      "text/plain": [
       "<IPython.core.display.HTML object>"
      ]
     },
     "metadata": {},
     "output_type": "display_data"
    },
    {
     "data": {
      "text/html": [
       "Tracking run with wandb version 0.16.2"
      ],
      "text/plain": [
       "<IPython.core.display.HTML object>"
      ]
     },
     "metadata": {},
     "output_type": "display_data"
    },
    {
     "data": {
      "text/html": [
       "Run data is saved locally in <code>f:\\minowa\\BloodPressureEstimation\\notebooks\\wandb\\run-20240611_143507-45l24t44</code>"
      ],
      "text/plain": [
       "<IPython.core.display.HTML object>"
      ]
     },
     "metadata": {},
     "output_type": "display_data"
    },
    {
     "data": {
      "text/html": [
       "Syncing run <strong><a href='https://wandb.ai/ax600002/VAE/runs/45l24t44' target=\"_blank\">denim-hill-96</a></strong> to <a href='https://wandb.ai/ax600002/VAE' target=\"_blank\">Weights & Biases</a> (<a href='https://wandb.me/run' target=\"_blank\">docs</a>)<br/>"
      ],
      "text/plain": [
       "<IPython.core.display.HTML object>"
      ]
     },
     "metadata": {},
     "output_type": "display_data"
    },
    {
     "data": {
      "text/html": [
       " View project at <a href='https://wandb.ai/ax600002/VAE' target=\"_blank\">https://wandb.ai/ax600002/VAE</a>"
      ],
      "text/plain": [
       "<IPython.core.display.HTML object>"
      ]
     },
     "metadata": {},
     "output_type": "display_data"
    },
    {
     "data": {
      "text/html": [
       " View run at <a href='https://wandb.ai/ax600002/VAE/runs/45l24t44' target=\"_blank\">https://wandb.ai/ax600002/VAE/runs/45l24t44</a>"
      ],
      "text/plain": [
       "<IPython.core.display.HTML object>"
      ]
     },
     "metadata": {},
     "output_type": "display_data"
    },
    {
     "data": {
      "text/plain": [
       "[]"
      ]
     },
     "execution_count": 135,
     "metadata": {},
     "output_type": "execute_result"
    }
   ],
   "source": [
    "wandb.init(\n",
    "    # set the wandb project where this run will be logged\n",
    "    project=\"VAE\",\n",
    "    \n",
    "    # track hyperparameters and run metadata\n",
    "    config={\n",
    "    \"learning_rate\": lr,\n",
    "    \"architecture\": \"VanillaVAE_v2\",\n",
    "    \"dataset\": \"bpdataset_bp\",\n",
    "    \"epochs\": epochs,\n",
    "    }\n",
    ")\n",
    "wandb.watch(model, log_freq=100)\n"
   ]
  },
  {
   "cell_type": "code",
   "execution_count": 136,
   "metadata": {},
   "outputs": [
    {
     "name": "stdout",
     "output_type": "stream",
     "text": [
      "0.00048828125\n",
      "==========================================================================================\n",
      "Layer (type:depth-idx)                   Output Shape              Param #\n",
      "==========================================================================================\n",
      "ConvAE                                   [16, 1, 256, 256]         --\n",
      "├─Sequential: 1-1                        [16, 256, 32, 32]         --\n",
      "│    └─Sequential: 2-1                   [16, 64, 128, 128]        --\n",
      "│    │    └─Conv2d: 3-1                  [16, 64, 256, 256]        640\n",
      "│    │    └─BatchNorm2d: 3-2             [16, 64, 256, 256]        128\n",
      "│    │    └─LeakyReLU: 3-3               [16, 64, 256, 256]        --\n",
      "│    │    └─MaxPool2d: 3-4               [16, 64, 128, 128]        --\n",
      "│    └─Sequential: 2-2                   [16, 128, 64, 64]         --\n",
      "│    │    └─Conv2d: 3-5                  [16, 128, 128, 128]       73,856\n",
      "│    │    └─BatchNorm2d: 3-6             [16, 128, 128, 128]       256\n",
      "│    │    └─LeakyReLU: 3-7               [16, 128, 128, 128]       --\n",
      "│    │    └─MaxPool2d: 3-8               [16, 128, 64, 64]         --\n",
      "│    └─Sequential: 2-3                   [16, 256, 32, 32]         --\n",
      "│    │    └─Conv2d: 3-9                  [16, 256, 64, 64]         295,168\n",
      "│    │    └─BatchNorm2d: 3-10            [16, 256, 64, 64]         512\n",
      "│    │    └─LeakyReLU: 3-11              [16, 256, 64, 64]         --\n",
      "│    │    └─MaxPool2d: 3-12              [16, 256, 32, 32]         --\n",
      "├─Sequential: 1-2                        [16, 64, 128, 128]        --\n",
      "│    └─Sequential: 2-4                   [16, 128, 64, 64]         --\n",
      "│    │    └─ConvTranspose2d: 3-13        [16, 128, 64, 64]         295,040\n",
      "│    │    └─BatchNorm2d: 3-14            [16, 128, 64, 64]         256\n",
      "│    │    └─LeakyReLU: 3-15              [16, 128, 64, 64]         --\n",
      "│    └─Sequential: 2-5                   [16, 64, 128, 128]        --\n",
      "│    │    └─ConvTranspose2d: 3-16        [16, 64, 128, 128]        73,792\n",
      "│    │    └─BatchNorm2d: 3-17            [16, 64, 128, 128]        128\n",
      "│    │    └─LeakyReLU: 3-18              [16, 64, 128, 128]        --\n",
      "├─Sequential: 1-3                        [16, 1, 256, 256]         --\n",
      "│    └─ConvTranspose2d: 2-6              [16, 64, 256, 256]        36,928\n",
      "│    └─BatchNorm2d: 2-7                  [16, 64, 256, 256]        128\n",
      "│    └─LeakyReLU: 2-8                    [16, 64, 256, 256]        --\n",
      "│    └─Conv2d: 2-9                       [16, 1, 256, 256]         577\n",
      "│    └─Tanh: 2-10                        [16, 1, 256, 256]         --\n",
      "==========================================================================================\n",
      "Total params: 777,409\n",
      "Trainable params: 777,409\n",
      "Non-trainable params: 0\n",
      "Total mult-adds (G): 117.38\n",
      "==========================================================================================\n",
      "Input size (MB): 4.19\n",
      "Forward/backward pass size (MB): 3363.83\n",
      "Params size (MB): 3.11\n",
      "Estimated Total Size (MB): 3371.14\n",
      "==========================================================================================\n"
     ]
    }
   ],
   "source": [
    "print(kld_weight)\n",
    "model_summary = summary(model,input_size=[16,1,256,256])\n",
    "print(model_summary)"
   ]
  },
  {
   "cell_type": "code",
   "execution_count": 137,
   "metadata": {},
   "outputs": [
    {
     "name": "stdout",
     "output_type": "stream",
     "text": [
      "Epoch 1\n",
      "-------------------------------\n"
     ]
    },
    {
     "name": "stderr",
     "output_type": "stream",
     "text": [
      "100%|██████████| 1875/1875 [01:47<00:00, 17.41batch/s, train/total_loss_batch=4.49e-5, train/total_loss=0.000323] \n"
     ]
    },
    {
     "name": "stdout",
     "output_type": "stream",
     "text": [
      "torch.Size([16, 1, 256, 256])\n",
      "Validation loss decreased (inf --> 0.000008).  Saving model ...\n",
      "Epoch 2\n",
      "-------------------------------\n"
     ]
    },
    {
     "name": "stderr",
     "output_type": "stream",
     "text": [
      "100%|██████████| 1875/1875 [01:43<00:00, 18.05batch/s, train/total_loss_batch=4.34e-6, train/total_loss=7.53e-6]\n"
     ]
    },
    {
     "name": "stdout",
     "output_type": "stream",
     "text": [
      "torch.Size([16, 1, 256, 256])\n",
      "EarlyStopping counter: 1 out of 10\n",
      "Epoch 3\n",
      "-------------------------------\n"
     ]
    },
    {
     "name": "stderr",
     "output_type": "stream",
     "text": [
      "100%|██████████| 1875/1875 [01:44<00:00, 18.00batch/s, train/total_loss_batch=2.15e-6, train/total_loss=3.6e-6] \n"
     ]
    },
    {
     "name": "stdout",
     "output_type": "stream",
     "text": [
      "torch.Size([16, 1, 256, 256])\n",
      "EarlyStopping counter: 2 out of 10\n",
      "Epoch 4\n",
      "-------------------------------\n"
     ]
    },
    {
     "name": "stderr",
     "output_type": "stream",
     "text": [
      "100%|██████████| 1875/1875 [01:44<00:00, 17.99batch/s, train/total_loss_batch=9.72e-7, train/total_loss=1.53e-6]\n"
     ]
    },
    {
     "name": "stdout",
     "output_type": "stream",
     "text": [
      "torch.Size([16, 1, 256, 256])\n",
      "EarlyStopping counter: 3 out of 10\n",
      "Epoch 5\n",
      "-------------------------------\n"
     ]
    },
    {
     "name": "stderr",
     "output_type": "stream",
     "text": [
      "100%|██████████| 1875/1875 [01:43<00:00, 18.04batch/s, train/total_loss_batch=1.36e-6, train/total_loss=6.63e-7]\n"
     ]
    },
    {
     "name": "stdout",
     "output_type": "stream",
     "text": [
      "torch.Size([16, 1, 256, 256])\n",
      "EarlyStopping counter: 4 out of 10\n",
      "Epoch 6\n",
      "-------------------------------\n"
     ]
    },
    {
     "name": "stderr",
     "output_type": "stream",
     "text": [
      "100%|██████████| 1875/1875 [01:44<00:00, 18.01batch/s, train/total_loss_batch=9.96e-8, train/total_loss=2.48e-7]\n"
     ]
    },
    {
     "name": "stdout",
     "output_type": "stream",
     "text": [
      "torch.Size([16, 1, 256, 256])\n",
      "EarlyStopping counter: 5 out of 10\n",
      "Epoch 7\n",
      "-------------------------------\n"
     ]
    },
    {
     "name": "stderr",
     "output_type": "stream",
     "text": [
      "100%|██████████| 1875/1875 [01:44<00:00, 18.02batch/s, train/total_loss_batch=8.05e-8, train/total_loss=1.16e-7]\n"
     ]
    },
    {
     "name": "stdout",
     "output_type": "stream",
     "text": [
      "torch.Size([16, 1, 256, 256])\n",
      "EarlyStopping counter: 6 out of 10\n",
      "Epoch 8\n",
      "-------------------------------\n"
     ]
    },
    {
     "name": "stderr",
     "output_type": "stream",
     "text": [
      "100%|██████████| 1875/1875 [01:44<00:00, 17.95batch/s, train/total_loss_batch=1.73e-8, train/total_loss=5.9e-8] \n"
     ]
    },
    {
     "name": "stdout",
     "output_type": "stream",
     "text": [
      "torch.Size([16, 1, 256, 256])\n",
      "EarlyStopping counter: 7 out of 10\n",
      "Epoch 9\n",
      "-------------------------------\n"
     ]
    },
    {
     "name": "stderr",
     "output_type": "stream",
     "text": [
      "100%|██████████| 1875/1875 [01:44<00:00, 17.94batch/s, train/total_loss_batch=1.06e-8, train/total_loss=9.26e-9]\n"
     ]
    },
    {
     "name": "stdout",
     "output_type": "stream",
     "text": [
      "torch.Size([16, 1, 256, 256])\n",
      "EarlyStopping counter: 8 out of 10\n",
      "Epoch 10\n",
      "-------------------------------\n"
     ]
    },
    {
     "name": "stderr",
     "output_type": "stream",
     "text": [
      "100%|██████████| 1875/1875 [01:45<00:00, 17.79batch/s, train/total_loss_batch=4.56e-9, train/total_loss=4.11e-9]\n"
     ]
    },
    {
     "name": "stdout",
     "output_type": "stream",
     "text": [
      "torch.Size([16, 1, 256, 256])\n",
      "EarlyStopping counter: 9 out of 10\n",
      "Epoch 11\n",
      "-------------------------------\n"
     ]
    },
    {
     "name": "stderr",
     "output_type": "stream",
     "text": [
      "100%|██████████| 1875/1875 [01:44<00:00, 17.88batch/s, train/total_loss_batch=1.45e-9, train/total_loss=2.28e-9] \n"
     ]
    },
    {
     "name": "stdout",
     "output_type": "stream",
     "text": [
      "torch.Size([16, 1, 256, 256])\n",
      "EarlyStopping counter: 10 out of 10\n",
      "Early stopping\n",
      "best epoch is epoch 0\n",
      "torch.Size([16, 1, 256, 256])\n",
      "(2000, 1, 256, 256) (2000, 1, 256, 256)\n"
     ]
    },
    {
     "data": {
      "text/html": [
       "<style>\n",
       "    table.wandb td:nth-child(1) { padding: 0 10px; text-align: left ; width: auto;} td:nth-child(2) {text-align: left ; width: 100%}\n",
       "    .wandb-row { display: flex; flex-direction: row; flex-wrap: wrap; justify-content: flex-start; width: 100% }\n",
       "    .wandb-col { display: flex; flex-direction: column; flex-basis: 100%; flex: 1; padding: 10px; }\n",
       "    </style>\n",
       "<div class=\"wandb-row\"><div class=\"wandb-col\"><h3>Run history:</h3><br/><table class=\"wandb\"><tr><td>train/total_loss</td><td>█▅▃▃▁▁▁▁▁▁▁▁▁▁▁▁▁▁▁▁▁▁▁▁▁▁▁▁▁▁▁▁▁▁▁▁▁▁▁▁</td></tr><tr><td>train/total_loss_batch</td><td>█▃▂▁▁▁▁▁▁▁▁▁▁▁▁▁▁▁▁▁▁▁▁▁▁▁▁▁▁▁▁▁▁▁▁▁▁▁▁▁</td></tr><tr><td>val/total_loss</td><td>█▄▂▁▁▁▁▁▁▁▁█</td></tr></table><br/></div><div class=\"wandb-col\"><h3>Run summary:</h3><br/><table class=\"wandb\"><tr><td>train/total_loss</td><td>0.0</td></tr><tr><td>train/total_loss_batch</td><td>0.0</td></tr><tr><td>val/total_loss</td><td>1e-05</td></tr></table><br/></div></div>"
      ],
      "text/plain": [
       "<IPython.core.display.HTML object>"
      ]
     },
     "metadata": {},
     "output_type": "display_data"
    },
    {
     "data": {
      "text/html": [
       " View run <strong style=\"color:#cdcd00\">denim-hill-96</strong> at: <a href='https://wandb.ai/ax600002/VAE/runs/45l24t44' target=\"_blank\">https://wandb.ai/ax600002/VAE/runs/45l24t44</a><br/>Synced 5 W&B file(s), 24 media file(s), 0 artifact file(s) and 0 other file(s)"
      ],
      "text/plain": [
       "<IPython.core.display.HTML object>"
      ]
     },
     "metadata": {},
     "output_type": "display_data"
    },
    {
     "data": {
      "text/html": [
       "Find logs at: <code>.\\wandb\\run-20240611_143507-45l24t44\\logs</code>"
      ],
      "text/plain": [
       "<IPython.core.display.HTML object>"
      ]
     },
     "metadata": {},
     "output_type": "display_data"
    },
    {
     "data": {
      "text/plain": [
       "7.617535629833583e-06"
      ]
     },
     "execution_count": 137,
     "metadata": {},
     "output_type": "execute_result"
    }
   ],
   "source": [
    "# from torch.autograd import Variable\n",
    "\n",
    "# train_dataloader=torch.utils.data.DataLoader(MyDataset(save_dir,\"train\"),batch_size=32,shuffle=True)\n",
    "# test_dataloader=torch.utils.data.DataLoader(MyDataset(save_dir,\"validate\"),batch_size=256,shuffle=False)\n",
    "# model = MultiResUnet(1,32,1).to(device)\n",
    "\n",
    "# loss_fn = nn.MSELoss()\n",
    "# loss_mae = nn.L1Loss()\n",
    "\n",
    "optimizer = torch.optim.Adam(model.parameters(), lr=lr)\n",
    "\n",
    "early_stopping = EarlyStopping(patience=10, verbose=True,path=path,delta=0.0002)\n",
    "os.makedirs(os.path.dirname(path),exist_ok=True)\n",
    "try:\n",
    "    for t in range(epochs):\n",
    "        print(f\"Epoch {t+1}\\n-------------------------------\")\n",
    "        # train(train_dataloader, model, loss_fn,loss_mae, optimizer)\n",
    "        train(train_loader, optimizer,model,kld_weight=kld_weight)\n",
    "        val_loss,_ = test(val_loader, model,kld_weight=kld_weight)\n",
    "        early_stopping(val_loss, model,t)\n",
    "\n",
    "        if early_stopping.early_stop:\n",
    "            print(\"Early stopping\")\n",
    "            break\n",
    "        # if t % 5 ==0: \n",
    "            # torch.save(model.state_dict(),path.format(t=t))\n",
    "except KeyboardInterrupt:\n",
    "    torch.save(model.state_dict(),path.format(t=\"latest\"))\n",
    "finally:\n",
    "    torch.save(model.state_dict(),path.format(t=\"latest\"))\n",
    "# load best epoch\n",
    "\n",
    "paths = glob.glob(os.path.join(os.path.dirname(path),\"[0-9]*.pth\"))\n",
    "best_epoch = sorted([int(os.path.splitext(os.path.basename(p))[0]) for p in paths])[-1]\n",
    "print('best epoch is epoch',best_epoch)\n",
    "model.load_state_dict(torch.load(path.format(t=best_epoch)))\n",
    "loss, images = test(test_loader,model,kld_weight=kld_weight,save=True)\n",
    "print(images[0].shape,images[1].shape)\n",
    "images[0] = images[0].squeeze()\n",
    "images[1] = images[1].squeeze()\n",
    "np.savez(os.path.join(os.path.dirname(path),'output.npz'),out=images[0],gt=images[1])\n",
    "wandb.finish()\n",
    "loss\n"
   ]
  },
  {
   "cell_type": "markdown",
   "metadata": {},
   "source": [
    "# test"
   ]
  },
  {
   "cell_type": "code",
   "execution_count": null,
   "metadata": {},
   "outputs": [
    {
     "name": "stdout",
     "output_type": "stream",
     "text": [
      "best epoch is epoch 20\n"
     ]
    },
    {
     "data": {
      "text/plain": [
       "<All keys matched successfully>"
      ]
     },
     "execution_count": 41,
     "metadata": {},
     "output_type": "execute_result"
    }
   ],
   "source": []
  },
  {
   "cell_type": "code",
   "execution_count": null,
   "metadata": {},
   "outputs": [
    {
     "name": "stdout",
     "output_type": "stream",
     "text": [
      "Test Error: 0.004872\n",
      "MSE: 0.002150 \n",
      "KLD: -11.148695 \n",
      "\n",
      "(2000, 1, 256, 256) (2000, 1, 256, 256)\n"
     ]
    },
    {
     "data": {
      "text/plain": [
       "0.004871808458119631"
      ]
     },
     "execution_count": 42,
     "metadata": {},
     "output_type": "execute_result"
    }
   ],
   "source": []
  },
  {
   "cell_type": "code",
   "execution_count": null,
   "metadata": {},
   "outputs": [
    {
     "data": {
      "text/html": [
       "<style>\n",
       "    table.wandb td:nth-child(1) { padding: 0 10px; text-align: left ; width: auto;} td:nth-child(2) {text-align: left ; width: 100%}\n",
       "    .wandb-row { display: flex; flex-direction: row; flex-wrap: wrap; justify-content: flex-start; width: 100% }\n",
       "    .wandb-col { display: flex; flex-direction: column; flex-basis: 100%; flex: 1; padding: 10px; }\n",
       "    </style>\n",
       "<div class=\"wandb-row\"><div class=\"wandb-col\"><h3>Run history:</h3><br/><table class=\"wandb\"><tr><td>train/KLD</td><td>▇▁▄▅▅▆▆▆▆▇▆▇▇▆▆▇▇▇▇▇▇▇█▇▇▇▇██▇██▇▇▇█▇███</td></tr><tr><td>train/KLD_batch</td><td>▇▁▇▆▇▇▇▇▇▇▇▇█▇██▇█▇█▇▇██▇▇▇███████▇▇█▇▇█</td></tr><tr><td>train/recon_loss(MSE)</td><td>█▄▁▁▁▁▁▁▁▁▁▁▁▁▁▁▁▁▁▁▁▁▁▁▁▁▁▁▁▁▁▁▁▁▁▁▁▁▁▁</td></tr><tr><td>train/recon_loss_batch</td><td>█▃▁▁▁▁▁▁▁▁▁▁▁▁▁▁▁▁▁▁▁▁▁▁▁▁▁▁▁▁▁▁▁▁▁▁▁▁▁▁</td></tr><tr><td>train/total_loss</td><td>█▄▁▁▁▁▁▁▁▁▁▁▁▁▁▁▁▁▁▁▁▁▁▁▁▁▁▁▁▁▁▁▁▁▁▁▁▁▁▁</td></tr><tr><td>train/total_loss_batch</td><td>█▃▁▁▁▁▁▁▁▁▁▁▁▁▁▁▁▁▁▁▁▁▁▁▁▁▁▁▁▁▁▁▁▁▁▁▁▁▁▁</td></tr><tr><td>val/KLD</td><td>▁▄▄▄▅▆▇▆▇▆▆▇▇▇▇▆▇▇▇▇▇█▇█▇▇▇███▇▆</td></tr><tr><td>val/recon_loss(MSE)</td><td>█▄▃▃▃▃▃▃▃▂▂▂▂▂▂▁▂▂▂▁▁▂▁▂▁▁▁▁▂▁▁▂</td></tr><tr><td>val/total_loss</td><td>█▄▄▃▃▃▂▃▂▂▂▂▂▂▂▂▂▂▁▁▁▁▁▁▁▁▁▁▁▁▁▂</td></tr></table><br/></div><div class=\"wandb-col\"><h3>Run summary:</h3><br/><table class=\"wandb\"><tr><td>train/KLD</td><td>-9.8263</td></tr><tr><td>train/KLD_batch</td><td>-9.17964</td></tr><tr><td>train/recon_loss(MSE)</td><td>0.00147</td></tr><tr><td>train/recon_loss_batch</td><td>0.00149</td></tr><tr><td>train/total_loss</td><td>0.00387</td></tr><tr><td>train/total_loss_batch</td><td>0.00373</td></tr><tr><td>val/KLD</td><td>-11.14869</td></tr><tr><td>val/recon_loss(MSE)</td><td>0.00215</td></tr><tr><td>val/total_loss</td><td>0.00487</td></tr></table><br/></div></div>"
      ],
      "text/plain": [
       "<IPython.core.display.HTML object>"
      ]
     },
     "metadata": {},
     "output_type": "display_data"
    },
    {
     "data": {
      "text/html": [
       " View run <strong style=\"color:#cdcd00\">still-music-63</strong> at: <a href='https://wandb.ai/ax600002/VAE/runs/peq023sl' target=\"_blank\">https://wandb.ai/ax600002/VAE/runs/peq023sl</a><br/>Synced 5 W&B file(s), 64 media file(s), 0 artifact file(s) and 0 other file(s)"
      ],
      "text/plain": [
       "<IPython.core.display.HTML object>"
      ]
     },
     "metadata": {},
     "output_type": "display_data"
    },
    {
     "data": {
      "text/html": [
       "Find logs at: <code>.\\wandb\\run-20240531_161335-peq023sl\\logs</code>"
      ],
      "text/plain": [
       "<IPython.core.display.HTML object>"
      ]
     },
     "metadata": {},
     "output_type": "display_data"
    }
   ],
   "source": []
  },
  {
   "cell_type": "code",
   "execution_count": 138,
   "metadata": {},
   "outputs": [
    {
     "data": {
      "text/plain": [
       "torch.Size([16, 1, 256, 256])"
      ]
     },
     "execution_count": 138,
     "metadata": {},
     "output_type": "execute_result"
    }
   ],
   "source": [
    "i  =iter(test_loader)\n",
    "x = i.__next__()\n",
    "x.shape\n"
   ]
  },
  {
   "cell_type": "code",
   "execution_count": 5,
   "metadata": {},
   "outputs": [],
   "source": [
    "from PIL import Image, ImageFilter\n",
    "def im(arr):\n",
    " return Image.fromarray(((arr[0]+1)*255).detach().cpu().numpy().astype(np.uint8).squeeze())\n"
   ]
  },
  {
   "cell_type": "code",
   "execution_count": 32,
   "metadata": {},
   "outputs": [
    {
     "data": {
      "text/plain": [
       "(256, 256)"
      ]
     },
     "execution_count": 32,
     "metadata": {},
     "output_type": "execute_result"
    }
   ],
   "source": [
    "arr = np.load(r\"F:\\minowa\\BloodPressureEstimation\\data\\processed\\BP_npy\\0325_256_corr_clean\\p00\\validate.npy\")[2,:,0]\n",
    "ret = np.tile(arr,(256,1))[np.newaxis].squeeze()\n",
    "ret.shape"
   ]
  },
  {
   "cell_type": "code",
   "execution_count": 33,
   "metadata": {},
   "outputs": [
    {
     "data": {
      "image/png": "[encoded data removed]",
      "text/plain": [
       "<PIL.Image.Image image mode=L size=256x256>"
      ]
     },
     "execution_count": 33,
     "metadata": {},
     "output_type": "execute_result"
    }
   ],
   "source": [
    "Image.fromarray(((ret+1)*255).astype(np.uint8).squeeze())"
   ]
  },
  {
   "cell_type": "code",
   "execution_count": 9,
   "metadata": {},
   "outputs": [
    {
     "ename": "NameError",
     "evalue": "name 'x' is not defined",
     "output_type": "error",
     "traceback": [
      "\u001b[1;31m---------------------------------------------------------------------------\u001b[0m",
      "\u001b[1;31mNameError\u001b[0m                                 Traceback (most recent call last)",
      "Cell \u001b[1;32mIn[9], line 1\u001b[0m\n\u001b[1;32m----> 1\u001b[0m im(\u001b[43mx\u001b[49m)\n",
      "\u001b[1;31mNameError\u001b[0m: name 'x' is not defined"
     ]
    }
   ],
   "source": [
    "im(x)"
   ]
  },
  {
   "cell_type": "code",
   "execution_count": 143,
   "metadata": {},
   "outputs": [
    {
     "data": {
      "image/png": "[encoded data removed]",
      "text/plain": [
       "<PIL.Image.Image image mode=L size=256x256>"
      ]
     },
     "execution_count": 143,
     "metadata": {},
     "output_type": "execute_result"
    }
   ],
   "source": [
    "im(model.generate(x.to(device)))"
   ]
  },
  {
   "cell_type": "code",
   "execution_count": 132,
   "metadata": {},
   "outputs": [
    {
     "data": {
      "text/plain": [
       "(<PIL.Image.Image image mode=L size=256x256>,\n",
       " <PIL.Image.Image image mode=L size=256x256>)"
      ]
     },
     "execution_count": 132,
     "metadata": {},
     "output_type": "execute_result"
    }
   ],
   "source": []
  }
 ],
 "metadata": {
  "kernelspec": {
   "display_name": ".venv",
   "language": "python",
   "name": "python3"
  },
  "language_info": {
   "codemirror_mode": {
    "name": "ipython",
    "version": 3
   },
   "file_extension": ".py",
   "mimetype": "text/x-python",
   "name": "python",
   "nbconvert_exporter": "python",
   "pygments_lexer": "ipython3",
   "version": "3.10.11"
  }
 },
 "nbformat": 4,
 "nbformat_minor": 2
}
